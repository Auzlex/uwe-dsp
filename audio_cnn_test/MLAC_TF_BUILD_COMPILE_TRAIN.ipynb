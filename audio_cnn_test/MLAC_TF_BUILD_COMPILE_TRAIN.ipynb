{
 "cells": [
  {
   "cell_type": "markdown",
   "metadata": {},
   "source": [
    "### Machine Learning: TF Audio Classification Model Creation and Training Evaluation Document\n",
    "In this document we will read in our feature npy files, construct, train and evaluate a model for audio classification:"
   ]
  },
  {
   "cell_type": "code",
   "execution_count": 1,
   "metadata": {},
   "outputs": [
    {
     "name": "stdout",
     "output_type": "stream",
     "text": [
      "2.7.0\n"
     ]
    }
   ],
   "source": [
    "import tensorflow as tf\n",
    "import numpy as np\n",
    "import matplotlib.pyplot as plt\n",
    "import pandas as pd\n",
    "import librosa\n",
    "from netplot import ModelPlot\n",
    "from tensorflow.keras.utils import plot_model\n",
    "print(tf.__version__)"
   ]
  }
 ],
 "metadata": {
  "interpreter": {
   "hash": "f311e898f88d701a4318adb1e80a52632798689d0f8676edc64176ab2d7516a8"
  },
  "kernelspec": {
   "display_name": "Python 3.8.10 64-bit (windows store)",
   "language": "python",
   "name": "python3"
  },
  "language_info": {
   "codemirror_mode": {
    "name": "ipython",
    "version": 3
   },
   "file_extension": ".py",
   "mimetype": "text/x-python",
   "name": "python",
   "nbconvert_exporter": "python",
   "pygments_lexer": "ipython3",
   "version": "3.8.10"
  },
  "orig_nbformat": 4
 },
 "nbformat": 4,
 "nbformat_minor": 2
}

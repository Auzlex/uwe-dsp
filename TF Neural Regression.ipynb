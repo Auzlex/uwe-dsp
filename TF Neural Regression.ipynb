{
 "cells": [
  {
   "cell_type": "markdown",
   "metadata": {},
   "source": [
    "### Neural network Regression\n",
    "What is a regression problem?\n",
    "* Prediction\n",
    "\n",
    "What are we going to solve using this problem?\n",
    "* Predict house prices!\n",
    "\n"
   ]
  },
  {
   "cell_type": "code",
   "execution_count": 1,
   "metadata": {},
   "outputs": [
    {
     "name": "stderr",
     "output_type": "stream",
     "text": [
      "2021-11-20 12:44:50.145135: W tensorflow/stream_executor/platform/default/dso_loader.cc:64] Could not load dynamic library 'libcudart.so.11.0'; dlerror: libcudart.so.11.0: cannot open shared object file: No such file or directory\n",
      "2021-11-20 12:44:50.145203: I tensorflow/stream_executor/cuda/cudart_stub.cc:29] Ignore above cudart dlerror if you do not have a GPU set up on your machine.\n"
     ]
    },
    {
     "name": "stdout",
     "output_type": "stream",
     "text": [
      "2.7.0\n"
     ]
    }
   ],
   "source": [
    "import tensorflow as tf\n",
    "print(tf.__version__)"
   ]
  },
  {
   "cell_type": "markdown",
   "metadata": {},
   "source": [
    "## Creating data to view and fit"
   ]
  },
  {
   "cell_type": "code",
   "execution_count": 2,
   "metadata": {},
   "outputs": [
    {
     "data": {
      "text/plain": [
       "<matplotlib.collections.PathCollection at 0x7f3e042745b0>"
      ]
     },
     "execution_count": 2,
     "metadata": {},
     "output_type": "execute_result"
    },
    {
     "data": {
      "image/png": "[encoded data removed]",
      "text/plain": [
       "<Figure size 432x288 with 1 Axes>"
      ]
     },
     "metadata": {
      "needs_background": "light"
     },
     "output_type": "display_data"
    }
   ],
   "source": [
    "import numpy as np\n",
    "import matplotlib.pyplot as plt\n",
    "\n",
    "# Create features\n",
    "X = np.array([-7.0, -4.0, -1.0, 2.0, 5.0, 8.0, 11.0, 14.0])\n",
    "\n",
    "# Create labels\n",
    "y = np.array([3.0, 6.0, 9.0, 12.0, 15.0, 18.0, 21.0, 24.0])\n",
    "\n",
    "plt.scatter(X, y)"
   ]
  },
  {
   "cell_type": "code",
   "execution_count": 3,
   "metadata": {},
   "outputs": [
    {
     "data": {
      "text/plain": [
       "array([ True,  True,  True,  True,  True,  True,  True,  True])"
      ]
     },
     "execution_count": 3,
     "metadata": {},
     "output_type": "execute_result"
    }
   ],
   "source": [
    "y == X + 10"
   ]
  },
  {
   "cell_type": "markdown",
   "metadata": {},
   "source": [
    "## Input and output shapes"
   ]
  },
  {
   "cell_type": "code",
   "execution_count": 4,
   "metadata": {},
   "outputs": [
    {
     "name": "stderr",
     "output_type": "stream",
     "text": [
      "2021-11-20 12:44:53.800860: I tensorflow/stream_executor/cuda/cuda_gpu_executor.cc:939] successful NUMA node read from SysFS had negative value (-1), but there must be at least one NUMA node, so returning NUMA node zero\n",
      "2021-11-20 12:44:53.801258: W tensorflow/stream_executor/platform/default/dso_loader.cc:64] Could not load dynamic library 'libcudart.so.11.0'; dlerror: libcudart.so.11.0: cannot open shared object file: No such file or directory\n",
      "2021-11-20 12:44:53.801396: W tensorflow/stream_executor/platform/default/dso_loader.cc:64] Could not load dynamic library 'libcublas.so.11'; dlerror: libcublas.so.11: cannot open shared object file: No such file or directory\n",
      "2021-11-20 12:44:53.801480: W tensorflow/stream_executor/platform/default/dso_loader.cc:64] Could not load dynamic library 'libcublasLt.so.11'; dlerror: libcublasLt.so.11: cannot open shared object file: No such file or directory\n",
      "2021-11-20 12:44:53.801543: W tensorflow/stream_executor/platform/default/dso_loader.cc:64] Could not load dynamic library 'libcufft.so.10'; dlerror: libcufft.so.10: cannot open shared object file: No such file or directory\n",
      "2021-11-20 12:44:53.801604: W tensorflow/stream_executor/platform/default/dso_loader.cc:64] Could not load dynamic library 'libcurand.so.10'; dlerror: libcurand.so.10: cannot open shared object file: No such file or directory\n",
      "2021-11-20 12:44:53.801664: W tensorflow/stream_executor/platform/default/dso_loader.cc:64] Could not load dynamic library 'libcusolver.so.11'; dlerror: libcusolver.so.11: cannot open shared object file: No such file or directory\n",
      "2021-11-20 12:44:53.801722: W tensorflow/stream_executor/platform/default/dso_loader.cc:64] Could not load dynamic library 'libcusparse.so.11'; dlerror: libcusparse.so.11: cannot open shared object file: No such file or directory\n",
      "2021-11-20 12:44:53.801780: W tensorflow/stream_executor/platform/default/dso_loader.cc:64] Could not load dynamic library 'libcudnn.so.8'; dlerror: libcudnn.so.8: cannot open shared object file: No such file or directory\n",
      "2021-11-20 12:44:53.801792: W tensorflow/core/common_runtime/gpu/gpu_device.cc:1850] Cannot dlopen some GPU libraries. Please make sure the missing libraries mentioned above are installed properly if you would like to use GPU. Follow the guide at https://www.tensorflow.org/install/gpu for how to download and setup the required libraries for your platform.\n",
      "Skipping registering GPU devices...\n",
      "2021-11-20 12:44:53.802574: I tensorflow/core/platform/cpu_feature_guard.cc:151] This TensorFlow binary is optimized with oneAPI Deep Neural Network Library (oneDNN) to use the following CPU instructions in performance-critical operations:  AVX2 FMA\n",
      "To enable them in other operations, rebuild TensorFlow with the appropriate compiler flags.\n"
     ]
    },
    {
     "data": {
      "text/plain": [
       "(<tf.Tensor: shape=(3,), dtype=string, numpy=array([b'bedroom', b'bathroom', b'garage'], dtype=object)>,\n",
       " <tf.Tensor: shape=(1,), dtype=int32, numpy=array([939700], dtype=int32)>)"
      ]
     },
     "execution_count": 4,
     "metadata": {},
     "output_type": "execute_result"
    }
   ],
   "source": [
    "# Create a demo tensor for our housing price prediction problem\n",
    "house_info = tf.constant( [\n",
    "    \"bedroom\",\n",
    "    \"bathroom\",\n",
    "    \"garage\"\n",
    "] )\n",
    "house_price = tf.constant( [939700] )\n",
    "house_info, house_price"
   ]
  },
  {
   "cell_type": "code",
   "execution_count": 5,
   "metadata": {},
   "outputs": [
    {
     "data": {
      "text/plain": [
       "(-7.0, 3.0)"
      ]
     },
     "execution_count": 5,
     "metadata": {},
     "output_type": "execute_result"
    }
   ],
   "source": [
    "X[0], y[0]"
   ]
  },
  {
   "cell_type": "code",
   "execution_count": 6,
   "metadata": {},
   "outputs": [
    {
     "data": {
      "text/plain": [
       "(-4.0, 6.0)"
      ]
     },
     "execution_count": 6,
     "metadata": {},
     "output_type": "execute_result"
    }
   ],
   "source": [
    "X[1], y[1]"
   ]
  },
  {
   "cell_type": "code",
   "execution_count": 7,
   "metadata": {},
   "outputs": [
    {
     "data": {
      "text/plain": [
       "((8,), (8,))"
      ]
     },
     "execution_count": 7,
     "metadata": {},
     "output_type": "execute_result"
    }
   ],
   "source": [
    "input_shape = X.shape\n",
    "output_shape = y.shape\n",
    "input_shape, output_shape"
   ]
  },
  {
   "cell_type": "code",
   "execution_count": 8,
   "metadata": {},
   "outputs": [
    {
     "data": {
      "text/plain": [
       "0"
      ]
     },
     "execution_count": 8,
     "metadata": {},
     "output_type": "execute_result"
    }
   ],
   "source": [
    "X[0].ndim # scalars have no shape"
   ]
  },
  {
   "cell_type": "code",
   "execution_count": 9,
   "metadata": {},
   "outputs": [
    {
     "data": {
      "text/plain": [
       "(<tf.Tensor: shape=(8,), dtype=float64, numpy=array([-7., -4., -1.,  2.,  5.,  8., 11., 14.])>,\n",
       " <tf.Tensor: shape=(8,), dtype=float64, numpy=array([ 3.,  6.,  9., 12., 15., 18., 21., 24.])>)"
      ]
     },
     "execution_count": 9,
     "metadata": {},
     "output_type": "execute_result"
    }
   ],
   "source": [
    "# convert X and y into tensors \n",
    "X = tf.constant(X,dtype=tf.float64)\n",
    "y = tf.constant(y,dtype=tf.float64)\n",
    "X, y"
   ]
  },
  {
   "cell_type": "markdown",
   "metadata": {},
   "source": [
    "## Steps in modelling with TensorFlow\n",
    "1. **Creating a model** - define the input and output layers, as well as the hidden layers of the deep learning model.\n",
    "2. **Compiling a model** - define the loss function (In other words, the function which tells our model how wrong it is) and the optimizer (tells our model how to improve the patterns its learning) and evaluation metrics (what we can use to interpret the performance of our model)\n",
    "3. **Fitting a model** - letting the model try to find the patterns between X and & y (features and labels).\n"
   ]
  },
  {
   "cell_type": "code",
   "execution_count": 10,
   "metadata": {},
   "outputs": [
    {
     "name": "stdout",
     "output_type": "stream",
     "text": [
      "Epoch 1/5\n",
      "1/1 [==============================] - 0s 336ms/step - loss: 11.5048 - mae: 11.5048\n",
      "Epoch 2/5\n",
      "1/1 [==============================] - 0s 4ms/step - loss: 11.3723 - mae: 11.3723\n",
      "Epoch 3/5\n",
      "1/1 [==============================] - 0s 4ms/step - loss: 11.2398 - mae: 11.2398\n",
      "Epoch 4/5\n",
      "1/1 [==============================] - 0s 3ms/step - loss: 11.1073 - mae: 11.1073\n",
      "Epoch 5/5\n",
      "1/1 [==============================] - 0s 3ms/step - loss: 10.9748 - mae: 10.9748\n"
     ]
    },
    {
     "data": {
      "text/plain": [
       "<keras.callbacks.History at 0x7f3df803c9d0>"
      ]
     },
     "execution_count": 10,
     "metadata": {},
     "output_type": "execute_result"
    }
   ],
   "source": [
    "# set the random seed\n",
    "tf.random.set_seed(42)\n",
    "\n",
    "# 1. create the model using the sequential API\n",
    "# model = tf.keras.Sequential(\n",
    "#     [\n",
    "#         tf.keras.layers.Dense(1)\n",
    "#     ]\n",
    "# )\n",
    "\n",
    "model = tf.keras.Sequential()\n",
    "model.add(tf.keras.layers.Dense(1))\n",
    "\n",
    "# 2. compile the model\n",
    "model.compile(\n",
    "    loss = tf.keras.losses.mae, # mean absolute error predicted vs observed\n",
    "    optimizer = tf.keras.optimizers.SGD(), # stochastic gradient descent (lr=1e-3)\n",
    "    metrics=['mae'] # mean absolute error\n",
    ")\n",
    "\n",
    "# 3. fit the model\n",
    "# we have to expand axis because it breaks in the latest version\n",
    "model.fit(tf.expand_dims(X, axis=-1), y, epochs=5)\n"
   ]
  },
  {
   "cell_type": "code",
   "execution_count": 11,
   "metadata": {},
   "outputs": [
    {
     "data": {
      "text/plain": [
       "array([[12.716021]], dtype=float32)"
      ]
     },
     "execution_count": 11,
     "metadata": {},
     "output_type": "execute_result"
    }
   ],
   "source": [
    "# attempt to predict\n",
    "y_pred = model.predict([17.0])\n",
    "y_pred"
   ]
  },
  {
   "cell_type": "code",
   "execution_count": 12,
   "metadata": {},
   "outputs": [
    {
     "data": {
      "text/plain": [
       "array([[23.71602]], dtype=float32)"
      ]
     },
     "execution_count": 12,
     "metadata": {},
     "output_type": "execute_result"
    }
   ],
   "source": [
    "y_pred + 11"
   ]
  },
  {
   "cell_type": "markdown",
   "metadata": {},
   "source": [
    "## Improving our model\n",
    "We can improve our model, by altering the steps we took to create a model.\n",
    "\n",
    "1. **Creating a model** - here we might add more layers, increase the number of hidden units (all called neurons) within each of the hidden layers, change the activation function of each layer.\n",
    "\n",
    "2. **Compiling a model** - here we might change the optimization function opr prehaps the **learning rate** of the optimization funciton\n",
    "\n",
    "3. **Fitting a model** - here we might fit a model for more **epochs** (leave it to train for longer) or on more data (give the model more examples to learn from)\n",
    "\n",
    "\n",
    "Note: Learning Rate is the most important hyper parameter to improving or making our model worse"
   ]
  },
  {
   "cell_type": "code",
   "execution_count": 13,
   "metadata": {},
   "outputs": [
    {
     "name": "stderr",
     "output_type": "stream",
     "text": [
      "/home/charlesedwards/Documents/uwe-dsp/venv/lib64/python3.8/site-packages/keras/optimizer_v2/adam.py:105: UserWarning: The `lr` argument is deprecated, use `learning_rate` instead.\n",
      "  super(Adam, self).__init__(name, **kwargs)\n"
     ]
    },
    {
     "name": "stdout",
     "output_type": "stream",
     "text": [
      "Epoch 1/100\n",
      "1/1 [==============================] - 0s 378ms/step - loss: 13.9468 - mae: 13.9468\n",
      "Epoch 2/100\n",
      "1/1 [==============================] - 0s 4ms/step - loss: 12.5065 - mae: 12.5065\n",
      "Epoch 3/100\n",
      "1/1 [==============================] - 0s 5ms/step - loss: 11.1337 - mae: 11.1337\n",
      "Epoch 4/100\n",
      "1/1 [==============================] - 0s 5ms/step - loss: 9.9339 - mae: 9.9339\n",
      "Epoch 5/100\n",
      "1/1 [==============================] - 0s 4ms/step - loss: 8.7000 - mae: 8.7000\n",
      "Epoch 6/100\n",
      "1/1 [==============================] - 0s 5ms/step - loss: 7.4350 - mae: 7.4350\n",
      "Epoch 7/100\n",
      "1/1 [==============================] - 0s 4ms/step - loss: 6.1301 - mae: 6.1301\n",
      "Epoch 8/100\n",
      "1/1 [==============================] - 0s 4ms/step - loss: 4.7794 - mae: 4.7794\n",
      "Epoch 9/100\n",
      "1/1 [==============================] - 0s 4ms/step - loss: 3.8049 - mae: 3.8049\n",
      "Epoch 10/100\n",
      "1/1 [==============================] - 0s 4ms/step - loss: 3.9597 - mae: 3.9597\n",
      "Epoch 11/100\n",
      "1/1 [==============================] - 0s 4ms/step - loss: 4.5370 - mae: 4.5370\n",
      "Epoch 12/100\n",
      "1/1 [==============================] - 0s 2ms/step - loss: 5.0104 - mae: 5.0104\n",
      "Epoch 13/100\n",
      "1/1 [==============================] - 0s 4ms/step - loss: 5.2658 - mae: 5.2658\n",
      "Epoch 14/100\n",
      "1/1 [==============================] - 0s 4ms/step - loss: 5.3353 - mae: 5.3353\n",
      "Epoch 15/100\n",
      "1/1 [==============================] - 0s 3ms/step - loss: 5.2483 - mae: 5.2483\n",
      "Epoch 16/100\n",
      "1/1 [==============================] - 0s 4ms/step - loss: 5.0439 - mae: 5.0439\n",
      "Epoch 17/100\n",
      "1/1 [==============================] - 0s 2ms/step - loss: 4.7460 - mae: 4.7460\n",
      "Epoch 18/100\n",
      "1/1 [==============================] - 0s 2ms/step - loss: 4.3692 - mae: 4.3692\n",
      "Epoch 19/100\n",
      "1/1 [==============================] - 0s 2ms/step - loss: 3.9401 - mae: 3.9401\n",
      "Epoch 20/100\n",
      "1/1 [==============================] - 0s 3ms/step - loss: 3.6049 - mae: 3.6049\n",
      "Epoch 21/100\n",
      "1/1 [==============================] - 0s 2ms/step - loss: 3.4176 - mae: 3.4176\n",
      "Epoch 22/100\n",
      "1/1 [==============================] - 0s 2ms/step - loss: 3.3280 - mae: 3.3280\n",
      "Epoch 23/100\n",
      "1/1 [==============================] - 0s 3ms/step - loss: 3.4112 - mae: 3.4112\n",
      "Epoch 24/100\n",
      "1/1 [==============================] - 0s 3ms/step - loss: 3.5045 - mae: 3.5045\n",
      "Epoch 25/100\n",
      "1/1 [==============================] - 0s 2ms/step - loss: 3.5395 - mae: 3.5395\n",
      "Epoch 26/100\n",
      "1/1 [==============================] - 0s 3ms/step - loss: 3.3155 - mae: 3.3155\n",
      "Epoch 27/100\n",
      "1/1 [==============================] - 0s 3ms/step - loss: 3.1153 - mae: 3.1153\n",
      "Epoch 28/100\n",
      "1/1 [==============================] - 0s 3ms/step - loss: 2.9202 - mae: 2.9202\n",
      "Epoch 29/100\n",
      "1/1 [==============================] - 0s 2ms/step - loss: 2.8961 - mae: 2.8961\n",
      "Epoch 30/100\n",
      "1/1 [==============================] - 0s 3ms/step - loss: 2.8902 - mae: 2.8902\n",
      "Epoch 31/100\n",
      "1/1 [==============================] - 0s 2ms/step - loss: 2.8543 - mae: 2.8543\n",
      "Epoch 32/100\n",
      "1/1 [==============================] - 0s 4ms/step - loss: 2.8170 - mae: 2.8170\n",
      "Epoch 33/100\n",
      "1/1 [==============================] - 0s 3ms/step - loss: 2.7166 - mae: 2.7166\n",
      "Epoch 34/100\n",
      "1/1 [==============================] - 0s 2ms/step - loss: 2.5577 - mae: 2.5577\n",
      "Epoch 35/100\n",
      "1/1 [==============================] - 0s 3ms/step - loss: 2.4087 - mae: 2.4087\n",
      "Epoch 36/100\n",
      "1/1 [==============================] - 0s 2ms/step - loss: 2.2446 - mae: 2.2446\n",
      "Epoch 37/100\n",
      "1/1 [==============================] - 0s 3ms/step - loss: 2.0602 - mae: 2.0602\n",
      "Epoch 38/100\n",
      "1/1 [==============================] - 0s 3ms/step - loss: 2.0281 - mae: 2.0281\n",
      "Epoch 39/100\n",
      "1/1 [==============================] - 0s 3ms/step - loss: 1.9148 - mae: 1.9148\n",
      "Epoch 40/100\n",
      "1/1 [==============================] - 0s 5ms/step - loss: 1.7213 - mae: 1.7213\n",
      "Epoch 41/100\n",
      "1/1 [==============================] - 0s 3ms/step - loss: 1.4491 - mae: 1.4491\n",
      "Epoch 42/100\n",
      "1/1 [==============================] - 0s 2ms/step - loss: 1.2344 - mae: 1.2344\n",
      "Epoch 43/100\n",
      "1/1 [==============================] - 0s 4ms/step - loss: 1.1770 - mae: 1.1770\n",
      "Epoch 44/100\n",
      "1/1 [==============================] - 0s 5ms/step - loss: 1.0755 - mae: 1.0755\n",
      "Epoch 45/100\n",
      "1/1 [==============================] - 0s 3ms/step - loss: 0.7394 - mae: 0.7394\n",
      "Epoch 46/100\n",
      "1/1 [==============================] - 0s 4ms/step - loss: 0.5329 - mae: 0.5329\n",
      "Epoch 47/100\n",
      "1/1 [==============================] - 0s 4ms/step - loss: 0.3152 - mae: 0.3152\n",
      "Epoch 48/100\n",
      "1/1 [==============================] - 0s 5ms/step - loss: 0.7604 - mae: 0.7604\n",
      "Epoch 49/100\n",
      "1/1 [==============================] - 0s 4ms/step - loss: 0.8281 - mae: 0.8281\n",
      "Epoch 50/100\n",
      "1/1 [==============================] - 0s 5ms/step - loss: 0.4539 - mae: 0.4539\n",
      "Epoch 51/100\n",
      "1/1 [==============================] - 0s 4ms/step - loss: 0.5799 - mae: 0.5799\n",
      "Epoch 52/100\n",
      "1/1 [==============================] - 0s 5ms/step - loss: 0.8925 - mae: 0.8925\n",
      "Epoch 53/100\n",
      "1/1 [==============================] - 0s 5ms/step - loss: 0.8840 - mae: 0.8840\n",
      "Epoch 54/100\n",
      "1/1 [==============================] - 0s 4ms/step - loss: 0.6483 - mae: 0.6483\n",
      "Epoch 55/100\n",
      "1/1 [==============================] - 0s 5ms/step - loss: 0.3221 - mae: 0.3221\n",
      "Epoch 56/100\n",
      "1/1 [==============================] - 0s 5ms/step - loss: 0.7596 - mae: 0.7596\n",
      "Epoch 57/100\n",
      "1/1 [==============================] - 0s 4ms/step - loss: 0.8507 - mae: 0.8507\n",
      "Epoch 58/100\n",
      "1/1 [==============================] - 0s 6ms/step - loss: 0.5757 - mae: 0.5757\n",
      "Epoch 59/100\n",
      "1/1 [==============================] - 0s 4ms/step - loss: 0.4012 - mae: 0.4012\n",
      "Epoch 60/100\n",
      "1/1 [==============================] - 0s 4ms/step - loss: 0.5423 - mae: 0.5423\n",
      "Epoch 61/100\n",
      "1/1 [==============================] - 0s 4ms/step - loss: 0.4585 - mae: 0.4585\n",
      "Epoch 62/100\n",
      "1/1 [==============================] - 0s 3ms/step - loss: 0.2520 - mae: 0.2520\n",
      "Epoch 63/100\n",
      "1/1 [==============================] - 0s 4ms/step - loss: 0.5342 - mae: 0.5342\n",
      "Epoch 64/100\n",
      "1/1 [==============================] - 0s 4ms/step - loss: 0.5489 - mae: 0.5489\n",
      "Epoch 65/100\n",
      "1/1 [==============================] - 0s 5ms/step - loss: 0.3376 - mae: 0.3376\n",
      "Epoch 66/100\n",
      "1/1 [==============================] - 0s 5ms/step - loss: 0.2724 - mae: 0.2724\n",
      "Epoch 67/100\n",
      "1/1 [==============================] - 0s 5ms/step - loss: 0.3721 - mae: 0.3721\n",
      "Epoch 68/100\n",
      "1/1 [==============================] - 0s 3ms/step - loss: 0.2912 - mae: 0.2912\n",
      "Epoch 69/100\n",
      "1/1 [==============================] - 0s 4ms/step - loss: 0.3188 - mae: 0.3188\n",
      "Epoch 70/100\n",
      "1/1 [==============================] - 0s 4ms/step - loss: 0.3072 - mae: 0.3072\n",
      "Epoch 71/100\n",
      "1/1 [==============================] - 0s 4ms/step - loss: 0.2416 - mae: 0.2416\n",
      "Epoch 72/100\n",
      "1/1 [==============================] - 0s 4ms/step - loss: 0.2195 - mae: 0.2195\n",
      "Epoch 73/100\n",
      "1/1 [==============================] - 0s 4ms/step - loss: 0.2066 - mae: 0.2066\n",
      "Epoch 74/100\n",
      "1/1 [==============================] - 0s 4ms/step - loss: 0.2189 - mae: 0.2189\n",
      "Epoch 75/100\n",
      "1/1 [==============================] - 0s 4ms/step - loss: 0.2635 - mae: 0.2635\n",
      "Epoch 76/100\n",
      "1/1 [==============================] - 0s 5ms/step - loss: 0.1844 - mae: 0.1844\n",
      "Epoch 77/100\n",
      "1/1 [==============================] - 0s 3ms/step - loss: 0.2535 - mae: 0.2535\n",
      "Epoch 78/100\n",
      "1/1 [==============================] - 0s 3ms/step - loss: 0.1558 - mae: 0.1558\n",
      "Epoch 79/100\n",
      "1/1 [==============================] - 0s 4ms/step - loss: 0.2675 - mae: 0.2675\n",
      "Epoch 80/100\n",
      "1/1 [==============================] - 0s 3ms/step - loss: 0.1641 - mae: 0.1641\n",
      "Epoch 81/100\n",
      "1/1 [==============================] - 0s 3ms/step - loss: 0.1477 - mae: 0.1477\n",
      "Epoch 82/100\n",
      "1/1 [==============================] - 0s 3ms/step - loss: 0.2509 - mae: 0.2509\n",
      "Epoch 83/100\n",
      "1/1 [==============================] - 0s 3ms/step - loss: 0.1795 - mae: 0.1795\n",
      "Epoch 84/100\n",
      "1/1 [==============================] - 0s 5ms/step - loss: 0.2241 - mae: 0.2241\n",
      "Epoch 85/100\n",
      "1/1 [==============================] - 0s 4ms/step - loss: 0.2738 - mae: 0.2738\n",
      "Epoch 86/100\n",
      "1/1 [==============================] - 0s 4ms/step - loss: 0.1326 - mae: 0.1326\n",
      "Epoch 87/100\n",
      "1/1 [==============================] - 0s 5ms/step - loss: 0.1725 - mae: 0.1725\n",
      "Epoch 88/100\n",
      "1/1 [==============================] - 0s 4ms/step - loss: 0.1617 - mae: 0.1617\n",
      "Epoch 89/100\n",
      "1/1 [==============================] - 0s 3ms/step - loss: 0.1691 - mae: 0.1691\n",
      "Epoch 90/100\n",
      "1/1 [==============================] - 0s 4ms/step - loss: 0.1222 - mae: 0.1222\n",
      "Epoch 91/100\n",
      "1/1 [==============================] - 0s 3ms/step - loss: 0.2467 - mae: 0.2467\n",
      "Epoch 92/100\n",
      "1/1 [==============================] - 0s 4ms/step - loss: 0.2010 - mae: 0.2010\n",
      "Epoch 93/100\n",
      "1/1 [==============================] - 0s 4ms/step - loss: 0.1954 - mae: 0.1954\n",
      "Epoch 94/100\n",
      "1/1 [==============================] - 0s 4ms/step - loss: 0.0908 - mae: 0.0908\n",
      "Epoch 95/100\n",
      "1/1 [==============================] - 0s 4ms/step - loss: 0.2123 - mae: 0.2123\n",
      "Epoch 96/100\n",
      "1/1 [==============================] - 0s 6ms/step - loss: 0.0970 - mae: 0.0970\n",
      "Epoch 97/100\n",
      "1/1 [==============================] - 0s 4ms/step - loss: 0.1911 - mae: 0.1911\n",
      "Epoch 98/100\n",
      "1/1 [==============================] - 0s 4ms/step - loss: 0.1552 - mae: 0.1552\n",
      "Epoch 99/100\n",
      "1/1 [==============================] - 0s 4ms/step - loss: 0.1693 - mae: 0.1693\n",
      "Epoch 100/100\n",
      "1/1 [==============================] - 0s 4ms/step - loss: 0.0760 - mae: 0.0760\n"
     ]
    },
    {
     "data": {
      "text/plain": [
       "<keras.callbacks.History at 0x7f3df0584c10>"
      ]
     },
     "execution_count": 13,
     "metadata": {},
     "output_type": "execute_result"
    }
   ],
   "source": [
    "# modelv2 = tf.keras.Sequential()\n",
    "# modelv2.add(tf.keras.layers.Dense(100, activation='relu'))\n",
    "# modelv2.add(tf.keras.layers.Dense(100, activation='relu'))\n",
    "# modelv2.add(tf.keras.layers.Dense(100, activation='relu'))\n",
    "# modelv2.add(tf.keras.layers.Dense(1))\n",
    "\n",
    "# # 2. compile the model\n",
    "# modelv2.compile(\n",
    "#     loss = tf.keras.losses.mae, # mean absolute error predicted vs observed\n",
    "#     optimizer = tf.keras.optimizers.Adam(lr=0.0001), # stochastic gradient descent (lr=1e-3)\n",
    "#     metrics=['mae'] # mean absolute error\n",
    "# )\n",
    "\n",
    "# # 3. fit the model\n",
    "# # we have to expand axis because it breaks in the latest version\n",
    "# modelv2.fit(tf.expand_dims(X, axis=-1), y, epochs=100)\n",
    "\n",
    "\n",
    "# 1. create the model using the sequential API\n",
    "modelV2 = tf.keras.Sequential()\n",
    "modelV2.add(tf.keras.layers.Dense(100, activation='relu'))\n",
    "modelV2.add(tf.keras.layers.Dense(1))\n",
    "\n",
    "# 2. compile the model\n",
    "modelV2.compile(\n",
    "    loss = tf.keras.losses.mae, # mean absolute error predicted vs observed\n",
    "    optimizer = tf.keras.optimizers.Adam(lr=0.015), # SGD stochastic gradient descent (lr=1e-3)\n",
    "    metrics=['mae'] # mean absolute error\n",
    ")\n",
    "\n",
    "# 3. fit the model\n",
    "# we have to expand axis because it breaks in the latest version\n",
    "modelV2.fit(tf.expand_dims(X, axis=-1), y, epochs=100)"
   ]
  },
  {
   "cell_type": "markdown",
   "metadata": {},
   "source": [
    "## Trained Model predicted Y Results Vs Actual Y values\n",
    "In this example below we plot the trained AI guess of Y from X value vs the actual result\n",
    "- **Blue** is the test data we trained the model with\n",
    "- **Red** is TF model guess"
   ]
  },
  {
   "cell_type": "code",
   "execution_count": 14,
   "metadata": {},
   "outputs": [
    {
     "data": {
      "image/png": "[encoded data removed]",
      "text/plain": [
       "<Figure size 432x288 with 1 Axes>"
      ]
     },
     "metadata": {
      "needs_background": "light"
     },
     "output_type": "display_data"
    }
   ],
   "source": [
    "#modelV2.predict([17.0])\n",
    "X = np.array(X,dtype=np.float64)\n",
    "for i in range(0,len(X)):\n",
    "    x_value = X[i]\n",
    "    #print(x_value)\n",
    "    # predict y value\n",
    "    y_pred = modelV2.predict([x_value])\n",
    "\n",
    "    # plot the prediction\n",
    "    plt.scatter(x_value, y[i], color=\"blue\")\n",
    "    plt.scatter(x_value, y_pred, color=\"red\")"
   ]
  },
  {
   "cell_type": "markdown",
   "metadata": {},
   "source": [
    "## Data outside the Dataset\n",
    "Let's see what happens if we try data outside the data set\n",
    "The plots in orange are the neural networks guess thats outside the dataset\n",
    "while red is still within the dataset and blue is our dataset"
   ]
  },
  {
   "cell_type": "code",
   "execution_count": 15,
   "metadata": {},
   "outputs": [
    {
     "name": "stdout",
     "output_type": "stream",
     "text": [
      "[-7. -4. -1.  2.  5.  8. 11. 14. 17. 20. 23. 26. 29. 32. 35. 38. 41. 44.\n",
      " 47. 50. 53. 56. 59. 62. 65. 68. 71. 74. 77. 80. 83.]\n"
     ]
    },
    {
     "data": {
      "image/png": "[encoded data removed]",
      "text/plain": [
       "<Figure size 432x288 with 1 Axes>"
      ]
     },
     "metadata": {
      "needs_background": "light"
     },
     "output_type": "display_data"
    }
   ],
   "source": [
    "X = np.array(X,dtype=np.float64)\n",
    "#print(X)\n",
    "\n",
    "# modify X to add more data\n",
    "v = 14.0\n",
    "while True:\n",
    "    v = v + 3\n",
    "    #print(v)\n",
    "    X = np.append(X,v)\n",
    "\n",
    "    if v > 80:\n",
    "        break\n",
    "print(X)\n",
    "\n",
    "\n",
    "#X.append(  )\n",
    "for i in range(0,len(X)):\n",
    "    x_value = X[i]\n",
    "    #print(x_value)\n",
    "    # predict y value\n",
    "    y_pred = modelV2.predict([x_value])\n",
    "\n",
    "    # plot the prediction\n",
    "    if i < len(y)-1:\n",
    "        plt.scatter(x_value, y[i], color=\"blue\")\n",
    "    \n",
    "    # show what is outside the data set\n",
    "    if i > len(y)-1:\n",
    "        plt.scatter(x_value, y_pred, color=\"orange\")\n",
    "    else:\n",
    "        plt.scatter(x_value, y_pred, color=\"red\")"
   ]
  },
  {
   "cell_type": "markdown",
   "metadata": {},
   "source": [
    "## Evaluating a model\n",
    "In practice, a typical workflow you'll go through when building neural network is:\n",
    "```\n",
    "Build a model -> fit it -> evaluate it -> tweak a model, REPEAT\n",
    "```\n",
    "When it comes to evaluation.. there are 3 words you should memorize:\n",
    "> \"Visualize, Visualize, Visualize!\"\n",
    "\n",
    "Its a good idea to visualize:\n",
    "* the data that we are working with\n",
    "* the model its self? what does it look like? how does the data go through it?\n",
    "* the training of a model? how does it perform as it learns what happens to the data?\n",
    "* The predictions of a trained model?? was it better or worse, What factors changed it?\n"
   ]
  },
  {
   "cell_type": "code",
   "execution_count": 16,
   "metadata": {},
   "outputs": [
    {
     "data": {
      "text/plain": [
       "<tf.Tensor: shape=(50,), dtype=int32, numpy=\n",
       "array([-100,  -96,  -92,  -88,  -84,  -80,  -76,  -72,  -68,  -64,  -60,\n",
       "        -56,  -52,  -48,  -44,  -40,  -36,  -32,  -28,  -24,  -20,  -16,\n",
       "        -12,   -8,   -4,    0,    4,    8,   12,   16,   20,   24,   28,\n",
       "         32,   36,   40,   44,   48,   52,   56,   60,   64,   68,   72,\n",
       "         76,   80,   84,   88,   92,   96], dtype=int32)>"
      ]
     },
     "execution_count": 16,
     "metadata": {},
     "output_type": "execute_result"
    }
   ],
   "source": [
    "# lets make a bigger dataset\n",
    "X = tf.range( -100, 100, 4 )\n",
    "X"
   ]
  },
  {
   "cell_type": "code",
   "execution_count": 17,
   "metadata": {},
   "outputs": [
    {
     "data": {
      "text/plain": [
       "<tf.Tensor: shape=(50,), dtype=int32, numpy=\n",
       "array([-90, -86, -82, -78, -74, -70, -66, -62, -58, -54, -50, -46, -42,\n",
       "       -38, -34, -30, -26, -22, -18, -14, -10,  -6,  -2,   2,   6,  10,\n",
       "        14,  18,  22,  26,  30,  34,  38,  42,  46,  50,  54,  58,  62,\n",
       "        66,  70,  74,  78,  82,  86,  90,  94,  98, 102, 106], dtype=int32)>"
      ]
     },
     "execution_count": 17,
     "metadata": {},
     "output_type": "execute_result"
    }
   ],
   "source": [
    "# make labels for the dataset\n",
    "y = X + 10\n",
    "y"
   ]
  },
  {
   "cell_type": "code",
   "execution_count": 18,
   "metadata": {},
   "outputs": [
    {
     "data": {
      "text/plain": [
       "<matplotlib.collections.PathCollection at 0x7f3db472af40>"
      ]
     },
     "execution_count": 18,
     "metadata": {},
     "output_type": "execute_result"
    },
    {
     "data": {
      "image/png": "[encoded data removed]",
      "text/plain": [
       "<Figure size 432x288 with 1 Axes>"
      ]
     },
     "metadata": {
      "needs_background": "light"
     },
     "output_type": "display_data"
    }
   ],
   "source": [
    "plt.scatter(X,y)"
   ]
  },
  {
   "cell_type": "markdown",
   "metadata": {},
   "source": [
    "### The 3 sets...\n",
    "* **Training set** - the model learns from this data, which is typically 70-80% of the total data you have available.\n",
    "* **Validation set** - the model is trained on this data, which is typically 10-15% of the data available. \n",
    "* **Test set** - the model gets evaluated on this data to test what has been learned, this set is typically 10-15% of the total data available.\n",
    "\n",
    "-> sounds like the hold out method\n",
    "\n",
    "This method of training is called generalization, Why do this? \n",
    "`We want our model to perform on data it has't seen before.`"
   ]
  },
  {
   "cell_type": "code",
   "execution_count": 19,
   "metadata": {},
   "outputs": [
    {
     "data": {
      "text/plain": [
       "50"
      ]
     },
     "execution_count": 19,
     "metadata": {},
     "output_type": "execute_result"
    }
   ],
   "source": [
    "# how many samples do we have\n",
    "len(X)"
   ]
  },
  {
   "cell_type": "code",
   "execution_count": 20,
   "metadata": {},
   "outputs": [
    {
     "data": {
      "text/plain": [
       "(40, 10, 40, 10)"
      ]
     },
     "execution_count": 20,
     "metadata": {},
     "output_type": "execute_result"
    }
   ],
   "source": [
    "# split the data into train and test sets\n",
    "X_train = X[:int(len(X)*0.8)] # 80% of the data\n",
    "y_train = y[:int(len(y)*0.8)] # 80% of the data\n",
    "\n",
    "X_test = X[int(len(X)*0.8):] # 20% of the data\n",
    "y_test = y[int(len(y)*0.8):] # 20% of the data\n",
    "\n",
    "len(X_train), len(X_test), len(y_train), len(y_test)\n"
   ]
  },
  {
   "cell_type": "markdown",
   "metadata": {},
   "source": [
    "## Visualizing the data \n",
    "Now we've got our data in training and test sets... let's visualize it again!"
   ]
  },
  {
   "cell_type": "code",
   "execution_count": 21,
   "metadata": {},
   "outputs": [
    {
     "data": {
      "text/plain": [
       "<matplotlib.legend.Legend at 0x7f3df000f8e0>"
      ]
     },
     "execution_count": 21,
     "metadata": {},
     "output_type": "execute_result"
    },
    {
     "data": {
      "image/png": "[encoded data removed]",
      "text/plain": [
       "<Figure size 720x504 with 1 Axes>"
      ]
     },
     "metadata": {
      "needs_background": "light"
     },
     "output_type": "display_data"
    }
   ],
   "source": [
    "plt.figure(figsize=(10,7))\n",
    "\n",
    "# plot the training data\n",
    "plt.scatter(X_train, y_train, color=\"blue\", label=\"Train Dataset\") # our model will learn on this\n",
    "\n",
    "# plot the test data\n",
    "plt.scatter(X_test, y_test, color=\"orange\", label=\"Test Dataset\") # our model will improve on this data \n",
    "\n",
    "# show the legend\n",
    "plt.legend()"
   ]
  },
  {
   "cell_type": "code",
   "execution_count": 22,
   "metadata": {},
   "outputs": [],
   "source": [
    "# Let's have a look on building neural network for our data\n",
    "# 1. create the model using the sequential API\n",
    "model = tf.keras.Sequential()\n",
    "model.add(tf.keras.layers.Dense(1))\n",
    "#model.add(tf.keras.layers.Dense(100, activation='relu'))\n",
    "\n",
    "# 2. compile the model\n",
    "model.compile(\n",
    "    loss = tf.keras.losses.mae, # mean absolute error predicted vs observed\n",
    "    optimizer = tf.keras.optimizers.SGD(), # stochastic gradient descent (lr=1e-3)\n",
    "    metrics=['mae'] # mean absolute error\n",
    ")\n",
    "\n",
    "# 3. fit the model (Important note we are fitting on the training data only)\n",
    "#model.fit(X_train, Y_train, epochs=100)"
   ]
  },
  {
   "cell_type": "markdown",
   "metadata": {},
   "source": [
    "## Visualizing the model\n",
    "In the error given below we must pre-define an input shape for the array so it can be built for module summary\n",
    "This also can be done if we git the data with data for the model to train."
   ]
  },
  {
   "cell_type": "code",
   "execution_count": 23,
   "metadata": {},
   "outputs": [
    {
     "ename": "ValueError",
     "evalue": "This model has not yet been built. Build the model first by calling `build()` or by calling the model on a batch of data.",
     "output_type": "error",
     "traceback": [
      "\u001b[0;31m---------------------------------------------------------------------------\u001b[0m",
      "\u001b[0;31mValueError\u001b[0m                                Traceback (most recent call last)",
      "\u001b[0;32m/tmp/ipykernel_7174/543356187.py\u001b[0m in \u001b[0;36m<module>\u001b[0;34m\u001b[0m\n\u001b[1;32m      1\u001b[0m \u001b[0;31m#model.build(input_shape=(1,1))\u001b[0m\u001b[0;34m\u001b[0m\u001b[0;34m\u001b[0m\u001b[0;34m\u001b[0m\u001b[0m\n\u001b[0;32m----> 2\u001b[0;31m \u001b[0mmodel\u001b[0m\u001b[0;34m.\u001b[0m\u001b[0msummary\u001b[0m\u001b[0;34m(\u001b[0m\u001b[0;34m)\u001b[0m\u001b[0;34m\u001b[0m\u001b[0;34m\u001b[0m\u001b[0m\n\u001b[0m",
      "\u001b[0;32m~/Documents/uwe-dsp/venv/lib64/python3.8/site-packages/keras/engine/training.py\u001b[0m in \u001b[0;36msummary\u001b[0;34m(self, line_length, positions, print_fn, expand_nested)\u001b[0m\n\u001b[1;32m   2577\u001b[0m     \"\"\"\n\u001b[1;32m   2578\u001b[0m     \u001b[0;32mif\u001b[0m \u001b[0;32mnot\u001b[0m \u001b[0mself\u001b[0m\u001b[0;34m.\u001b[0m\u001b[0mbuilt\u001b[0m\u001b[0;34m:\u001b[0m\u001b[0;34m\u001b[0m\u001b[0;34m\u001b[0m\u001b[0m\n\u001b[0;32m-> 2579\u001b[0;31m       raise ValueError(\n\u001b[0m\u001b[1;32m   2580\u001b[0m           \u001b[0;34m'This model has not yet been built. '\u001b[0m\u001b[0;34m\u001b[0m\u001b[0;34m\u001b[0m\u001b[0m\n\u001b[1;32m   2581\u001b[0m           \u001b[0;34m'Build the model first by calling `build()` or by calling '\u001b[0m\u001b[0;34m\u001b[0m\u001b[0;34m\u001b[0m\u001b[0m\n",
      "\u001b[0;31mValueError\u001b[0m: This model has not yet been built. Build the model first by calling `build()` or by calling the model on a batch of data."
     ]
    }
   ],
   "source": [
    "#model.build(input_shape=(1,1))\n",
    "model.summary()"
   ]
  },
  {
   "cell_type": "code",
   "execution_count": 27,
   "metadata": {},
   "outputs": [
    {
     "name": "stdout",
     "output_type": "stream",
     "text": [
      "Model: \"model_3_sets\"\n",
      "_________________________________________________________________\n",
      " Layer (type)                Output Shape              Param #   \n",
      "=================================================================\n",
      " input_layer (Dense)         (None, 10)                20        \n",
      "                                                                 \n",
      " output_layer (Dense)        (None, 1)                 11        \n",
      "                                                                 \n",
      "=================================================================\n",
      "Total params: 31\n",
      "Trainable params: 31\n",
      "Non-trainable params: 0\n",
      "_________________________________________________________________\n"
     ]
    }
   ],
   "source": [
    "# Let's have a look on building neural network for our data\n",
    "# 1. create the model using the sequential API\n",
    "model = tf.keras.Sequential(name = \"model_3_sets\") # note the model names and layer names must meet regex to have underscores no spaces\n",
    "model.add(tf.keras.layers.Dense(10, input_shape=(1,), name=\"input_layer\"))\n",
    "model.add(tf.keras.layers.Dense(1, name=\"output_layer\"))\n",
    "#model.add(tf.keras.layers.Dense(100, activation='relu'))\n",
    "\n",
    "# 2. compile the model\n",
    "model.compile(\n",
    "    loss = tf.keras.losses.mae, # mean absolute error predicted vs observed\n",
    "    optimizer = tf.keras.optimizers.SGD(), # stochastic gradient descent (lr=1e-3)\n",
    "    metrics=['mae'] # mean absolute error\n",
    ")\n",
    "\n",
    "#model.build()\n",
    "model.summary()\n",
    "\n",
    "# 3. fit the model (Important note we are fitting on the training data only)\n",
    "#model.fit(X_train, Y_train, epochs=100)"
   ]
  },
  {
   "cell_type": "markdown",
   "metadata": {},
   "source": [
    "* Total params - total number of parameters in the model.\n",
    "* Trainable parameters - these are the parameters (patterns) the model can update as it trains.\n",
    "* Non-trainable params - these parameters aren't updated during training (this is typical when you bring in already learned patterns or parameters from other models during **transfer learning**)."
   ]
  },
  {
   "cell_type": "code",
   "execution_count": 28,
   "metadata": {},
   "outputs": [
    {
     "data": {
      "text/plain": [
       "<keras.callbacks.History at 0x7f3df803ca60>"
      ]
     },
     "execution_count": 28,
     "metadata": {},
     "output_type": "execute_result"
    }
   ],
   "source": [
    "# Let's fit our model to the training data\n",
    "\n",
    "# 3. fit the model (Important note we are fitting on the training data only)\n",
    "model.fit(X_train, y_train, epochs=100, verbose=0)"
   ]
  },
  {
   "cell_type": "code",
   "execution_count": 29,
   "metadata": {},
   "outputs": [
    {
     "name": "stdout",
     "output_type": "stream",
     "text": [
      "Model: \"model_3_sets\"\n",
      "_________________________________________________________________\n",
      " Layer (type)                Output Shape              Param #   \n",
      "=================================================================\n",
      " input_layer (Dense)         (None, 10)                20        \n",
      "                                                                 \n",
      " output_layer (Dense)        (None, 1)                 11        \n",
      "                                                                 \n",
      "=================================================================\n",
      "Total params: 31\n",
      "Trainable params: 31\n",
      "Non-trainable params: 0\n",
      "_________________________________________________________________\n"
     ]
    }
   ],
   "source": [
    "# get the summary of our model\n",
    "model.summary()"
   ]
  },
  {
   "cell_type": "code",
   "execution_count": 30,
   "metadata": {},
   "outputs": [
    {
     "data": {
      "image/png": "[encoded data removed]",
      "text/plain": [
       "<IPython.core.display.Image object>"
      ]
     },
     "execution_count": 30,
     "metadata": {},
     "output_type": "execute_result"
    }
   ],
   "source": [
    "from tensorflow.keras.utils import plot_model\n",
    "plot_model(model,show_shapes=True, show_layer_names=True, show_dtype=True)#, to_file='model.png')"
   ]
  },
  {
   "cell_type": "markdown",
   "metadata": {},
   "source": [
    "## Visualizing our model's predictions\n",
    "To visualize predictions, its a good idea to plot them against the ground truth labels.\n",
    "\n",
    "Often you'll see this in the form of `y_test` or `y_true` versus `y_pred` (ground truth versus your model's predictions)"
   ]
  },
  {
   "cell_type": "code",
   "execution_count": 31,
   "metadata": {},
   "outputs": [
    {
     "data": {
      "text/plain": [
       "array([[ 90.92919 ],\n",
       "       [ 96.86788 ],\n",
       "       [102.806564],\n",
       "       [108.745255],\n",
       "       [114.683945],\n",
       "       [120.62263 ],\n",
       "       [126.56132 ],\n",
       "       [132.5     ],\n",
       "       [138.43869 ],\n",
       "       [144.37738 ]], dtype=float32)"
      ]
     },
     "execution_count": 31,
     "metadata": {},
     "output_type": "execute_result"
    }
   ],
   "source": [
    "# make some predictions\n",
    "y_pred = model.predict(X_test)\n",
    "y_pred"
   ]
  },
  {
   "cell_type": "code",
   "execution_count": 32,
   "metadata": {},
   "outputs": [
    {
     "data": {
      "text/plain": [
       "<tf.Tensor: shape=(10,), dtype=int32, numpy=array([ 70,  74,  78,  82,  86,  90,  94,  98, 102, 106], dtype=int32)>"
      ]
     },
     "execution_count": 32,
     "metadata": {},
     "output_type": "execute_result"
    }
   ],
   "source": [
    "y_test # if the y_pred is not the same as the y_test then the model is not working"
   ]
  },
  {
   "cell_type": "markdown",
   "metadata": {},
   "source": [
    "**Note:** If you feel like you're going to reuse some kind of functionality in the future, it's a good idea to turn it into function"
   ]
  },
  {
   "cell_type": "code",
   "execution_count": 33,
   "metadata": {},
   "outputs": [
    {
     "data": {
      "image/png": "[encoded data removed]",
      "text/plain": [
       "<Figure size 720x504 with 1 Axes>"
      ]
     },
     "metadata": {
      "needs_background": "light"
     },
     "output_type": "display_data"
    }
   ],
   "source": [
    "def plot_predictions(\n",
    "    train_data=X_train, \n",
    "    train_labels=y_train, \n",
    "    test_data=X_test, \n",
    "    test_labels=y_test, \n",
    "    predictions=y_pred):\n",
    "  \"\"\"\n",
    "  Plots training data, test data and compares predictions.\n",
    "  \"\"\"\n",
    "  plt.figure(figsize=(10, 7))\n",
    "  # Plot training data in blue\n",
    "  plt.scatter(train_data, train_labels, c=\"b\", label=\"Training data\")\n",
    "  # Plot test data in green\n",
    "  plt.scatter(test_data, test_labels, c=\"g\", label=\"Testing data\")\n",
    "  # Plot the predictions in red (predictions were made on the test data)\n",
    "  plt.scatter(test_data, predictions, c=\"r\", label=\"Predictions\")\n",
    "  # Show the legend\n",
    "  plt.legend()\n",
    "\n",
    "plot_predictions(train_data=X_train,\n",
    "                 train_labels=y_train,\n",
    "                 test_data=X_test,\n",
    "                 test_labels=y_test,\n",
    "                 predictions=y_pred)"
   ]
  },
  {
   "cell_type": "markdown",
   "metadata": {},
   "source": [
    "### Evaluating our model's predictions with regression evaluation metrics\n",
    "Depending on the problem you're working on, there will be different evaluation metrics to evaluate your model's performance.\n",
    "\n",
    "Since we're working on a regression, two of the main metrics:\n",
    "* MAE - Mean absolute error, \"on average, how wrong is each of my model's predictions\"\n",
    "* MSE - mean square error, \"square the average errors\""
   ]
  },
  {
   "cell_type": "code",
   "execution_count": 34,
   "metadata": {},
   "outputs": [
    {
     "name": "stdout",
     "output_type": "stream",
     "text": [
      "1/1 [==============================] - 0s 130ms/step - loss: 29.6533 - mae: 29.6533\n"
     ]
    },
    {
     "data": {
      "text/plain": [
       "[29.653284072875977, 29.653284072875977]"
      ]
     },
     "execution_count": 34,
     "metadata": {},
     "output_type": "execute_result"
    }
   ],
   "source": [
    "# Evaluate the model\n",
    "model.evaluate(X_test, y_test)"
   ]
  }
 ],
 "metadata": {
  "interpreter": {
   "hash": "015b9d4b853c90004082392c3c886b9cec330d060d60d92815cef3a6eb65a3f8"
  },
  "kernelspec": {
   "display_name": "Python 3.8.12 64-bit ('venv': venv)",
   "language": "python",
   "name": "python3"
  },
  "language_info": {
   "codemirror_mode": {
    "name": "ipython",
    "version": 3
   },
   "file_extension": ".py",
   "mimetype": "text/x-python",
   "name": "python",
   "nbconvert_exporter": "python",
   "pygments_lexer": "ipython3",
   "version": "3.8.12"
  },
  "orig_nbformat": 4
 },
 "nbformat": 4,
 "nbformat_minor": 2
}

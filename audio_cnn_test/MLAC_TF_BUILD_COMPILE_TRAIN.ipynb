{
 "cells": [
  {
   "cell_type": "markdown",
   "metadata": {},
   "source": [
    "### Machine Learning: TF Audio Classification Model Creation and Training Evaluation Document\n",
    "In this document we will read in our feature npy files, construct, train and evaluate a model for audio classification:"
   ]
  },
  {
   "cell_type": "code",
   "execution_count": 2,
   "metadata": {},
   "outputs": [
    {
     "name": "stdout",
     "output_type": "stream",
     "text": [
      "2.7.0\n",
      "Num GPUs Available:  0\n"
     ]
    }
   ],
   "source": [
    "import tensorflow as tf\n",
    "import numpy as np\n",
    "import matplotlib.pyplot as plt\n",
    "import pandas as pd\n",
    "import librosa\n",
    "import random\n",
    "import math\n",
    "import os\n",
    "from netplot import ModelPlot\n",
    "from tensorflow.keras.utils import plot_model\n",
    "print(tf.__version__)\n",
    "print(\"Num GPUs Available: \", len(tf.config.list_physical_devices('GPU')))"
   ]
  },
  {
   "cell_type": "markdown",
   "metadata": {},
   "source": [
    "### MFCC CNN\n",
    "In this section we will construct our MFCC CNN"
   ]
  },
  {
   "cell_type": "code",
   "execution_count": 2,
   "metadata": {},
   "outputs": [],
   "source": [
    "# os path to desktop\n",
    "desktop_path = os.path.join(os.path.join(os.environ['USERPROFILE']), 'Desktop')\n",
    "\n",
    "dataset_root_dir = os.path.join(desktop_path, 'kaggle_2018_dataset')\n",
    "data_npy_folder = os.path.join(dataset_root_dir, 'data')\n",
    "\n",
    "# load the training data\n",
    "dataset_train_folder = os.path.join(dataset_root_dir, 'train')\n",
    "dataset_train_csv = os.path.join(dataset_train_folder, 'catalog.csv')\n",
    "\n",
    "# load in our data_frame\n",
    "metadata = pd.read_csv(dataset_train_csv)\n",
    "\n",
    "# Pre-processed MFCC coefficients\n",
    "X = np.load( os.path.join(data_npy_folder, \"X-mfcc.npy\" ) )\n",
    "y = np.load( os.path.join(data_npy_folder, \"y-mfcc.npy\" ) )\n"
   ]
  },
  {
   "cell_type": "code",
   "execution_count": 3,
   "metadata": {},
   "outputs": [
    {
     "name": "stdout",
     "output_type": "stream",
     "text": [
      "Test split: 1894 \t\t Train split: 7579\n",
      "X test shape: (1894, 40, 2584) \t X train shape: (7579, 40, 2584)\n",
      "y test shape: (1894,) \t\t y train shape: (7579,)\n"
     ]
    }
   ],
   "source": [
    "# create train and test sets\n",
    "indexes = []\n",
    "total = len(metadata)\n",
    "indexes = list(range(0, total))\n",
    "\n",
    "# Randomize indexes\n",
    "random.shuffle(indexes)\n",
    "\n",
    "# Divide the indexes into Train and Test\n",
    "test_split_pct = 20\n",
    "split_offset = math.floor(test_split_pct * total / 100)\n",
    "\n",
    "# Split the metadata\n",
    "test_split_idx = indexes[0:split_offset]\n",
    "train_split_idx = indexes[split_offset:total]\n",
    "\n",
    "# Split the features with the same indexes\n",
    "X_test = np.take(X, test_split_idx, axis=0)\n",
    "y_test = np.take(y, test_split_idx, axis=0)\n",
    "X_train = np.take(X, train_split_idx, axis=0)\n",
    "y_train = np.take(y, train_split_idx, axis=0)\n",
    "\n",
    "# Also split metadata\n",
    "test_meta = metadata.iloc[test_split_idx]\n",
    "train_meta = metadata.iloc[train_split_idx]\n",
    "\n",
    "# Print status\n",
    "print(\"Test split: {} \\t\\t Train split: {}\".format(len(test_meta), len(train_meta)))\n",
    "print(\"X test shape: {} \\t X train shape: {}\".format(X_test.shape, X_train.shape))\n",
    "print(\"y test shape: {} \\t\\t y train shape: {}\".format(y_test.shape, y_train.shape))\n"
   ]
  },
  {
   "cell_type": "code",
   "execution_count": 4,
   "metadata": {},
   "outputs": [],
   "source": [
    "from sklearn.preprocessing import LabelEncoder\n",
    "from sklearn.metrics import classification_report, confusion_matrix\n",
    "from tensorflow.keras import backend as keras_backend\n",
    "from tensorflow.keras.models import Sequential, load_model\n",
    "from tensorflow.keras.layers import Dense, SpatialDropout2D, Activation, Conv2D, MaxPooling2D, BatchNormalization, GlobalAveragePooling2D, LeakyReLU\n",
    "from tensorflow.keras.optimizers import Adam\n",
    "from tensorflow.keras.utils import to_categorical\n",
    "from tensorflow.keras.callbacks import ModelCheckpoint \n",
    "from tensorflow.keras.regularizers import l2\n",
    "\n",
    "le = LabelEncoder()\n",
    "y_test_encoded = to_categorical(le.fit_transform(y_test))\n",
    "y_train_encoded = to_categorical(le.fit_transform(y_train))\n"
   ]
  },
  {
   "cell_type": "code",
   "execution_count": 5,
   "metadata": {},
   "outputs": [
    {
     "data": {
      "text/plain": [
       "'Gong'"
      ]
     },
     "execution_count": 5,
     "metadata": {},
     "output_type": "execute_result"
    }
   ],
   "source": [
    "y_test[2]"
   ]
  },
  {
   "cell_type": "code",
   "execution_count": 6,
   "metadata": {},
   "outputs": [
    {
     "data": {
      "text/plain": [
       "array([0., 0., 0., 0., 0., 0., 0., 0., 0., 0., 0., 0., 0., 0., 0., 0., 0.,\n",
       "       0., 0., 0., 1., 0., 0., 0., 0., 0., 0., 0., 0., 0., 0., 0., 0., 0.,\n",
       "       0., 0., 0., 0., 0., 0., 0.], dtype=float32)"
      ]
     },
     "execution_count": 6,
     "metadata": {},
     "output_type": "execute_result"
    }
   ],
   "source": [
    "y_test_encoded[2]"
   ]
  },
  {
   "cell_type": "code",
   "execution_count": 7,
   "metadata": {},
   "outputs": [],
   "source": [
    "# How data should be structured\n",
    "num_rows = 40\n",
    "num_columns = 2584 \n",
    "num_channels = 1\n",
    "\n",
    "# Reshape to fit the network input (channel last)\n",
    "\n",
    "X_train = X_train.reshape(X_train.shape[0], num_rows, num_columns, num_channels)\n",
    "X_test = X_test.reshape(X_test.shape[0], num_rows, num_columns, num_channels)\n",
    "\n",
    "# Total number of labels to predict (equal to the network output nodes)\n",
    "num_labels = y_train_encoded.shape[1]"
   ]
  },
  {
   "cell_type": "code",
   "execution_count": 8,
   "metadata": {},
   "outputs": [
    {
     "data": {
      "text/plain": [
       "41"
      ]
     },
     "execution_count": 8,
     "metadata": {},
     "output_type": "execute_result"
    }
   ],
   "source": [
    "num_labels"
   ]
  },
  {
   "cell_type": "code",
   "execution_count": 9,
   "metadata": {},
   "outputs": [],
   "source": [
    "# set the random seed\n",
    "tf.random.set_seed(42)\n",
    "\n",
    "\n",
    "# IMAGE_HEIGHT = X_train.shape[0]#spectrogram_shape[0]\n",
    "# IMAGE_WIDTH = X_train.shape[1]#40#spectrogram_shape[1]\n",
    "# N_CHANNELS = X_train.shape[2]#2584#2\n",
    "#N_CLASSES = num_labels#len(y_train_encoded)\n",
    "\n",
    "# Regularization rates\n",
    "spatial_dropout_rate_1 = 0.07\n",
    "spatial_dropout_rate_2 = 0.14\n",
    "l2_rate = 0.0005\n",
    "\n",
    "# Create a secquential object\n",
    "model = Sequential()\n",
    "\n",
    "\n",
    "# Conv 1\n",
    "model.add(Conv2D(filters=32, \n",
    "                    kernel_size=(3, 3), \n",
    "                    kernel_regularizer=l2(l2_rate), \n",
    "                    input_shape=(num_rows, num_columns, num_channels)))\n",
    "model.add(LeakyReLU(alpha=0.1))\n",
    "model.add(BatchNormalization())\n",
    "\n",
    "model.add(SpatialDropout2D(spatial_dropout_rate_1))\n",
    "model.add(Conv2D(filters=32, \n",
    "                    kernel_size=(3, 3), \n",
    "                    kernel_regularizer=l2(l2_rate)))\n",
    "model.add(LeakyReLU(alpha=0.1))\n",
    "model.add(BatchNormalization())\n",
    "\n",
    "\n",
    "# Max Pooling #1\n",
    "model.add(MaxPooling2D(pool_size=(2, 2)))\n",
    "\n",
    "model.add(SpatialDropout2D(spatial_dropout_rate_1))\n",
    "model.add(Conv2D(filters=64, \n",
    "                    kernel_size=(3, 3), \n",
    "                    kernel_regularizer=l2(l2_rate)))\n",
    "model.add(LeakyReLU(alpha=0.1))\n",
    "model.add(BatchNormalization())\n",
    "\n",
    "model.add(SpatialDropout2D(spatial_dropout_rate_2))\n",
    "model.add(Conv2D(filters=64, \n",
    "                    kernel_size=(3,3), \n",
    "                    kernel_regularizer=l2(l2_rate)))\n",
    "model.add(LeakyReLU(alpha=0.1))\n",
    "model.add(BatchNormalization())\n",
    "\n",
    "\n",
    "# Reduces each h×w feature map to a single number by taking the average of all h,w values.\n",
    "model.add(GlobalAveragePooling2D())\n",
    "\n",
    "\n",
    "# Softmax output\n",
    "model.add(Dense(num_labels, activation='softmax'))\n",
    "\n",
    "# # Create CNN model\n",
    "# model = tf.keras.models.Sequential()\n",
    "# model.add(tf.keras.layers.Input(shape=(num_rows, num_columns, num_channels)))\n",
    "# model.add(tf.keras.layers.Conv2D(32, 3, strides=2, padding='same', activation='relu'))\n",
    "# model.add(tf.keras.layers.BatchNormalization())\n",
    "# model.add(tf.keras.layers.MaxPooling2D(pool_size=(2, 2)))\n",
    "# model.add(tf.keras.layers.BatchNormalization())\n",
    "# model.add(tf.keras.layers.Conv2D(64, 3, padding='same', activation='relu'))\n",
    "# model.add(tf.keras.layers.BatchNormalization())\n",
    "# model.add(tf.keras.layers.MaxPooling2D(pool_size=(2, 2)))\n",
    "# model.add(tf.keras.layers.BatchNormalization())\n",
    "# model.add(tf.keras.layers.Conv2D(128, 3, padding='same', activation='relu'))\n",
    "# model.add(tf.keras.layers.BatchNormalization())\n",
    "# model.add(tf.keras.layers.MaxPooling2D(pool_size=(2, 2)))\n",
    "# model.add(tf.keras.layers.BatchNormalization())\n",
    "# model.add(tf.keras.layers.Flatten())\n",
    "# model.add(tf.keras.layers.Dense(256, activation='relu'))\n",
    "# model.add(tf.keras.layers.BatchNormalization())\n",
    "# model.add(tf.keras.layers.Dropout(0.5))\n",
    "# model.add(tf.keras.layers.Dense(N_CLASSES, activation='softmax'))\n"
   ]
  },
  {
   "cell_type": "code",
   "execution_count": 10,
   "metadata": {},
   "outputs": [
    {
     "data": {
      "image/png": "[encoded data removed]",
      "text/plain": [
       "<IPython.core.display.Image object>"
      ]
     },
     "execution_count": 10,
     "metadata": {},
     "output_type": "execute_result"
    }
   ],
   "source": [
    "# 2. compile the model\n",
    "model.compile(\n",
    "    loss = tf.keras.losses.mae, # mean absolute error predicted vs observed\n",
    "    optimizer = tf.keras.optimizers.Adam(learning_rate=1e-4, beta_1=0.99, beta_2=0.999), # stochastic gradient descent (lr=1e-3)\n",
    "    metrics=['mae'] # mean absolute error\n",
    ")\n",
    "\n",
    "plot_model(model, show_shapes=True, expand_nested=True, dpi=70)"
   ]
  },
  {
   "cell_type": "code",
   "execution_count": 11,
   "metadata": {},
   "outputs": [],
   "source": [
    "# modelplot = ModelPlot(model=model, grid=True, connection=False, linewidth=0.1)\n",
    "# modelplot.show()"
   ]
  },
  {
   "cell_type": "code",
   "execution_count": 11,
   "metadata": {},
   "outputs": [
    {
     "name": "stdout",
     "output_type": "stream",
     "text": [
      "Epoch 1/250\n",
      " 2/55 [>.............................] - ETA: 20:29 - loss: 0.1177 - mae: 0.0477"
     ]
    }
   ],
   "source": [
    "# get the directory of the model output\n",
    "model_dir = os.path.join( dataset_root_dir, 'models')\n",
    "model_path = os.path.join(model_dir, 'MLAC_K2018_MFCC.h5')\n",
    "\n",
    "# Save checkpoints\n",
    "checkpointer = tf.keras.callbacks.ModelCheckpoint(\n",
    "    filepath=model_path, \n",
    "    verbose=1, \n",
    "    save_best_only=True\n",
    ")\n",
    "\n",
    "# # early stopping callback\n",
    "# early_stopping_callback = tf.keras.callbacks.EarlyStopping(\n",
    "#     monitor='mae',\n",
    "#     patience=3\n",
    "# )\n",
    "\n",
    "from datetime import datetime\n",
    "start = datetime.now()\n",
    "\n",
    "# 3. train the model\n",
    "\n",
    "num_epochs = 250\n",
    "num_batch_size = 128\n",
    "\n",
    "history = model.fit(\n",
    "    X_train, \n",
    "    y_train_encoded, \n",
    "    batch_size=num_batch_size, \n",
    "    epochs=num_epochs, \n",
    "    validation_split=1/12.,\n",
    "    callbacks=[checkpointer], \n",
    "    verbose=1\n",
    ")\n",
    "\n",
    "# history = model.fit(\n",
    "#     X_train,\n",
    "#     y_train_encoded,\n",
    "#     epochs=250,\n",
    "#     verbose=1,\n",
    "#     callbacks=[early_stopping_callback, checkpointer],\n",
    "#     validation_data=(X_test, y_test_encoded)\n",
    "# )\n",
    "\n",
    "end = datetime.now() - start\n",
    "print(\"Training time: {}\".format(end))"
   ]
  }
 ],
 "metadata": {
  "interpreter": {
   "hash": "f311e898f88d701a4318adb1e80a52632798689d0f8676edc64176ab2d7516a8"
  },
  "kernelspec": {
   "display_name": "Python 3.8.10 64-bit (windows store)",
   "language": "python",
   "name": "python3"
  },
  "language_info": {
   "codemirror_mode": {
    "name": "ipython",
    "version": 3
   },
   "file_extension": ".py",
   "mimetype": "text/x-python",
   "name": "python",
   "nbconvert_exporter": "python",
   "pygments_lexer": "ipython3",
   "version": "3.8.10"
  },
  "orig_nbformat": 4
 },
 "nbformat": 4,
 "nbformat_minor": 2
}

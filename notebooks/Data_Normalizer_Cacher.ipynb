{
 "cells": [
  {
   "cell_type": "markdown",
   "metadata": {},
   "source": [
    "### Data Inspector, Cacher\n",
    "In this document we will read in our data set:\n",
    "* read in all our audio data, train and test\n",
    "* merge train and tests datasets\n",
    "* inspect the diversity of the audio data\n",
    "* normalize the data and save as a cached npy file\n"
   ]
  },
  {
   "cell_type": "code",
   "execution_count": 1,
   "metadata": {},
   "outputs": [],
   "source": [
    "import numpy as np\n",
    "import matplotlib.pyplot as plt\n",
    "import pandas as pd\n",
    "import librosa\n",
    "import helper\n",
    "import os\n",
    "import math \n",
    "\n",
    "# reproducibility\n",
    "np.random.seed(42)"
   ]
  },
  {
   "cell_type": "markdown",
   "metadata": {},
   "source": [
    "### Dataset Read In\n",
    "In this section we will read in our data set structure which is located in our home holder\n",
    "\n",
    "```\n",
    "root:\n",
    "    kaggle_2018_dataset:\n",
    "        train:\n",
    "            wav files for training only, contains catalog.csv\n",
    "        test:\n",
    "            wav files for testing our model, contains catalog.csv\n",
    "        data:\n",
    "            npy files, feature extraction MFCC and MEL-SPEC\n",
    "        models:\n",
    "            trained models\n",
    "```"
   ]
  },
  {
   "cell_type": "code",
   "execution_count": 2,
   "metadata": {},
   "outputs": [
    {
     "data": {
      "text/html": [
       "<style type=\"text/css\">\n",
       "</style>\n",
       "<table id=\"T_f9d19_\" style='display:inline'>\n",
       "  <caption>train_metadata</caption>\n",
       "  <thead>\n",
       "    <tr>\n",
       "      <th class=\"blank level0\" >&nbsp;</th>\n",
       "      <th class=\"col_heading level0 col0\" >fname</th>\n",
       "      <th class=\"col_heading level0 col1\" >label</th>\n",
       "      <th class=\"col_heading level0 col2\" >manually_verified</th>\n",
       "    </tr>\n",
       "  </thead>\n",
       "  <tbody>\n",
       "    <tr>\n",
       "      <th id=\"T_f9d19_level0_row0\" class=\"row_heading level0 row0\" >0</th>\n",
       "      <td id=\"T_f9d19_row0_col0\" class=\"data row0 col0\" >00044347.wav</td>\n",
       "      <td id=\"T_f9d19_row0_col1\" class=\"data row0 col1\" >Hi-hat</td>\n",
       "      <td id=\"T_f9d19_row0_col2\" class=\"data row0 col2\" >0</td>\n",
       "    </tr>\n",
       "    <tr>\n",
       "      <th id=\"T_f9d19_level0_row1\" class=\"row_heading level0 row1\" >1</th>\n",
       "      <td id=\"T_f9d19_row1_col0\" class=\"data row1 col0\" >001ca53d.wav</td>\n",
       "      <td id=\"T_f9d19_row1_col1\" class=\"data row1 col1\" >Saxophone</td>\n",
       "      <td id=\"T_f9d19_row1_col2\" class=\"data row1 col2\" >1</td>\n",
       "    </tr>\n",
       "    <tr>\n",
       "      <th id=\"T_f9d19_level0_row2\" class=\"row_heading level0 row2\" >2</th>\n",
       "      <td id=\"T_f9d19_row2_col0\" class=\"data row2 col0\" >002d256b.wav</td>\n",
       "      <td id=\"T_f9d19_row2_col1\" class=\"data row2 col1\" >Trumpet</td>\n",
       "      <td id=\"T_f9d19_row2_col2\" class=\"data row2 col2\" >0</td>\n",
       "    </tr>\n",
       "    <tr>\n",
       "      <th id=\"T_f9d19_level0_row3\" class=\"row_heading level0 row3\" >3</th>\n",
       "      <td id=\"T_f9d19_row3_col0\" class=\"data row3 col0\" >0033e230.wav</td>\n",
       "      <td id=\"T_f9d19_row3_col1\" class=\"data row3 col1\" >Glockenspiel</td>\n",
       "      <td id=\"T_f9d19_row3_col2\" class=\"data row3 col2\" >1</td>\n",
       "    </tr>\n",
       "    <tr>\n",
       "      <th id=\"T_f9d19_level0_row4\" class=\"row_heading level0 row4\" >4</th>\n",
       "      <td id=\"T_f9d19_row4_col0\" class=\"data row4 col0\" >00353774.wav</td>\n",
       "      <td id=\"T_f9d19_row4_col1\" class=\"data row4 col1\" >Cello</td>\n",
       "      <td id=\"T_f9d19_row4_col2\" class=\"data row4 col2\" >1</td>\n",
       "    </tr>\n",
       "  </tbody>\n",
       "</table>\n",
       "   <style type=\"text/css\">\n",
       "</style>\n",
       "<table id=\"T_f1fe6_\" style='display:inline'>\n",
       "  <caption>test_metadata</caption>\n",
       "  <thead>\n",
       "    <tr>\n",
       "      <th class=\"blank level0\" >&nbsp;</th>\n",
       "      <th class=\"col_heading level0 col0\" >fname</th>\n",
       "      <th class=\"col_heading level0 col1\" >label</th>\n",
       "      <th class=\"col_heading level0 col2\" >usage</th>\n",
       "    </tr>\n",
       "  </thead>\n",
       "  <tbody>\n",
       "    <tr>\n",
       "      <th id=\"T_f1fe6_level0_row0\" class=\"row_heading level0 row0\" >0</th>\n",
       "      <td id=\"T_f1fe6_row0_col0\" class=\"data row0 col0\" >00326aa9.wav</td>\n",
       "      <td id=\"T_f1fe6_row0_col1\" class=\"data row0 col1\" >Oboe</td>\n",
       "      <td id=\"T_f1fe6_row0_col2\" class=\"data row0 col2\" >Private</td>\n",
       "    </tr>\n",
       "    <tr>\n",
       "      <th id=\"T_f1fe6_level0_row1\" class=\"row_heading level0 row1\" >1</th>\n",
       "      <td id=\"T_f1fe6_row1_col0\" class=\"data row1 col0\" >0038a046.wav</td>\n",
       "      <td id=\"T_f1fe6_row1_col1\" class=\"data row1 col1\" >Bass_drum</td>\n",
       "      <td id=\"T_f1fe6_row1_col2\" class=\"data row1 col2\" >Private</td>\n",
       "    </tr>\n",
       "    <tr>\n",
       "      <th id=\"T_f1fe6_level0_row2\" class=\"row_heading level0 row2\" >2</th>\n",
       "      <td id=\"T_f1fe6_row2_col0\" class=\"data row2 col0\" >007759c4.wav</td>\n",
       "      <td id=\"T_f1fe6_row2_col1\" class=\"data row2 col1\" >Saxophone</td>\n",
       "      <td id=\"T_f1fe6_row2_col2\" class=\"data row2 col2\" >Private</td>\n",
       "    </tr>\n",
       "    <tr>\n",
       "      <th id=\"T_f1fe6_level0_row3\" class=\"row_heading level0 row3\" >3</th>\n",
       "      <td id=\"T_f1fe6_row3_col0\" class=\"data row3 col0\" >008afd93.wav</td>\n",
       "      <td id=\"T_f1fe6_row3_col1\" class=\"data row3 col1\" >Saxophone</td>\n",
       "      <td id=\"T_f1fe6_row3_col2\" class=\"data row3 col2\" >Private</td>\n",
       "    </tr>\n",
       "    <tr>\n",
       "      <th id=\"T_f1fe6_level0_row4\" class=\"row_heading level0 row4\" >4</th>\n",
       "      <td id=\"T_f1fe6_row4_col0\" class=\"data row4 col0\" >00ae03f6.wav</td>\n",
       "      <td id=\"T_f1fe6_row4_col1\" class=\"data row4 col1\" >Chime</td>\n",
       "      <td id=\"T_f1fe6_row4_col2\" class=\"data row4 col2\" >Private</td>\n",
       "    </tr>\n",
       "  </tbody>\n",
       "</table>\n",
       "   "
      ],
      "text/plain": [
       "<IPython.core.display.HTML object>"
      ]
     },
     "metadata": {},
     "output_type": "display_data"
    }
   ],
   "source": [
    "# get the data set root directory path\n",
    "dataset_root_dir = os.path.join(\"/home/charlesedwards/Documents\", 'kaggle_2018_dataset')\n",
    "\n",
    "# get the train and test data directories\n",
    "train_dir = os.path.join(dataset_root_dir, 'train')\n",
    "test_dir = os.path.join(dataset_root_dir, 'test')\n",
    "\n",
    "# get the catalog.csv for train and test directories\n",
    "train_catalog_csv = os.path.join(train_dir, 'catalog.csv')\n",
    "test_catalog_csv = os.path.join(test_dir, 'catalog.csv')\n",
    "\n",
    "# read the catalog.csv files\n",
    "train_metadata = pd.read_csv(train_catalog_csv)\n",
    "test_metadata = pd.read_csv(test_catalog_csv)\n",
    "\n",
    "# drop unwanted columns \n",
    "train_metadata.drop(['license','freesound_id'], axis=1, inplace=True)\n",
    "test_metadata.drop(['license','freesound_id'], axis=1, inplace=True)\n",
    "\n",
    "# display the first 5 rows of both metadatas\n",
    "helper.display_side_by_side([train_metadata.head(),test_metadata.head()], ['train_metadata', 'test_metadata'])"
   ]
  },
  {
   "cell_type": "code",
   "execution_count": 3,
   "metadata": {},
   "outputs": [
    {
     "name": "stdout",
     "output_type": "stream",
     "text": [
      "9473\n",
      "11073\n"
     ]
    },
    {
     "data": {
      "text/html": [
       "<div>\n",
       "<style scoped>\n",
       "    .dataframe tbody tr th:only-of-type {\n",
       "        vertical-align: middle;\n",
       "    }\n",
       "\n",
       "    .dataframe tbody tr th {\n",
       "        vertical-align: top;\n",
       "    }\n",
       "\n",
       "    .dataframe thead th {\n",
       "        text-align: right;\n",
       "    }\n",
       "</style>\n",
       "<table border=\"1\" class=\"dataframe\">\n",
       "  <thead>\n",
       "    <tr style=\"text-align: right;\">\n",
       "      <th></th>\n",
       "      <th>fname</th>\n",
       "      <th>label</th>\n",
       "      <th>manually_verified</th>\n",
       "      <th>usage</th>\n",
       "    </tr>\n",
       "  </thead>\n",
       "  <tbody>\n",
       "    <tr>\n",
       "      <th>0</th>\n",
       "      <td>00044347.wav</td>\n",
       "      <td>Hi-hat</td>\n",
       "      <td>0.0</td>\n",
       "      <td>NaN</td>\n",
       "    </tr>\n",
       "    <tr>\n",
       "      <th>1</th>\n",
       "      <td>001ca53d.wav</td>\n",
       "      <td>Saxophone</td>\n",
       "      <td>1.0</td>\n",
       "      <td>NaN</td>\n",
       "    </tr>\n",
       "    <tr>\n",
       "      <th>2</th>\n",
       "      <td>002d256b.wav</td>\n",
       "      <td>Trumpet</td>\n",
       "      <td>0.0</td>\n",
       "      <td>NaN</td>\n",
       "    </tr>\n",
       "    <tr>\n",
       "      <th>3</th>\n",
       "      <td>0033e230.wav</td>\n",
       "      <td>Glockenspiel</td>\n",
       "      <td>1.0</td>\n",
       "      <td>NaN</td>\n",
       "    </tr>\n",
       "    <tr>\n",
       "      <th>4</th>\n",
       "      <td>00353774.wav</td>\n",
       "      <td>Cello</td>\n",
       "      <td>1.0</td>\n",
       "      <td>NaN</td>\n",
       "    </tr>\n",
       "  </tbody>\n",
       "</table>\n",
       "</div>"
      ],
      "text/plain": [
       "          fname         label  manually_verified usage\n",
       "0  00044347.wav        Hi-hat                0.0   NaN\n",
       "1  001ca53d.wav     Saxophone                1.0   NaN\n",
       "2  002d256b.wav       Trumpet                0.0   NaN\n",
       "3  0033e230.wav  Glockenspiel                1.0   NaN\n",
       "4  00353774.wav         Cello                1.0   NaN"
      ]
     },
     "execution_count": 3,
     "metadata": {},
     "output_type": "execute_result"
    }
   ],
   "source": [
    "print(len(train_metadata.index))\n",
    "# merge train_metadata and test_metadata\n",
    "metadata = pd.concat([train_metadata, test_metadata])\n",
    "print(len(metadata.index))\n",
    "metadata.head()"
   ]
  },
  {
   "cell_type": "markdown",
   "metadata": {},
   "source": [
    "### Visualize Label Distribution \n",
    "In this section of the notebook we will display the label distribution i.e number of audio files per class"
   ]
  },
  {
   "cell_type": "code",
   "execution_count": 4,
   "metadata": {},
   "outputs": [
    {
     "name": "stdout",
     "output_type": "stream",
     "text": [
      "Minimum samples per category =  120\n",
      "Maximum samples per category =  410\n"
     ]
    },
    {
     "data": {
      "image/png": "[encoded data removed]",
      "text/plain": [
       "<Figure size 1080x288 with 1 Axes>"
      ]
     },
     "metadata": {
      "needs_background": "light"
     },
     "output_type": "display_data"
    }
   ],
   "source": [
    "# # visualize the label count distribution\n",
    "# plt.figure(figsize=(15,4))\n",
    "# chart = train_metadata['label'].value_counts().plot(kind='bar',)\n",
    "# chart.set_xticklabels(labels=chart.get_xticklabels(), rotation=45, horizontalalignment='right')\n",
    "# chart.set_title(\"Total number of audio files per class\")\n",
    "# chart.set_ylabel('Count')\n",
    "\n",
    "# print('Minimum samples per category = ', min(train_metadata['label'].value_counts()))\n",
    "# print('Maximum samples per category = ', max(train_metadata['label'].value_counts()))\n",
    "\n",
    "# visualize the label count distribution\n",
    "plt.figure(figsize=(15,4))\n",
    "chart = metadata['label'].value_counts().plot(kind='bar',)\n",
    "chart.set_xticklabels(labels=chart.get_xticklabels(), rotation=45, horizontalalignment='right')\n",
    "chart.set_title(\"Total number of audio files per class\")\n",
    "chart.set_ylabel('Count')\n",
    "\n",
    "print('Minimum samples per category = ', min(metadata['label'].value_counts()))\n",
    "print('Maximum samples per category = ', max(metadata['label'].value_counts()))"
   ]
  },
  {
   "cell_type": "markdown",
   "metadata": {},
   "source": [
    "### Visualize Verified Label Distribution \n",
    "In this section of the notebook we will display how many labels are verified vs not"
   ]
  },
  {
   "cell_type": "code",
   "execution_count": 5,
   "metadata": {},
   "outputs": [
    {
     "data": {
      "text/plain": [
       "<matplotlib.axes._subplots.AxesSubplot at 0x7fa1cef109a0>"
      ]
     },
     "execution_count": 5,
     "metadata": {},
     "output_type": "execute_result"
    },
    {
     "data": {
      "image/png": "[encoded data removed]",
      "text/plain": [
       "<Figure size 288x216 with 1 Axes>"
      ]
     },
     "metadata": {
      "needs_background": "light"
     },
     "output_type": "display_data"
    }
   ],
   "source": [
    "plt.figure(figsize=(4,3))\n",
    "\n",
    "# plot the number of manually_verified vs non manually_verified audio clips\n",
    "verified_count = train_metadata['manually_verified'].value_counts()\n",
    "verified_count.plot(kind='bar', color=['green', 'red'], rot=0, title='Verified vs Non-Verified Audio Clips')\n"
   ]
  },
  {
   "cell_type": "markdown",
   "metadata": {},
   "source": [
    "### Read Audio To Memory\n",
    "This process will take a lot of ram and may vary on dataset size. Atm a 5GB dataset uses roughly 12GB of ram"
   ]
  },
  {
   "cell_type": "code",
   "execution_count": 6,
   "metadata": {},
   "outputs": [],
   "source": [
    "# Windowing\n",
    "n_fft=1024\n",
    "hop_length=512\n",
    "DELTA_TIME = 1\n",
    "\n",
    "def load_data_set(data_dir=\"TEST AND TRAIN MERGED\",metadata_pd=None, sample_rate=44100 ):\n",
    "\n",
    "    processed_samples_data = []\n",
    "    labels = []\n",
    "\n",
    "    print(f\"Processing audio from: {data_dir} ... with {len(metadata_pd)} files\\nn_fft: {n_fft}\\nhop_length: {hop_length}\")\n",
    "\n",
    "    length = len(metadata_pd)\n",
    "    counter = 0\n",
    "\n",
    "    # using librosa for every fname in our data_frame generate a mel spectrogram and save it to a numpy array\n",
    "    for x, row in enumerate(metadata_pd.iloc):\n",
    "        \n",
    "        target_file = \"\"\n",
    "        # detect if row[\"usage\"] is NaN\n",
    "        #print(str(row[\"usage\"]).lower())\n",
    "        if str(row[\"usage\"]).lower() == \"nan\":\n",
    "            # if nan its a test train\n",
    "            target_file = os.path.join( train_dir, row['fname'] )\n",
    "        else:\n",
    "            target_file = os.path.join( test_dir, row['fname'] )\n",
    "\n",
    "        # load the audio file\n",
    "        #y, sr = librosa.load( target_file, sr=sample_rate, duration=max_duration, mono=True )\n",
    "\n",
    "        # this function will downsample and monofy the audio file if necessary\n",
    "        # returns normalized Y and sample rate\n",
    "        sr, y = helper.downsample_mono(target_file, sample_rate)\n",
    "\n",
    "        delta_sample = int(DELTA_TIME*sample_rate)\n",
    "\n",
    "        # cleaned audio is less than a single sample\n",
    "        #wav pad with zeros to delta_sample size\n",
    "        if y.shape[0] < delta_sample:\n",
    "            sample = np.zeros(shape=(delta_sample,), dtype=np.float32) # np.int16\n",
    "            sample[:y.shape[0]] = y\n",
    "            # append the data to our processed_samples_data array\n",
    "            processed_samples_data.append(sample)\n",
    "            labels.append(row['label'])\n",
    "        # step through audio and save every delta_sample\n",
    "        # discard the ending audio if it is too short\n",
    "        else:\n",
    "            trunc = y.shape[0] % delta_sample\n",
    "            for cnt, i in enumerate(np.arange(0, y.shape[0]-trunc, delta_sample)):\n",
    "                start = int(i)\n",
    "                stop = int(i + delta_sample)\n",
    "                sample = y[start:stop]\n",
    "\n",
    "                # append the data to our processed_samples_data array\n",
    "                processed_samples_data.append(sample)\n",
    "                labels.append(row['label'])\n",
    "\n",
    "        # Notify update every N files\n",
    "        if (counter == 500):\n",
    "            print(\"Status: {}/{}\".format(x+1, length))\n",
    "            counter = 0\n",
    "\n",
    "        counter += 1\n",
    "\n",
    "\n",
    "    print(\"done\")\n",
    "\n",
    "    print( \"saving cached padded dataset\" )\n",
    "\n",
    "    # NOTE: we are saving audio data more than what we have i.e we are padding the audio data and creating additional features to the dataset\n",
    "    # Convert features (X) and labels (y) to Numpy arrays\n",
    "    X = np.array(processed_samples_data) # this will contain our normalized audio data of floats between -1 and 1\n",
    "    y = np.array(labels) # labels for each audio file\n",
    "\n",
    "    data_npy_folder = os.path.join(dataset_root_dir, 'data')\n",
    "\n",
    "    # Optionally save the features to disk\n",
    "    base_name = \"normalized_audio_data\"\n",
    "    np.save( os.path.join(data_npy_folder, f\"X-{base_name}\" ), X)\n",
    "    np.save( os.path.join(data_npy_folder, f\"y-{base_name}\" ), y)\n",
    "\n",
    "    print( \"done\" )\n"
   ]
  },
  {
   "cell_type": "code",
   "execution_count": 7,
   "metadata": {},
   "outputs": [
    {
     "name": "stdout",
     "output_type": "stream",
     "text": [
      "Processing audio from: TEST AND TRAIN MERGED ... with 11073 files\n",
      "n_fft: 1024\n",
      "hop_length: 512\n",
      "Status: 501/11073\n",
      "Status: 1001/11073\n",
      "Status: 1501/11073\n",
      "Status: 2001/11073\n",
      "Status: 2501/11073\n",
      "Status: 3001/11073\n",
      "Status: 3501/11073\n",
      "Status: 4001/11073\n",
      "Status: 4501/11073\n",
      "Status: 5001/11073\n",
      "Status: 5501/11073\n",
      "Status: 6001/11073\n",
      "Status: 6501/11073\n",
      "Status: 7001/11073\n",
      "Status: 7501/11073\n",
      "Status: 8001/11073\n",
      "Status: 8501/11073\n",
      "Status: 9001/11073\n",
      "Status: 9501/11073\n",
      "Status: 10001/11073\n",
      "Status: 10501/11073\n",
      "Status: 11001/11073\n",
      "done\n",
      "saving cached padded dataset\n",
      "done\n"
     ]
    }
   ],
   "source": [
    "# # load in the train data set\n",
    "# load_data_set(train_dir, train_metadata, max_duration=None)\n",
    "\n",
    "# # load in the test data set\n",
    "# load_data_set(test_dir, test_metadata, max_duration=None)\n",
    "\n",
    "load_data_set(metadata_pd=metadata)"
   ]
  }
 ],
 "metadata": {
  "interpreter": {
   "hash": "5b3ded1ccb95c1d9bd405e7b823d9e85424cde40fbb5985eb47e999ef50e15b4"
  },
  "kernelspec": {
   "display_name": "Python 3.8.12 64-bit",
   "language": "python",
   "name": "python3"
  },
  "language_info": {
   "codemirror_mode": {
    "name": "ipython",
    "version": 3
   },
   "file_extension": ".py",
   "mimetype": "text/x-python",
   "name": "python",
   "nbconvert_exporter": "python",
   "pygments_lexer": "ipython3",
   "version": "3.8.12"
  },
  "orig_nbformat": 4
 },
 "nbformat": 4,
 "nbformat_minor": 2
}

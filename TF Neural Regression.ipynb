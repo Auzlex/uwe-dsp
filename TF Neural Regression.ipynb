{
 "cells": [
  {
   "cell_type": "markdown",
   "metadata": {},
   "source": [
    "### Neural network Regression\n",
    "What is a regression problem?\n",
    "* Prediction\n",
    "\n",
    "What are we going to solve using this problem?\n",
    "* Predict house prices!\n",
    "\n"
   ]
  },
  {
   "cell_type": "code",
   "execution_count": 1,
   "metadata": {},
   "outputs": [
    {
     "name": "stdout",
     "output_type": "stream",
     "text": [
      "2.7.0\n"
     ]
    }
   ],
   "source": [
    "import tensorflow as tf\n",
    "print(tf.__version__)"
   ]
  },
  {
   "cell_type": "markdown",
   "metadata": {},
   "source": [
    "## Creating data to view and fit"
   ]
  },
  {
   "cell_type": "code",
   "execution_count": 2,
   "metadata": {},
   "outputs": [
    {
     "data": {
      "text/plain": [
       "<matplotlib.collections.PathCollection at 0x28ec86e0ca0>"
      ]
     },
     "execution_count": 2,
     "metadata": {},
     "output_type": "execute_result"
    },
    {
     "data": {
      "image/png": "[encoded data removed]",
      "text/plain": [
       "<Figure size 432x288 with 1 Axes>"
      ]
     },
     "metadata": {
      "needs_background": "light"
     },
     "output_type": "display_data"
    }
   ],
   "source": [
    "import numpy as np\n",
    "import matplotlib.pyplot as plt\n",
    "\n",
    "# Create features\n",
    "X = np.array([-7.0, -4.0, -1.0, 2.0, 5.0, 8.0, 11.0, 14.0])\n",
    "\n",
    "# Create labels\n",
    "y = np.array([3.0, 6.0, 9.0, 12.0, 15.0, 18.0, 21.0, 24.0])\n",
    "\n",
    "plt.scatter(X, y)"
   ]
  },
  {
   "cell_type": "code",
   "execution_count": 3,
   "metadata": {},
   "outputs": [
    {
     "data": {
      "text/plain": [
       "array([ True,  True,  True,  True,  True,  True,  True,  True])"
      ]
     },
     "execution_count": 3,
     "metadata": {},
     "output_type": "execute_result"
    }
   ],
   "source": [
    "y == X + 10"
   ]
  },
  {
   "cell_type": "markdown",
   "metadata": {},
   "source": [
    "## Input and output shapes"
   ]
  },
  {
   "cell_type": "code",
   "execution_count": 4,
   "metadata": {},
   "outputs": [
    {
     "data": {
      "text/plain": [
       "(<tf.Tensor: shape=(3,), dtype=string, numpy=array([b'bedroom', b'bathroom', b'garage'], dtype=object)>,\n",
       " <tf.Tensor: shape=(1,), dtype=int32, numpy=array([939700])>)"
      ]
     },
     "execution_count": 4,
     "metadata": {},
     "output_type": "execute_result"
    }
   ],
   "source": [
    "# Create a demo tensor for our housing price prediction problem\n",
    "house_info = tf.constant( [\n",
    "    \"bedroom\",\n",
    "    \"bathroom\",\n",
    "    \"garage\"\n",
    "] )\n",
    "house_price = tf.constant( [939700] )\n",
    "house_info, house_price"
   ]
  },
  {
   "cell_type": "code",
   "execution_count": 5,
   "metadata": {},
   "outputs": [
    {
     "data": {
      "text/plain": [
       "(-7.0, 3.0)"
      ]
     },
     "execution_count": 5,
     "metadata": {},
     "output_type": "execute_result"
    }
   ],
   "source": [
    "X[0], y[0]"
   ]
  },
  {
   "cell_type": "code",
   "execution_count": 6,
   "metadata": {},
   "outputs": [
    {
     "data": {
      "text/plain": [
       "(-4.0, 6.0)"
      ]
     },
     "execution_count": 6,
     "metadata": {},
     "output_type": "execute_result"
    }
   ],
   "source": [
    "X[1], y[1]"
   ]
  },
  {
   "cell_type": "code",
   "execution_count": 7,
   "metadata": {},
   "outputs": [
    {
     "data": {
      "text/plain": [
       "((8,), (8,))"
      ]
     },
     "execution_count": 7,
     "metadata": {},
     "output_type": "execute_result"
    }
   ],
   "source": [
    "input_shape = X.shape\n",
    "output_shape = y.shape\n",
    "input_shape, output_shape"
   ]
  },
  {
   "cell_type": "code",
   "execution_count": 8,
   "metadata": {},
   "outputs": [
    {
     "data": {
      "text/plain": [
       "0"
      ]
     },
     "execution_count": 8,
     "metadata": {},
     "output_type": "execute_result"
    }
   ],
   "source": [
    "X[0].ndim # scalars have no shape"
   ]
  },
  {
   "cell_type": "code",
   "execution_count": 9,
   "metadata": {},
   "outputs": [
    {
     "data": {
      "text/plain": [
       "(<tf.Tensor: shape=(8,), dtype=float64, numpy=array([-7., -4., -1.,  2.,  5.,  8., 11., 14.])>,\n",
       " <tf.Tensor: shape=(8,), dtype=float64, numpy=array([ 3.,  6.,  9., 12., 15., 18., 21., 24.])>)"
      ]
     },
     "execution_count": 9,
     "metadata": {},
     "output_type": "execute_result"
    }
   ],
   "source": [
    "# convert X and y into tensors \n",
    "X = tf.constant(X,dtype=tf.float64)\n",
    "y = tf.constant(y,dtype=tf.float64)\n",
    "X, y"
   ]
  },
  {
   "cell_type": "markdown",
   "metadata": {},
   "source": [
    "## Steps in modelling with TensorFlow\n",
    "1. **Creating a model** - define the input and output layers, as well as the hidden layers of the deep learning model.\n",
    "2. **Compiling a model** - define the loss function (In other words, the function which tells our model how wrong it is) and the optimizer (tells our model how to improve the patterns its learning) and evaluation metrics (what we can use to interpret the performance of our model)\n",
    "3. **Fitting a model** - letting the model try to find the patterns between X and & y (features and labels).\n"
   ]
  },
  {
   "cell_type": "code",
   "execution_count": 10,
   "metadata": {},
   "outputs": [
    {
     "name": "stdout",
     "output_type": "stream",
     "text": [
      "Epoch 1/5\n",
      "1/1 [==============================] - 0s 325ms/step - loss: 11.5048 - mae: 11.5048\n",
      "Epoch 2/5\n",
      "1/1 [==============================] - 0s 2ms/step - loss: 11.3723 - mae: 11.3723\n",
      "Epoch 3/5\n",
      "1/1 [==============================] - 0s 3ms/step - loss: 11.2398 - mae: 11.2398\n",
      "Epoch 4/5\n",
      "1/1 [==============================] - 0s 2ms/step - loss: 11.1073 - mae: 11.1073\n",
      "Epoch 5/5\n",
      "1/1 [==============================] - 0s 2ms/step - loss: 10.9748 - mae: 10.9748\n"
     ]
    },
    {
     "data": {
      "text/plain": [
       "<keras.callbacks.History at 0x28ed0bb3190>"
      ]
     },
     "execution_count": 10,
     "metadata": {},
     "output_type": "execute_result"
    }
   ],
   "source": [
    "# set the random seed\n",
    "tf.random.set_seed(42)\n",
    "\n",
    "# 1. create the model using the sequential API\n",
    "# model = tf.keras.Sequential(\n",
    "#     [\n",
    "#         tf.keras.layers.Dense(1)\n",
    "#     ]\n",
    "# )\n",
    "\n",
    "model = tf.keras.Sequential()\n",
    "model.add(tf.keras.layers.Dense(1))\n",
    "\n",
    "# 2. compile the model\n",
    "model.compile(\n",
    "    loss = tf.keras.losses.mae, # mean absolute error predicted vs observed\n",
    "    optimizer = tf.keras.optimizers.SGD(), # stochastic gradient descent (lr=1e-3)\n",
    "    metrics=['mae'] # mean absolute error\n",
    ")\n",
    "\n",
    "# 3. fit the model\n",
    "# we have to expand axis because it breaks in the latest version\n",
    "model.fit(tf.expand_dims(X, axis=-1), y, epochs=5)\n"
   ]
  },
  {
   "cell_type": "code",
   "execution_count": 11,
   "metadata": {},
   "outputs": [
    {
     "data": {
      "text/plain": [
       "array([[12.716021]], dtype=float32)"
      ]
     },
     "execution_count": 11,
     "metadata": {},
     "output_type": "execute_result"
    }
   ],
   "source": [
    "# attempt to predict\n",
    "y_pred = model.predict([17.0])\n",
    "y_pred"
   ]
  },
  {
   "cell_type": "code",
   "execution_count": 12,
   "metadata": {},
   "outputs": [
    {
     "data": {
      "text/plain": [
       "array([[23.71602]], dtype=float32)"
      ]
     },
     "execution_count": 12,
     "metadata": {},
     "output_type": "execute_result"
    }
   ],
   "source": [
    "y_pred + 11"
   ]
  },
  {
   "cell_type": "markdown",
   "metadata": {},
   "source": [
    "## Improving our model\n",
    "We can improve our model, by altering the steps we took to create a model.\n",
    "\n",
    "1. **Creating a model** - here we might add more layers, increase the number of hidden units (all called neurons) within each of the hidden layers, change the activation function of each layer.\n",
    "\n",
    "2. **Compiling a model** - here we might change the optimization function opr prehaps the **learning rate** of the optimization funciton\n",
    "\n",
    "3. **Fitting a model** - here we might fit a model for more **epochs** (leave it to train for longer) or on more data (give the model more examples to learn from)\n",
    "\n",
    "\n",
    "Note: Learning Rate is the most important hyper parameter to improving or making our model worse"
   ]
  },
  {
   "cell_type": "code",
   "execution_count": 13,
   "metadata": {},
   "outputs": [
    {
     "name": "stderr",
     "output_type": "stream",
     "text": [
      "C:\\Users\\charl\\AppData\\Local\\Packages\\PythonSoftwareFoundation.Python.3.8_qbz5n2kfra8p0\\LocalCache\\local-packages\\Python38\\site-packages\\keras\\optimizer_v2\\adam.py:105: UserWarning: The `lr` argument is deprecated, use `learning_rate` instead.\n",
      "  super(Adam, self).__init__(name, **kwargs)\n"
     ]
    },
    {
     "name": "stdout",
     "output_type": "stream",
     "text": [
      "Epoch 1/100\n",
      "1/1 [==============================] - 0s 336ms/step - loss: 13.9468 - mae: 13.9468\n",
      "Epoch 2/100\n",
      "1/1 [==============================] - 0s 2ms/step - loss: 12.5065 - mae: 12.5065\n",
      "Epoch 3/100\n",
      "1/1 [==============================] - 0s 2ms/step - loss: 11.1337 - mae: 11.1337\n",
      "Epoch 4/100\n",
      "1/1 [==============================] - 0s 2ms/step - loss: 9.9339 - mae: 9.9339\n",
      "Epoch 5/100\n",
      "1/1 [==============================] - 0s 2ms/step - loss: 8.7000 - mae: 8.7000\n",
      "Epoch 6/100\n",
      "1/1 [==============================] - 0s 2ms/step - loss: 7.4350 - mae: 7.4350\n",
      "Epoch 7/100\n",
      "1/1 [==============================] - 0s 2ms/step - loss: 6.1301 - mae: 6.1301\n",
      "Epoch 8/100\n",
      "1/1 [==============================] - 0s 2ms/step - loss: 4.7794 - mae: 4.7794\n",
      "Epoch 9/100\n",
      "1/1 [==============================] - 0s 2ms/step - loss: 3.8049 - mae: 3.8049\n",
      "Epoch 10/100\n",
      "1/1 [==============================] - 0s 2ms/step - loss: 3.9597 - mae: 3.9597\n",
      "Epoch 11/100\n",
      "1/1 [==============================] - 0s 2ms/step - loss: 4.5370 - mae: 4.5370\n",
      "Epoch 12/100\n",
      "1/1 [==============================] - 0s 2ms/step - loss: 5.0104 - mae: 5.0104\n",
      "Epoch 13/100\n",
      "1/1 [==============================] - 0s 2ms/step - loss: 5.2658 - mae: 5.2658\n",
      "Epoch 14/100\n",
      "1/1 [==============================] - 0s 2ms/step - loss: 5.3353 - mae: 5.3353\n",
      "Epoch 15/100\n",
      "1/1 [==============================] - 0s 2ms/step - loss: 5.2483 - mae: 5.2483\n",
      "Epoch 16/100\n",
      "1/1 [==============================] - 0s 2ms/step - loss: 5.0439 - mae: 5.0439\n",
      "Epoch 17/100\n",
      "1/1 [==============================] - 0s 2ms/step - loss: 4.7460 - mae: 4.7460\n",
      "Epoch 18/100\n",
      "1/1 [==============================] - 0s 2ms/step - loss: 4.3692 - mae: 4.3692\n",
      "Epoch 19/100\n",
      "1/1 [==============================] - 0s 2ms/step - loss: 3.9401 - mae: 3.9401\n",
      "Epoch 20/100\n",
      "1/1 [==============================] - 0s 2ms/step - loss: 3.6049 - mae: 3.6049\n",
      "Epoch 21/100\n",
      "1/1 [==============================] - 0s 3ms/step - loss: 3.4176 - mae: 3.4176\n",
      "Epoch 22/100\n",
      "1/1 [==============================] - 0s 2ms/step - loss: 3.3280 - mae: 3.3280\n",
      "Epoch 23/100\n",
      "1/1 [==============================] - 0s 2ms/step - loss: 3.4112 - mae: 3.4112\n",
      "Epoch 24/100\n",
      "1/1 [==============================] - 0s 2ms/step - loss: 3.5045 - mae: 3.5045\n",
      "Epoch 25/100\n",
      "1/1 [==============================] - 0s 3ms/step - loss: 3.5395 - mae: 3.5395\n",
      "Epoch 26/100\n",
      "1/1 [==============================] - 0s 2ms/step - loss: 3.3155 - mae: 3.3155\n",
      "Epoch 27/100\n",
      "1/1 [==============================] - 0s 2ms/step - loss: 3.1153 - mae: 3.1153\n",
      "Epoch 28/100\n",
      "1/1 [==============================] - 0s 2ms/step - loss: 2.9202 - mae: 2.9202\n",
      "Epoch 29/100\n",
      "1/1 [==============================] - 0s 2ms/step - loss: 2.8961 - mae: 2.8961\n",
      "Epoch 30/100\n",
      "1/1 [==============================] - 0s 2ms/step - loss: 2.8902 - mae: 2.8902\n",
      "Epoch 31/100\n",
      "1/1 [==============================] - 0s 3ms/step - loss: 2.8543 - mae: 2.8543\n",
      "Epoch 32/100\n",
      "1/1 [==============================] - 0s 2ms/step - loss: 2.8170 - mae: 2.8170\n",
      "Epoch 33/100\n",
      "1/1 [==============================] - 0s 2ms/step - loss: 2.7166 - mae: 2.7166\n",
      "Epoch 34/100\n",
      "1/1 [==============================] - 0s 2ms/step - loss: 2.5577 - mae: 2.5577\n",
      "Epoch 35/100\n",
      "1/1 [==============================] - 0s 2ms/step - loss: 2.4087 - mae: 2.4087\n",
      "Epoch 36/100\n",
      "1/1 [==============================] - 0s 3ms/step - loss: 2.2446 - mae: 2.2446\n",
      "Epoch 37/100\n",
      "1/1 [==============================] - 0s 2ms/step - loss: 2.0602 - mae: 2.0602\n",
      "Epoch 38/100\n",
      "1/1 [==============================] - 0s 3ms/step - loss: 2.0281 - mae: 2.0281\n",
      "Epoch 39/100\n",
      "1/1 [==============================] - 0s 3ms/step - loss: 1.9148 - mae: 1.9148\n",
      "Epoch 40/100\n",
      "1/1 [==============================] - 0s 2ms/step - loss: 1.7213 - mae: 1.7213\n",
      "Epoch 41/100\n",
      "1/1 [==============================] - 0s 3ms/step - loss: 1.4491 - mae: 1.4491\n",
      "Epoch 42/100\n",
      "1/1 [==============================] - 0s 2ms/step - loss: 1.2344 - mae: 1.2344\n",
      "Epoch 43/100\n",
      "1/1 [==============================] - 0s 2ms/step - loss: 1.1770 - mae: 1.1770\n",
      "Epoch 44/100\n",
      "1/1 [==============================] - 0s 2ms/step - loss: 1.0755 - mae: 1.0755\n",
      "Epoch 45/100\n",
      "1/1 [==============================] - 0s 2ms/step - loss: 0.7394 - mae: 0.7394\n",
      "Epoch 46/100\n",
      "1/1 [==============================] - 0s 3ms/step - loss: 0.5329 - mae: 0.5329\n",
      "Epoch 47/100\n",
      "1/1 [==============================] - 0s 2ms/step - loss: 0.3152 - mae: 0.3152\n",
      "Epoch 48/100\n",
      "1/1 [==============================] - 0s 3ms/step - loss: 0.7604 - mae: 0.7604\n",
      "Epoch 49/100\n",
      "1/1 [==============================] - 0s 2ms/step - loss: 0.8281 - mae: 0.8281\n",
      "Epoch 50/100\n",
      "1/1 [==============================] - 0s 2ms/step - loss: 0.4539 - mae: 0.4539\n",
      "Epoch 51/100\n",
      "1/1 [==============================] - 0s 2ms/step - loss: 0.5799 - mae: 0.5799\n",
      "Epoch 52/100\n",
      "1/1 [==============================] - 0s 3ms/step - loss: 0.8925 - mae: 0.8925\n",
      "Epoch 53/100\n",
      "1/1 [==============================] - 0s 2ms/step - loss: 0.8840 - mae: 0.8840\n",
      "Epoch 54/100\n",
      "1/1 [==============================] - 0s 3ms/step - loss: 0.6483 - mae: 0.6483\n",
      "Epoch 55/100\n",
      "1/1 [==============================] - 0s 2ms/step - loss: 0.3221 - mae: 0.3221\n",
      "Epoch 56/100\n",
      "1/1 [==============================] - 0s 2ms/step - loss: 0.7596 - mae: 0.7596\n",
      "Epoch 57/100\n",
      "1/1 [==============================] - 0s 2ms/step - loss: 0.8507 - mae: 0.8507\n",
      "Epoch 58/100\n",
      "1/1 [==============================] - 0s 2ms/step - loss: 0.5757 - mae: 0.5757\n",
      "Epoch 59/100\n",
      "1/1 [==============================] - 0s 2ms/step - loss: 0.4012 - mae: 0.4012\n",
      "Epoch 60/100\n",
      "1/1 [==============================] - 0s 2ms/step - loss: 0.5423 - mae: 0.5423\n",
      "Epoch 61/100\n",
      "1/1 [==============================] - 0s 3ms/step - loss: 0.4585 - mae: 0.4585\n",
      "Epoch 62/100\n",
      "1/1 [==============================] - 0s 2ms/step - loss: 0.2520 - mae: 0.2520\n",
      "Epoch 63/100\n",
      "1/1 [==============================] - 0s 2ms/step - loss: 0.5342 - mae: 0.5342\n",
      "Epoch 64/100\n",
      "1/1 [==============================] - 0s 2ms/step - loss: 0.5489 - mae: 0.5489\n",
      "Epoch 65/100\n",
      "1/1 [==============================] - 0s 2ms/step - loss: 0.3376 - mae: 0.3376\n",
      "Epoch 66/100\n",
      "1/1 [==============================] - 0s 2ms/step - loss: 0.2724 - mae: 0.2724\n",
      "Epoch 67/100\n",
      "1/1 [==============================] - 0s 3ms/step - loss: 0.3721 - mae: 0.3721\n",
      "Epoch 68/100\n",
      "1/1 [==============================] - 0s 2ms/step - loss: 0.2912 - mae: 0.2912\n",
      "Epoch 69/100\n",
      "1/1 [==============================] - 0s 2ms/step - loss: 0.3188 - mae: 0.3188\n",
      "Epoch 70/100\n",
      "1/1 [==============================] - 0s 2ms/step - loss: 0.3072 - mae: 0.3072\n",
      "Epoch 71/100\n",
      "1/1 [==============================] - 0s 2ms/step - loss: 0.2416 - mae: 0.2416\n",
      "Epoch 72/100\n",
      "1/1 [==============================] - 0s 3ms/step - loss: 0.2195 - mae: 0.2195\n",
      "Epoch 73/100\n",
      "1/1 [==============================] - 0s 2ms/step - loss: 0.2066 - mae: 0.2066\n",
      "Epoch 74/100\n",
      "1/1 [==============================] - 0s 2ms/step - loss: 0.2189 - mae: 0.2189\n",
      "Epoch 75/100\n",
      "1/1 [==============================] - 0s 2ms/step - loss: 0.2635 - mae: 0.2635\n",
      "Epoch 76/100\n",
      "1/1 [==============================] - 0s 2ms/step - loss: 0.1844 - mae: 0.1844\n",
      "Epoch 77/100\n",
      "1/1 [==============================] - 0s 2ms/step - loss: 0.2535 - mae: 0.2535\n",
      "Epoch 78/100\n",
      "1/1 [==============================] - 0s 2ms/step - loss: 0.1558 - mae: 0.1558\n",
      "Epoch 79/100\n",
      "1/1 [==============================] - 0s 2ms/step - loss: 0.2675 - mae: 0.2675\n",
      "Epoch 80/100\n",
      "1/1 [==============================] - 0s 2ms/step - loss: 0.1641 - mae: 0.1641\n",
      "Epoch 81/100\n",
      "1/1 [==============================] - 0s 2ms/step - loss: 0.1477 - mae: 0.1477\n",
      "Epoch 82/100\n",
      "1/1 [==============================] - 0s 2ms/step - loss: 0.2509 - mae: 0.2509\n",
      "Epoch 83/100\n",
      "1/1 [==============================] - 0s 2ms/step - loss: 0.1795 - mae: 0.1795\n",
      "Epoch 84/100\n",
      "1/1 [==============================] - 0s 2ms/step - loss: 0.2241 - mae: 0.2241\n",
      "Epoch 85/100\n",
      "1/1 [==============================] - 0s 2ms/step - loss: 0.2738 - mae: 0.2738\n",
      "Epoch 86/100\n",
      "1/1 [==============================] - 0s 2ms/step - loss: 0.1326 - mae: 0.1326\n",
      "Epoch 87/100\n",
      "1/1 [==============================] - 0s 2ms/step - loss: 0.1725 - mae: 0.1725\n",
      "Epoch 88/100\n",
      "1/1 [==============================] - 0s 2ms/step - loss: 0.1617 - mae: 0.1617\n",
      "Epoch 89/100\n",
      "1/1 [==============================] - 0s 2ms/step - loss: 0.1691 - mae: 0.1691\n",
      "Epoch 90/100\n",
      "1/1 [==============================] - 0s 2ms/step - loss: 0.1222 - mae: 0.1222\n",
      "Epoch 91/100\n",
      "1/1 [==============================] - 0s 2ms/step - loss: 0.2467 - mae: 0.2467\n",
      "Epoch 92/100\n",
      "1/1 [==============================] - 0s 3ms/step - loss: 0.2010 - mae: 0.2010\n",
      "Epoch 93/100\n",
      "1/1 [==============================] - 0s 2ms/step - loss: 0.1954 - mae: 0.1954\n",
      "Epoch 94/100\n",
      "1/1 [==============================] - 0s 2ms/step - loss: 0.0908 - mae: 0.0908\n",
      "Epoch 95/100\n",
      "1/1 [==============================] - 0s 2ms/step - loss: 0.2123 - mae: 0.2123\n",
      "Epoch 96/100\n",
      "1/1 [==============================] - 0s 2ms/step - loss: 0.0970 - mae: 0.0970\n",
      "Epoch 97/100\n",
      "1/1 [==============================] - 0s 3ms/step - loss: 0.1911 - mae: 0.1911\n",
      "Epoch 98/100\n",
      "1/1 [==============================] - 0s 3ms/step - loss: 0.1552 - mae: 0.1552\n",
      "Epoch 99/100\n",
      "1/1 [==============================] - 0s 2ms/step - loss: 0.1693 - mae: 0.1693\n",
      "Epoch 100/100\n",
      "1/1 [==============================] - 0s 3ms/step - loss: 0.0760 - mae: 0.0760\n"
     ]
    },
    {
     "data": {
      "text/plain": [
       "<keras.callbacks.History at 0x28ed1e12400>"
      ]
     },
     "execution_count": 13,
     "metadata": {},
     "output_type": "execute_result"
    }
   ],
   "source": [
    "# modelv2 = tf.keras.Sequential()\n",
    "# modelv2.add(tf.keras.layers.Dense(100, activation='relu'))\n",
    "# modelv2.add(tf.keras.layers.Dense(100, activation='relu'))\n",
    "# modelv2.add(tf.keras.layers.Dense(100, activation='relu'))\n",
    "# modelv2.add(tf.keras.layers.Dense(1))\n",
    "\n",
    "# # 2. compile the model\n",
    "# modelv2.compile(\n",
    "#     loss = tf.keras.losses.mae, # mean absolute error predicted vs observed\n",
    "#     optimizer = tf.keras.optimizers.Adam(lr=0.0001), # stochastic gradient descent (lr=1e-3)\n",
    "#     metrics=['mae'] # mean absolute error\n",
    "# )\n",
    "\n",
    "# # 3. fit the model\n",
    "# # we have to expand axis because it breaks in the latest version\n",
    "# modelv2.fit(tf.expand_dims(X, axis=-1), y, epochs=100)\n",
    "\n",
    "\n",
    "# 1. create the model using the sequential API\n",
    "modelV2 = tf.keras.Sequential()\n",
    "modelV2.add(tf.keras.layers.Dense(100, activation='relu'))\n",
    "modelV2.add(tf.keras.layers.Dense(1))\n",
    "\n",
    "# 2. compile the model\n",
    "modelV2.compile(\n",
    "    loss = tf.keras.losses.mae, # mean absolute error predicted vs observed\n",
    "    optimizer = tf.keras.optimizers.Adam(lr=0.015), # SGD stochastic gradient descent (lr=1e-3)\n",
    "    metrics=['mae'] # mean absolute error\n",
    ")\n",
    "\n",
    "# 3. fit the model\n",
    "# we have to expand axis because it breaks in the latest version\n",
    "modelV2.fit(tf.expand_dims(X, axis=-1), y, epochs=100)"
   ]
  },
  {
   "cell_type": "markdown",
   "metadata": {},
   "source": [
    "## Trained Model predicted Y Results Vs Actual Y values\n",
    "In this example below we plot the trained AI guess of Y from X value vs the actual result\n",
    "- **Blue** is the test data we trained the model with\n",
    "- **Red** is TF model guess"
   ]
  },
  {
   "cell_type": "code",
   "execution_count": 14,
   "metadata": {},
   "outputs": [
    {
     "data": {
      "image/png": "[encoded data removed]",
      "text/plain": [
       "<Figure size 432x288 with 1 Axes>"
      ]
     },
     "metadata": {
      "needs_background": "light"
     },
     "output_type": "display_data"
    }
   ],
   "source": [
    "#modelV2.predict([17.0])\n",
    "X = np.array(X,dtype=np.float64)\n",
    "for i in range(0,len(X)):\n",
    "    x_value = X[i]\n",
    "    #print(x_value)\n",
    "    # predict y value\n",
    "    y_pred = modelV2.predict([x_value])\n",
    "\n",
    "    # plot the prediction\n",
    "    plt.scatter(x_value, y[i], color=\"blue\")\n",
    "    plt.scatter(x_value, y_pred, color=\"red\")"
   ]
  },
  {
   "cell_type": "markdown",
   "metadata": {},
   "source": [
    "## Data outside the Dataset\n",
    "Let's see what happens if we try data outside the data set\n",
    "The plots in orange are the neural networks guess thats outside the dataset\n",
    "while red is still within the dataset and blue is our dataset"
   ]
  },
  {
   "cell_type": "code",
   "execution_count": 15,
   "metadata": {},
   "outputs": [
    {
     "name": "stdout",
     "output_type": "stream",
     "text": [
      "[-7. -4. -1.  2.  5.  8. 11. 14. 17. 20. 23. 26. 29. 32. 35. 38. 41. 44.\n",
      " 47. 50. 53. 56. 59. 62. 65. 68. 71. 74. 77. 80. 83.]\n"
     ]
    },
    {
     "data": {
      "image/png": "[encoded data removed]",
      "text/plain": [
       "<Figure size 432x288 with 1 Axes>"
      ]
     },
     "metadata": {
      "needs_background": "light"
     },
     "output_type": "display_data"
    }
   ],
   "source": [
    "X = np.array(X,dtype=np.float64)\n",
    "#print(X)\n",
    "\n",
    "# modify X to add more data\n",
    "v = 14.0\n",
    "while True:\n",
    "    v = v + 3\n",
    "    #print(v)\n",
    "    X = np.append(X,v)\n",
    "\n",
    "    if v > 80:\n",
    "        break\n",
    "print(X)\n",
    "\n",
    "\n",
    "#X.append(  )\n",
    "for i in range(0,len(X)):\n",
    "    x_value = X[i]\n",
    "    #print(x_value)\n",
    "    # predict y value\n",
    "    y_pred = modelV2.predict([x_value])\n",
    "\n",
    "    # plot the prediction\n",
    "    if i < len(y)-1:\n",
    "        plt.scatter(x_value, y[i], color=\"blue\")\n",
    "    \n",
    "    # show what is outside the data set\n",
    "    if i > len(y)-1:\n",
    "        plt.scatter(x_value, y_pred, color=\"orange\")\n",
    "    else:\n",
    "        plt.scatter(x_value, y_pred, color=\"red\")"
   ]
  },
  {
   "cell_type": "markdown",
   "metadata": {},
   "source": [
    "## Evaluating a model\n",
    "In practice, a typical workflow you'll go through when building neural network is:\n",
    "```\n",
    "Build a model -> fit it -> evaluate it -> tweak a model, REPEAT\n",
    "```\n",
    "When it comes to evaluation.. there are 3 words you should memorize:\n",
    "> \"Visualize, Visualize, Visualize!\"\n",
    "\n",
    "Its a good idea to visualize:\n",
    "* the data that we are working with\n",
    "* the model its self? what does it look like? how does the data go through it?\n",
    "* the training of a model? how does it perform as it learns what happens to the data?\n",
    "* The predictions of a trained model?? was it better or worse, What factors changed it?\n"
   ]
  },
  {
   "cell_type": "code",
   "execution_count": 16,
   "metadata": {},
   "outputs": [
    {
     "data": {
      "text/plain": [
       "<tf.Tensor: shape=(50,), dtype=int32, numpy=\n",
       "array([-100,  -96,  -92,  -88,  -84,  -80,  -76,  -72,  -68,  -64,  -60,\n",
       "        -56,  -52,  -48,  -44,  -40,  -36,  -32,  -28,  -24,  -20,  -16,\n",
       "        -12,   -8,   -4,    0,    4,    8,   12,   16,   20,   24,   28,\n",
       "         32,   36,   40,   44,   48,   52,   56,   60,   64,   68,   72,\n",
       "         76,   80,   84,   88,   92,   96])>"
      ]
     },
     "execution_count": 16,
     "metadata": {},
     "output_type": "execute_result"
    }
   ],
   "source": [
    "# lets make a bigger dataset\n",
    "X = tf.range( -100, 100, 4 )\n",
    "X"
   ]
  },
  {
   "cell_type": "code",
   "execution_count": 17,
   "metadata": {},
   "outputs": [
    {
     "data": {
      "text/plain": [
       "<tf.Tensor: shape=(50,), dtype=int32, numpy=\n",
       "array([-90, -86, -82, -78, -74, -70, -66, -62, -58, -54, -50, -46, -42,\n",
       "       -38, -34, -30, -26, -22, -18, -14, -10,  -6,  -2,   2,   6,  10,\n",
       "        14,  18,  22,  26,  30,  34,  38,  42,  46,  50,  54,  58,  62,\n",
       "        66,  70,  74,  78,  82,  86,  90,  94,  98, 102, 106])>"
      ]
     },
     "execution_count": 17,
     "metadata": {},
     "output_type": "execute_result"
    }
   ],
   "source": [
    "# make labels for the dataset\n",
    "y = X + 10\n",
    "y"
   ]
  },
  {
   "cell_type": "code",
   "execution_count": 18,
   "metadata": {},
   "outputs": [
    {
     "data": {
      "text/plain": [
       "<matplotlib.collections.PathCollection at 0x28ed3162ca0>"
      ]
     },
     "execution_count": 18,
     "metadata": {},
     "output_type": "execute_result"
    },
    {
     "data": {
      "image/png": "[encoded data removed]",
      "text/plain": [
       "<Figure size 432x288 with 1 Axes>"
      ]
     },
     "metadata": {
      "needs_background": "light"
     },
     "output_type": "display_data"
    }
   ],
   "source": [
    "plt.scatter(X,y)"
   ]
  },
  {
   "cell_type": "markdown",
   "metadata": {},
   "source": [
    "### The 3 sets...\n",
    "* **Training set** - the model learns from this data, which is typically 70-80% of the total data you have available.\n",
    "* **Validation set** - the model is trained on this data, which is typically 10-15% of the data available. \n",
    "* **Test set** - the model gets evaluated on this data to test what has been learned, this set is typically 10-15% of the total data available.\n",
    "\n",
    "-> sounds like the hold out method\n",
    "\n",
    "This method of training is called generalization, Why do this? \n",
    "`We want our model to perform on data it has't seen before.`"
   ]
  },
  {
   "cell_type": "code",
   "execution_count": 19,
   "metadata": {},
   "outputs": [
    {
     "data": {
      "text/plain": [
       "50"
      ]
     },
     "execution_count": 19,
     "metadata": {},
     "output_type": "execute_result"
    }
   ],
   "source": [
    "# how many samples do we have\n",
    "len(X)"
   ]
  },
  {
   "cell_type": "code",
   "execution_count": 20,
   "metadata": {},
   "outputs": [
    {
     "data": {
      "text/plain": [
       "(40, 10, 40, 10)"
      ]
     },
     "execution_count": 20,
     "metadata": {},
     "output_type": "execute_result"
    }
   ],
   "source": [
    "# split the data into train and test sets\n",
    "X_train = X[:int(len(X)*0.8)] # 80% of the data\n",
    "y_train = y[:int(len(y)*0.8)] # 80% of the data\n",
    "\n",
    "X_test = X[int(len(X)*0.8):] # 20% of the data\n",
    "y_test = y[int(len(y)*0.8):] # 20% of the data\n",
    "\n",
    "len(X_train), len(X_test), len(y_train), len(y_test)\n"
   ]
  },
  {
   "cell_type": "markdown",
   "metadata": {},
   "source": [
    "## Visualizing the data \n",
    "Now we've got our data in training and test sets... let's visualize it again!"
   ]
  },
  {
   "cell_type": "code",
   "execution_count": 21,
   "metadata": {},
   "outputs": [
    {
     "data": {
      "text/plain": [
       "<matplotlib.legend.Legend at 0x28ed1ed55e0>"
      ]
     },
     "execution_count": 21,
     "metadata": {},
     "output_type": "execute_result"
    },
    {
     "data": {
      "image/png": "[encoded data removed]",
      "text/plain": [
       "<Figure size 720x504 with 1 Axes>"
      ]
     },
     "metadata": {
      "needs_background": "light"
     },
     "output_type": "display_data"
    }
   ],
   "source": [
    "plt.figure(figsize=(10,7))\n",
    "\n",
    "# plot the training data\n",
    "plt.scatter(X_train, y_train, color=\"blue\", label=\"Train Dataset\") # our model will learn on this\n",
    "\n",
    "# plot the test data\n",
    "plt.scatter(X_test, y_test, color=\"orange\", label=\"Test Dataset\") # our model will improve on this data \n",
    "\n",
    "# show the legend\n",
    "plt.legend()"
   ]
  },
  {
   "cell_type": "code",
   "execution_count": 22,
   "metadata": {},
   "outputs": [],
   "source": [
    "# Let's have a look on building neural network for our data\n",
    "# 1. create the model using the sequential API\n",
    "model = tf.keras.Sequential()\n",
    "model.add(tf.keras.layers.Dense(1))\n",
    "#model.add(tf.keras.layers.Dense(100, activation='relu'))\n",
    "\n",
    "# 2. compile the model\n",
    "model.compile(\n",
    "    loss = tf.keras.losses.mae, # mean absolute error predicted vs observed\n",
    "    optimizer = tf.keras.optimizers.SGD(), # stochastic gradient descent (lr=1e-3)\n",
    "    metrics=['mae'] # mean absolute error\n",
    ")\n",
    "\n",
    "# 3. fit the model (Important note we are fitting on the training data only)\n",
    "#model.fit(X_train, Y_train, epochs=100)"
   ]
  },
  {
   "cell_type": "markdown",
   "metadata": {},
   "source": [
    "## Visualizing the model\n",
    "In the error given below we must pre-define an input shape for the array so it can be built for module summary\n",
    "This also can be done if we git the data with data for the model to train."
   ]
  },
  {
   "cell_type": "code",
   "execution_count": 23,
   "metadata": {},
   "outputs": [],
   "source": [
    "#model.build(input_shape=(1,1))\n",
    "#model.summary()"
   ]
  },
  {
   "cell_type": "code",
   "execution_count": 24,
   "metadata": {},
   "outputs": [
    {
     "name": "stdout",
     "output_type": "stream",
     "text": [
      "Model: \"model_3_sets\"\n",
      "_________________________________________________________________\n",
      " Layer (type)                Output Shape              Param #   \n",
      "=================================================================\n",
      " input_layer (Dense)         (None, 10)                20        \n",
      "                                                                 \n",
      " output_layer (Dense)        (None, 1)                 11        \n",
      "                                                                 \n",
      "=================================================================\n",
      "Total params: 31\n",
      "Trainable params: 31\n",
      "Non-trainable params: 0\n",
      "_________________________________________________________________\n"
     ]
    }
   ],
   "source": [
    "# Let's have a look on building neural network for our data\n",
    "# 1. create the model using the sequential API\n",
    "model = tf.keras.Sequential(name = \"model_3_sets\") # note the model names and layer names must meet regex to have underscores no spaces\n",
    "model.add(tf.keras.layers.Dense(10, input_shape=(1,), name=\"input_layer\"))\n",
    "model.add(tf.keras.layers.Dense(1, name=\"output_layer\"))\n",
    "#model.add(tf.keras.layers.Dense(100, activation='relu'))\n",
    "\n",
    "# 2. compile the model\n",
    "model.compile(\n",
    "    loss = tf.keras.losses.mae, # mean absolute error predicted vs observed\n",
    "    optimizer = tf.keras.optimizers.SGD(), # stochastic gradient descent (lr=1e-3)\n",
    "    metrics=['mae'] # mean absolute error\n",
    ")\n",
    "\n",
    "#model.build()\n",
    "model.summary()\n",
    "\n",
    "# 3. fit the model (Important note we are fitting on the training data only)\n",
    "#model.fit(X_train, Y_train, epochs=100)"
   ]
  },
  {
   "cell_type": "markdown",
   "metadata": {},
   "source": [
    "* Total params - total number of parameters in the model.\n",
    "* Trainable parameters - these are the parameters (patterns) the model can update as it trains.\n",
    "* Non-trainable params - these parameters aren't updated during training (this is typical when you bring in already learned patterns or parameters from other models during **transfer learning**)."
   ]
  },
  {
   "cell_type": "code",
   "execution_count": 25,
   "metadata": {},
   "outputs": [
    {
     "data": {
      "text/plain": [
       "<keras.callbacks.History at 0x28ed1f302e0>"
      ]
     },
     "execution_count": 25,
     "metadata": {},
     "output_type": "execute_result"
    }
   ],
   "source": [
    "# Let's fit our model to the training data\n",
    "\n",
    "# 3. fit the model (Important note we are fitting on the training data only)\n",
    "model.fit(X_train, y_train, epochs=100, verbose=0)"
   ]
  },
  {
   "cell_type": "code",
   "execution_count": 26,
   "metadata": {},
   "outputs": [
    {
     "name": "stdout",
     "output_type": "stream",
     "text": [
      "Model: \"model_3_sets\"\n",
      "_________________________________________________________________\n",
      " Layer (type)                Output Shape              Param #   \n",
      "=================================================================\n",
      " input_layer (Dense)         (None, 10)                20        \n",
      "                                                                 \n",
      " output_layer (Dense)        (None, 1)                 11        \n",
      "                                                                 \n",
      "=================================================================\n",
      "Total params: 31\n",
      "Trainable params: 31\n",
      "Non-trainable params: 0\n",
      "_________________________________________________________________\n"
     ]
    }
   ],
   "source": [
    "# get the summary of our model\n",
    "model.summary()"
   ]
  },
  {
   "cell_type": "code",
   "execution_count": 27,
   "metadata": {},
   "outputs": [
    {
     "data": {
      "image/png": "[encoded data removed]",
      "text/plain": [
       "<IPython.core.display.Image object>"
      ]
     },
     "execution_count": 27,
     "metadata": {},
     "output_type": "execute_result"
    }
   ],
   "source": [
    "from tensorflow.keras.utils import plot_model\n",
    "plot_model(model,show_shapes=True, show_layer_names=True, show_dtype=True)#, to_file='model.png')"
   ]
  },
  {
   "cell_type": "markdown",
   "metadata": {},
   "source": [
    "## Visualizing our model's predictions\n",
    "To visualize predictions, its a good idea to plot them against the ground truth labels.\n",
    "\n",
    "Often you'll see this in the form of `y_test` or `y_true` versus `y_pred` (ground truth versus your model's predictions)"
   ]
  },
  {
   "cell_type": "code",
   "execution_count": 28,
   "metadata": {},
   "outputs": [
    {
     "data": {
      "text/plain": [
       "array([[ 90.92919 ],\n",
       "       [ 96.86788 ],\n",
       "       [102.806564],\n",
       "       [108.745255],\n",
       "       [114.683945],\n",
       "       [120.62263 ],\n",
       "       [126.56132 ],\n",
       "       [132.5     ],\n",
       "       [138.43869 ],\n",
       "       [144.37738 ]], dtype=float32)"
      ]
     },
     "execution_count": 28,
     "metadata": {},
     "output_type": "execute_result"
    }
   ],
   "source": [
    "# make some predictions\n",
    "y_pred = model.predict(X_test)\n",
    "y_pred"
   ]
  },
  {
   "cell_type": "code",
   "execution_count": 29,
   "metadata": {},
   "outputs": [
    {
     "data": {
      "text/plain": [
       "<tf.Tensor: shape=(10,), dtype=int32, numpy=array([ 70,  74,  78,  82,  86,  90,  94,  98, 102, 106])>"
      ]
     },
     "execution_count": 29,
     "metadata": {},
     "output_type": "execute_result"
    }
   ],
   "source": [
    "y_test # if the y_pred is not the same as the y_test then the model is not working"
   ]
  },
  {
   "cell_type": "markdown",
   "metadata": {},
   "source": [
    "**Note:** If you feel like you're going to reuse some kind of functionality in the future, it's a good idea to turn it into function"
   ]
  },
  {
   "cell_type": "code",
   "execution_count": 30,
   "metadata": {},
   "outputs": [
    {
     "data": {
      "image/png": "[encoded data removed]",
      "text/plain": [
       "<Figure size 720x504 with 1 Axes>"
      ]
     },
     "metadata": {
      "needs_background": "light"
     },
     "output_type": "display_data"
    }
   ],
   "source": [
    "def plot_predictions(\n",
    "    train_data=X_train, \n",
    "    train_labels=y_train, \n",
    "    test_data=X_test, \n",
    "    test_labels=y_test, \n",
    "    predictions=y_pred):\n",
    "  \"\"\"\n",
    "  Plots training data, test data and compares predictions.\n",
    "  \"\"\"\n",
    "  plt.figure(figsize=(10, 7))\n",
    "  # Plot training data in blue\n",
    "  plt.scatter(train_data, train_labels, c=\"b\", label=\"Training data\")\n",
    "  # Plot test data in green\n",
    "  plt.scatter(test_data, test_labels, c=\"g\", label=\"Testing data\")\n",
    "  # Plot the predictions in red (predictions were made on the test data)\n",
    "  plt.scatter(test_data, predictions, c=\"r\", label=\"Predictions\")\n",
    "  # Show the legend\n",
    "  plt.legend()\n",
    "\n",
    "plot_predictions(train_data=X_train,\n",
    "                 train_labels=y_train,\n",
    "                 test_data=X_test,\n",
    "                 test_labels=y_test,\n",
    "                 predictions=y_pred)"
   ]
  },
  {
   "cell_type": "markdown",
   "metadata": {},
   "source": [
    "### Evaluating our model's predictions with regression evaluation metrics\n",
    "Depending on the problem you're working on, there will be different evaluation metrics to evaluate your model's performance.\n",
    "\n",
    "Since we're working on a regression, two of the main metrics:\n",
    "* MAE - Mean absolute error, \"on average, how wrong is each of my model's predictions\"\n",
    "* MSE - mean square error, \"square the average errors\""
   ]
  },
  {
   "cell_type": "code",
   "execution_count": 31,
   "metadata": {},
   "outputs": [
    {
     "name": "stdout",
     "output_type": "stream",
     "text": [
      "1/1 [==============================] - 0s 121ms/step - loss: 29.6533 - mae: 29.6533\n"
     ]
    },
    {
     "data": {
      "text/plain": [
       "[29.653284072875977, 29.653284072875977]"
      ]
     },
     "execution_count": 31,
     "metadata": {},
     "output_type": "execute_result"
    }
   ],
   "source": [
    "# Evaluate the model on test data\n",
    "model.evaluate(X_test, y_test)"
   ]
  },
  {
   "cell_type": "code",
   "execution_count": 36,
   "metadata": {},
   "outputs": [
    {
     "data": {
      "text/plain": [
       "<tf.Tensor: shape=(), dtype=float32, numpy=29.653284>"
      ]
     },
     "execution_count": 36,
     "metadata": {},
     "output_type": "execute_result"
    }
   ],
   "source": [
    "# we need to squeeze the data to make it a 1D array\n",
    "# this is because if we ever do any math functions on matrices they need to the same size\n",
    "y_pred = tf.squeeze(y_pred)\n",
    "\n",
    "# Calculate the mean absolute error with TF\n",
    "tf.metrics.mean_absolute_error(y_test, y_pred)\n"
   ]
  },
  {
   "cell_type": "code",
   "execution_count": 37,
   "metadata": {},
   "outputs": [
    {
     "data": {
      "text/plain": [
       "<tf.Tensor: shape=(10,), dtype=float32, numpy=\n",
       "array([ 90.92919 ,  96.86788 , 102.806564, 108.745255, 114.683945,\n",
       "       120.62263 , 126.56132 , 132.5     , 138.43869 , 144.37738 ],\n",
       "      dtype=float32)>"
      ]
     },
     "execution_count": 37,
     "metadata": {},
     "output_type": "execute_result"
    }
   ],
   "source": [
    "y_pred"
   ]
  },
  {
   "cell_type": "code",
   "execution_count": 33,
   "metadata": {},
   "outputs": [
    {
     "data": {
      "text/plain": [
       "<tf.Tensor: shape=(10,), dtype=int32, numpy=array([ 70,  74,  78,  82,  86,  90,  94,  98, 102, 106])>"
      ]
     },
     "execution_count": 33,
     "metadata": {},
     "output_type": "execute_result"
    }
   ],
   "source": [
    "y_test"
   ]
  },
  {
   "cell_type": "code",
   "execution_count": 38,
   "metadata": {},
   "outputs": [
    {
     "data": {
      "text/plain": [
       "<tf.Tensor: shape=(), dtype=float32, numpy=910.325>"
      ]
     },
     "execution_count": 38,
     "metadata": {},
     "output_type": "execute_result"
    }
   ],
   "source": [
    "# Calculate the mean square error\n",
    "tf.metrics.mean_squared_error(y_test, y_pred)"
   ]
  },
  {
   "cell_type": "code",
   "execution_count": 41,
   "metadata": {},
   "outputs": [
    {
     "data": {
      "text/plain": [
       "<tf.Tensor: shape=(), dtype=float32, numpy=29.153284>"
      ]
     },
     "execution_count": 41,
     "metadata": {},
     "output_type": "execute_result"
    }
   ],
   "source": [
    "# Calculate the Huber loss\n",
    "tf.keras.losses.huber(y_test, y_pred)"
   ]
  },
  {
   "cell_type": "markdown",
   "metadata": {},
   "source": [
    "### Running experments to improve our model\n",
    "```\n",
    "Building a model -> fit it -> evaluate it -> tweak it\n",
    "\n",
    "fit it -> evaluate it -> tweak it -> REPEAT\n",
    "\n",
    "```\n",
    "\n",
    "Machine learning practitioner is Experiment, Experiment, Experiment!\n",
    "\n",
    "1. Get more data\n",
    "2. Make the model larger (complex model)\n",
    "3. Train for longer\n",
    "\n",
    "Let's do 3 modelling experiments:\n",
    "1. `model_1` same as the original model, 1 layer, trained for 100 epochs\n",
    "2. `model_2` 2 layers, trained for 100 epochs,\n",
    "3. `model_3` 2 layers, trained for 500 epochs.\n",
    "\n",
    "**Build `model_1`**"
   ]
  },
  {
   "cell_type": "code",
   "execution_count": 42,
   "metadata": {},
   "outputs": [
    {
     "name": "stdout",
     "output_type": "stream",
     "text": [
      "Epoch 1/100\n",
      "2/2 [==============================] - 0s 2ms/step - loss: 15.9024 - mae: 15.9024\n",
      "Epoch 2/100\n",
      "2/2 [==============================] - 0s 2ms/step - loss: 11.2837 - mae: 11.2837\n",
      "Epoch 3/100\n",
      "2/2 [==============================] - 0s 2ms/step - loss: 11.1075 - mae: 11.1075\n",
      "Epoch 4/100\n",
      "2/2 [==============================] - 0s 2ms/step - loss: 9.2990 - mae: 9.2990\n",
      "Epoch 5/100\n",
      "2/2 [==============================] - 0s 1ms/step - loss: 10.1677 - mae: 10.1677\n",
      "Epoch 6/100\n",
      "2/2 [==============================] - 0s 1ms/step - loss: 9.4303 - mae: 9.4303\n",
      "Epoch 7/100\n",
      "2/2 [==============================] - 0s 2ms/step - loss: 8.5704 - mae: 8.5704\n",
      "Epoch 8/100\n",
      "2/2 [==============================] - 0s 3ms/step - loss: 9.0442 - mae: 9.0442\n",
      "Epoch 9/100\n",
      "2/2 [==============================] - 0s 2ms/step - loss: 18.7517 - mae: 18.7517\n",
      "Epoch 10/100\n",
      "2/2 [==============================] - 0s 2ms/step - loss: 10.1142 - mae: 10.1142\n",
      "Epoch 11/100\n",
      "2/2 [==============================] - 0s 3ms/step - loss: 8.3980 - mae: 8.3980\n",
      "Epoch 12/100\n",
      "2/2 [==============================] - 0s 2ms/step - loss: 10.6639 - mae: 10.6639\n",
      "Epoch 13/100\n",
      "2/2 [==============================] - 0s 2ms/step - loss: 9.7977 - mae: 9.7977\n",
      "Epoch 14/100\n",
      "2/2 [==============================] - 0s 2ms/step - loss: 16.0103 - mae: 16.0103\n",
      "Epoch 15/100\n",
      "2/2 [==============================] - 0s 1ms/step - loss: 11.4068 - mae: 11.4068\n",
      "Epoch 16/100\n",
      "2/2 [==============================] - 0s 1ms/step - loss: 8.5393 - mae: 8.5393\n",
      "Epoch 17/100\n",
      "2/2 [==============================] - 0s 2ms/step - loss: 13.6348 - mae: 13.6348\n",
      "Epoch 18/100\n",
      "2/2 [==============================] - 0s 2ms/step - loss: 11.4629 - mae: 11.4629\n",
      "Epoch 19/100\n",
      "2/2 [==============================] - 0s 1ms/step - loss: 17.9148 - mae: 17.9148\n",
      "Epoch 20/100\n",
      "2/2 [==============================] - 0s 999us/step - loss: 15.0494 - mae: 15.0494\n",
      "Epoch 21/100\n",
      "2/2 [==============================] - 0s 1ms/step - loss: 11.0216 - mae: 11.0216\n",
      "Epoch 22/100\n",
      "2/2 [==============================] - 0s 3ms/step - loss: 8.1558 - mae: 8.1558\n",
      "Epoch 23/100\n",
      "2/2 [==============================] - 0s 1ms/step - loss: 9.5138 - mae: 9.5138\n",
      "Epoch 24/100\n",
      "2/2 [==============================] - 0s 2ms/step - loss: 7.6617 - mae: 7.6617\n",
      "Epoch 25/100\n",
      "2/2 [==============================] - 0s 3ms/step - loss: 13.1859 - mae: 13.1859\n",
      "Epoch 26/100\n",
      "2/2 [==============================] - 0s 3ms/step - loss: 16.4211 - mae: 16.4211\n",
      "Epoch 27/100\n",
      "2/2 [==============================] - 0s 3ms/step - loss: 13.1660 - mae: 13.1660\n",
      "Epoch 28/100\n",
      "2/2 [==============================] - 0s 3ms/step - loss: 14.2559 - mae: 14.2559\n",
      "Epoch 29/100\n",
      "2/2 [==============================] - 0s 2ms/step - loss: 10.0670 - mae: 10.0670\n",
      "Epoch 30/100\n",
      "2/2 [==============================] - 0s 2ms/step - loss: 16.3409 - mae: 16.3409\n",
      "Epoch 31/100\n",
      "2/2 [==============================] - 0s 2ms/step - loss: 23.6444 - mae: 23.6444\n",
      "Epoch 32/100\n",
      "2/2 [==============================] - 0s 2ms/step - loss: 7.6215 - mae: 7.6215\n",
      "Epoch 33/100\n",
      "2/2 [==============================] - 0s 2ms/step - loss: 9.3221 - mae: 9.3221\n",
      "Epoch 34/100\n",
      "2/2 [==============================] - 0s 2ms/step - loss: 13.7313 - mae: 13.7313\n",
      "Epoch 35/100\n",
      "2/2 [==============================] - 0s 2ms/step - loss: 11.1276 - mae: 11.1276\n",
      "Epoch 36/100\n",
      "2/2 [==============================] - 0s 2ms/step - loss: 13.3222 - mae: 13.3222\n",
      "Epoch 37/100\n",
      "2/2 [==============================] - 0s 2ms/step - loss: 9.4763 - mae: 9.4763\n",
      "Epoch 38/100\n",
      "2/2 [==============================] - 0s 1000us/step - loss: 10.1381 - mae: 10.1381\n",
      "Epoch 39/100\n",
      "2/2 [==============================] - 0s 1ms/step - loss: 10.1793 - mae: 10.1793\n",
      "Epoch 40/100\n",
      "2/2 [==============================] - 0s 2ms/step - loss: 10.9137 - mae: 10.9137\n",
      "Epoch 41/100\n",
      "2/2 [==============================] - 0s 999us/step - loss: 7.9063 - mae: 7.9063\n",
      "Epoch 42/100\n",
      "2/2 [==============================] - 0s 2ms/step - loss: 10.0914 - mae: 10.0914\n",
      "Epoch 43/100\n",
      "2/2 [==============================] - 0s 2ms/step - loss: 8.7006 - mae: 8.7006\n",
      "Epoch 44/100\n",
      "2/2 [==============================] - 0s 2ms/step - loss: 12.2046 - mae: 12.2046\n",
      "Epoch 45/100\n",
      "2/2 [==============================] - 0s 2ms/step - loss: 13.7970 - mae: 13.7970\n",
      "Epoch 46/100\n",
      "2/2 [==============================] - 0s 2ms/step - loss: 8.4687 - mae: 8.4687\n",
      "Epoch 47/100\n",
      "2/2 [==============================] - 0s 2ms/step - loss: 9.1330 - mae: 9.1330\n",
      "Epoch 48/100\n",
      "2/2 [==============================] - 0s 2ms/step - loss: 10.6190 - mae: 10.6190\n",
      "Epoch 49/100\n",
      "2/2 [==============================] - 0s 2ms/step - loss: 7.7503 - mae: 7.7503\n",
      "Epoch 50/100\n",
      "2/2 [==============================] - 0s 2ms/step - loss: 9.5407 - mae: 9.5407\n",
      "Epoch 51/100\n",
      "2/2 [==============================] - 0s 2ms/step - loss: 9.1584 - mae: 9.1584\n",
      "Epoch 52/100\n",
      "2/2 [==============================] - 0s 2ms/step - loss: 16.3630 - mae: 16.3630\n",
      "Epoch 53/100\n",
      "2/2 [==============================] - 0s 2ms/step - loss: 14.1299 - mae: 14.1299\n",
      "Epoch 54/100\n",
      "2/2 [==============================] - 0s 2ms/step - loss: 21.1247 - mae: 21.1247\n",
      "Epoch 55/100\n",
      "2/2 [==============================] - 0s 2ms/step - loss: 16.3961 - mae: 16.3961\n",
      "Epoch 56/100\n",
      "2/2 [==============================] - 0s 2ms/step - loss: 9.9806 - mae: 9.9806\n",
      "Epoch 57/100\n",
      "2/2 [==============================] - 0s 2ms/step - loss: 9.9606 - mae: 9.9606\n",
      "Epoch 58/100\n",
      "2/2 [==============================] - 0s 1ms/step - loss: 9.2209 - mae: 9.2209\n",
      "Epoch 59/100\n",
      "2/2 [==============================] - 0s 2ms/step - loss: 8.4239 - mae: 8.4239\n",
      "Epoch 60/100\n",
      "2/2 [==============================] - 0s 3ms/step - loss: 9.4869 - mae: 9.4869\n",
      "Epoch 61/100\n",
      "2/2 [==============================] - 0s 4ms/step - loss: 11.4354 - mae: 11.4354\n",
      "Epoch 62/100\n",
      "2/2 [==============================] - 0s 3ms/step - loss: 11.6887 - mae: 11.6887\n",
      "Epoch 63/100\n",
      "2/2 [==============================] - 0s 1000us/step - loss: 7.0838 - mae: 7.0838\n",
      "Epoch 64/100\n",
      "2/2 [==============================] - 0s 2ms/step - loss: 16.9675 - mae: 16.9675\n",
      "Epoch 65/100\n",
      "2/2 [==============================] - 0s 2ms/step - loss: 12.4599 - mae: 12.4599\n",
      "Epoch 66/100\n",
      "2/2 [==============================] - 0s 999us/step - loss: 13.0184 - mae: 13.0184\n",
      "Epoch 67/100\n",
      "2/2 [==============================] - 0s 2ms/step - loss: 8.0600 - mae: 8.0600\n",
      "Epoch 68/100\n",
      "2/2 [==============================] - 0s 2ms/step - loss: 10.1888 - mae: 10.1888\n",
      "Epoch 69/100\n",
      "2/2 [==============================] - 0s 2ms/step - loss: 12.3633 - mae: 12.3633\n",
      "Epoch 70/100\n",
      "2/2 [==============================] - 0s 1ms/step - loss: 9.0516 - mae: 9.0516\n",
      "Epoch 71/100\n",
      "2/2 [==============================] - 0s 2ms/step - loss: 10.0378 - mae: 10.0378\n",
      "Epoch 72/100\n",
      "2/2 [==============================] - 0s 2ms/step - loss: 10.0516 - mae: 10.0516\n",
      "Epoch 73/100\n",
      "2/2 [==============================] - 0s 2ms/step - loss: 12.6151 - mae: 12.6151\n",
      "Epoch 74/100\n",
      "2/2 [==============================] - 0s 2ms/step - loss: 10.3819 - mae: 10.3819\n",
      "Epoch 75/100\n",
      "2/2 [==============================] - 0s 2ms/step - loss: 9.7229 - mae: 9.7229\n",
      "Epoch 76/100\n",
      "2/2 [==============================] - 0s 2ms/step - loss: 11.2252 - mae: 11.2252\n",
      "Epoch 77/100\n",
      "2/2 [==============================] - 0s 2ms/step - loss: 8.3642 - mae: 8.3642\n",
      "Epoch 78/100\n",
      "2/2 [==============================] - 0s 2ms/step - loss: 9.1274 - mae: 9.1274\n",
      "Epoch 79/100\n",
      "2/2 [==============================] - 0s 2ms/step - loss: 19.5039 - mae: 19.5039\n",
      "Epoch 80/100\n",
      "2/2 [==============================] - 0s 2ms/step - loss: 14.8945 - mae: 14.8945\n",
      "Epoch 81/100\n",
      "2/2 [==============================] - 0s 2ms/step - loss: 9.0034 - mae: 9.0034\n",
      "Epoch 82/100\n",
      "2/2 [==============================] - 0s 2ms/step - loss: 13.0206 - mae: 13.0206\n",
      "Epoch 83/100\n",
      "2/2 [==============================] - 0s 2ms/step - loss: 7.9299 - mae: 7.9299\n",
      "Epoch 84/100\n",
      "2/2 [==============================] - 0s 2ms/step - loss: 7.6872 - mae: 7.6872\n",
      "Epoch 85/100\n",
      "2/2 [==============================] - 0s 2ms/step - loss: 10.0328 - mae: 10.0328\n",
      "Epoch 86/100\n",
      "2/2 [==============================] - 0s 3ms/step - loss: 9.2433 - mae: 9.2433\n",
      "Epoch 87/100\n",
      "2/2 [==============================] - 0s 1ms/step - loss: 12.0209 - mae: 12.0209\n",
      "Epoch 88/100\n",
      "2/2 [==============================] - 0s 1ms/step - loss: 10.6389 - mae: 10.6389\n",
      "Epoch 89/100\n",
      "2/2 [==============================] - 0s 2ms/step - loss: 7.2667 - mae: 7.2667\n",
      "Epoch 90/100\n",
      "2/2 [==============================] - 0s 2ms/step - loss: 12.7786 - mae: 12.7786\n",
      "Epoch 91/100\n",
      "2/2 [==============================] - 0s 2ms/step - loss: 7.3481 - mae: 7.3481\n",
      "Epoch 92/100\n",
      "2/2 [==============================] - 0s 2ms/step - loss: 7.7175 - mae: 7.7175\n",
      "Epoch 93/100\n",
      "2/2 [==============================] - 0s 1ms/step - loss: 7.1263 - mae: 7.1263\n",
      "Epoch 94/100\n",
      "2/2 [==============================] - 0s 2ms/step - loss: 12.6190 - mae: 12.6190\n",
      "Epoch 95/100\n",
      "2/2 [==============================] - 0s 3ms/step - loss: 10.0912 - mae: 10.0912\n",
      "Epoch 96/100\n",
      "2/2 [==============================] - 0s 2ms/step - loss: 9.3558 - mae: 9.3558\n",
      "Epoch 97/100\n",
      "2/2 [==============================] - 0s 2ms/step - loss: 12.6834 - mae: 12.6834\n",
      "Epoch 98/100\n",
      "2/2 [==============================] - 0s 2ms/step - loss: 8.6762 - mae: 8.6762\n",
      "Epoch 99/100\n",
      "2/2 [==============================] - 0s 2ms/step - loss: 9.4693 - mae: 9.4693\n",
      "Epoch 100/100\n",
      "2/2 [==============================] - 0s 3ms/step - loss: 8.7067 - mae: 8.7067\n"
     ]
    },
    {
     "data": {
      "text/plain": [
       "<keras.callbacks.History at 0x28ed4312cd0>"
      ]
     },
     "execution_count": 42,
     "metadata": {},
     "output_type": "execute_result"
    }
   ],
   "source": [
    "# set the random seed\n",
    "tf.random.set_seed(42)\n",
    "\n",
    "# 1. create the model using the sequential API\n",
    "model_1 = tf.keras.Sequential(name = \"model_1\") # note the model names and layer names must meet regex to have underscores no spaces\n",
    "model_1.add(tf.keras.layers.Dense(1, input_shape=(1,), name=\"input_layer\"))\n",
    "\n",
    "# 2. compile the model\n",
    "model_1.compile(\n",
    "    loss = tf.keras.losses.mae, # mean absolute error predicted vs observed\n",
    "    optimizer = tf.keras.optimizers.SGD(), # stochastic gradient descent (lr=1e-3)\n",
    "    metrics=['mae'] # mean absolute error\n",
    ")\n",
    "\n",
    "# 3. fit the model (Important note we are fitting on the training data only)\n",
    "model_1.fit(X_train, y_train, epochs=100, verbose=1)"
   ]
  },
  {
   "cell_type": "code",
   "execution_count": 45,
   "metadata": {},
   "outputs": [
    {
     "data": {
      "image/png": "[encoded data removed]",
      "text/plain": [
       "<Figure size 720x504 with 1 Axes>"
      ]
     },
     "metadata": {
      "needs_background": "light"
     },
     "output_type": "display_data"
    }
   ],
   "source": [
    "# make and plot predictions for this model\n",
    "y_preds_1 = model_1.predict(X_test)\n",
    "\n",
    "plot_predictions(\n",
    "    train_data=X_train,\n",
    "    train_labels=y_train,\n",
    "    test_data=X_test,\n",
    "    test_labels=y_test,\n",
    "    predictions=y_preds_1\n",
    ")"
   ]
  },
  {
   "cell_type": "code",
   "execution_count": 48,
   "metadata": {},
   "outputs": [
    {
     "data": {
      "text/plain": [
       "(<tf.Tensor: shape=(), dtype=float32, numpy=18.745327>,\n",
       " <tf.Tensor: shape=(), dtype=float32, numpy=353.57336>)"
      ]
     },
     "execution_count": 48,
     "metadata": {},
     "output_type": "execute_result"
    }
   ],
   "source": [
    "# Calculate model_1 evaluation metrics\n",
    "mae_1 = tf.metrics.mean_absolute_error(y_test, tf.squeeze(y_preds_1))\n",
    "mse_1 = tf.metrics.mean_squared_error(y_test, tf.squeeze(y_preds_1))\n",
    "\n",
    "mae_1, mse_1"
   ]
  },
  {
   "cell_type": "markdown",
   "metadata": {},
   "source": [
    "**Build `model_2`**\n",
    "* 2 dense layers, trained for 100 epochs"
   ]
  },
  {
   "cell_type": "code",
   "execution_count": 62,
   "metadata": {},
   "outputs": [
    {
     "name": "stdout",
     "output_type": "stream",
     "text": [
      "Epoch 1/100\n",
      "2/2 [==============================] - 0s 2ms/step - loss: 36.5400 - mae: 36.5400\n",
      "Epoch 2/100\n",
      "2/2 [==============================] - 0s 2ms/step - loss: 26.3247 - mae: 26.3247\n",
      "Epoch 3/100\n",
      "2/2 [==============================] - 0s 2ms/step - loss: 31.9683 - mae: 31.9683\n",
      "Epoch 4/100\n",
      "2/2 [==============================] - 0s 2ms/step - loss: 25.2481 - mae: 25.2481\n",
      "Epoch 5/100\n",
      "2/2 [==============================] - 0s 2ms/step - loss: 14.9225 - mae: 14.9225\n",
      "Epoch 6/100\n",
      "2/2 [==============================] - 0s 1ms/step - loss: 11.8662 - mae: 11.8662\n",
      "Epoch 7/100\n",
      "2/2 [==============================] - 0s 1ms/step - loss: 11.1893 - mae: 11.1893\n",
      "Epoch 8/100\n",
      "2/2 [==============================] - 0s 2ms/step - loss: 11.0906 - mae: 11.0906\n",
      "Epoch 9/100\n",
      "2/2 [==============================] - 0s 2ms/step - loss: 40.4960 - mae: 40.4960\n",
      "Epoch 10/100\n",
      "2/2 [==============================] - 0s 2ms/step - loss: 27.8870 - mae: 27.8870\n",
      "Epoch 11/100\n",
      "2/2 [==============================] - 0s 2ms/step - loss: 10.2444 - mae: 10.2444\n",
      "Epoch 12/100\n",
      "2/2 [==============================] - 0s 3ms/step - loss: 25.2786 - mae: 25.2786\n",
      "Epoch 13/100\n",
      "2/2 [==============================] - 0s 2ms/step - loss: 17.0000 - mae: 17.0000\n",
      "Epoch 14/100\n",
      "2/2 [==============================] - 0s 1000us/step - loss: 25.9453 - mae: 25.9453\n",
      "Epoch 15/100\n",
      "2/2 [==============================] - 0s 2ms/step - loss: 18.0132 - mae: 18.0132\n",
      "Epoch 16/100\n",
      "2/2 [==============================] - 0s 2ms/step - loss: 7.3489 - mae: 7.3489\n",
      "Epoch 17/100\n",
      "2/2 [==============================] - 0s 999us/step - loss: 10.8571 - mae: 10.8571\n",
      "Epoch 18/100\n",
      "2/2 [==============================] - 0s 999us/step - loss: 19.5199 - mae: 19.5199\n",
      "Epoch 19/100\n",
      "2/2 [==============================] - 0s 2ms/step - loss: 10.3401 - mae: 10.3401\n",
      "Epoch 20/100\n",
      "2/2 [==============================] - 0s 1000us/step - loss: 17.6891 - mae: 17.6891\n",
      "Epoch 21/100\n",
      "2/2 [==============================] - 0s 1ms/step - loss: 15.8874 - mae: 15.8874\n",
      "Epoch 22/100\n",
      "2/2 [==============================] - 0s 2ms/step - loss: 14.1838 - mae: 14.1838\n",
      "Epoch 23/100\n",
      "2/2 [==============================] - 0s 1ms/step - loss: 8.7771 - mae: 8.7771\n",
      "Epoch 24/100\n",
      "2/2 [==============================] - 0s 1ms/step - loss: 11.0631 - mae: 11.0631\n",
      "Epoch 25/100\n",
      "2/2 [==============================] - 0s 1000us/step - loss: 12.6952 - mae: 12.6952\n",
      "Epoch 26/100\n",
      "2/2 [==============================] - 0s 1ms/step - loss: 26.2294 - mae: 26.2294\n",
      "Epoch 27/100\n",
      "2/2 [==============================] - 0s 2ms/step - loss: 11.7493 - mae: 11.7493\n",
      "Epoch 28/100\n",
      "2/2 [==============================] - 0s 1ms/step - loss: 22.9179 - mae: 22.9179\n",
      "Epoch 29/100\n",
      "2/2 [==============================] - 0s 2ms/step - loss: 9.2429 - mae: 9.2429\n",
      "Epoch 30/100\n",
      "2/2 [==============================] - 0s 1000us/step - loss: 29.3069 - mae: 29.3069\n",
      "Epoch 31/100\n",
      "2/2 [==============================] - 0s 1000us/step - loss: 53.1041 - mae: 53.1041\n",
      "Epoch 32/100\n",
      "2/2 [==============================] - 0s 1ms/step - loss: 12.3680 - mae: 12.3680\n",
      "Epoch 33/100\n",
      "2/2 [==============================] - 0s 2ms/step - loss: 12.1813 - mae: 12.1813\n",
      "Epoch 34/100\n",
      "2/2 [==============================] - 0s 2ms/step - loss: 23.9466 - mae: 23.9466\n",
      "Epoch 35/100\n",
      "2/2 [==============================] - 0s 2ms/step - loss: 12.6220 - mae: 12.6220\n",
      "Epoch 36/100\n",
      "2/2 [==============================] - 0s 2ms/step - loss: 21.5230 - mae: 21.5230\n",
      "Epoch 37/100\n",
      "2/2 [==============================] - 0s 2ms/step - loss: 11.3916 - mae: 11.3916\n",
      "Epoch 38/100\n",
      "2/2 [==============================] - 0s 2ms/step - loss: 13.4765 - mae: 13.4765\n",
      "Epoch 39/100\n",
      "2/2 [==============================] - 0s 1000us/step - loss: 10.8002 - mae: 10.8002\n",
      "Epoch 40/100\n",
      "2/2 [==============================] - 0s 2ms/step - loss: 16.6087 - mae: 16.6087\n",
      "Epoch 41/100\n",
      "2/2 [==============================] - 0s 2ms/step - loss: 10.9829 - mae: 10.9829\n",
      "Epoch 42/100\n",
      "2/2 [==============================] - 0s 2ms/step - loss: 9.3081 - mae: 9.3081\n",
      "Epoch 43/100\n",
      "2/2 [==============================] - 0s 2ms/step - loss: 9.5991 - mae: 9.5991\n",
      "Epoch 44/100\n",
      "2/2 [==============================] - 0s 2ms/step - loss: 27.9936 - mae: 27.9936\n",
      "Epoch 45/100\n",
      "2/2 [==============================] - 0s 2ms/step - loss: 11.2910 - mae: 11.2910\n",
      "Epoch 46/100\n",
      "2/2 [==============================] - 0s 2ms/step - loss: 14.0708 - mae: 14.0708\n",
      "Epoch 47/100\n",
      "2/2 [==============================] - 0s 2ms/step - loss: 13.5057 - mae: 13.5057\n",
      "Epoch 48/100\n",
      "2/2 [==============================] - 0s 2ms/step - loss: 17.3443 - mae: 17.3443\n",
      "Epoch 49/100\n",
      "2/2 [==============================] - 0s 2ms/step - loss: 9.5194 - mae: 9.5194\n",
      "Epoch 50/100\n",
      "2/2 [==============================] - 0s 3ms/step - loss: 13.7071 - mae: 13.7071\n",
      "Epoch 51/100\n",
      "2/2 [==============================] - 0s 3ms/step - loss: 11.5640 - mae: 11.5640\n",
      "Epoch 52/100\n",
      "2/2 [==============================] - 0s 2ms/step - loss: 30.2021 - mae: 30.2021\n",
      "Epoch 53/100\n",
      "2/2 [==============================] - 0s 1ms/step - loss: 13.7264 - mae: 13.7264\n",
      "Epoch 54/100\n",
      "2/2 [==============================] - 0s 2ms/step - loss: 26.4262 - mae: 26.4262\n",
      "Epoch 55/100\n",
      "2/2 [==============================] - 0s 2ms/step - loss: 26.0149 - mae: 26.0149\n",
      "Epoch 56/100\n",
      "2/2 [==============================] - 0s 999us/step - loss: 11.2397 - mae: 11.2397\n",
      "Epoch 57/100\n",
      "2/2 [==============================] - 0s 1ms/step - loss: 13.2159 - mae: 13.2159\n",
      "Epoch 58/100\n",
      "2/2 [==============================] - 0s 1ms/step - loss: 9.8703 - mae: 9.8703\n",
      "Epoch 59/100\n",
      "2/2 [==============================] - 0s 2ms/step - loss: 13.4041 - mae: 13.4041\n",
      "Epoch 60/100\n",
      "2/2 [==============================] - 0s 2ms/step - loss: 10.9342 - mae: 10.9342\n",
      "Epoch 61/100\n",
      "2/2 [==============================] - 0s 2ms/step - loss: 13.5534 - mae: 13.5534\n",
      "Epoch 62/100\n",
      "2/2 [==============================] - 0s 2ms/step - loss: 17.6332 - mae: 17.6332\n",
      "Epoch 63/100\n",
      "2/2 [==============================] - 0s 2ms/step - loss: 9.2006 - mae: 9.2006\n",
      "Epoch 64/100\n",
      "2/2 [==============================] - 0s 2ms/step - loss: 18.4985 - mae: 18.4985\n",
      "Epoch 65/100\n",
      "2/2 [==============================] - 0s 2ms/step - loss: 10.1556 - mae: 10.1556\n",
      "Epoch 66/100\n",
      "2/2 [==============================] - 0s 2ms/step - loss: 24.3807 - mae: 24.3807\n",
      "Epoch 67/100\n",
      "2/2 [==============================] - 0s 2ms/step - loss: 10.9399 - mae: 10.9399\n",
      "Epoch 68/100\n",
      "2/2 [==============================] - 0s 2ms/step - loss: 10.8107 - mae: 10.8107\n",
      "Epoch 69/100\n",
      "2/2 [==============================] - 0s 2ms/step - loss: 23.3636 - mae: 23.3636\n",
      "Epoch 70/100\n",
      "2/2 [==============================] - 0s 2ms/step - loss: 8.8041 - mae: 8.8041\n",
      "Epoch 71/100\n",
      "2/2 [==============================] - 0s 2ms/step - loss: 15.9533 - mae: 15.9533\n",
      "Epoch 72/100\n",
      "2/2 [==============================] - 0s 2ms/step - loss: 8.1363 - mae: 8.1363\n",
      "Epoch 73/100\n",
      "2/2 [==============================] - 0s 2ms/step - loss: 9.4650 - mae: 9.4650\n",
      "Epoch 74/100\n",
      "2/2 [==============================] - 0s 2ms/step - loss: 28.1327 - mae: 28.1327\n",
      "Epoch 75/100\n",
      "2/2 [==============================] - 0s 2ms/step - loss: 10.2352 - mae: 10.2352\n",
      "Epoch 76/100\n",
      "2/2 [==============================] - 0s 2ms/step - loss: 13.1891 - mae: 13.1891\n",
      "Epoch 77/100\n",
      "2/2 [==============================] - 0s 2ms/step - loss: 18.4504 - mae: 18.4504\n",
      "Epoch 78/100\n",
      "2/2 [==============================] - 0s 2ms/step - loss: 9.0369 - mae: 9.0369\n",
      "Epoch 79/100\n",
      "2/2 [==============================] - 0s 2ms/step - loss: 23.4957 - mae: 23.4957\n",
      "Epoch 80/100\n",
      "2/2 [==============================] - 0s 2ms/step - loss: 26.1789 - mae: 26.1789\n",
      "Epoch 81/100\n",
      "2/2 [==============================] - 0s 2ms/step - loss: 11.4330 - mae: 11.4330\n",
      "Epoch 82/100\n",
      "2/2 [==============================] - 0s 1ms/step - loss: 12.4825 - mae: 12.4825\n",
      "Epoch 83/100\n",
      "2/2 [==============================] - 0s 3ms/step - loss: 17.1680 - mae: 17.1680\n",
      "Epoch 84/100\n",
      "2/2 [==============================] - 0s 2ms/step - loss: 6.6016 - mae: 6.6016\n",
      "Epoch 85/100\n",
      "2/2 [==============================] - 0s 1ms/step - loss: 20.3344 - mae: 20.3344\n",
      "Epoch 86/100\n",
      "2/2 [==============================] - 0s 2ms/step - loss: 10.1882 - mae: 10.1882\n",
      "Epoch 87/100\n",
      "2/2 [==============================] - 0s 2ms/step - loss: 24.3723 - mae: 24.3723\n",
      "Epoch 88/100\n",
      "2/2 [==============================] - 0s 2ms/step - loss: 19.0354 - mae: 19.0354\n",
      "Epoch 89/100\n",
      "2/2 [==============================] - 0s 2ms/step - loss: 7.1764 - mae: 7.1764\n",
      "Epoch 90/100\n",
      "2/2 [==============================] - 0s 2ms/step - loss: 18.2569 - mae: 18.2569\n",
      "Epoch 91/100\n",
      "2/2 [==============================] - 0s 2ms/step - loss: 13.3078 - mae: 13.3078\n",
      "Epoch 92/100\n",
      "2/2 [==============================] - 0s 2ms/step - loss: 14.8595 - mae: 14.8595\n",
      "Epoch 93/100\n",
      "2/2 [==============================] - 0s 2ms/step - loss: 11.6560 - mae: 11.6560\n",
      "Epoch 94/100\n",
      "2/2 [==============================] - 0s 1ms/step - loss: 16.2112 - mae: 16.2112\n",
      "Epoch 95/100\n",
      "2/2 [==============================] - 0s 2ms/step - loss: 15.5548 - mae: 15.5548\n",
      "Epoch 96/100\n",
      "2/2 [==============================] - 0s 2ms/step - loss: 15.0899 - mae: 15.0899\n",
      "Epoch 97/100\n",
      "2/2 [==============================] - 0s 2ms/step - loss: 10.9214 - mae: 10.9214\n",
      "Epoch 98/100\n",
      "2/2 [==============================] - 0s 2ms/step - loss: 14.3819 - mae: 14.3819\n",
      "Epoch 99/100\n",
      "2/2 [==============================] - 0s 2ms/step - loss: 13.3971 - mae: 13.3971\n",
      "Epoch 100/100\n",
      "2/2 [==============================] - 0s 2ms/step - loss: 20.0253 - mae: 20.0253\n"
     ]
    },
    {
     "data": {
      "text/plain": [
       "<keras.callbacks.History at 0x28ed5c311c0>"
      ]
     },
     "execution_count": 62,
     "metadata": {},
     "output_type": "execute_result"
    }
   ],
   "source": [
    "# 1. create the model using the sequential API\n",
    "model_2 = tf.keras.Sequential(name = \"model_2\") # note the model names and layer names must meet regex to have underscores no spaces\n",
    "model_2.add(tf.keras.layers.Dense(10, input_shape=(1,), name=\"input_layer\"))\n",
    "model_2.add(tf.keras.layers.Dense(1, name=\"output_layer\"))\n",
    "\n",
    "# 2. compile the model\n",
    "model_2.compile(\n",
    "    loss = tf.keras.losses.mae, # mean absolute error predicted vs observed\n",
    "    optimizer = tf.keras.optimizers.SGD(), # stochastic gradient descent (lr=1e-3)\n",
    "    metrics=['mae'] # mean absolute error\n",
    ")\n",
    "\n",
    "# 3. fit the model (Important note we are fitting on the training data only)\n",
    "model_2.fit(X_train, y_train, epochs=100, verbose=1)"
   ]
  },
  {
   "cell_type": "code",
   "execution_count": 65,
   "metadata": {},
   "outputs": [
    {
     "data": {
      "image/png": "[encoded data removed]",
      "text/plain": [
       "<Figure size 720x504 with 1 Axes>"
      ]
     },
     "metadata": {
      "needs_background": "light"
     },
     "output_type": "display_data"
    }
   ],
   "source": [
    "# make and plot predictions for this model\n",
    "y_preds_2 = model_2.predict(X_test)\n",
    "\n",
    "plot_predictions(\n",
    "    train_data=X_train,\n",
    "    train_labels=y_train,\n",
    "    test_data=X_test,\n",
    "    test_labels=y_test,\n",
    "    predictions=y_preds_2\n",
    ")"
   ]
  },
  {
   "cell_type": "code",
   "execution_count": 64,
   "metadata": {},
   "outputs": [
    {
     "data": {
      "text/plain": [
       "(<tf.Tensor: shape=(), dtype=float32, numpy=29.464222>,\n",
       " <tf.Tensor: shape=(), dtype=float32, numpy=898.88855>)"
      ]
     },
     "execution_count": 64,
     "metadata": {},
     "output_type": "execute_result"
    }
   ],
   "source": [
    "# Calculate model_2 evaluation metrics\n",
    "mae_2 = tf.metrics.mean_absolute_error(y_test, tf.squeeze(y_preds_2))\n",
    "mse_2 = tf.metrics.mean_squared_error(y_test, tf.squeeze(y_preds_2))\n",
    "\n",
    "mae_2, mse_2"
   ]
  },
  {
   "cell_type": "markdown",
   "metadata": {},
   "source": [
    "**Build `model_3`**\n",
    "* 2 dense layers, for 500 epochs"
   ]
  },
  {
   "cell_type": "code",
   "execution_count": 90,
   "metadata": {},
   "outputs": [
    {
     "name": "stdout",
     "output_type": "stream",
     "text": [
      "Epoch 1/500\n",
      "2/2 [==============================] - 0s 3ms/step - loss: 10.8949 - mae: 10.8949\n",
      "Epoch 2/500\n",
      "2/2 [==============================] - 0s 2ms/step - loss: 7.6240 - mae: 7.6240\n",
      "Epoch 3/500\n",
      "2/2 [==============================] - 0s 2ms/step - loss: 7.7842 - mae: 7.7842\n",
      "Epoch 4/500\n",
      "2/2 [==============================] - 0s 2ms/step - loss: 8.3468 - mae: 8.3468\n",
      "Epoch 5/500\n",
      "2/2 [==============================] - 0s 3ms/step - loss: 7.8106 - mae: 7.8106\n",
      "Epoch 6/500\n",
      "2/2 [==============================] - 0s 3ms/step - loss: 7.9250 - mae: 7.9250\n",
      "Epoch 7/500\n",
      "2/2 [==============================] - 0s 3ms/step - loss: 8.1078 - mae: 8.1078\n",
      "Epoch 8/500\n",
      "2/2 [==============================] - 0s 3ms/step - loss: 7.8308 - mae: 7.8308\n",
      "Epoch 9/500\n",
      "2/2 [==============================] - 0s 2ms/step - loss: 9.0598 - mae: 9.0598\n",
      "Epoch 10/500\n",
      "2/2 [==============================] - 0s 2ms/step - loss: 8.8998 - mae: 8.8998\n",
      "Epoch 11/500\n",
      "2/2 [==============================] - 0s 2ms/step - loss: 8.2435 - mae: 8.2435\n",
      "Epoch 12/500\n",
      "2/2 [==============================] - 0s 2ms/step - loss: 7.9195 - mae: 7.9195\n",
      "Epoch 13/500\n",
      "2/2 [==============================] - 0s 2ms/step - loss: 7.9535 - mae: 7.9535\n",
      "Epoch 14/500\n",
      "2/2 [==============================] - 0s 3ms/step - loss: 8.3923 - mae: 8.3923\n",
      "Epoch 15/500\n",
      "2/2 [==============================] - 0s 1000us/step - loss: 7.5923 - mae: 7.5923\n",
      "Epoch 16/500\n",
      "2/2 [==============================] - 0s 2ms/step - loss: 7.5942 - mae: 7.5942\n",
      "Epoch 17/500\n",
      "2/2 [==============================] - 0s 3ms/step - loss: 7.7204 - mae: 7.7204\n",
      "Epoch 18/500\n",
      "2/2 [==============================] - 0s 2ms/step - loss: 8.6154 - mae: 8.6154\n",
      "Epoch 19/500\n",
      "2/2 [==============================] - 0s 3ms/step - loss: 8.8963 - mae: 8.8963\n",
      "Epoch 20/500\n",
      "2/2 [==============================] - 0s 2ms/step - loss: 7.7324 - mae: 7.7324\n",
      "Epoch 21/500\n",
      "2/2 [==============================] - 0s 2ms/step - loss: 7.8202 - mae: 7.8202\n",
      "Epoch 22/500\n",
      "2/2 [==============================] - 0s 2ms/step - loss: 7.8348 - mae: 7.8348\n",
      "Epoch 23/500\n",
      "2/2 [==============================] - 0s 1000us/step - loss: 7.5980 - mae: 7.5980\n",
      "Epoch 24/500\n",
      "2/2 [==============================] - 0s 3ms/step - loss: 8.3522 - mae: 8.3522\n",
      "Epoch 25/500\n",
      "2/2 [==============================] - 0s 3ms/step - loss: 8.8205 - mae: 8.8205\n",
      "Epoch 26/500\n",
      "2/2 [==============================] - 0s 2ms/step - loss: 8.2831 - mae: 8.2831\n",
      "Epoch 27/500\n",
      "2/2 [==============================] - 0s 3ms/step - loss: 7.6160 - mae: 7.6160\n",
      "Epoch 28/500\n",
      "2/2 [==============================] - 0s 3ms/step - loss: 7.8191 - mae: 7.8191\n",
      "Epoch 29/500\n",
      "2/2 [==============================] - 0s 3ms/step - loss: 7.9719 - mae: 7.9719\n",
      "Epoch 30/500\n",
      "2/2 [==============================] - 0s 3ms/step - loss: 7.5774 - mae: 7.5774\n",
      "Epoch 31/500\n",
      "2/2 [==============================] - 0s 2ms/step - loss: 7.5239 - mae: 7.5239\n",
      "Epoch 32/500\n",
      "2/2 [==============================] - 0s 2ms/step - loss: 8.3379 - mae: 8.3379\n",
      "Epoch 33/500\n",
      "2/2 [==============================] - 0s 2ms/step - loss: 7.6853 - mae: 7.6853\n",
      "Epoch 34/500\n",
      "2/2 [==============================] - 0s 2ms/step - loss: 7.6263 - mae: 7.6263\n",
      "Epoch 35/500\n",
      "2/2 [==============================] - 0s 2ms/step - loss: 7.9654 - mae: 7.9654\n",
      "Epoch 36/500\n",
      "2/2 [==============================] - 0s 3ms/step - loss: 8.8384 - mae: 8.8384\n",
      "Epoch 37/500\n",
      "2/2 [==============================] - 0s 2ms/step - loss: 7.5456 - mae: 7.5456\n",
      "Epoch 38/500\n",
      "2/2 [==============================] - 0s 2ms/step - loss: 7.7759 - mae: 7.7759\n",
      "Epoch 39/500\n",
      "2/2 [==============================] - 0s 2ms/step - loss: 7.8019 - mae: 7.8019\n",
      "Epoch 40/500\n",
      "2/2 [==============================] - 0s 3ms/step - loss: 8.1246 - mae: 8.1246\n",
      "Epoch 41/500\n",
      "2/2 [==============================] - 0s 3ms/step - loss: 7.5249 - mae: 7.5249\n",
      "Epoch 42/500\n",
      "2/2 [==============================] - 0s 3ms/step - loss: 7.5418 - mae: 7.5418\n",
      "Epoch 43/500\n",
      "2/2 [==============================] - 0s 2ms/step - loss: 7.5188 - mae: 7.5188\n",
      "Epoch 44/500\n",
      "2/2 [==============================] - 0s 2ms/step - loss: 7.5063 - mae: 7.5063\n",
      "Epoch 45/500\n",
      "2/2 [==============================] - 0s 3ms/step - loss: 8.4454 - mae: 8.4454\n",
      "Epoch 46/500\n",
      "2/2 [==============================] - 0s 2ms/step - loss: 8.3020 - mae: 8.3020\n",
      "Epoch 47/500\n",
      "2/2 [==============================] - 0s 2ms/step - loss: 7.7120 - mae: 7.7120\n",
      "Epoch 48/500\n",
      "2/2 [==============================] - 0s 2ms/step - loss: 7.7041 - mae: 7.7041\n",
      "Epoch 49/500\n",
      "2/2 [==============================] - 0s 2ms/step - loss: 7.4958 - mae: 7.4958\n",
      "Epoch 50/500\n",
      "2/2 [==============================] - 0s 2ms/step - loss: 8.5800 - mae: 8.5800\n",
      "Epoch 51/500\n",
      "2/2 [==============================] - 0s 2ms/step - loss: 7.5470 - mae: 7.5470\n",
      "Epoch 52/500\n",
      "2/2 [==============================] - 0s 2ms/step - loss: 8.5469 - mae: 8.5469\n",
      "Epoch 53/500\n",
      "2/2 [==============================] - 0s 2ms/step - loss: 8.2877 - mae: 8.2877\n",
      "Epoch 54/500\n",
      "2/2 [==============================] - 0s 2ms/step - loss: 7.5481 - mae: 7.5481\n",
      "Epoch 55/500\n",
      "2/2 [==============================] - 0s 2ms/step - loss: 7.9186 - mae: 7.9186\n",
      "Epoch 56/500\n",
      "2/2 [==============================] - 0s 1ms/step - loss: 7.7450 - mae: 7.7450\n",
      "Epoch 57/500\n",
      "2/2 [==============================] - 0s 2ms/step - loss: 8.9569 - mae: 8.9569\n",
      "Epoch 58/500\n",
      "2/2 [==============================] - 0s 2ms/step - loss: 7.4809 - mae: 7.4809\n",
      "Epoch 59/500\n",
      "2/2 [==============================] - 0s 2ms/step - loss: 7.7302 - mae: 7.7302\n",
      "Epoch 60/500\n",
      "2/2 [==============================] - 0s 3ms/step - loss: 7.4870 - mae: 7.4870\n",
      "Epoch 61/500\n",
      "2/2 [==============================] - 0s 2ms/step - loss: 7.5998 - mae: 7.5998\n",
      "Epoch 62/500\n",
      "2/2 [==============================] - 0s 2ms/step - loss: 7.7418 - mae: 7.7418\n",
      "Epoch 63/500\n",
      "2/2 [==============================] - 0s 1ms/step - loss: 8.0232 - mae: 8.0232\n",
      "Epoch 64/500\n",
      "2/2 [==============================] - 0s 2ms/step - loss: 8.4981 - mae: 8.4981\n",
      "Epoch 65/500\n",
      "2/2 [==============================] - 0s 2ms/step - loss: 8.0383 - mae: 8.0383\n",
      "Epoch 66/500\n",
      "2/2 [==============================] - 0s 2ms/step - loss: 7.7085 - mae: 7.7085\n",
      "Epoch 67/500\n",
      "2/2 [==============================] - 0s 2ms/step - loss: 7.5584 - mae: 7.5584\n",
      "Epoch 68/500\n",
      "2/2 [==============================] - 0s 2ms/step - loss: 7.5078 - mae: 7.5078\n",
      "Epoch 69/500\n",
      "2/2 [==============================] - 0s 2ms/step - loss: 7.7887 - mae: 7.7887\n",
      "Epoch 70/500\n",
      "2/2 [==============================] - 0s 2ms/step - loss: 7.5259 - mae: 7.5259\n",
      "Epoch 71/500\n",
      "2/2 [==============================] - 0s 2ms/step - loss: 8.9337 - mae: 8.9337\n",
      "Epoch 72/500\n",
      "2/2 [==============================] - 0s 2ms/step - loss: 7.4459 - mae: 7.4459\n",
      "Epoch 73/500\n",
      "2/2 [==============================] - 0s 2ms/step - loss: 7.8000 - mae: 7.8000\n",
      "Epoch 74/500\n",
      "2/2 [==============================] - 0s 1ms/step - loss: 8.1342 - mae: 8.1342\n",
      "Epoch 75/500\n",
      "2/2 [==============================] - 0s 2ms/step - loss: 7.8272 - mae: 7.8272\n",
      "Epoch 76/500\n",
      "2/2 [==============================] - 0s 3ms/step - loss: 7.5909 - mae: 7.5909\n",
      "Epoch 77/500\n",
      "2/2 [==============================] - 0s 2ms/step - loss: 7.4264 - mae: 7.4264\n",
      "Epoch 78/500\n",
      "2/2 [==============================] - 0s 2ms/step - loss: 7.9854 - mae: 7.9854\n",
      "Epoch 79/500\n",
      "2/2 [==============================] - 0s 2ms/step - loss: 7.4574 - mae: 7.4574\n",
      "Epoch 80/500\n",
      "2/2 [==============================] - 0s 3ms/step - loss: 8.3698 - mae: 8.3698\n",
      "Epoch 81/500\n",
      "2/2 [==============================] - 0s 2ms/step - loss: 7.7236 - mae: 7.7236\n",
      "Epoch 82/500\n",
      "2/2 [==============================] - 0s 2ms/step - loss: 7.5908 - mae: 7.5908\n",
      "Epoch 83/500\n",
      "2/2 [==============================] - 0s 2ms/step - loss: 7.4602 - mae: 7.4602\n",
      "Epoch 84/500\n",
      "2/2 [==============================] - 0s 2ms/step - loss: 7.4987 - mae: 7.4987\n",
      "Epoch 85/500\n",
      "2/2 [==============================] - 0s 2ms/step - loss: 8.1494 - mae: 8.1494\n",
      "Epoch 86/500\n",
      "2/2 [==============================] - 0s 2ms/step - loss: 7.8981 - mae: 7.8981\n",
      "Epoch 87/500\n",
      "2/2 [==============================] - 0s 3ms/step - loss: 8.9588 - mae: 8.9588\n",
      "Epoch 88/500\n",
      "2/2 [==============================] - 0s 2ms/step - loss: 7.5137 - mae: 7.5137\n",
      "Epoch 89/500\n",
      "2/2 [==============================] - 0s 2ms/step - loss: 7.5972 - mae: 7.5972\n",
      "Epoch 90/500\n",
      "2/2 [==============================] - 0s 2ms/step - loss: 8.3667 - mae: 8.3667\n",
      "Epoch 91/500\n",
      "2/2 [==============================] - 0s 3ms/step - loss: 7.6229 - mae: 7.6229\n",
      "Epoch 92/500\n",
      "2/2 [==============================] - 0s 2ms/step - loss: 7.4737 - mae: 7.4737\n",
      "Epoch 93/500\n",
      "2/2 [==============================] - 0s 2ms/step - loss: 7.3958 - mae: 7.3958\n",
      "Epoch 94/500\n",
      "2/2 [==============================] - 0s 2ms/step - loss: 7.5069 - mae: 7.5069\n",
      "Epoch 95/500\n",
      "2/2 [==============================] - 0s 2ms/step - loss: 8.2098 - mae: 8.2098\n",
      "Epoch 96/500\n",
      "2/2 [==============================] - 0s 2ms/step - loss: 7.6240 - mae: 7.6240\n",
      "Epoch 97/500\n",
      "2/2 [==============================] - 0s 2ms/step - loss: 8.4389 - mae: 8.4389\n",
      "Epoch 98/500\n",
      "2/2 [==============================] - 0s 2ms/step - loss: 7.4795 - mae: 7.4795\n",
      "Epoch 99/500\n",
      "2/2 [==============================] - 0s 2ms/step - loss: 7.4334 - mae: 7.4334\n",
      "Epoch 100/500\n",
      "2/2 [==============================] - 0s 2ms/step - loss: 7.5421 - mae: 7.5421\n",
      "Epoch 101/500\n",
      "2/2 [==============================] - 0s 2ms/step - loss: 8.1343 - mae: 8.1343\n",
      "Epoch 102/500\n",
      "2/2 [==============================] - 0s 2ms/step - loss: 7.3792 - mae: 7.3792\n",
      "Epoch 103/500\n",
      "2/2 [==============================] - 0s 2ms/step - loss: 7.3749 - mae: 7.3749\n",
      "Epoch 104/500\n",
      "2/2 [==============================] - 0s 2ms/step - loss: 7.4644 - mae: 7.4644\n",
      "Epoch 105/500\n",
      "2/2 [==============================] - 0s 3ms/step - loss: 7.8279 - mae: 7.8279\n",
      "Epoch 106/500\n",
      "2/2 [==============================] - 0s 2ms/step - loss: 7.6998 - mae: 7.6998\n",
      "Epoch 107/500\n",
      "2/2 [==============================] - 0s 2ms/step - loss: 8.0164 - mae: 8.0164\n",
      "Epoch 108/500\n",
      "2/2 [==============================] - 0s 2ms/step - loss: 7.4355 - mae: 7.4355\n",
      "Epoch 109/500\n",
      "2/2 [==============================] - 0s 2ms/step - loss: 8.3873 - mae: 8.3873\n",
      "Epoch 110/500\n",
      "2/2 [==============================] - 0s 2ms/step - loss: 7.5829 - mae: 7.5829\n",
      "Epoch 111/500\n",
      "2/2 [==============================] - 0s 3ms/step - loss: 7.9711 - mae: 7.9711\n",
      "Epoch 112/500\n",
      "2/2 [==============================] - 0s 2ms/step - loss: 7.5134 - mae: 7.5134\n",
      "Epoch 113/500\n",
      "2/2 [==============================] - 0s 2ms/step - loss: 7.4495 - mae: 7.4495\n",
      "Epoch 114/500\n",
      "2/2 [==============================] - 0s 2ms/step - loss: 8.6672 - mae: 8.6672\n",
      "Epoch 115/500\n",
      "2/2 [==============================] - 0s 2ms/step - loss: 7.5189 - mae: 7.5189\n",
      "Epoch 116/500\n",
      "2/2 [==============================] - 0s 3ms/step - loss: 7.3560 - mae: 7.3560\n",
      "Epoch 117/500\n",
      "2/2 [==============================] - 0s 2ms/step - loss: 7.6388 - mae: 7.6388\n",
      "Epoch 118/500\n",
      "2/2 [==============================] - 0s 2ms/step - loss: 7.7007 - mae: 7.7007\n",
      "Epoch 119/500\n",
      "2/2 [==============================] - 0s 3ms/step - loss: 7.3680 - mae: 7.3680\n",
      "Epoch 120/500\n",
      "2/2 [==============================] - 0s 2ms/step - loss: 7.4964 - mae: 7.4964\n",
      "Epoch 121/500\n",
      "2/2 [==============================] - 0s 2ms/step - loss: 7.4465 - mae: 7.4465\n",
      "Epoch 122/500\n",
      "2/2 [==============================] - 0s 2ms/step - loss: 7.6048 - mae: 7.6048\n",
      "Epoch 123/500\n",
      "2/2 [==============================] - 0s 3ms/step - loss: 8.4766 - mae: 8.4766\n",
      "Epoch 124/500\n",
      "2/2 [==============================] - 0s 2ms/step - loss: 8.0779 - mae: 8.0779\n",
      "Epoch 125/500\n",
      "2/2 [==============================] - 0s 999us/step - loss: 7.4093 - mae: 7.4093\n",
      "Epoch 126/500\n",
      "2/2 [==============================] - 0s 3ms/step - loss: 7.7047 - mae: 7.7047\n",
      "Epoch 127/500\n",
      "2/2 [==============================] - 0s 1000us/step - loss: 7.3218 - mae: 7.3218\n",
      "Epoch 128/500\n",
      "2/2 [==============================] - 0s 1ms/step - loss: 8.3068 - mae: 8.3068\n",
      "Epoch 129/500\n",
      "2/2 [==============================] - 0s 2ms/step - loss: 7.3864 - mae: 7.3864\n",
      "Epoch 130/500\n",
      "2/2 [==============================] - 0s 2ms/step - loss: 7.5426 - mae: 7.5426\n",
      "Epoch 131/500\n",
      "2/2 [==============================] - 0s 2ms/step - loss: 7.6830 - mae: 7.6830\n",
      "Epoch 132/500\n",
      "2/2 [==============================] - 0s 2ms/step - loss: 7.3346 - mae: 7.3346\n",
      "Epoch 133/500\n",
      "2/2 [==============================] - 0s 2ms/step - loss: 7.6208 - mae: 7.6208\n",
      "Epoch 134/500\n",
      "2/2 [==============================] - 0s 2ms/step - loss: 8.6472 - mae: 8.6472\n",
      "Epoch 135/500\n",
      "2/2 [==============================] - 0s 2ms/step - loss: 7.3839 - mae: 7.3839\n",
      "Epoch 136/500\n",
      "2/2 [==============================] - 0s 3ms/step - loss: 8.0213 - mae: 8.0213\n",
      "Epoch 137/500\n",
      "2/2 [==============================] - 0s 2ms/step - loss: 7.3047 - mae: 7.3047\n",
      "Epoch 138/500\n",
      "2/2 [==============================] - 0s 2ms/step - loss: 8.3753 - mae: 8.3753\n",
      "Epoch 139/500\n",
      "2/2 [==============================] - 0s 2ms/step - loss: 7.2892 - mae: 7.2892\n",
      "Epoch 140/500\n",
      "2/2 [==============================] - 0s 2ms/step - loss: 8.1504 - mae: 8.1504\n",
      "Epoch 141/500\n",
      "2/2 [==============================] - 0s 3ms/step - loss: 8.0930 - mae: 8.0930\n",
      "Epoch 142/500\n",
      "2/2 [==============================] - 0s 3ms/step - loss: 8.9388 - mae: 8.9388\n",
      "Epoch 143/500\n",
      "2/2 [==============================] - 0s 2ms/step - loss: 7.3873 - mae: 7.3873\n",
      "Epoch 144/500\n",
      "2/2 [==============================] - 0s 1000us/step - loss: 7.4915 - mae: 7.4915\n",
      "Epoch 145/500\n",
      "2/2 [==============================] - 0s 2ms/step - loss: 8.1154 - mae: 8.1154\n",
      "Epoch 146/500\n",
      "2/2 [==============================] - 0s 999us/step - loss: 8.2013 - mae: 8.2013\n",
      "Epoch 147/500\n",
      "2/2 [==============================] - 0s 2ms/step - loss: 7.4713 - mae: 7.4713\n",
      "Epoch 148/500\n",
      "2/2 [==============================] - 0s 2ms/step - loss: 8.3805 - mae: 8.3805\n",
      "Epoch 149/500\n",
      "2/2 [==============================] - 0s 2ms/step - loss: 7.7045 - mae: 7.7045\n",
      "Epoch 150/500\n",
      "2/2 [==============================] - 0s 1ms/step - loss: 7.7582 - mae: 7.7582\n",
      "Epoch 151/500\n",
      "2/2 [==============================] - 0s 2ms/step - loss: 7.2673 - mae: 7.2673\n",
      "Epoch 152/500\n",
      "2/2 [==============================] - 0s 2ms/step - loss: 7.2737 - mae: 7.2737\n",
      "Epoch 153/500\n",
      "2/2 [==============================] - 0s 999us/step - loss: 7.6374 - mae: 7.6374\n",
      "Epoch 154/500\n",
      "2/2 [==============================] - 0s 1ms/step - loss: 7.6640 - mae: 7.6640\n",
      "Epoch 155/500\n",
      "2/2 [==============================] - 0s 1ms/step - loss: 7.4600 - mae: 7.4600\n",
      "Epoch 156/500\n",
      "2/2 [==============================] - 0s 2ms/step - loss: 7.7115 - mae: 7.7115\n",
      "Epoch 157/500\n",
      "2/2 [==============================] - 0s 2ms/step - loss: 8.0749 - mae: 8.0749\n",
      "Epoch 158/500\n",
      "2/2 [==============================] - 0s 2ms/step - loss: 8.0842 - mae: 8.0842\n",
      "Epoch 159/500\n",
      "2/2 [==============================] - 0s 1ms/step - loss: 7.6824 - mae: 7.6824\n",
      "Epoch 160/500\n",
      "2/2 [==============================] - 0s 2ms/step - loss: 7.4401 - mae: 7.4401\n",
      "Epoch 161/500\n",
      "2/2 [==============================] - 0s 2ms/step - loss: 7.5794 - mae: 7.5794\n",
      "Epoch 162/500\n",
      "2/2 [==============================] - 0s 2ms/step - loss: 7.6057 - mae: 7.6057\n",
      "Epoch 163/500\n",
      "2/2 [==============================] - 0s 2ms/step - loss: 7.2701 - mae: 7.2701\n",
      "Epoch 164/500\n",
      "2/2 [==============================] - 0s 2ms/step - loss: 7.2870 - mae: 7.2870\n",
      "Epoch 165/500\n",
      "2/2 [==============================] - 0s 3ms/step - loss: 7.7167 - mae: 7.7167\n",
      "Epoch 166/500\n",
      "2/2 [==============================] - 0s 3ms/step - loss: 7.5036 - mae: 7.5036\n",
      "Epoch 167/500\n",
      "2/2 [==============================] - 0s 2ms/step - loss: 7.7650 - mae: 7.7650\n",
      "Epoch 168/500\n",
      "2/2 [==============================] - 0s 2ms/step - loss: 7.6192 - mae: 7.6192\n",
      "Epoch 169/500\n",
      "2/2 [==============================] - 0s 1ms/step - loss: 7.3368 - mae: 7.3368\n",
      "Epoch 170/500\n",
      "2/2 [==============================] - 0s 999us/step - loss: 7.4789 - mae: 7.4789\n",
      "Epoch 171/500\n",
      "2/2 [==============================] - 0s 2ms/step - loss: 7.7369 - mae: 7.7369\n",
      "Epoch 172/500\n",
      "2/2 [==============================] - 0s 2ms/step - loss: 7.8482 - mae: 7.8482\n",
      "Epoch 173/500\n",
      "2/2 [==============================] - 0s 2ms/step - loss: 7.4527 - mae: 7.4527\n",
      "Epoch 174/500\n",
      "2/2 [==============================] - 0s 2ms/step - loss: 7.4187 - mae: 7.4187\n",
      "Epoch 175/500\n",
      "2/2 [==============================] - 0s 3ms/step - loss: 8.6204 - mae: 8.6204\n",
      "Epoch 176/500\n",
      "2/2 [==============================] - 0s 2ms/step - loss: 8.4103 - mae: 8.4103\n",
      "Epoch 177/500\n",
      "2/2 [==============================] - 0s 2ms/step - loss: 7.2076 - mae: 7.2076\n",
      "Epoch 178/500\n",
      "2/2 [==============================] - 0s 2ms/step - loss: 7.1956 - mae: 7.1956\n",
      "Epoch 179/500\n",
      "2/2 [==============================] - 0s 2ms/step - loss: 7.5593 - mae: 7.5593\n",
      "Epoch 180/500\n",
      "2/2 [==============================] - 0s 2ms/step - loss: 7.2504 - mae: 7.2504\n",
      "Epoch 181/500\n",
      "2/2 [==============================] - 0s 2ms/step - loss: 7.4415 - mae: 7.4415\n",
      "Epoch 182/500\n",
      "2/2 [==============================] - 0s 2ms/step - loss: 7.4070 - mae: 7.4070\n",
      "Epoch 183/500\n",
      "2/2 [==============================] - 0s 3ms/step - loss: 7.7912 - mae: 7.7912\n",
      "Epoch 184/500\n",
      "2/2 [==============================] - 0s 2ms/step - loss: 9.4807 - mae: 9.4807\n",
      "Epoch 185/500\n",
      "2/2 [==============================] - 0s 2ms/step - loss: 7.2905 - mae: 7.2905\n",
      "Epoch 186/500\n",
      "2/2 [==============================] - 0s 2ms/step - loss: 7.3420 - mae: 7.3420\n",
      "Epoch 187/500\n",
      "2/2 [==============================] - 0s 2ms/step - loss: 7.3755 - mae: 7.3755\n",
      "Epoch 188/500\n",
      "2/2 [==============================] - 0s 2ms/step - loss: 7.7758 - mae: 7.7758\n",
      "Epoch 189/500\n",
      "2/2 [==============================] - 0s 2ms/step - loss: 7.3204 - mae: 7.3204\n",
      "Epoch 190/500\n",
      "2/2 [==============================] - 0s 2ms/step - loss: 7.4228 - mae: 7.4228\n",
      "Epoch 191/500\n",
      "2/2 [==============================] - 0s 2ms/step - loss: 7.3710 - mae: 7.3710\n",
      "Epoch 192/500\n",
      "2/2 [==============================] - 0s 2ms/step - loss: 7.1728 - mae: 7.1728\n",
      "Epoch 193/500\n",
      "2/2 [==============================] - 0s 2ms/step - loss: 7.5126 - mae: 7.5126\n",
      "Epoch 194/500\n",
      "2/2 [==============================] - 0s 999us/step - loss: 7.4147 - mae: 7.4147\n",
      "Epoch 195/500\n",
      "2/2 [==============================] - 0s 2ms/step - loss: 7.8295 - mae: 7.8295\n",
      "Epoch 196/500\n",
      "2/2 [==============================] - 0s 2ms/step - loss: 8.0542 - mae: 8.0542\n",
      "Epoch 197/500\n",
      "2/2 [==============================] - 0s 2ms/step - loss: 8.1792 - mae: 8.1792\n",
      "Epoch 198/500\n",
      "2/2 [==============================] - 0s 2ms/step - loss: 7.3478 - mae: 7.3478\n",
      "Epoch 199/500\n",
      "2/2 [==============================] - 0s 3ms/step - loss: 7.5631 - mae: 7.5631\n",
      "Epoch 200/500\n",
      "2/2 [==============================] - 0s 2ms/step - loss: 7.4503 - mae: 7.4503\n",
      "Epoch 201/500\n",
      "2/2 [==============================] - 0s 2ms/step - loss: 7.2132 - mae: 7.2132\n",
      "Epoch 202/500\n",
      "2/2 [==============================] - 0s 2ms/step - loss: 7.5934 - mae: 7.5934\n",
      "Epoch 203/500\n",
      "2/2 [==============================] - 0s 3ms/step - loss: 7.9092 - mae: 7.9092\n",
      "Epoch 204/500\n",
      "2/2 [==============================] - 0s 2ms/step - loss: 7.9548 - mae: 7.9548\n",
      "Epoch 205/500\n",
      "2/2 [==============================] - 0s 2ms/step - loss: 8.0855 - mae: 8.0855\n",
      "Epoch 206/500\n",
      "2/2 [==============================] - 0s 2ms/step - loss: 7.3017 - mae: 7.3017\n",
      "Epoch 207/500\n",
      "2/2 [==============================] - 0s 2ms/step - loss: 7.4501 - mae: 7.4501\n",
      "Epoch 208/500\n",
      "2/2 [==============================] - 0s 2ms/step - loss: 7.3705 - mae: 7.3705\n",
      "Epoch 209/500\n",
      "2/2 [==============================] - 0s 2ms/step - loss: 8.0289 - mae: 8.0289\n",
      "Epoch 210/500\n",
      "2/2 [==============================] - 0s 2ms/step - loss: 8.8092 - mae: 8.8092\n",
      "Epoch 211/500\n",
      "2/2 [==============================] - 0s 1ms/step - loss: 7.5342 - mae: 7.5342\n",
      "Epoch 212/500\n",
      "2/2 [==============================] - 0s 2ms/step - loss: 8.7842 - mae: 8.7842\n",
      "Epoch 213/500\n",
      "2/2 [==============================] - 0s 2ms/step - loss: 7.1299 - mae: 7.1299\n",
      "Epoch 214/500\n",
      "2/2 [==============================] - 0s 3ms/step - loss: 7.2222 - mae: 7.2222\n",
      "Epoch 215/500\n",
      "2/2 [==============================] - 0s 2ms/step - loss: 7.3362 - mae: 7.3362\n",
      "Epoch 216/500\n",
      "2/2 [==============================] - 0s 2ms/step - loss: 7.0964 - mae: 7.0964\n",
      "Epoch 217/500\n",
      "2/2 [==============================] - 0s 3ms/step - loss: 7.1878 - mae: 7.1878\n",
      "Epoch 218/500\n",
      "2/2 [==============================] - 0s 2ms/step - loss: 7.4260 - mae: 7.4260\n",
      "Epoch 219/500\n",
      "2/2 [==============================] - 0s 2ms/step - loss: 7.9684 - mae: 7.9684\n",
      "Epoch 220/500\n",
      "2/2 [==============================] - 0s 2ms/step - loss: 7.2601 - mae: 7.2601\n",
      "Epoch 221/500\n",
      "2/2 [==============================] - 0s 3ms/step - loss: 8.4312 - mae: 8.4312\n",
      "Epoch 222/500\n",
      "2/2 [==============================] - 0s 2ms/step - loss: 7.5119 - mae: 7.5119\n",
      "Epoch 223/500\n",
      "2/2 [==============================] - 0s 2ms/step - loss: 7.1807 - mae: 7.1807\n",
      "Epoch 224/500\n",
      "2/2 [==============================] - 0s 2ms/step - loss: 7.7513 - mae: 7.7513\n",
      "Epoch 225/500\n",
      "2/2 [==============================] - 0s 999us/step - loss: 7.5847 - mae: 7.5847\n",
      "Epoch 226/500\n",
      "2/2 [==============================] - 0s 2ms/step - loss: 7.3192 - mae: 7.3192\n",
      "Epoch 227/500\n",
      "2/2 [==============================] - 0s 2ms/step - loss: 7.7305 - mae: 7.7305\n",
      "Epoch 228/500\n",
      "2/2 [==============================] - 0s 2ms/step - loss: 7.5588 - mae: 7.5588\n",
      "Epoch 229/500\n",
      "2/2 [==============================] - 0s 2ms/step - loss: 7.6716 - mae: 7.6716\n",
      "Epoch 230/500\n",
      "2/2 [==============================] - 0s 2ms/step - loss: 7.4595 - mae: 7.4595\n",
      "Epoch 231/500\n",
      "2/2 [==============================] - 0s 1ms/step - loss: 7.4883 - mae: 7.4883\n",
      "Epoch 232/500\n",
      "2/2 [==============================] - 0s 2ms/step - loss: 7.2873 - mae: 7.2873\n",
      "Epoch 233/500\n",
      "2/2 [==============================] - 0s 2ms/step - loss: 7.2681 - mae: 7.2681\n",
      "Epoch 234/500\n",
      "2/2 [==============================] - 0s 1ms/step - loss: 7.0620 - mae: 7.0620\n",
      "Epoch 235/500\n",
      "2/2 [==============================] - 0s 2ms/step - loss: 7.2654 - mae: 7.2654\n",
      "Epoch 236/500\n",
      "2/2 [==============================] - 0s 2ms/step - loss: 7.1386 - mae: 7.1386\n",
      "Epoch 237/500\n",
      "2/2 [==============================] - 0s 1ms/step - loss: 7.5669 - mae: 7.5669\n",
      "Epoch 238/500\n",
      "2/2 [==============================] - 0s 2ms/step - loss: 7.0466 - mae: 7.0466\n",
      "Epoch 239/500\n",
      "2/2 [==============================] - 0s 2ms/step - loss: 7.8864 - mae: 7.8864\n",
      "Epoch 240/500\n",
      "2/2 [==============================] - 0s 2ms/step - loss: 7.5851 - mae: 7.5851\n",
      "Epoch 241/500\n",
      "2/2 [==============================] - 0s 2ms/step - loss: 7.2274 - mae: 7.2274\n",
      "Epoch 242/500\n",
      "2/2 [==============================] - 0s 2ms/step - loss: 7.6995 - mae: 7.6995\n",
      "Epoch 243/500\n",
      "2/2 [==============================] - 0s 1ms/step - loss: 7.0500 - mae: 7.0500\n",
      "Epoch 244/500\n",
      "2/2 [==============================] - 0s 2ms/step - loss: 7.0034 - mae: 7.0034\n",
      "Epoch 245/500\n",
      "2/2 [==============================] - 0s 1ms/step - loss: 7.7884 - mae: 7.7884\n",
      "Epoch 246/500\n",
      "2/2 [==============================] - 0s 3ms/step - loss: 7.2580 - mae: 7.2580\n",
      "Epoch 247/500\n",
      "2/2 [==============================] - 0s 3ms/step - loss: 7.7977 - mae: 7.7977\n",
      "Epoch 248/500\n",
      "2/2 [==============================] - 0s 2ms/step - loss: 7.4361 - mae: 7.4361\n",
      "Epoch 249/500\n",
      "2/2 [==============================] - 0s 3ms/step - loss: 7.3409 - mae: 7.3409\n",
      "Epoch 250/500\n",
      "2/2 [==============================] - 0s 2ms/step - loss: 7.5708 - mae: 7.5708\n",
      "Epoch 251/500\n",
      "2/2 [==============================] - 0s 2ms/step - loss: 7.2499 - mae: 7.2499\n",
      "Epoch 252/500\n",
      "2/2 [==============================] - 0s 3ms/step - loss: 8.1547 - mae: 8.1547\n",
      "Epoch 253/500\n",
      "2/2 [==============================] - 0s 3ms/step - loss: 7.1691 - mae: 7.1691\n",
      "Epoch 254/500\n",
      "2/2 [==============================] - 0s 2ms/step - loss: 7.1281 - mae: 7.1281\n",
      "Epoch 255/500\n",
      "2/2 [==============================] - 0s 2ms/step - loss: 7.1228 - mae: 7.1228\n",
      "Epoch 256/500\n",
      "2/2 [==============================] - 0s 2ms/step - loss: 7.0083 - mae: 7.0083\n",
      "Epoch 257/500\n",
      "2/2 [==============================] - 0s 2ms/step - loss: 6.9977 - mae: 6.9977\n",
      "Epoch 258/500\n",
      "2/2 [==============================] - 0s 2ms/step - loss: 7.3331 - mae: 7.3331\n",
      "Epoch 259/500\n",
      "2/2 [==============================] - 0s 3ms/step - loss: 7.0722 - mae: 7.0722\n",
      "Epoch 260/500\n",
      "2/2 [==============================] - 0s 3ms/step - loss: 7.4213 - mae: 7.4213\n",
      "Epoch 261/500\n",
      "2/2 [==============================] - 0s 999us/step - loss: 7.2868 - mae: 7.2868\n",
      "Epoch 262/500\n",
      "2/2 [==============================] - 0s 2ms/step - loss: 7.6454 - mae: 7.6454\n",
      "Epoch 263/500\n",
      "2/2 [==============================] - 0s 2ms/step - loss: 7.0655 - mae: 7.0655\n",
      "Epoch 264/500\n",
      "2/2 [==============================] - 0s 1ms/step - loss: 8.2408 - mae: 8.2408\n",
      "Epoch 265/500\n",
      "2/2 [==============================] - 0s 2ms/step - loss: 7.0911 - mae: 7.0911\n",
      "Epoch 266/500\n",
      "2/2 [==============================] - 0s 2ms/step - loss: 7.2657 - mae: 7.2657\n",
      "Epoch 267/500\n",
      "2/2 [==============================] - 0s 1000us/step - loss: 7.0101 - mae: 7.0101\n",
      "Epoch 268/500\n",
      "2/2 [==============================] - 0s 2ms/step - loss: 7.0176 - mae: 7.0176\n",
      "Epoch 269/500\n",
      "2/2 [==============================] - 0s 1ms/step - loss: 7.2652 - mae: 7.2652\n",
      "Epoch 270/500\n",
      "2/2 [==============================] - 0s 2ms/step - loss: 7.0028 - mae: 7.0028\n",
      "Epoch 271/500\n",
      "2/2 [==============================] - 0s 3ms/step - loss: 7.4147 - mae: 7.4147\n",
      "Epoch 272/500\n",
      "2/2 [==============================] - 0s 1000us/step - loss: 7.9716 - mae: 7.9716\n",
      "Epoch 273/500\n",
      "2/2 [==============================] - 0s 2ms/step - loss: 7.2938 - mae: 7.2938\n",
      "Epoch 274/500\n",
      "2/2 [==============================] - 0s 2ms/step - loss: 7.1179 - mae: 7.1179\n",
      "Epoch 275/500\n",
      "2/2 [==============================] - 0s 2ms/step - loss: 8.0824 - mae: 8.0824\n",
      "Epoch 276/500\n",
      "2/2 [==============================] - 0s 999us/step - loss: 7.1108 - mae: 7.1108\n",
      "Epoch 277/500\n",
      "2/2 [==============================] - 0s 2ms/step - loss: 9.2534 - mae: 9.2534\n",
      "Epoch 278/500\n",
      "2/2 [==============================] - 0s 2ms/step - loss: 7.4851 - mae: 7.4851\n",
      "Epoch 279/500\n",
      "2/2 [==============================] - 0s 2ms/step - loss: 7.0329 - mae: 7.0329\n",
      "Epoch 280/500\n",
      "2/2 [==============================] - 0s 2ms/step - loss: 7.1407 - mae: 7.1407\n",
      "Epoch 281/500\n",
      "2/2 [==============================] - 0s 2ms/step - loss: 7.1162 - mae: 7.1162\n",
      "Epoch 282/500\n",
      "2/2 [==============================] - 0s 5ms/step - loss: 7.0036 - mae: 7.0036\n",
      "Epoch 283/500\n",
      "2/2 [==============================] - 0s 3ms/step - loss: 6.9424 - mae: 6.9424\n",
      "Epoch 284/500\n",
      "2/2 [==============================] - 0s 2ms/step - loss: 6.9502 - mae: 6.9502\n",
      "Epoch 285/500\n",
      "2/2 [==============================] - 0s 2ms/step - loss: 7.1568 - mae: 7.1568\n",
      "Epoch 286/500\n",
      "2/2 [==============================] - 0s 2ms/step - loss: 8.2105 - mae: 8.2105\n",
      "Epoch 287/500\n",
      "2/2 [==============================] - 0s 2ms/step - loss: 7.4060 - mae: 7.4060\n",
      "Epoch 288/500\n",
      "2/2 [==============================] - 0s 2ms/step - loss: 6.9019 - mae: 6.9019\n",
      "Epoch 289/500\n",
      "2/2 [==============================] - 0s 2ms/step - loss: 7.0867 - mae: 7.0867\n",
      "Epoch 290/500\n",
      "2/2 [==============================] - 0s 2ms/step - loss: 7.1697 - mae: 7.1697\n",
      "Epoch 291/500\n",
      "2/2 [==============================] - 0s 3ms/step - loss: 6.8882 - mae: 6.8882\n",
      "Epoch 292/500\n",
      "2/2 [==============================] - 0s 3ms/step - loss: 7.5655 - mae: 7.5655\n",
      "Epoch 293/500\n",
      "2/2 [==============================] - 0s 2ms/step - loss: 7.7579 - mae: 7.7579\n",
      "Epoch 294/500\n",
      "2/2 [==============================] - 0s 2ms/step - loss: 8.1065 - mae: 8.1065\n",
      "Epoch 295/500\n",
      "2/2 [==============================] - 0s 2ms/step - loss: 7.1594 - mae: 7.1594\n",
      "Epoch 296/500\n",
      "2/2 [==============================] - 0s 1ms/step - loss: 7.2877 - mae: 7.2877\n",
      "Epoch 297/500\n",
      "2/2 [==============================] - 0s 2ms/step - loss: 6.9062 - mae: 6.9062\n",
      "Epoch 298/500\n",
      "2/2 [==============================] - 0s 2ms/step - loss: 7.6757 - mae: 7.6757\n",
      "Epoch 299/500\n",
      "2/2 [==============================] - 0s 2ms/step - loss: 7.3775 - mae: 7.3775\n",
      "Epoch 300/500\n",
      "2/2 [==============================] - 0s 2ms/step - loss: 7.3997 - mae: 7.3997\n",
      "Epoch 301/500\n",
      "2/2 [==============================] - 0s 2ms/step - loss: 7.9243 - mae: 7.9243\n",
      "Epoch 302/500\n",
      "2/2 [==============================] - 0s 2ms/step - loss: 7.9341 - mae: 7.9341\n",
      "Epoch 303/500\n",
      "2/2 [==============================] - 0s 2ms/step - loss: 7.3367 - mae: 7.3367\n",
      "Epoch 304/500\n",
      "2/2 [==============================] - 0s 2ms/step - loss: 6.9075 - mae: 6.9075\n",
      "Epoch 305/500\n",
      "2/2 [==============================] - 0s 1000us/step - loss: 7.9832 - mae: 7.9832\n",
      "Epoch 306/500\n",
      "2/2 [==============================] - 0s 2ms/step - loss: 7.4050 - mae: 7.4050\n",
      "Epoch 307/500\n",
      "2/2 [==============================] - 0s 1000us/step - loss: 6.9063 - mae: 6.9063\n",
      "Epoch 308/500\n",
      "2/2 [==============================] - 0s 2ms/step - loss: 7.1600 - mae: 7.1600\n",
      "Epoch 309/500\n",
      "2/2 [==============================] - 0s 2ms/step - loss: 7.5634 - mae: 7.5634\n",
      "Epoch 310/500\n",
      "2/2 [==============================] - 0s 1ms/step - loss: 7.4047 - mae: 7.4047\n",
      "Epoch 311/500\n",
      "2/2 [==============================] - 0s 2ms/step - loss: 6.8448 - mae: 6.8448\n",
      "Epoch 312/500\n",
      "2/2 [==============================] - 0s 3ms/step - loss: 6.9863 - mae: 6.9863\n",
      "Epoch 313/500\n",
      "2/2 [==============================] - 0s 2ms/step - loss: 6.9705 - mae: 6.9705\n",
      "Epoch 314/500\n",
      "2/2 [==============================] - 0s 2ms/step - loss: 7.3433 - mae: 7.3433\n",
      "Epoch 315/500\n",
      "2/2 [==============================] - 0s 2ms/step - loss: 7.1624 - mae: 7.1624\n",
      "Epoch 316/500\n",
      "2/2 [==============================] - 0s 1ms/step - loss: 6.8906 - mae: 6.8906\n",
      "Epoch 317/500\n",
      "2/2 [==============================] - 0s 2ms/step - loss: 6.8791 - mae: 6.8791\n",
      "Epoch 318/500\n",
      "2/2 [==============================] - 0s 2ms/step - loss: 8.6396 - mae: 8.6396\n",
      "Epoch 319/500\n",
      "2/2 [==============================] - 0s 2ms/step - loss: 6.8525 - mae: 6.8525\n",
      "Epoch 320/500\n",
      "2/2 [==============================] - 0s 2ms/step - loss: 7.6513 - mae: 7.6513\n",
      "Epoch 321/500\n",
      "2/2 [==============================] - 0s 2ms/step - loss: 6.9499 - mae: 6.9499\n",
      "Epoch 322/500\n",
      "2/2 [==============================] - 0s 2ms/step - loss: 7.3378 - mae: 7.3378\n",
      "Epoch 323/500\n",
      "2/2 [==============================] - 0s 2ms/step - loss: 6.8356 - mae: 6.8356\n",
      "Epoch 324/500\n",
      "2/2 [==============================] - 0s 3ms/step - loss: 6.8874 - mae: 6.8874\n",
      "Epoch 325/500\n",
      "2/2 [==============================] - 0s 2ms/step - loss: 7.4304 - mae: 7.4304\n",
      "Epoch 326/500\n",
      "2/2 [==============================] - 0s 2ms/step - loss: 6.9477 - mae: 6.9477\n",
      "Epoch 327/500\n",
      "2/2 [==============================] - 0s 2ms/step - loss: 6.8282 - mae: 6.8282\n",
      "Epoch 328/500\n",
      "2/2 [==============================] - 0s 2ms/step - loss: 7.3788 - mae: 7.3788\n",
      "Epoch 329/500\n",
      "2/2 [==============================] - 0s 2ms/step - loss: 6.8082 - mae: 6.8082\n",
      "Epoch 330/500\n",
      "2/2 [==============================] - 0s 2ms/step - loss: 6.8149 - mae: 6.8149\n",
      "Epoch 331/500\n",
      "2/2 [==============================] - 0s 2ms/step - loss: 7.8522 - mae: 7.8522\n",
      "Epoch 332/500\n",
      "2/2 [==============================] - 0s 2ms/step - loss: 7.3662 - mae: 7.3662\n",
      "Epoch 333/500\n",
      "2/2 [==============================] - 0s 2ms/step - loss: 8.2699 - mae: 8.2699\n",
      "Epoch 334/500\n",
      "2/2 [==============================] - 0s 2ms/step - loss: 6.7833 - mae: 6.7833\n",
      "Epoch 335/500\n",
      "2/2 [==============================] - 0s 2ms/step - loss: 7.1305 - mae: 7.1305\n",
      "Epoch 336/500\n",
      "2/2 [==============================] - 0s 2ms/step - loss: 6.8279 - mae: 6.8279\n",
      "Epoch 337/500\n",
      "2/2 [==============================] - 0s 2ms/step - loss: 7.3355 - mae: 7.3355\n",
      "Epoch 338/500\n",
      "2/2 [==============================] - 0s 2ms/step - loss: 7.1125 - mae: 7.1125\n",
      "Epoch 339/500\n",
      "2/2 [==============================] - 0s 2ms/step - loss: 7.6456 - mae: 7.6456\n",
      "Epoch 340/500\n",
      "2/2 [==============================] - 0s 1ms/step - loss: 7.0561 - mae: 7.0561\n",
      "Epoch 341/500\n",
      "2/2 [==============================] - 0s 3ms/step - loss: 6.9996 - mae: 6.9996\n",
      "Epoch 342/500\n",
      "2/2 [==============================] - 0s 2ms/step - loss: 6.8163 - mae: 6.8163\n",
      "Epoch 343/500\n",
      "2/2 [==============================] - 0s 2ms/step - loss: 7.1247 - mae: 7.1247\n",
      "Epoch 344/500\n",
      "2/2 [==============================] - 0s 2ms/step - loss: 7.2979 - mae: 7.2979\n",
      "Epoch 345/500\n",
      "2/2 [==============================] - 0s 2ms/step - loss: 9.2853 - mae: 9.2853\n",
      "Epoch 346/500\n",
      "2/2 [==============================] - 0s 2ms/step - loss: 6.9923 - mae: 6.9923\n",
      "Epoch 347/500\n",
      "2/2 [==============================] - 0s 2ms/step - loss: 7.2765 - mae: 7.2765\n",
      "Epoch 348/500\n",
      "2/2 [==============================] - 0s 2ms/step - loss: 7.2015 - mae: 7.2015\n",
      "Epoch 349/500\n",
      "2/2 [==============================] - 0s 3ms/step - loss: 6.7834 - mae: 6.7834\n",
      "Epoch 350/500\n",
      "2/2 [==============================] - 0s 2ms/step - loss: 6.8390 - mae: 6.8390\n",
      "Epoch 351/500\n",
      "2/2 [==============================] - 0s 2ms/step - loss: 7.5784 - mae: 7.5784\n",
      "Epoch 352/500\n",
      "2/2 [==============================] - 0s 1ms/step - loss: 7.3165 - mae: 7.3165\n",
      "Epoch 353/500\n",
      "2/2 [==============================] - 0s 2ms/step - loss: 7.6459 - mae: 7.6459\n",
      "Epoch 354/500\n",
      "2/2 [==============================] - 0s 2ms/step - loss: 7.2700 - mae: 7.2700\n",
      "Epoch 355/500\n",
      "2/2 [==============================] - 0s 2ms/step - loss: 8.1593 - mae: 8.1593\n",
      "Epoch 356/500\n",
      "2/2 [==============================] - 0s 2ms/step - loss: 6.7643 - mae: 6.7643\n",
      "Epoch 357/500\n",
      "2/2 [==============================] - 0s 2ms/step - loss: 6.8057 - mae: 6.8057\n",
      "Epoch 358/500\n",
      "2/2 [==============================] - 0s 2ms/step - loss: 6.7220 - mae: 6.7220\n",
      "Epoch 359/500\n",
      "2/2 [==============================] - 0s 2ms/step - loss: 6.7122 - mae: 6.7122\n",
      "Epoch 360/500\n",
      "2/2 [==============================] - 0s 2ms/step - loss: 6.7180 - mae: 6.7180\n",
      "Epoch 361/500\n",
      "2/2 [==============================] - 0s 1ms/step - loss: 7.1362 - mae: 7.1362\n",
      "Epoch 362/500\n",
      "2/2 [==============================] - 0s 2ms/step - loss: 6.9847 - mae: 6.9847\n",
      "Epoch 363/500\n",
      "2/2 [==============================] - 0s 2ms/step - loss: 7.9829 - mae: 7.9829\n",
      "Epoch 364/500\n",
      "2/2 [==============================] - 0s 1ms/step - loss: 7.4967 - mae: 7.4967\n",
      "Epoch 365/500\n",
      "2/2 [==============================] - 0s 1ms/step - loss: 7.9059 - mae: 7.9059\n",
      "Epoch 366/500\n",
      "2/2 [==============================] - 0s 2ms/step - loss: 6.7139 - mae: 6.7139\n",
      "Epoch 367/500\n",
      "2/2 [==============================] - 0s 1000us/step - loss: 6.9205 - mae: 6.9205\n",
      "Epoch 368/500\n",
      "2/2 [==============================] - 0s 1ms/step - loss: 7.0160 - mae: 7.0160\n",
      "Epoch 369/500\n",
      "2/2 [==============================] - 0s 2ms/step - loss: 7.2258 - mae: 7.2258\n",
      "Epoch 370/500\n",
      "2/2 [==============================] - 0s 999us/step - loss: 6.7148 - mae: 6.7148\n",
      "Epoch 371/500\n",
      "2/2 [==============================] - 0s 2ms/step - loss: 6.9041 - mae: 6.9041\n",
      "Epoch 372/500\n",
      "2/2 [==============================] - 0s 3ms/step - loss: 6.7222 - mae: 6.7222\n",
      "Epoch 373/500\n",
      "2/2 [==============================] - 0s 2ms/step - loss: 6.6557 - mae: 6.6557\n",
      "Epoch 374/500\n",
      "2/2 [==============================] - 0s 2ms/step - loss: 7.5418 - mae: 7.5418\n",
      "Epoch 375/500\n",
      "2/2 [==============================] - 0s 2ms/step - loss: 6.7433 - mae: 6.7433\n",
      "Epoch 376/500\n",
      "2/2 [==============================] - 0s 2ms/step - loss: 6.7024 - mae: 6.7024\n",
      "Epoch 377/500\n",
      "2/2 [==============================] - 0s 2ms/step - loss: 6.8150 - mae: 6.8150\n",
      "Epoch 378/500\n",
      "2/2 [==============================] - 0s 1000us/step - loss: 6.6823 - mae: 6.6823\n",
      "Epoch 379/500\n",
      "2/2 [==============================] - 0s 2ms/step - loss: 7.0469 - mae: 7.0469\n",
      "Epoch 380/500\n",
      "2/2 [==============================] - 0s 1ms/step - loss: 7.5026 - mae: 7.5026\n",
      "Epoch 381/500\n",
      "2/2 [==============================] - 0s 2ms/step - loss: 7.6923 - mae: 7.6923\n",
      "Epoch 382/500\n",
      "2/2 [==============================] - 0s 2ms/step - loss: 6.8870 - mae: 6.8870\n",
      "Epoch 383/500\n",
      "2/2 [==============================] - 0s 2ms/step - loss: 7.0667 - mae: 7.0667\n",
      "Epoch 384/500\n",
      "2/2 [==============================] - 0s 2ms/step - loss: 6.8581 - mae: 6.8581\n",
      "Epoch 385/500\n",
      "2/2 [==============================] - 0s 2ms/step - loss: 6.7552 - mae: 6.7552\n",
      "Epoch 386/500\n",
      "2/2 [==============================] - 0s 2ms/step - loss: 7.2103 - mae: 7.2103\n",
      "Epoch 387/500\n",
      "2/2 [==============================] - 0s 1ms/step - loss: 7.0612 - mae: 7.0612\n",
      "Epoch 388/500\n",
      "2/2 [==============================] - 0s 1000us/step - loss: 6.6522 - mae: 6.6522\n",
      "Epoch 389/500\n",
      "2/2 [==============================] - 0s 2ms/step - loss: 6.5579 - mae: 6.5579\n",
      "Epoch 390/500\n",
      "2/2 [==============================] - 0s 2ms/step - loss: 8.7407 - mae: 8.7407\n",
      "Epoch 391/500\n",
      "2/2 [==============================] - 0s 999us/step - loss: 6.6891 - mae: 6.6891\n",
      "Epoch 392/500\n",
      "2/2 [==============================] - 0s 2ms/step - loss: 7.0385 - mae: 7.0385\n",
      "Epoch 393/500\n",
      "2/2 [==============================] - 0s 999us/step - loss: 7.0224 - mae: 7.0224\n",
      "Epoch 394/500\n",
      "2/2 [==============================] - 0s 2ms/step - loss: 6.7591 - mae: 6.7591\n",
      "Epoch 395/500\n",
      "2/2 [==============================] - 0s 2ms/step - loss: 6.6203 - mae: 6.6203\n",
      "Epoch 396/500\n",
      "2/2 [==============================] - 0s 2ms/step - loss: 7.4468 - mae: 7.4468\n",
      "Epoch 397/500\n",
      "2/2 [==============================] - 0s 999us/step - loss: 6.8533 - mae: 6.8533\n",
      "Epoch 398/500\n",
      "2/2 [==============================] - 0s 1000us/step - loss: 6.6223 - mae: 6.6223\n",
      "Epoch 399/500\n",
      "2/2 [==============================] - 0s 1ms/step - loss: 6.6266 - mae: 6.6266\n",
      "Epoch 400/500\n",
      "2/2 [==============================] - 0s 2ms/step - loss: 6.8174 - mae: 6.8174\n",
      "Epoch 401/500\n",
      "2/2 [==============================] - 0s 2ms/step - loss: 6.9299 - mae: 6.9299\n",
      "Epoch 402/500\n",
      "2/2 [==============================] - 0s 2ms/step - loss: 8.4188 - mae: 8.4188\n",
      "Epoch 403/500\n",
      "2/2 [==============================] - 0s 1ms/step - loss: 7.1391 - mae: 7.1391\n",
      "Epoch 404/500\n",
      "2/2 [==============================] - 0s 2ms/step - loss: 8.1726 - mae: 8.1726\n",
      "Epoch 405/500\n",
      "2/2 [==============================] - 0s 2ms/step - loss: 7.3412 - mae: 7.3412\n",
      "Epoch 406/500\n",
      "2/2 [==============================] - 0s 2ms/step - loss: 6.7557 - mae: 6.7557\n",
      "Epoch 407/500\n",
      "2/2 [==============================] - 0s 2ms/step - loss: 6.6098 - mae: 6.6098\n",
      "Epoch 408/500\n",
      "2/2 [==============================] - 0s 2ms/step - loss: 6.8678 - mae: 6.8678\n",
      "Epoch 409/500\n",
      "2/2 [==============================] - 0s 2ms/step - loss: 8.6527 - mae: 8.6527\n",
      "Epoch 410/500\n",
      "2/2 [==============================] - 0s 2ms/step - loss: 7.8208 - mae: 7.8208\n",
      "Epoch 411/500\n",
      "2/2 [==============================] - 0s 2ms/step - loss: 7.0468 - mae: 7.0468\n",
      "Epoch 412/500\n",
      "2/2 [==============================] - 0s 2ms/step - loss: 6.5974 - mae: 6.5974\n",
      "Epoch 413/500\n",
      "2/2 [==============================] - 0s 999us/step - loss: 7.4358 - mae: 7.4358\n",
      "Epoch 414/500\n",
      "2/2 [==============================] - 0s 2ms/step - loss: 7.1158 - mae: 7.1158\n",
      "Epoch 415/500\n",
      "2/2 [==============================] - 0s 1ms/step - loss: 6.6157 - mae: 6.6157\n",
      "Epoch 416/500\n",
      "2/2 [==============================] - 0s 2ms/step - loss: 7.4388 - mae: 7.4388\n",
      "Epoch 417/500\n",
      "2/2 [==============================] - 0s 2ms/step - loss: 7.1958 - mae: 7.1958\n",
      "Epoch 418/500\n",
      "2/2 [==============================] - 0s 2ms/step - loss: 6.6049 - mae: 6.6049\n",
      "Epoch 419/500\n",
      "2/2 [==============================] - 0s 2ms/step - loss: 6.7034 - mae: 6.7034\n",
      "Epoch 420/500\n",
      "2/2 [==============================] - 0s 3ms/step - loss: 6.8479 - mae: 6.8479\n",
      "Epoch 421/500\n",
      "2/2 [==============================] - 0s 2ms/step - loss: 7.3505 - mae: 7.3505\n",
      "Epoch 422/500\n",
      "2/2 [==============================] - 0s 2ms/step - loss: 6.7869 - mae: 6.7869\n",
      "Epoch 423/500\n",
      "2/2 [==============================] - 0s 2ms/step - loss: 6.5726 - mae: 6.5726\n",
      "Epoch 424/500\n",
      "2/2 [==============================] - 0s 2ms/step - loss: 6.9821 - mae: 6.9821\n",
      "Epoch 425/500\n",
      "2/2 [==============================] - 0s 1ms/step - loss: 6.6060 - mae: 6.6060\n",
      "Epoch 426/500\n",
      "2/2 [==============================] - 0s 2ms/step - loss: 6.9379 - mae: 6.9379\n",
      "Epoch 427/500\n",
      "2/2 [==============================] - 0s 2ms/step - loss: 7.0036 - mae: 7.0036\n",
      "Epoch 428/500\n",
      "2/2 [==============================] - 0s 999us/step - loss: 6.5671 - mae: 6.5671\n",
      "Epoch 429/500\n",
      "2/2 [==============================] - 0s 2ms/step - loss: 7.2579 - mae: 7.2579\n",
      "Epoch 430/500\n",
      "2/2 [==============================] - 0s 2ms/step - loss: 7.6713 - mae: 7.6713\n",
      "Epoch 431/500\n",
      "2/2 [==============================] - 0s 2ms/step - loss: 7.7069 - mae: 7.7069\n",
      "Epoch 432/500\n",
      "2/2 [==============================] - 0s 2ms/step - loss: 7.1462 - mae: 7.1462\n",
      "Epoch 433/500\n",
      "2/2 [==============================] - 0s 2ms/step - loss: 6.5448 - mae: 6.5448\n",
      "Epoch 434/500\n",
      "2/2 [==============================] - 0s 2ms/step - loss: 6.7120 - mae: 6.7120\n",
      "Epoch 435/500\n",
      "2/2 [==============================] - 0s 990us/step - loss: 6.7215 - mae: 6.7215\n",
      "Epoch 436/500\n",
      "2/2 [==============================] - 0s 1000us/step - loss: 6.8343 - mae: 6.8343\n",
      "Epoch 437/500\n",
      "2/2 [==============================] - 0s 999us/step - loss: 6.7183 - mae: 6.7183\n",
      "Epoch 438/500\n",
      "2/2 [==============================] - 0s 1ms/step - loss: 6.6093 - mae: 6.6093\n",
      "Epoch 439/500\n",
      "2/2 [==============================] - 0s 1ms/step - loss: 6.5713 - mae: 6.5713\n",
      "Epoch 440/500\n",
      "2/2 [==============================] - 0s 990us/step - loss: 6.7776 - mae: 6.7776\n",
      "Epoch 441/500\n",
      "2/2 [==============================] - 0s 2ms/step - loss: 7.1573 - mae: 7.1573\n",
      "Epoch 442/500\n",
      "2/2 [==============================] - 0s 2ms/step - loss: 6.9289 - mae: 6.9289\n",
      "Epoch 443/500\n",
      "2/2 [==============================] - 0s 2ms/step - loss: 6.6581 - mae: 6.6581\n",
      "Epoch 444/500\n",
      "2/2 [==============================] - 0s 2ms/step - loss: 6.5032 - mae: 6.5032\n",
      "Epoch 445/500\n",
      "2/2 [==============================] - 0s 2ms/step - loss: 6.5759 - mae: 6.5759\n",
      "Epoch 446/500\n",
      "2/2 [==============================] - 0s 1ms/step - loss: 6.8546 - mae: 6.8546\n",
      "Epoch 447/500\n",
      "2/2 [==============================] - 0s 2ms/step - loss: 6.4718 - mae: 6.4718\n",
      "Epoch 448/500\n",
      "2/2 [==============================] - 0s 2ms/step - loss: 6.4848 - mae: 6.4848\n",
      "Epoch 449/500\n",
      "2/2 [==============================] - 0s 4ms/step - loss: 6.5375 - mae: 6.5375\n",
      "Epoch 450/500\n",
      "2/2 [==============================] - 0s 3ms/step - loss: 6.4776 - mae: 6.4776\n",
      "Epoch 451/500\n",
      "2/2 [==============================] - 0s 2ms/step - loss: 6.5137 - mae: 6.5137\n",
      "Epoch 452/500\n",
      "2/2 [==============================] - 0s 2ms/step - loss: 7.1271 - mae: 7.1271\n",
      "Epoch 453/500\n",
      "2/2 [==============================] - 0s 3ms/step - loss: 7.0557 - mae: 7.0557\n",
      "Epoch 454/500\n",
      "2/2 [==============================] - 0s 3ms/step - loss: 7.3454 - mae: 7.3454\n",
      "Epoch 455/500\n",
      "2/2 [==============================] - 0s 2ms/step - loss: 7.1332 - mae: 7.1332\n",
      "Epoch 456/500\n",
      "2/2 [==============================] - 0s 2ms/step - loss: 6.9413 - mae: 6.9413\n",
      "Epoch 457/500\n",
      "2/2 [==============================] - 0s 2ms/step - loss: 6.4271 - mae: 6.4271\n",
      "Epoch 458/500\n",
      "2/2 [==============================] - 0s 2ms/step - loss: 7.5766 - mae: 7.5766\n",
      "Epoch 459/500\n",
      "2/2 [==============================] - 0s 2ms/step - loss: 7.6068 - mae: 7.6068\n",
      "Epoch 460/500\n",
      "2/2 [==============================] - 0s 1ms/step - loss: 6.7929 - mae: 6.7929\n",
      "Epoch 461/500\n",
      "2/2 [==============================] - 0s 2ms/step - loss: 6.5764 - mae: 6.5764\n",
      "Epoch 462/500\n",
      "2/2 [==============================] - 0s 2ms/step - loss: 6.8610 - mae: 6.8610\n",
      "Epoch 463/500\n",
      "2/2 [==============================] - 0s 1000us/step - loss: 8.0245 - mae: 8.0245\n",
      "Epoch 464/500\n",
      "2/2 [==============================] - 0s 998us/step - loss: 6.4170 - mae: 6.4170\n",
      "Epoch 465/500\n",
      "2/2 [==============================] - 0s 3ms/step - loss: 6.5489 - mae: 6.5489\n",
      "Epoch 466/500\n",
      "2/2 [==============================] - 0s 2ms/step - loss: 6.4836 - mae: 6.4836\n",
      "Epoch 467/500\n",
      "2/2 [==============================] - 0s 2ms/step - loss: 6.7240 - mae: 6.7240\n",
      "Epoch 468/500\n",
      "2/2 [==============================] - 0s 2ms/step - loss: 6.4553 - mae: 6.4553\n",
      "Epoch 469/500\n",
      "2/2 [==============================] - 0s 999us/step - loss: 6.7404 - mae: 6.7404\n",
      "Epoch 470/500\n",
      "2/2 [==============================] - 0s 2ms/step - loss: 6.8037 - mae: 6.8037\n",
      "Epoch 471/500\n",
      "2/2 [==============================] - 0s 2ms/step - loss: 7.3680 - mae: 7.3680\n",
      "Epoch 472/500\n",
      "2/2 [==============================] - 0s 2ms/step - loss: 6.5765 - mae: 6.5765\n",
      "Epoch 473/500\n",
      "2/2 [==============================] - 0s 2ms/step - loss: 6.7388 - mae: 6.7388\n",
      "Epoch 474/500\n",
      "2/2 [==============================] - 0s 3ms/step - loss: 6.6946 - mae: 6.6946\n",
      "Epoch 475/500\n",
      "2/2 [==============================] - 0s 3ms/step - loss: 7.2935 - mae: 7.2935\n",
      "Epoch 476/500\n",
      "2/2 [==============================] - 0s 2ms/step - loss: 6.4810 - mae: 6.4810\n",
      "Epoch 477/500\n",
      "2/2 [==============================] - 0s 1ms/step - loss: 7.4822 - mae: 7.4822\n",
      "Epoch 478/500\n",
      "2/2 [==============================] - 0s 2ms/step - loss: 6.4928 - mae: 6.4928\n",
      "Epoch 479/500\n",
      "2/2 [==============================] - 0s 3ms/step - loss: 6.3645 - mae: 6.3645\n",
      "Epoch 480/500\n",
      "2/2 [==============================] - 0s 2ms/step - loss: 6.6156 - mae: 6.6156\n",
      "Epoch 481/500\n",
      "2/2 [==============================] - 0s 3ms/step - loss: 7.1209 - mae: 7.1209\n",
      "Epoch 482/500\n",
      "2/2 [==============================] - 0s 2ms/step - loss: 6.3781 - mae: 6.3781\n",
      "Epoch 483/500\n",
      "2/2 [==============================] - 0s 2ms/step - loss: 6.5076 - mae: 6.5076\n",
      "Epoch 484/500\n",
      "2/2 [==============================] - 0s 1ms/step - loss: 6.3812 - mae: 6.3812\n",
      "Epoch 485/500\n",
      "2/2 [==============================] - 0s 2ms/step - loss: 6.5243 - mae: 6.5243\n",
      "Epoch 486/500\n",
      "2/2 [==============================] - 0s 2ms/step - loss: 7.0121 - mae: 7.0121\n",
      "Epoch 487/500\n",
      "2/2 [==============================] - 0s 2ms/step - loss: 6.5004 - mae: 6.5004\n",
      "Epoch 488/500\n",
      "2/2 [==============================] - 0s 2ms/step - loss: 6.5607 - mae: 6.5607\n",
      "Epoch 489/500\n",
      "2/2 [==============================] - 0s 2ms/step - loss: 6.9186 - mae: 6.9186\n",
      "Epoch 490/500\n",
      "2/2 [==============================] - 0s 2ms/step - loss: 6.5441 - mae: 6.5441\n",
      "Epoch 491/500\n",
      "2/2 [==============================] - 0s 2ms/step - loss: 6.5702 - mae: 6.5702\n",
      "Epoch 492/500\n",
      "2/2 [==============================] - 0s 2ms/step - loss: 6.5393 - mae: 6.5393\n",
      "Epoch 493/500\n",
      "2/2 [==============================] - 0s 3ms/step - loss: 6.6993 - mae: 6.6993\n",
      "Epoch 494/500\n",
      "2/2 [==============================] - 0s 2ms/step - loss: 7.1988 - mae: 7.1988\n",
      "Epoch 495/500\n",
      "2/2 [==============================] - 0s 1000us/step - loss: 6.3275 - mae: 6.3275\n",
      "Epoch 496/500\n",
      "2/2 [==============================] - 0s 3ms/step - loss: 6.3573 - mae: 6.3573\n",
      "Epoch 497/500\n",
      "2/2 [==============================] - 0s 2ms/step - loss: 6.4534 - mae: 6.4534\n",
      "Epoch 498/500\n",
      "2/2 [==============================] - 0s 2ms/step - loss: 7.2594 - mae: 7.2594\n",
      "Epoch 499/500\n",
      "2/2 [==============================] - 0s 999us/step - loss: 7.0207 - mae: 7.0207\n",
      "Epoch 500/500\n",
      "2/2 [==============================] - 0s 2ms/step - loss: 6.3226 - mae: 6.3226\n"
     ]
    },
    {
     "data": {
      "text/plain": [
       "<keras.callbacks.History at 0x28ed55cdc70>"
      ]
     },
     "execution_count": 90,
     "metadata": {},
     "output_type": "execute_result"
    }
   ],
   "source": [
    "# 1. create the model using the sequential API\n",
    "model_3 = tf.keras.Sequential(name = \"model_3\") # note the model names and layer names must meet regex to have underscores no spaces\n",
    "model_3.add(tf.keras.layers.Dense(10, input_shape=(1,), name=\"input_layer\"))\n",
    "model_3.add(tf.keras.layers.Dense(1, name=\"output_layer\"))\n",
    "\n",
    "# 2. compile the model\n",
    "model_3.compile(\n",
    "    loss = tf.keras.losses.mae, # mean absolute error predicted vs observed\n",
    "    optimizer = tf.keras.optimizers.SGD(lr=0.001), # NOTE: we added a lr rate because our model was overfitting\n",
    "    metrics=['mae'] # mean absolute error\n",
    ")\n",
    "\n",
    "# 3. fit the model (Important note we are fitting on the training data only)\n",
    "model_3.fit(X_train, y_train, epochs=500, verbose=1)"
   ]
  },
  {
   "cell_type": "code",
   "execution_count": 91,
   "metadata": {},
   "outputs": [
    {
     "data": {
      "image/png": "[encoded data removed]",
      "text/plain": [
       "<Figure size 720x504 with 1 Axes>"
      ]
     },
     "metadata": {
      "needs_background": "light"
     },
     "output_type": "display_data"
    }
   ],
   "source": [
    "# plot the predictions\n",
    "y_preds_3 = model_3.predict(X_test)\n",
    "\n",
    "# plot predictions\n",
    "plot_predictions(\n",
    "    train_data=X_train,\n",
    "    train_labels=y_train,\n",
    "    test_data=X_test,\n",
    "    test_labels=y_test,\n",
    "    predictions=y_preds_3\n",
    ")"
   ]
  },
  {
   "cell_type": "code",
   "execution_count": 79,
   "metadata": {},
   "outputs": [
    {
     "data": {
      "text/plain": [
       "(<tf.Tensor: shape=(), dtype=float32, numpy=68.627884>,\n",
       " <tf.Tensor: shape=(), dtype=float32, numpy=4796.099>)"
      ]
     },
     "execution_count": 79,
     "metadata": {},
     "output_type": "execute_result"
    }
   ],
   "source": [
    "# Calculate model_3 evaluation metrics\n",
    "mae_3 = tf.metrics.mean_absolute_error(y_test, tf.squeeze(y_preds_3))\n",
    "mse_3 = tf.metrics.mean_squared_error(y_test, tf.squeeze(y_preds_3))\n",
    "mae_3, mse_3"
   ]
  },
  {
   "cell_type": "markdown",
   "metadata": {},
   "source": [
    "### Comparing the results of our experiments\n",
    "We've run a few experiments, let's compare the results\n",
    "\n",
    "https://youtu.be/tpCFfeUEGs8?t=24707"
   ]
  }
 ],
 "metadata": {
  "interpreter": {
   "hash": "015b9d4b853c90004082392c3c886b9cec330d060d60d92815cef3a6eb65a3f8"
  },
  "kernelspec": {
   "display_name": "Python 3.8.12 64-bit ('venv': venv)",
   "language": "python",
   "name": "python3"
  },
  "language_info": {
   "codemirror_mode": {
    "name": "ipython",
    "version": 3
   },
   "file_extension": ".py",
   "mimetype": "text/x-python",
   "name": "python",
   "nbconvert_exporter": "python",
   "pygments_lexer": "ipython3",
   "version": "3.8.10"
  },
  "orig_nbformat": 4
 },
 "nbformat": 4,
 "nbformat_minor": 2
}

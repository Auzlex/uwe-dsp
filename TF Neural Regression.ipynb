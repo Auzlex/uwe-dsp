{
 "cells": [
  {
   "cell_type": "markdown",
   "metadata": {},
   "source": [
    "### Neural network Regression\n",
    "What is a regression problem?\n",
    "* Prediction\n",
    "\n",
    "What are we going to solve using this problem?\n",
    "* Predict house prices!\n",
    "\n"
   ]
  },
  {
   "cell_type": "code",
   "execution_count": 2,
   "metadata": {},
   "outputs": [
    {
     "name": "stderr",
     "output_type": "stream",
     "text": [
      "2021-11-19 12:34:18.922087: W tensorflow/stream_executor/platform/default/dso_loader.cc:64] Could not load dynamic library 'libcudart.so.11.0'; dlerror: libcudart.so.11.0: cannot open shared object file: No such file or directory\n",
      "2021-11-19 12:34:18.922125: I tensorflow/stream_executor/cuda/cudart_stub.cc:29] Ignore above cudart dlerror if you do not have a GPU set up on your machine.\n"
     ]
    },
    {
     "name": "stdout",
     "output_type": "stream",
     "text": [
      "2.7.0\n"
     ]
    }
   ],
   "source": [
    "import tensorflow as tf\n",
    "print(tf.__version__)"
   ]
  },
  {
   "cell_type": "markdown",
   "metadata": {},
   "source": [
    "## Creating data to view and fit"
   ]
  },
  {
   "cell_type": "code",
   "execution_count": 3,
   "metadata": {},
   "outputs": [
    {
     "data": {
      "text/plain": [
       "<matplotlib.collections.PathCollection at 0x7ff28271be20>"
      ]
     },
     "execution_count": 3,
     "metadata": {},
     "output_type": "execute_result"
    },
    {
     "data": {
      "image/png": "[encoded data removed]",
      "text/plain": [
       "<Figure size 432x288 with 1 Axes>"
      ]
     },
     "metadata": {
      "needs_background": "light"
     },
     "output_type": "display_data"
    }
   ],
   "source": [
    "import numpy as np\n",
    "import matplotlib.pyplot as plt\n",
    "\n",
    "# Create features\n",
    "X = np.array([-7.0, -4.0, -1.0, 2.0, 5.0, 8.0, 11.0, 14.0])\n",
    "\n",
    "# Create labels\n",
    "y = np.array([3.0, 6.0, 9.0, 12.0, 15.0, 18.0, 21.0, 24.0])\n",
    "\n",
    "plt.scatter(X, y)"
   ]
  },
  {
   "cell_type": "code",
   "execution_count": 4,
   "metadata": {},
   "outputs": [
    {
     "data": {
      "text/plain": [
       "array([ True,  True,  True,  True,  True,  True,  True,  True])"
      ]
     },
     "execution_count": 4,
     "metadata": {},
     "output_type": "execute_result"
    }
   ],
   "source": [
    "y == X + 10"
   ]
  },
  {
   "cell_type": "markdown",
   "metadata": {},
   "source": [
    "## Input and output shapes"
   ]
  },
  {
   "cell_type": "code",
   "execution_count": 5,
   "metadata": {},
   "outputs": [
    {
     "name": "stderr",
     "output_type": "stream",
     "text": [
      "2021-11-19 12:34:22.596985: I tensorflow/stream_executor/cuda/cuda_gpu_executor.cc:939] successful NUMA node read from SysFS had negative value (-1), but there must be at least one NUMA node, so returning NUMA node zero\n",
      "2021-11-19 12:34:22.597415: W tensorflow/stream_executor/platform/default/dso_loader.cc:64] Could not load dynamic library 'libcudart.so.11.0'; dlerror: libcudart.so.11.0: cannot open shared object file: No such file or directory\n",
      "2021-11-19 12:34:22.597498: W tensorflow/stream_executor/platform/default/dso_loader.cc:64] Could not load dynamic library 'libcublas.so.11'; dlerror: libcublas.so.11: cannot open shared object file: No such file or directory\n",
      "2021-11-19 12:34:22.597563: W tensorflow/stream_executor/platform/default/dso_loader.cc:64] Could not load dynamic library 'libcublasLt.so.11'; dlerror: libcublasLt.so.11: cannot open shared object file: No such file or directory\n",
      "2021-11-19 12:34:22.597641: W tensorflow/stream_executor/platform/default/dso_loader.cc:64] Could not load dynamic library 'libcufft.so.10'; dlerror: libcufft.so.10: cannot open shared object file: No such file or directory\n",
      "2021-11-19 12:34:22.597731: W tensorflow/stream_executor/platform/default/dso_loader.cc:64] Could not load dynamic library 'libcurand.so.10'; dlerror: libcurand.so.10: cannot open shared object file: No such file or directory\n",
      "2021-11-19 12:34:22.597822: W tensorflow/stream_executor/platform/default/dso_loader.cc:64] Could not load dynamic library 'libcusolver.so.11'; dlerror: libcusolver.so.11: cannot open shared object file: No such file or directory\n",
      "2021-11-19 12:34:22.597914: W tensorflow/stream_executor/platform/default/dso_loader.cc:64] Could not load dynamic library 'libcusparse.so.11'; dlerror: libcusparse.so.11: cannot open shared object file: No such file or directory\n",
      "2021-11-19 12:34:22.597994: W tensorflow/stream_executor/platform/default/dso_loader.cc:64] Could not load dynamic library 'libcudnn.so.8'; dlerror: libcudnn.so.8: cannot open shared object file: No such file or directory\n",
      "2021-11-19 12:34:22.598011: W tensorflow/core/common_runtime/gpu/gpu_device.cc:1850] Cannot dlopen some GPU libraries. Please make sure the missing libraries mentioned above are inst"
     ]
    },
    {
     "data": {
      "text/plain": [
       "(<tf.Tensor: shape=(3,), dtype=string, numpy=array([b'bedroom', b'bathroom', b'garage'], dtype=object)>,\n",
       " <tf.Tensor: shape=(1,), dtype=int32, numpy=array([939700], dtype=int32)>)"
      ]
     },
     "execution_count": 5,
     "metadata": {},
     "output_type": "execute_result"
    },
    {
     "name": "stderr",
     "output_type": "stream",
     "text": [
      "alled properly if you would like to use GPU. Follow the guide at https://www.tensorflow.org/install/gpu for how to download and setup the required libraries for your platform.\n",
      "Skipping registering GPU devices...\n",
      "2021-11-19 12:34:22.598663: I tensorflow/core/platform/cpu_feature_guard.cc:151] This TensorFlow binary is optimized with oneAPI Deep Neural Network Library (oneDNN) to use the following CPU instructions in performance-critical operations:  AVX2 FMA\n",
      "To enable them in other operations, rebuild TensorFlow with the appropriate compiler flags.\n"
     ]
    }
   ],
   "source": [
    "# Create a demo tensor for our housing price prediction problem\n",
    "house_info = tf.constant( [\n",
    "    \"bedroom\",\n",
    "    \"bathroom\",\n",
    "    \"garage\"\n",
    "] )\n",
    "house_price = tf.constant( [939700] )\n",
    "house_info, house_price"
   ]
  },
  {
   "cell_type": "code",
   "execution_count": 6,
   "metadata": {},
   "outputs": [
    {
     "data": {
      "text/plain": [
       "(-7.0, 3.0)"
      ]
     },
     "execution_count": 6,
     "metadata": {},
     "output_type": "execute_result"
    }
   ],
   "source": [
    "X[0], y[0]"
   ]
  },
  {
   "cell_type": "code",
   "execution_count": 7,
   "metadata": {},
   "outputs": [
    {
     "data": {
      "text/plain": [
       "(-4.0, 6.0)"
      ]
     },
     "execution_count": 7,
     "metadata": {},
     "output_type": "execute_result"
    }
   ],
   "source": [
    "X[1], y[1]"
   ]
  },
  {
   "cell_type": "code",
   "execution_count": 8,
   "metadata": {},
   "outputs": [
    {
     "data": {
      "text/plain": [
       "((8,), (8,))"
      ]
     },
     "execution_count": 8,
     "metadata": {},
     "output_type": "execute_result"
    }
   ],
   "source": [
    "input_shape = X.shape\n",
    "output_shape = y.shape\n",
    "input_shape, output_shape"
   ]
  },
  {
   "cell_type": "code",
   "execution_count": 9,
   "metadata": {},
   "outputs": [
    {
     "data": {
      "text/plain": [
       "0"
      ]
     },
     "execution_count": 9,
     "metadata": {},
     "output_type": "execute_result"
    }
   ],
   "source": [
    "X[0].ndim # scalars have no shape"
   ]
  },
  {
   "cell_type": "code",
   "execution_count": 10,
   "metadata": {},
   "outputs": [
    {
     "data": {
      "text/plain": [
       "(<tf.Tensor: shape=(8,), dtype=float64, numpy=array([-7., -4., -1.,  2.,  5.,  8., 11., 14.])>,\n",
       " <tf.Tensor: shape=(8,), dtype=float64, numpy=array([ 3.,  6.,  9., 12., 15., 18., 21., 24.])>)"
      ]
     },
     "execution_count": 10,
     "metadata": {},
     "output_type": "execute_result"
    }
   ],
   "source": [
    "# convert X and y into tensors \n",
    "X = tf.constant(X,dtype=tf.float64)\n",
    "y = tf.constant(y,dtype=tf.float64)\n",
    "X, y"
   ]
  },
  {
   "cell_type": "markdown",
   "metadata": {},
   "source": [
    "## Steps in modelling with TensorFlow\n",
    "1. **Creating a model** - define the input and output layers, as well as the hidden layers of the deep learning model.\n",
    "2. **Compiling a model** - define the loss function (In other words, the function which tells our model how wrong it is) and the optimizer (tells our model how to improve the patterns its learning) and evaluation metrics (what we can use to interpret the performance of our model)\n",
    "3. Fitting a model - letting the model try to find the patterns between X and & y (features and labels).\n"
   ]
  },
  {
   "cell_type": "code",
   "execution_count": 11,
   "metadata": {},
   "outputs": [
    {
     "name": "stdout",
     "output_type": "stream",
     "text": [
      "Epoch 1/5\n",
      "1/1 [==============================] - 0s 369ms/step - loss: 11.5048 - mae: 11.5048\n",
      "Epoch 2/5\n",
      "1/1 [==============================] - 0s 2ms/step - loss: 11.3723 - mae: 11.3723\n",
      "Epoch 3/5\n",
      "1/1 [==============================] - 0s 3ms/step - loss: 11.2398 - mae: 11.2398\n",
      "Epoch 4/5\n",
      "1/1 [==============================] - 0s 3ms/step - loss: 11.1073 - mae: 11.1073\n",
      "Epoch 5/5\n",
      "1/1 [==============================] - 0s 5ms/step - loss: 10.9748 - mae: 10.9748\n"
     ]
    },
    {
     "data": {
      "text/plain": [
       "<keras.callbacks.History at 0x7ff2784f4ee0>"
      ]
     },
     "execution_count": 11,
     "metadata": {},
     "output_type": "execute_result"
    }
   ],
   "source": [
    "# set the random seed\n",
    "tf.random.set_seed(42)\n",
    "\n",
    "# 1. create the model using the sequential API\n",
    "# model = tf.keras.Sequential(\n",
    "#     [\n",
    "#         tf.keras.layers.Dense(1)\n",
    "#     ]\n",
    "# )\n",
    "\n",
    "model = tf.keras.Sequential()\n",
    "model.add(tf.keras.layers.Dense(1))\n",
    "\n",
    "# 2. compile the model\n",
    "model.compile(\n",
    "    loss = tf.keras.losses.mae, # mean absolute error predicted vs observed\n",
    "    optimizer = tf.keras.optimizers.SGD(), # stochastic gradient descent (lr=1e-3)\n",
    "    metrics=['mae'] # mean absolute error\n",
    ")\n",
    "\n",
    "# 3. fit the model\n",
    "# we have to expand axis because it breaks in the latest version\n",
    "model.fit(tf.expand_dims(X, axis=-1), y, epochs=5)\n"
   ]
  },
  {
   "cell_type": "code",
   "execution_count": 12,
   "metadata": {},
   "outputs": [
    {
     "data": {
      "text/plain": [
       "array([[12.716021]], dtype=float32)"
      ]
     },
     "execution_count": 12,
     "metadata": {},
     "output_type": "execute_result"
    }
   ],
   "source": [
    "# attempt to predict\n",
    "y_pred = model.predict([17.0])\n",
    "y_pred"
   ]
  },
  {
   "cell_type": "code",
   "execution_count": 13,
   "metadata": {},
   "outputs": [
    {
     "data": {
      "text/plain": [
       "array([[23.71602]], dtype=float32)"
      ]
     },
     "execution_count": 13,
     "metadata": {},
     "output_type": "execute_result"
    }
   ],
   "source": [
    "y_pred + 11"
   ]
  },
  {
   "cell_type": "markdown",
   "metadata": {},
   "source": [
    "## Improving our model\n",
    "We can improve our model, by altering the steps we took to create a model.\n",
    "\n",
    "1. **Creating a model** - here we might add more layers, increase the number of hidden units (all called neurons) within each of the hidden layers, change the activation function of each layer.\n",
    "\n",
    "2. **Compiling a model** - here we might change the optimization function opr prehaps the **learning rate** of the optimization funciton\n",
    "\n",
    "3. **Fitting a model** - here we might fit a model for more **epochs** (leave it to train for longer) or on more data (give the model more examples to learn from)\n",
    "\n",
    "\n",
    "Note: Learning Rate is the most important hyper parameter to improving or making our model worse"
   ]
  },
  {
   "cell_type": "code",
   "execution_count": 42,
   "metadata": {},
   "outputs": [
    {
     "name": "stdout",
     "output_type": "stream",
     "text": [
      "Epoch 1/100\n",
      "1/1 [==============================] - 0s 361ms/step - loss: 12.7137 - mae: 12.7137\n",
      "Epoch 2/100\n",
      "1/1 [==============================] - 0s 5ms/step - loss: 11.2742 - mae: 11.2742\n",
      "Epoch 3/100\n",
      "1/1 [==============================] - 0s 5ms/step - loss: 9.9874 - mae: 9.9874\n",
      "Epoch 4/100\n",
      "1/1 [==============================] - 0s 4ms/step - loss: 8.8762 - mae: 8.8762\n",
      "Epoch 5/100\n",
      "1/1 [==============================] - 0s 4ms/step - loss: 7.7265 - mae: 7.7265\n",
      "Epoch 6/100\n",
      "1/1 [==============================] - 0s 4ms/step - loss: 6.5397 - mae: 6.5397\n",
      "Epoch 7/100\n",
      "1/1 [==============================] - 0s 3ms/step - loss: 5.3089 - mae: 5.3089\n",
      "Epoch 8/100\n",
      "1/1 [==============================] - 0s 3ms/step - loss: 4.0392 - mae: 4.0392\n",
      "Epoch 9/100\n",
      "1/1 [==============================] - 0s 3ms/step - loss: 3.8277 - mae: 3.8277\n",
      "Epoch 10/100\n",
      "1/1 [==============================] - 0s 3ms/step - loss: 4.0410 - mae: 4.0410\n",
      "Epoch 11/100\n",
      "1/1 [==============================] - 0s 4ms/step - loss: 4.5646 - mae: 4.5646\n",
      "Epoch 12/100\n",
      "1/1 [==============================] - 0s 3ms/step - loss: 4.8790 - mae: 4.8790\n",
      "Epoch 13/100\n",
      "1/1 [==============================] - 0s 2ms/step - loss: 5.0051 - mae: 5.0051\n",
      "Epoch 14/100\n",
      "1/1 [==============================] - 0s 3ms/step - loss: 4.9751 - mae: 4.9751\n",
      "Epoch 15/100\n",
      "1/1 [==============================] - 0s 5ms/step - loss: 4.8184 - mae: 4.8184\n",
      "Epoch 16/100\n",
      "1/1 [==============================] - 0s 3ms/step - loss: 4.5607 - mae: 4.5607\n",
      "Epoch 17/100\n",
      "1/1 [==============================] - 0s 2ms/step - loss: 4.2284 - mae: 4.2284\n",
      "Epoch 18/100\n",
      "1/1 [==============================] - 0s 2ms/step - loss: 3.8292 - mae: 3.8292\n",
      "Epoch 19/100\n",
      "1/1 [==============================] - 0s 2ms/step - loss: 3.5418 - mae: 3.5418\n",
      "Epoch 20/100\n",
      "1/1 [==============================] - 0s 5ms/step - loss: 3.3453 - mae: 3.3453\n",
      "Epoch 21/100\n",
      "1/1 [==============================] - 0s 3ms/step - loss: 3.2021 - mae: 3.2021\n",
      "Epoch 22/100\n",
      "1/1 [==============================] - 0s 4ms/step - loss: 3.2298 - mae: 3.2298\n",
      "Epoch 23/100\n",
      "1/1 [==============================] - 0s 3ms/step - loss: 3.3001 - mae: 3.3001\n",
      "Epoch 24/100\n",
      "1/1 [==============================] - 0s 4ms/step - loss: 3.2620 - mae: 3.2620\n",
      "Epoch 25/100\n",
      "1/1 [==============================] - 0s 2ms/step - loss: 3.1097 - mae: 3.1097\n",
      "Epoch 26/100\n",
      "1/1 [==============================] - 0s 4ms/step - loss: 2.9372 - mae: 2.9372\n",
      "Epoch 27/100\n",
      "1/1 [==============================] - 0s 5ms/step - loss: 2.7730 - mae: 2.7730\n",
      "Epoch 28/100\n",
      "1/1 [==============================] - 0s 3ms/step - loss: 2.6783 - mae: 2.6783\n",
      "Epoch 29/100\n",
      "1/1 [==============================] - 0s 5ms/step - loss: 2.6510 - mae: 2.6510\n",
      "Epoch 30/100\n",
      "1/1 [==============================] - 0s 4ms/step - loss: 2.5858 - mae: 2.5858\n",
      "Epoch 31/100\n",
      "1/1 [==============================] - 0s 5ms/step - loss: 2.4839 - mae: 2.4839\n",
      "Epoch 32/100\n",
      "1/1 [==============================] - 0s 4ms/step - loss: 2.3496 - mae: 2.3496\n",
      "Epoch 33/100\n",
      "1/1 [==============================] - 0s 3ms/step - loss: 2.1969 - mae: 2.1969\n",
      "Epoch 34/100\n",
      "1/1 [==============================] - 0s 3ms/step - loss: 2.0235 - mae: 2.0235\n",
      "Epoch 35/100\n",
      "1/1 [==============================] - 0s 4ms/step - loss: 1.8315 - mae: 1.8315\n",
      "Epoch 36/100\n",
      "1/1 [==============================] - 0s 3ms/step - loss: 1.7387 - mae: 1.7387\n",
      "Epoch 37/100\n",
      "1/1 [==============================] - 0s 6ms/step - loss: 1.5642 - mae: 1.5642\n",
      "Epoch 38/100\n",
      "1/1 [==============================] - 0s 2ms/step - loss: 1.2930 - mae: 1.2930\n",
      "Epoch 39/100\n",
      "1/1 [==============================] - 0s 4ms/step - loss: 1.1308 - mae: 1.1308\n",
      "Epoch 40/100\n",
      "1/1 [==============================] - 0s 3ms/step - loss: 0.9545 - mae: 0.9545\n",
      "Epoch 41/100\n",
      "1/1 [==============================] - 0s 4ms/step - loss: 0.7992 - mae: 0.7992\n",
      "Epoch 42/100\n",
      "1/1 [==============================] - 0s 5ms/step - loss: 0.4897 - mae: 0.4897\n",
      "Epoch 43/100\n",
      "1/1 [==============================] - 0s 4ms/step - loss: 0.3518 - mae: 0.3518\n",
      "Epoch 44/100\n",
      "1/1 [==============================] - 0s 6ms/step - loss: 0.2930 - mae: 0.2930\n",
      "Epoch 45/100\n",
      "1/1 [==============================] - 0s 3ms/step - loss: 0.3488 - mae: 0.3488\n",
      "Epoch 46/100\n",
      "1/1 [==============================] - 0s 4ms/step - loss: 0.6833 - mae: 0.6833\n",
      "Epoch 47/100\n",
      "1/1 [==============================] - 0s 4ms/step - loss: 0.9294 - mae: 0.9294\n",
      "Epoch 48/100\n",
      "1/1 [==============================] - 0s 7ms/step - loss: 0.7272 - mae: 0.7272\n",
      "Epoch 49/100\n",
      "1/1 [==============================] - 0s 3ms/step - loss: 0.5255 - mae: 0.5255\n",
      "Epoch 50/100\n",
      "1/1 [==============================] - 0s 5ms/step - loss: 0.8272 - mae: 0.8272\n",
      "Epoch 51/100\n",
      "1/1 [==============================] - 0s 4ms/step - loss: 0.5928 - mae: 0.5928\n",
      "Epoch 52/100\n",
      "1/1 [==============================] - 0s 5ms/step - loss: 0.7250 - mae: 0.7250\n",
      "Epoch 53/100\n",
      "1/1 [==============================] - 0s 4ms/step - loss: 0.7979 - mae: 0.7979\n",
      "Epoch 54/100\n",
      "1/1 [==============================] - 0s 6ms/step - loss: 0.7017 - mae: 0.7017\n",
      "Epoch 55/100\n",
      "1/1 [==============================] - 0s 4ms/step - loss: 0.4051 - mae: 0.4051\n",
      "Epoch 56/100\n",
      "1/1 [==============================] - 0s 3ms/step - loss: 0.6490 - mae: 0.6490\n",
      "Epoch 57/100\n",
      "1/1 [==============================] - 0s 3ms/step - loss: 0.6021 - mae: 0.6021\n",
      "Epoch 58/100\n",
      "1/1 [==============================] - 0s 4ms/step - loss: 0.2871 - mae: 0.2871\n",
      "Epoch 59/100\n",
      "1/1 [==============================] - 0s 3ms/step - loss: 0.5008 - mae: 0.5008\n",
      "Epoch 60/100\n",
      "1/1 [==============================] - 0s 4ms/step - loss: 0.6658 - mae: 0.6658\n",
      "Epoch 61/100\n",
      "1/1 [==============================] - 0s 3ms/step - loss: 0.5972 - mae: 0.5972\n",
      "Epoch 62/100\n",
      "1/1 [==============================] - 0s 4ms/step - loss: 0.2030 - mae: 0.2030\n",
      "Epoch 63/100\n",
      "1/1 [==============================] - 0s 4ms/step - loss: 0.4117 - mae: 0.4117\n",
      "Epoch 64/100\n",
      "1/1 [==============================] - 0s 5ms/step - loss: 0.6081 - mae: 0.6081\n",
      "Epoch 65/100\n",
      "1/1 [==============================] - 0s 4ms/step - loss: 0.4742 - mae: 0.4742\n",
      "Epoch 66/100\n",
      "1/1 [==============================] - 0s 6ms/step - loss: 0.2320 - mae: 0.2320\n",
      "Epoch 67/100\n",
      "1/1 [==============================] - 0s 4ms/step - loss: 0.5110 - mae: 0.5110\n",
      "Epoch 68/100\n",
      "1/1 [==============================] - 0s 6ms/step - loss: 0.5248 - mae: 0.5248\n",
      "Epoch 69/100\n",
      "1/1 [==============================] - 0s 4ms/step - loss: 0.2255 - mae: 0.2255\n",
      "Epoch 70/100\n",
      "1/1 [==============================] - 0s 4ms/step - loss: 0.4375 - mae: 0.4375\n",
      "Epoch 71/100\n",
      "1/1 [==============================] - 0s 4ms/step - loss: 0.6187 - mae: 0.6187\n",
      "Epoch 72/100\n",
      "1/1 [==============================] - 0s 3ms/step - loss: 0.4733 - mae: 0.4733\n",
      "Epoch 73/100\n",
      "1/1 [==============================] - 0s 5ms/step - loss: 0.1529 - mae: 0.1529\n",
      "Epoch 74/100\n",
      "1/1 [==============================] - 0s 5ms/step - loss: 0.4680 - mae: 0.4680\n",
      "Epoch 75/100\n",
      "1/1 [==============================] - 0s 3ms/step - loss: 0.5518 - mae: 0.5518\n",
      "Epoch 76/100\n",
      "1/1 [==============================] - 0s 5ms/step - loss: 0.3806 - mae: 0.3806\n",
      "Epoch 77/100\n",
      "1/1 [==============================] - 0s 4ms/step - loss: 0.1551 - mae: 0.1551\n",
      "Epoch 78/100\n",
      "1/1 [==============================] - 0s 8ms/step - loss: 0.3527 - mae: 0.3527\n",
      "Epoch 79/100\n",
      "1/1 [==============================] - 0s 5ms/step - loss: 0.2661 - mae: 0.2661\n",
      "Epoch 80/100\n",
      "1/1 [==============================] - 0s 4ms/step - loss: 0.3526 - mae: 0.3526\n",
      "Epoch 81/100\n",
      "1/1 [==============================] - 0s 4ms/step - loss: 0.3307 - mae: 0.3307\n",
      "Epoch 82/100\n",
      "1/1 [==============================] - 0s 5ms/step - loss: 0.1810 - mae: 0.1810\n",
      "Epoch 83/100\n",
      "1/1 [==============================] - 0s 4ms/step - loss: 0.3462 - mae: 0.3462\n",
      "Epoch 84/100\n",
      "1/1 [==============================] - 0s 3ms/step - loss: 0.2852 - mae: 0.2852\n",
      "Epoch 85/100\n",
      "1/1 [==============================] - 0s 5ms/step - loss: 0.1814 - mae: 0.1814\n",
      "Epoch 86/100\n",
      "1/1 [==============================] - 0s 5ms/step - loss: 0.2731 - mae: 0.2731\n",
      "Epoch 87/100\n",
      "1/1 [==============================] - 0s 5ms/step - loss: 0.1573 - mae: 0.1573\n",
      "Epoch 88/100\n",
      "1/1 [==============================] - 0s 6ms/step - loss: 0.2572 - mae: 0.2572\n",
      "Epoch 89/100\n",
      "1/1 [==============================] - 0s 3ms/step - loss: 0.1516 - mae: 0.1516\n",
      "Epoch 90/100\n",
      "1/1 [==============================] - 0s 4ms/step - loss: 0.1819 - mae: 0.1819\n",
      "Epoch 91/100\n",
      "1/1 [==============================] - 0s 5ms/step - loss: 0.1427 - mae: 0.1427\n",
      "Epoch 92/100\n",
      "1/1 [==============================] - 0s 4ms/step - loss: 0.1081 - mae: 0.1081\n",
      "Epoch 93/100\n",
      "1/1 [==============================] - 0s 4ms/step - loss: 0.0941 - mae: 0.0941\n",
      "Epoch 94/100\n",
      "1/1 [==============================] - 0s 3ms/step - loss: 0.1727 - mae: 0.1727\n",
      "Epoch 95/100\n",
      "1/1 [==============================] - 0s 3ms/step - loss: 0.0820 - mae: 0.0820\n",
      "Epoch 96/100\n",
      "1/1 [==============================] - 0s 5ms/step - loss: 0.1159 - mae: 0.1159\n",
      "Epoch 97/100\n",
      "1/1 [==============================] - 0s 2ms/step - loss: 0.1431 - mae: 0.1431\n",
      "Epoch 98/100\n",
      "1/1 [==============================] - 0s 3ms/step - loss: 0.0535 - mae: 0.0535\n",
      "Epoch 99/100\n",
      "1/1 [==============================] - 0s 4ms/step - loss: 0.1681 - mae: 0.1681\n",
      "Epoch 100/100\n",
      "1/1 [==============================] - 0s 4ms/step - loss: 0.0727 - mae: 0.0727\n"
     ]
    },
    {
     "data": {
      "text/plain": [
       "<keras.callbacks.History at 0x7ff2706b3fd0>"
      ]
     },
     "execution_count": 42,
     "metadata": {},
     "output_type": "execute_result"
    }
   ],
   "source": [
    "# modelv2 = tf.keras.Sequential()\n",
    "# modelv2.add(tf.keras.layers.Dense(100, activation='relu'))\n",
    "# modelv2.add(tf.keras.layers.Dense(100, activation='relu'))\n",
    "# modelv2.add(tf.keras.layers.Dense(100, activation='relu'))\n",
    "# modelv2.add(tf.keras.layers.Dense(1))\n",
    "\n",
    "# # 2. compile the model\n",
    "# modelv2.compile(\n",
    "#     loss = tf.keras.losses.mae, # mean absolute error predicted vs observed\n",
    "#     optimizer = tf.keras.optimizers.Adam(lr=0.0001), # stochastic gradient descent (lr=1e-3)\n",
    "#     metrics=['mae'] # mean absolute error\n",
    "# )\n",
    "\n",
    "# # 3. fit the model\n",
    "# # we have to expand axis because it breaks in the latest version\n",
    "# modelv2.fit(tf.expand_dims(X, axis=-1), y, epochs=100)\n",
    "\n",
    "\n",
    "# 1. create the model using the sequential API\n",
    "modelV2 = tf.keras.Sequential()\n",
    "modelV2.add(tf.keras.layers.Dense(100, activation='relu'))\n",
    "modelV2.add(tf.keras.layers.Dense(1))\n",
    "\n",
    "# 2. compile the model\n",
    "modelV2.compile(\n",
    "    loss = tf.keras.losses.mae, # mean absolute error predicted vs observed\n",
    "    optimizer = tf.keras.optimizers.Adam(lr=0.015), # SGD stochastic gradient descent (lr=1e-3)\n",
    "    metrics=['mae'] # mean absolute error\n",
    ")\n",
    "\n",
    "# 3. fit the model\n",
    "# we have to expand axis because it breaks in the latest version\n",
    "modelV2.fit(tf.expand_dims(X, axis=-1), y, epochs=100)"
   ]
  },
  {
   "cell_type": "markdown",
   "metadata": {},
   "source": [
    "## Trained Model predicted Y Results Vs Actual Y values\n",
    "In this example below we plot the trained AI guess of Y from X value vs the actual result\n",
    "- **Blue** is the test data we trained the model with\n",
    "- **Red** is TF model guess"
   ]
  },
  {
   "cell_type": "code",
   "execution_count": 43,
   "metadata": {},
   "outputs": [
    {
     "data": {
      "image/png": "[encoded data removed]",
      "text/plain": [
       "<Figure size 432x288 with 1 Axes>"
      ]
     },
     "metadata": {
      "needs_background": "light"
     },
     "output_type": "display_data"
    }
   ],
   "source": [
    "#modelV2.predict([17.0])\n",
    "X = np.array(X,dtype=np.float64)\n",
    "for i in range(0,len(X)):\n",
    "    x_value = X[i]\n",
    "    #print(x_value)\n",
    "    # predict y value\n",
    "    y_pred = modelV2.predict([x_value])\n",
    "\n",
    "    # plot the prediction\n",
    "    plt.scatter(x_value, y[i], color=\"blue\")\n",
    "    plt.scatter(x_value, y_pred, color=\"red\")"
   ]
  },
  {
   "cell_type": "markdown",
   "metadata": {},
   "source": [
    "## Data outside the Dataset\n",
    "Let's see what happens if we try data outside the data set\n",
    "The plots in orange are the neural networks guess thats outside the dataset\n",
    "while red is still within the dataset and blue is our dataset"
   ]
  },
  {
   "cell_type": "code",
   "execution_count": 67,
   "metadata": {},
   "outputs": [
    {
     "name": "stdout",
     "output_type": "stream",
     "text": [
      "[-7. -4. -1.  2.  5.  8. 11. 14. 17. 20. 23. 26. 29. 32. 17. 20. 23. 26.\n",
      " 29. 32. 17. 20. 23. 26. 29. 32. 17. 20. 23. 26. 29. 32. 17. 20. 23. 26.\n",
      " 29. 32. 35. 38. 41. 44. 47. 50. 53. 56. 59. 62. 65. 68. 71. 74. 77. 80.\n",
      " 83. 17. 20. 23. 26. 29. 32. 35. 38. 41. 44. 47. 50. 53. 56. 59. 62. 65.\n",
      " 68. 71. 74. 77. 80. 83. 17. 20. 23. 26. 29. 32. 35. 38. 41. 44. 47. 50.\n",
      " 53. 56. 59. 62. 65. 68. 71. 74. 77. 80. 83.]\n"
     ]
    },
    {
     "data": {
      "image/png": "[encoded data removed]",
      "text/plain": [
       "<Figure size 432x288 with 1 Axes>"
      ]
     },
     "metadata": {
      "needs_background": "light"
     },
     "output_type": "display_data"
    }
   ],
   "source": [
    "X = np.array(X,dtype=np.float64)\n",
    "#print(X)\n",
    "\n",
    "# modify X to add more data\n",
    "v = 14.0\n",
    "while True:\n",
    "    v = v + 3\n",
    "    #print(v)\n",
    "    X = np.append(X,v)\n",
    "\n",
    "    if v > 80:\n",
    "        break\n",
    "print(X)\n",
    "\n",
    "\n",
    "#X.append(  )\n",
    "for i in range(0,len(X)):\n",
    "    x_value = X[i]\n",
    "    #print(x_value)\n",
    "    # predict y value\n",
    "    y_pred = modelV2.predict([x_value])\n",
    "\n",
    "    # plot the prediction\n",
    "    if i < len(y)-1:\n",
    "        plt.scatter(x_value, y[i], color=\"blue\")\n",
    "    \n",
    "    # show what is outside the data set\n",
    "    if i > len(y)-1:\n",
    "        plt.scatter(x_value, y_pred, color=\"orange\")\n",
    "    else:\n",
    "        plt.scatter(x_value, y_pred, color=\"red\")"
   ]
  },
  {
   "cell_type": "markdown",
   "metadata": {},
   "source": [
    "## Evaluating a model\n",
    "In practice, a typical workflow you'll go through when building neural network is:\n",
    "```\n",
    "Build a model -> fit it -> evaluate it -> tweak a model, REPEAT\n",
    "```\n",
    "When it comes to evaluation.. there are 3 words you should memorize:\n",
    "> \"Visualize, Visualize, Visualize!\"\n",
    "\n",
    "Its a good idea to visualize:\n",
    "* the data that we are working with\n",
    "* the model its self? what does it look like? how does the data go through it?\n",
    "* the training of a model? how does it perform as it learns what happens to the data?\n",
    "* The predictions of a trained model?? was it better or worse, What factors changed it?\n"
   ]
  },
  {
   "cell_type": "code",
   "execution_count": 69,
   "metadata": {},
   "outputs": [
    {
     "data": {
      "text/plain": [
       "<tf.Tensor: shape=(50,), dtype=int32, numpy=\n",
       "array([-100,  -96,  -92,  -88,  -84,  -80,  -76,  -72,  -68,  -64,  -60,\n",
       "        -56,  -52,  -48,  -44,  -40,  -36,  -32,  -28,  -24,  -20,  -16,\n",
       "        -12,   -8,   -4,    0,    4,    8,   12,   16,   20,   24,   28,\n",
       "         32,   36,   40,   44,   48,   52,   56,   60,   64,   68,   72,\n",
       "         76,   80,   84,   88,   92,   96], dtype=int32)>"
      ]
     },
     "execution_count": 69,
     "metadata": {},
     "output_type": "execute_result"
    }
   ],
   "source": [
    "# lets make a bigger dataset\n",
    "X = tf.range( -100, 100, 4 )\n",
    "X"
   ]
  },
  {
   "cell_type": "code",
   "execution_count": 70,
   "metadata": {},
   "outputs": [
    {
     "data": {
      "text/plain": [
       "<tf.Tensor: shape=(50,), dtype=int32, numpy=\n",
       "array([-90, -86, -82, -78, -74, -70, -66, -62, -58, -54, -50, -46, -42,\n",
       "       -38, -34, -30, -26, -22, -18, -14, -10,  -6,  -2,   2,   6,  10,\n",
       "        14,  18,  22,  26,  30,  34,  38,  42,  46,  50,  54,  58,  62,\n",
       "        66,  70,  74,  78,  82,  86,  90,  94,  98, 102, 106], dtype=int32)>"
      ]
     },
     "execution_count": 70,
     "metadata": {},
     "output_type": "execute_result"
    }
   ],
   "source": [
    "# make labels for the dataset\n",
    "y = X + 10\n",
    "y"
   ]
  },
  {
   "cell_type": "code",
   "execution_count": 72,
   "metadata": {},
   "outputs": [
    {
     "data": {
      "text/plain": [
       "<matplotlib.collections.PathCollection at 0x7ff254082c70>"
      ]
     },
     "execution_count": 72,
     "metadata": {},
     "output_type": "execute_result"
    },
    {
     "data": {
      "image/png": "[encoded data removed]",
      "text/plain": [
       "<Figure size 432x288 with 1 Axes>"
      ]
     },
     "metadata": {
      "needs_background": "light"
     },
     "output_type": "display_data"
    }
   ],
   "source": [
    "plt.scatter(X,y)"
   ]
  },
  {
   "cell_type": "markdown",
   "metadata": {},
   "source": [
    "### The 3 sets...\n",
    "* **Training set** - the model learns from this data, which is typically 70-80% of the total data you have available.\n",
    "* **Validation set** - the model is trained on this data, which is typically 10-15% of the data available. \n",
    "* **Test set** - the model gets evaluated on this data to test what has been learned, this set is typically 10-15% of the total data available.\n",
    "\n",
    "-> sounds like the hold out method\n",
    "\n",
    "This method of training is called generalization, Why do this? \n",
    "`We want our model to perform on data it has't seen before.`"
   ]
  },
  {
   "cell_type": "code",
   "execution_count": null,
   "metadata": {},
   "outputs": [],
   "source": []
  }
 ],
 "metadata": {
  "interpreter": {
   "hash": "015b9d4b853c90004082392c3c886b9cec330d060d60d92815cef3a6eb65a3f8"
  },
  "kernelspec": {
   "display_name": "Python 3.8.12 64-bit ('venv': venv)",
   "language": "python",
   "name": "python3"
  },
  "language_info": {
   "codemirror_mode": {
    "name": "ipython",
    "version": 3
   },
   "file_extension": ".py",
   "mimetype": "text/x-python",
   "name": "python",
   "nbconvert_exporter": "python",
   "pygments_lexer": "ipython3",
   "version": "3.8.12"
  },
  "orig_nbformat": 4
 },
 "nbformat": 4,
 "nbformat_minor": 2
}

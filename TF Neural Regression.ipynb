{
 "cells": [
  {
   "cell_type": "markdown",
   "metadata": {},
   "source": [
    "### Neural network Regression\n",
    "What is a regression problem?\n",
    "* Prediction\n",
    "\n",
    "What are we going to solve using this problem?\n",
    "* Predict house prices!\n",
    "\n"
   ]
  },
  {
   "cell_type": "code",
   "execution_count": 2,
   "metadata": {},
   "outputs": [
    {
     "name": "stdout",
     "output_type": "stream",
     "text": [
      "2.7.0\n"
     ]
    }
   ],
   "source": [
    "import tensorflow as tf\n",
    "print(tf.__version__)"
   ]
  },
  {
   "cell_type": "markdown",
   "metadata": {},
   "source": [
    "## Creating data to view and fit"
   ]
  },
  {
   "cell_type": "code",
   "execution_count": 3,
   "metadata": {},
   "outputs": [
    {
     "data": {
      "text/plain": [
       "<matplotlib.collections.PathCollection at 0x1f1bbc4d970>"
      ]
     },
     "execution_count": 3,
     "metadata": {},
     "output_type": "execute_result"
    },
    {
     "data": {
      "image/png": "[encoded data removed]",
      "text/plain": [
       "<Figure size 432x288 with 1 Axes>"
      ]
     },
     "metadata": {
      "needs_background": "light"
     },
     "output_type": "display_data"
    }
   ],
   "source": [
    "import numpy as np\n",
    "import matplotlib.pyplot as plt\n",
    "\n",
    "# Create features\n",
    "X = np.array([-7.0, -4.0, -1.0, 2.0, 5.0, 8.0, 11.0, 14.0])\n",
    "\n",
    "# Create labels\n",
    "y = np.array([3.0, 6.0, 9.0, 12.0, 15.0, 18.0, 21.0, 24.0])\n",
    "\n",
    "plt.scatter(X, y)"
   ]
  },
  {
   "cell_type": "code",
   "execution_count": 4,
   "metadata": {},
   "outputs": [
    {
     "data": {
      "text/plain": [
       "array([ True,  True,  True,  True,  True,  True,  True,  True])"
      ]
     },
     "execution_count": 4,
     "metadata": {},
     "output_type": "execute_result"
    }
   ],
   "source": [
    "y == X + 10"
   ]
  },
  {
   "cell_type": "markdown",
   "metadata": {},
   "source": [
    "## Input and output shapes"
   ]
  },
  {
   "cell_type": "code",
   "execution_count": 5,
   "metadata": {},
   "outputs": [
    {
     "data": {
      "text/plain": [
       "(<tf.Tensor: shape=(3,), dtype=string, numpy=array([b'bedroom', b'bathroom', b'garage'], dtype=object)>,\n",
       " <tf.Tensor: shape=(1,), dtype=int32, numpy=array([939700])>)"
      ]
     },
     "execution_count": 5,
     "metadata": {},
     "output_type": "execute_result"
    }
   ],
   "source": [
    "# Create a demo tensor for our housing price prediction problem\n",
    "house_info = tf.constant( [\n",
    "    \"bedroom\",\n",
    "    \"bathroom\",\n",
    "    \"garage\"\n",
    "] )\n",
    "house_price = tf.constant( [939700] )\n",
    "house_info, house_price"
   ]
  },
  {
   "cell_type": "code",
   "execution_count": 6,
   "metadata": {},
   "outputs": [
    {
     "data": {
      "text/plain": [
       "(-7.0, 3.0)"
      ]
     },
     "execution_count": 6,
     "metadata": {},
     "output_type": "execute_result"
    }
   ],
   "source": [
    "X[0], y[0]"
   ]
  },
  {
   "cell_type": "code",
   "execution_count": 7,
   "metadata": {},
   "outputs": [
    {
     "data": {
      "text/plain": [
       "(-4.0, 6.0)"
      ]
     },
     "execution_count": 7,
     "metadata": {},
     "output_type": "execute_result"
    }
   ],
   "source": [
    "X[1], y[1]"
   ]
  },
  {
   "cell_type": "code",
   "execution_count": 8,
   "metadata": {},
   "outputs": [
    {
     "data": {
      "text/plain": [
       "((8,), (8,))"
      ]
     },
     "execution_count": 8,
     "metadata": {},
     "output_type": "execute_result"
    }
   ],
   "source": [
    "input_shape = X.shape\n",
    "output_shape = y.shape\n",
    "input_shape, output_shape"
   ]
  },
  {
   "cell_type": "code",
   "execution_count": 9,
   "metadata": {},
   "outputs": [
    {
     "data": {
      "text/plain": [
       "0"
      ]
     },
     "execution_count": 9,
     "metadata": {},
     "output_type": "execute_result"
    }
   ],
   "source": [
    "X[0].ndim # scalars have no shape"
   ]
  },
  {
   "cell_type": "code",
   "execution_count": 10,
   "metadata": {},
   "outputs": [
    {
     "data": {
      "text/plain": [
       "(<tf.Tensor: shape=(8,), dtype=float64, numpy=array([-7., -4., -1.,  2.,  5.,  8., 11., 14.])>,\n",
       " <tf.Tensor: shape=(8,), dtype=float64, numpy=array([ 3.,  6.,  9., 12., 15., 18., 21., 24.])>)"
      ]
     },
     "execution_count": 10,
     "metadata": {},
     "output_type": "execute_result"
    }
   ],
   "source": [
    "# convert X and y into tensors \n",
    "X = tf.constant(X,dtype=tf.float64)\n",
    "y = tf.constant(y,dtype=tf.float64)\n",
    "X, y"
   ]
  },
  {
   "cell_type": "markdown",
   "metadata": {},
   "source": [
    "## Steps in modelling with TensorFlow\n",
    "1. **Creating a model** - define the input and output layers, as well as the hidden layers of the deep learning model.\n",
    "2. **Compiling a model** - define the loss function (In other words, the function which tells our model how wrong it is) and the optimizer (tells our model how to improve the patterns its learning) and evaluation metrics (what we can use to interpret the performance of our model)\n",
    "3. **Fitting a model** - letting the model try to find the patterns between X and & y (features and labels).\n"
   ]
  },
  {
   "cell_type": "code",
   "execution_count": 11,
   "metadata": {},
   "outputs": [
    {
     "name": "stdout",
     "output_type": "stream",
     "text": [
      "Epoch 1/5\n",
      "1/1 [==============================] - 0s 220ms/step - loss: 11.5048 - mae: 11.5048\n",
      "Epoch 2/5\n",
      "1/1 [==============================] - 0s 1ms/step - loss: 11.3723 - mae: 11.3723\n",
      "Epoch 3/5\n",
      "1/1 [==============================] - 0s 2ms/step - loss: 11.2398 - mae: 11.2398\n",
      "Epoch 4/5\n",
      "1/1 [==============================] - 0s 1ms/step - loss: 11.1073 - mae: 11.1073\n",
      "Epoch 5/5\n",
      "1/1 [==============================] - 0s 2ms/step - loss: 10.9748 - mae: 10.9748\n"
     ]
    },
    {
     "data": {
      "text/plain": [
       "<keras.callbacks.History at 0x1f1c24c8ee0>"
      ]
     },
     "execution_count": 11,
     "metadata": {},
     "output_type": "execute_result"
    }
   ],
   "source": [
    "# set the random seed\n",
    "tf.random.set_seed(42)\n",
    "\n",
    "# 1. create the model using the sequential API\n",
    "# model = tf.keras.Sequential(\n",
    "#     [\n",
    "#         tf.keras.layers.Dense(1)\n",
    "#     ]\n",
    "# )\n",
    "\n",
    "model = tf.keras.Sequential()\n",
    "model.add(tf.keras.layers.Dense(1))\n",
    "\n",
    "# 2. compile the model\n",
    "model.compile(\n",
    "    loss = tf.keras.losses.mae, # mean absolute error predicted vs observed\n",
    "    optimizer = tf.keras.optimizers.SGD(), # stochastic gradient descent (lr=1e-3)\n",
    "    metrics=['mae'] # mean absolute error\n",
    ")\n",
    "\n",
    "# 3. fit the model\n",
    "# we have to expand axis because it breaks in the latest version\n",
    "model.fit(tf.expand_dims(X, axis=-1), y, epochs=5)\n"
   ]
  },
  {
   "cell_type": "code",
   "execution_count": 12,
   "metadata": {},
   "outputs": [
    {
     "data": {
      "text/plain": [
       "array([[12.716021]], dtype=float32)"
      ]
     },
     "execution_count": 12,
     "metadata": {},
     "output_type": "execute_result"
    }
   ],
   "source": [
    "# attempt to predict\n",
    "y_pred = model.predict([17.0])\n",
    "y_pred"
   ]
  },
  {
   "cell_type": "code",
   "execution_count": 13,
   "metadata": {},
   "outputs": [
    {
     "data": {
      "text/plain": [
       "array([[23.71602]], dtype=float32)"
      ]
     },
     "execution_count": 13,
     "metadata": {},
     "output_type": "execute_result"
    }
   ],
   "source": [
    "y_pred + 11"
   ]
  },
  {
   "cell_type": "markdown",
   "metadata": {},
   "source": [
    "## Improving our model\n",
    "We can improve our model, by altering the steps we took to create a model.\n",
    "\n",
    "1. **Creating a model** - here we might add more layers, increase the number of hidden units (all called neurons) within each of the hidden layers, change the activation function of each layer.\n",
    "\n",
    "2. **Compiling a model** - here we might change the optimization function opr prehaps the **learning rate** of the optimization funciton\n",
    "\n",
    "3. **Fitting a model** - here we might fit a model for more **epochs** (leave it to train for longer) or on more data (give the model more examples to learn from)\n",
    "\n",
    "\n",
    "Note: Learning Rate is the most important hyper parameter to improving or making our model worse"
   ]
  },
  {
   "cell_type": "code",
   "execution_count": 14,
   "metadata": {},
   "outputs": [
    {
     "name": "stderr",
     "output_type": "stream",
     "text": [
      "C:\\Users\\charl\\AppData\\Local\\Packages\\PythonSoftwareFoundation.Python.3.8_qbz5n2kfra8p0\\LocalCache\\local-packages\\Python38\\site-packages\\keras\\optimizer_v2\\adam.py:105: UserWarning: The `lr` argument is deprecated, use `learning_rate` instead.\n",
      "  super(Adam, self).__init__(name, **kwargs)\n"
     ]
    },
    {
     "name": "stdout",
     "output_type": "stream",
     "text": [
      "Epoch 1/100\n",
      "1/1 [==============================] - 0s 211ms/step - loss: 13.9468 - mae: 13.9468\n",
      "Epoch 2/100\n",
      "1/1 [==============================] - 0s 2ms/step - loss: 12.5065 - mae: 12.5065\n",
      "Epoch 3/100\n",
      "1/1 [==============================] - 0s 3ms/step - loss: 11.1337 - mae: 11.1337\n",
      "Epoch 4/100\n",
      "1/1 [==============================] - 0s 2ms/step - loss: 9.9339 - mae: 9.9339\n",
      "Epoch 5/100\n",
      "1/1 [==============================] - 0s 2ms/step - loss: 8.7000 - mae: 8.7000\n",
      "Epoch 6/100\n",
      "1/1 [==============================] - 0s 2ms/step - loss: 7.4350 - mae: 7.4350\n",
      "Epoch 7/100\n",
      "1/1 [==============================] - 0s 1ms/step - loss: 6.1301 - mae: 6.1301\n",
      "Epoch 8/100\n",
      "1/1 [==============================] - 0s 2ms/step - loss: 4.7794 - mae: 4.7794\n",
      "Epoch 9/100\n",
      "1/1 [==============================] - 0s 2ms/step - loss: 3.8049 - mae: 3.8049\n",
      "Epoch 10/100\n",
      "1/1 [==============================] - 0s 2ms/step - loss: 3.9597 - mae: 3.9597\n",
      "Epoch 11/100\n",
      "1/1 [==============================] - 0s 1ms/step - loss: 4.5370 - mae: 4.5370\n",
      "Epoch 12/100\n",
      "1/1 [==============================] - 0s 2ms/step - loss: 5.0104 - mae: 5.0104\n",
      "Epoch 13/100\n",
      "1/1 [==============================] - 0s 994us/step - loss: 5.2658 - mae: 5.2658\n",
      "Epoch 14/100\n",
      "1/1 [==============================] - 0s 2ms/step - loss: 5.3353 - mae: 5.3353\n",
      "Epoch 15/100\n",
      "1/1 [==============================] - 0s 1000us/step - loss: 5.2483 - mae: 5.2483\n",
      "Epoch 16/100\n",
      "1/1 [==============================] - 0s 2ms/step - loss: 5.0439 - mae: 5.0439\n",
      "Epoch 17/100\n",
      "1/1 [==============================] - 0s 2ms/step - loss: 4.7460 - mae: 4.7460\n",
      "Epoch 18/100\n",
      "1/1 [==============================] - 0s 2ms/step - loss: 4.3692 - mae: 4.3692\n",
      "Epoch 19/100\n",
      "1/1 [==============================] - 0s 2ms/step - loss: 3.9401 - mae: 3.9401\n",
      "Epoch 20/100\n",
      "1/1 [==============================] - 0s 1ms/step - loss: 3.6049 - mae: 3.6049\n",
      "Epoch 21/100\n",
      "1/1 [==============================] - 0s 2ms/step - loss: 3.4176 - mae: 3.4176\n",
      "Epoch 22/100\n",
      "1/1 [==============================] - 0s 999us/step - loss: 3.3280 - mae: 3.3280\n",
      "Epoch 23/100\n",
      "1/1 [==============================] - 0s 2ms/step - loss: 3.4112 - mae: 3.4112\n",
      "Epoch 24/100\n",
      "1/1 [==============================] - 0s 2ms/step - loss: 3.5045 - mae: 3.5045\n",
      "Epoch 25/100\n",
      "1/1 [==============================] - 0s 2ms/step - loss: 3.5395 - mae: 3.5395\n",
      "Epoch 26/100\n",
      "1/1 [==============================] - 0s 2ms/step - loss: 3.3155 - mae: 3.3155\n",
      "Epoch 27/100\n",
      "1/1 [==============================] - 0s 992us/step - loss: 3.1153 - mae: 3.1153\n",
      "Epoch 28/100\n",
      "1/1 [==============================] - 0s 2ms/step - loss: 2.9202 - mae: 2.9202\n",
      "Epoch 29/100\n",
      "1/1 [==============================] - 0s 2ms/step - loss: 2.8961 - mae: 2.8961\n",
      "Epoch 30/100\n",
      "1/1 [==============================] - 0s 1ms/step - loss: 2.8902 - mae: 2.8902\n",
      "Epoch 31/100\n",
      "1/1 [==============================] - 0s 1ms/step - loss: 2.8543 - mae: 2.8543\n",
      "Epoch 32/100\n",
      "1/1 [==============================] - 0s 2ms/step - loss: 2.8170 - mae: 2.8170\n",
      "Epoch 33/100\n",
      "1/1 [==============================] - 0s 2ms/step - loss: 2.7166 - mae: 2.7166\n",
      "Epoch 34/100\n",
      "1/1 [==============================] - 0s 2ms/step - loss: 2.5577 - mae: 2.5577\n",
      "Epoch 35/100\n",
      "1/1 [==============================] - 0s 1ms/step - loss: 2.4087 - mae: 2.4087\n",
      "Epoch 36/100\n",
      "1/1 [==============================] - 0s 991us/step - loss: 2.2446 - mae: 2.2446\n",
      "Epoch 37/100\n",
      "1/1 [==============================] - 0s 2ms/step - loss: 2.0602 - mae: 2.0602\n",
      "Epoch 38/100\n",
      "1/1 [==============================] - 0s 2ms/step - loss: 2.0281 - mae: 2.0281\n",
      "Epoch 39/100\n",
      "1/1 [==============================] - 0s 2ms/step - loss: 1.9148 - mae: 1.9148\n",
      "Epoch 40/100\n",
      "1/1 [==============================] - 0s 3ms/step - loss: 1.7213 - mae: 1.7213\n",
      "Epoch 41/100\n",
      "1/1 [==============================] - 0s 2ms/step - loss: 1.4491 - mae: 1.4491\n",
      "Epoch 42/100\n",
      "1/1 [==============================] - 0s 2ms/step - loss: 1.2344 - mae: 1.2344\n",
      "Epoch 43/100\n",
      "1/1 [==============================] - 0s 2ms/step - loss: 1.1770 - mae: 1.1770\n",
      "Epoch 44/100\n",
      "1/1 [==============================] - 0s 1ms/step - loss: 1.0755 - mae: 1.0755\n",
      "Epoch 45/100\n",
      "1/1 [==============================] - 0s 998us/step - loss: 0.7394 - mae: 0.7394\n",
      "Epoch 46/100\n",
      "1/1 [==============================] - 0s 2ms/step - loss: 0.5329 - mae: 0.5329\n",
      "Epoch 47/100\n",
      "1/1 [==============================] - 0s 996us/step - loss: 0.3152 - mae: 0.3152\n",
      "Epoch 48/100\n",
      "1/1 [==============================] - 0s 2ms/step - loss: 0.7604 - mae: 0.7604\n",
      "Epoch 49/100\n",
      "1/1 [==============================] - 0s 2ms/step - loss: 0.8281 - mae: 0.8281\n",
      "Epoch 50/100\n",
      "1/1 [==============================] - 0s 1ms/step - loss: 0.4539 - mae: 0.4539\n",
      "Epoch 51/100\n",
      "1/1 [==============================] - 0s 1ms/step - loss: 0.5799 - mae: 0.5799\n",
      "Epoch 52/100\n",
      "1/1 [==============================] - 0s 2ms/step - loss: 0.8925 - mae: 0.8925\n",
      "Epoch 53/100\n",
      "1/1 [==============================] - 0s 2ms/step - loss: 0.8840 - mae: 0.8840\n",
      "Epoch 54/100\n",
      "1/1 [==============================] - 0s 999us/step - loss: 0.6483 - mae: 0.6483\n",
      "Epoch 55/100\n",
      "1/1 [==============================] - 0s 1ms/step - loss: 0.3221 - mae: 0.3221\n",
      "Epoch 56/100\n",
      "1/1 [==============================] - 0s 2ms/step - loss: 0.7596 - mae: 0.7596\n",
      "Epoch 57/100\n",
      "1/1 [==============================] - 0s 2ms/step - loss: 0.8507 - mae: 0.8507\n",
      "Epoch 58/100\n",
      "1/1 [==============================] - 0s 2ms/step - loss: 0.5757 - mae: 0.5757\n",
      "Epoch 59/100\n",
      "1/1 [==============================] - 0s 998us/step - loss: 0.4012 - mae: 0.4012\n",
      "Epoch 60/100\n",
      "1/1 [==============================] - 0s 2ms/step - loss: 0.5423 - mae: 0.5423\n",
      "Epoch 61/100\n",
      "1/1 [==============================] - 0s 812us/step - loss: 0.4585 - mae: 0.4585\n",
      "Epoch 62/100\n",
      "1/1 [==============================] - 0s 1000us/step - loss: 0.2520 - mae: 0.2520\n",
      "Epoch 63/100\n",
      "1/1 [==============================] - 0s 2ms/step - loss: 0.5342 - mae: 0.5342\n",
      "Epoch 64/100\n",
      "1/1 [==============================] - 0s 1ms/step - loss: 0.5489 - mae: 0.5489\n",
      "Epoch 65/100\n",
      "1/1 [==============================] - 0s 1ms/step - loss: 0.3376 - mae: 0.3376\n",
      "Epoch 66/100\n",
      "1/1 [==============================] - 0s 1ms/step - loss: 0.2724 - mae: 0.2724\n",
      "Epoch 67/100\n",
      "1/1 [==============================] - 0s 1ms/step - loss: 0.3721 - mae: 0.3721\n",
      "Epoch 68/100\n",
      "1/1 [==============================] - 0s 2ms/step - loss: 0.2912 - mae: 0.2912\n",
      "Epoch 69/100\n",
      "1/1 [==============================] - 0s 1ms/step - loss: 0.3188 - mae: 0.3188\n",
      "Epoch 70/100\n",
      "1/1 [==============================] - 0s 2ms/step - loss: 0.3072 - mae: 0.3072\n",
      "Epoch 71/100\n",
      "1/1 [==============================] - 0s 2ms/step - loss: 0.2416 - mae: 0.2416\n",
      "Epoch 72/100\n",
      "1/1 [==============================] - 0s 1ms/step - loss: 0.2195 - mae: 0.2195\n",
      "Epoch 73/100\n",
      "1/1 [==============================] - 0s 2ms/step - loss: 0.2066 - mae: 0.2066\n",
      "Epoch 74/100\n",
      "1/1 [==============================] - 0s 2ms/step - loss: 0.2189 - mae: 0.2189\n",
      "Epoch 75/100\n",
      "1/1 [==============================] - 0s 2ms/step - loss: 0.2635 - mae: 0.2635\n",
      "Epoch 76/100\n",
      "1/1 [==============================] - 0s 2ms/step - loss: 0.1844 - mae: 0.1844\n",
      "Epoch 77/100\n",
      "1/1 [==============================] - 0s 2ms/step - loss: 0.2535 - mae: 0.2535\n",
      "Epoch 78/100\n",
      "1/1 [==============================] - 0s 1ms/step - loss: 0.1558 - mae: 0.1558\n",
      "Epoch 79/100\n",
      "1/1 [==============================] - 0s 2ms/step - loss: 0.2675 - mae: 0.2675\n",
      "Epoch 80/100\n",
      "1/1 [==============================] - 0s 2ms/step - loss: 0.1641 - mae: 0.1641\n",
      "Epoch 81/100\n",
      "1/1 [==============================] - 0s 1000us/step - loss: 0.1477 - mae: 0.1477\n",
      "Epoch 82/100\n",
      "1/1 [==============================] - 0s 1ms/step - loss: 0.2509 - mae: 0.2509\n",
      "Epoch 83/100\n",
      "1/1 [==============================] - 0s 2ms/step - loss: 0.1795 - mae: 0.1795\n",
      "Epoch 84/100\n",
      "1/1 [==============================] - 0s 1ms/step - loss: 0.2241 - mae: 0.2241\n",
      "Epoch 85/100\n",
      "1/1 [==============================] - 0s 2ms/step - loss: 0.2738 - mae: 0.2738\n",
      "Epoch 86/100\n",
      "1/1 [==============================] - 0s 2ms/step - loss: 0.1326 - mae: 0.1326\n",
      "Epoch 87/100\n",
      "1/1 [==============================] - 0s 2ms/step - loss: 0.1725 - mae: 0.1725\n",
      "Epoch 88/100\n",
      "1/1 [==============================] - 0s 1ms/step - loss: 0.1617 - mae: 0.1617\n",
      "Epoch 89/100\n",
      "1/1 [==============================] - 0s 998us/step - loss: 0.1691 - mae: 0.1691\n",
      "Epoch 90/100\n",
      "1/1 [==============================] - 0s 2ms/step - loss: 0.1222 - mae: 0.1222\n",
      "Epoch 91/100\n",
      "1/1 [==============================] - 0s 2ms/step - loss: 0.2467 - mae: 0.2467\n",
      "Epoch 92/100\n",
      "1/1 [==============================] - 0s 2ms/step - loss: 0.2010 - mae: 0.2010\n",
      "Epoch 93/100\n",
      "1/1 [==============================] - 0s 2ms/step - loss: 0.1954 - mae: 0.1954\n",
      "Epoch 94/100\n",
      "1/1 [==============================] - 0s 1ms/step - loss: 0.0908 - mae: 0.0908\n",
      "Epoch 95/100\n",
      "1/1 [==============================] - 0s 2ms/step - loss: 0.2123 - mae: 0.2123\n",
      "Epoch 96/100\n",
      "1/1 [==============================] - 0s 1ms/step - loss: 0.0970 - mae: 0.0970\n",
      "Epoch 97/100\n",
      "1/1 [==============================] - 0s 2ms/step - loss: 0.1911 - mae: 0.1911\n",
      "Epoch 98/100\n",
      "1/1 [==============================] - 0s 3ms/step - loss: 0.1552 - mae: 0.1552\n",
      "Epoch 99/100\n",
      "1/1 [==============================] - 0s 2ms/step - loss: 0.1693 - mae: 0.1693\n",
      "Epoch 100/100\n",
      "1/1 [==============================] - 0s 2ms/step - loss: 0.0760 - mae: 0.0760\n"
     ]
    },
    {
     "data": {
      "text/plain": [
       "<keras.callbacks.History at 0x1f1c2912190>"
      ]
     },
     "execution_count": 14,
     "metadata": {},
     "output_type": "execute_result"
    }
   ],
   "source": [
    "# modelv2 = tf.keras.Sequential()\n",
    "# modelv2.add(tf.keras.layers.Dense(100, activation='relu'))\n",
    "# modelv2.add(tf.keras.layers.Dense(100, activation='relu'))\n",
    "# modelv2.add(tf.keras.layers.Dense(100, activation='relu'))\n",
    "# modelv2.add(tf.keras.layers.Dense(1))\n",
    "\n",
    "# # 2. compile the model\n",
    "# modelv2.compile(\n",
    "#     loss = tf.keras.losses.mae, # mean absolute error predicted vs observed\n",
    "#     optimizer = tf.keras.optimizers.Adam(lr=0.0001), # stochastic gradient descent (lr=1e-3)\n",
    "#     metrics=['mae'] # mean absolute error\n",
    "# )\n",
    "\n",
    "# # 3. fit the model\n",
    "# # we have to expand axis because it breaks in the latest version\n",
    "# modelv2.fit(tf.expand_dims(X, axis=-1), y, epochs=100)\n",
    "\n",
    "\n",
    "# 1. create the model using the sequential API\n",
    "modelV2 = tf.keras.Sequential()\n",
    "modelV2.add(tf.keras.layers.Dense(100, activation='relu'))\n",
    "modelV2.add(tf.keras.layers.Dense(1))\n",
    "\n",
    "# 2. compile the model\n",
    "modelV2.compile(\n",
    "    loss = tf.keras.losses.mae, # mean absolute error predicted vs observed\n",
    "    optimizer = tf.keras.optimizers.Adam(lr=0.015), # SGD stochastic gradient descent (lr=1e-3)\n",
    "    metrics=['mae'] # mean absolute error\n",
    ")\n",
    "\n",
    "# 3. fit the model\n",
    "# we have to expand axis because it breaks in the latest version\n",
    "modelV2.fit(tf.expand_dims(X, axis=-1), y, epochs=100)"
   ]
  },
  {
   "cell_type": "markdown",
   "metadata": {},
   "source": [
    "## Trained Model predicted Y Results Vs Actual Y values\n",
    "In this example below we plot the trained AI guess of Y from X value vs the actual result\n",
    "- **Blue** is the test data we trained the model with\n",
    "- **Red** is TF model guess"
   ]
  },
  {
   "cell_type": "code",
   "execution_count": 15,
   "metadata": {},
   "outputs": [
    {
     "data": {
      "image/png": "[encoded data removed]",
      "text/plain": [
       "<Figure size 432x288 with 1 Axes>"
      ]
     },
     "metadata": {
      "needs_background": "light"
     },
     "output_type": "display_data"
    }
   ],
   "source": [
    "#modelV2.predict([17.0])\n",
    "X = np.array(X,dtype=np.float64)\n",
    "for i in range(0,len(X)):\n",
    "    x_value = X[i]\n",
    "    #print(x_value)\n",
    "    # predict y value\n",
    "    y_pred = modelV2.predict([x_value])\n",
    "\n",
    "    # plot the prediction\n",
    "    plt.scatter(x_value, y[i], color=\"blue\")\n",
    "    plt.scatter(x_value, y_pred, color=\"red\")"
   ]
  },
  {
   "cell_type": "markdown",
   "metadata": {},
   "source": [
    "## Data outside the Dataset\n",
    "Let's see what happens if we try data outside the data set\n",
    "The plots in orange are the neural networks guess thats outside the dataset\n",
    "while red is still within the dataset and blue is our dataset"
   ]
  },
  {
   "cell_type": "code",
   "execution_count": 16,
   "metadata": {},
   "outputs": [
    {
     "name": "stdout",
     "output_type": "stream",
     "text": [
      "[-7. -4. -1.  2.  5.  8. 11. 14. 17. 20. 23. 26. 29. 32. 35. 38. 41. 44.\n",
      " 47. 50. 53. 56. 59. 62. 65. 68. 71. 74. 77. 80. 83.]\n"
     ]
    },
    {
     "data": {
      "image/png": "[encoded data removed]",
      "text/plain": [
       "<Figure size 432x288 with 1 Axes>"
      ]
     },
     "metadata": {
      "needs_background": "light"
     },
     "output_type": "display_data"
    }
   ],
   "source": [
    "X = np.array(X,dtype=np.float64)\n",
    "#print(X)\n",
    "\n",
    "# modify X to add more data\n",
    "v = 14.0\n",
    "while True:\n",
    "    v = v + 3\n",
    "    #print(v)\n",
    "    X = np.append(X,v)\n",
    "\n",
    "    if v > 80:\n",
    "        break\n",
    "print(X)\n",
    "\n",
    "\n",
    "#X.append(  )\n",
    "for i in range(0,len(X)):\n",
    "    x_value = X[i]\n",
    "    #print(x_value)\n",
    "    # predict y value\n",
    "    y_pred = modelV2.predict([x_value])\n",
    "\n",
    "    # plot the prediction\n",
    "    if i < len(y)-1:\n",
    "        plt.scatter(x_value, y[i], color=\"blue\")\n",
    "    \n",
    "    # show what is outside the data set\n",
    "    if i > len(y)-1:\n",
    "        plt.scatter(x_value, y_pred, color=\"orange\")\n",
    "    else:\n",
    "        plt.scatter(x_value, y_pred, color=\"red\")"
   ]
  },
  {
   "cell_type": "markdown",
   "metadata": {},
   "source": [
    "## Evaluating a model\n",
    "In practice, a typical workflow you'll go through when building neural network is:\n",
    "```\n",
    "Build a model -> fit it -> evaluate it -> tweak a model, REPEAT\n",
    "```\n",
    "When it comes to evaluation.. there are 3 words you should memorize:\n",
    "> \"Visualize, Visualize, Visualize!\"\n",
    "\n",
    "Its a good idea to visualize:\n",
    "* the data that we are working with\n",
    "* the model its self? what does it look like? how does the data go through it?\n",
    "* the training of a model? how does it perform as it learns what happens to the data?\n",
    "* The predictions of a trained model?? was it better or worse, What factors changed it?\n"
   ]
  },
  {
   "cell_type": "code",
   "execution_count": 17,
   "metadata": {},
   "outputs": [
    {
     "data": {
      "text/plain": [
       "<tf.Tensor: shape=(50,), dtype=int32, numpy=\n",
       "array([-100,  -96,  -92,  -88,  -84,  -80,  -76,  -72,  -68,  -64,  -60,\n",
       "        -56,  -52,  -48,  -44,  -40,  -36,  -32,  -28,  -24,  -20,  -16,\n",
       "        -12,   -8,   -4,    0,    4,    8,   12,   16,   20,   24,   28,\n",
       "         32,   36,   40,   44,   48,   52,   56,   60,   64,   68,   72,\n",
       "         76,   80,   84,   88,   92,   96])>"
      ]
     },
     "execution_count": 17,
     "metadata": {},
     "output_type": "execute_result"
    }
   ],
   "source": [
    "# lets make a bigger dataset\n",
    "X = tf.range( -100, 100, 4 )\n",
    "X"
   ]
  },
  {
   "cell_type": "code",
   "execution_count": 18,
   "metadata": {},
   "outputs": [
    {
     "data": {
      "text/plain": [
       "<tf.Tensor: shape=(50,), dtype=int32, numpy=\n",
       "array([-90, -86, -82, -78, -74, -70, -66, -62, -58, -54, -50, -46, -42,\n",
       "       -38, -34, -30, -26, -22, -18, -14, -10,  -6,  -2,   2,   6,  10,\n",
       "        14,  18,  22,  26,  30,  34,  38,  42,  46,  50,  54,  58,  62,\n",
       "        66,  70,  74,  78,  82,  86,  90,  94,  98, 102, 106])>"
      ]
     },
     "execution_count": 18,
     "metadata": {},
     "output_type": "execute_result"
    }
   ],
   "source": [
    "# make labels for the dataset\n",
    "y = X + 10\n",
    "y"
   ]
  },
  {
   "cell_type": "code",
   "execution_count": 19,
   "metadata": {},
   "outputs": [
    {
     "data": {
      "text/plain": [
       "<matplotlib.collections.PathCollection at 0x1f1c4425e20>"
      ]
     },
     "execution_count": 19,
     "metadata": {},
     "output_type": "execute_result"
    },
    {
     "data": {
      "image/png": "[encoded data removed]",
      "text/plain": [
       "<Figure size 432x288 with 1 Axes>"
      ]
     },
     "metadata": {
      "needs_background": "light"
     },
     "output_type": "display_data"
    }
   ],
   "source": [
    "plt.scatter(X,y)"
   ]
  },
  {
   "cell_type": "markdown",
   "metadata": {},
   "source": [
    "### The 3 sets...\n",
    "* **Training set** - the model learns from this data, which is typically 70-80% of the total data you have available.\n",
    "* **Validation set** - the model is trained on this data, which is typically 10-15% of the data available. \n",
    "* **Test set** - the model gets evaluated on this data to test what has been learned, this set is typically 10-15% of the total data available.\n",
    "\n",
    "-> sounds like the hold out method\n",
    "\n",
    "This method of training is called generalization, Why do this? \n",
    "`We want our model to perform on data it has't seen before.`"
   ]
  },
  {
   "cell_type": "code",
   "execution_count": 20,
   "metadata": {},
   "outputs": [
    {
     "data": {
      "text/plain": [
       "50"
      ]
     },
     "execution_count": 20,
     "metadata": {},
     "output_type": "execute_result"
    }
   ],
   "source": [
    "# how many samples do we have\n",
    "len(X)"
   ]
  },
  {
   "cell_type": "code",
   "execution_count": 21,
   "metadata": {},
   "outputs": [
    {
     "data": {
      "text/plain": [
       "(40, 10, 40, 10)"
      ]
     },
     "execution_count": 21,
     "metadata": {},
     "output_type": "execute_result"
    }
   ],
   "source": [
    "# split the data into train and test sets\n",
    "X_train = X[:int(len(X)*0.8)] # 80% of the data\n",
    "y_train = y[:int(len(y)*0.8)] # 80% of the data\n",
    "\n",
    "X_test = X[int(len(X)*0.8):] # 20% of the data\n",
    "y_test = y[int(len(y)*0.8):] # 20% of the data\n",
    "\n",
    "len(X_train), len(X_test), len(y_train), len(y_test)\n"
   ]
  },
  {
   "cell_type": "markdown",
   "metadata": {},
   "source": [
    "## Visualizing the data \n",
    "Now we've got our data in training and test sets... let's visualize it again!"
   ]
  },
  {
   "cell_type": "code",
   "execution_count": 22,
   "metadata": {},
   "outputs": [
    {
     "data": {
      "text/plain": [
       "<matplotlib.legend.Legend at 0x1f1c3dde880>"
      ]
     },
     "execution_count": 22,
     "metadata": {},
     "output_type": "execute_result"
    },
    {
     "data": {
      "image/png": "[encoded data removed]",
      "text/plain": [
       "<Figure size 720x504 with 1 Axes>"
      ]
     },
     "metadata": {
      "needs_background": "light"
     },
     "output_type": "display_data"
    }
   ],
   "source": [
    "plt.figure(figsize=(10,7))\n",
    "\n",
    "# plot the training data\n",
    "plt.scatter(X_train, y_train, color=\"blue\", label=\"Train Dataset\") # our model will learn on this\n",
    "\n",
    "# plot the test data\n",
    "plt.scatter(X_test, y_test, color=\"orange\", label=\"Test Dataset\") # our model will improve on this data \n",
    "\n",
    "# show the legend\n",
    "plt.legend()"
   ]
  },
  {
   "cell_type": "code",
   "execution_count": 23,
   "metadata": {},
   "outputs": [],
   "source": [
    "# Let's have a look on building neural network for our data\n",
    "# 1. create the model using the sequential API\n",
    "model = tf.keras.Sequential()\n",
    "model.add(tf.keras.layers.Dense(1))\n",
    "#model.add(tf.keras.layers.Dense(100, activation='relu'))\n",
    "\n",
    "# 2. compile the model\n",
    "model.compile(\n",
    "    loss = tf.keras.losses.mae, # mean absolute error predicted vs observed\n",
    "    optimizer = tf.keras.optimizers.SGD(), # stochastic gradient descent (lr=1e-3)\n",
    "    metrics=['mae'] # mean absolute error\n",
    ")\n",
    "\n",
    "# 3. fit the model (Important note we are fitting on the training data only)\n",
    "#model.fit(X_train, Y_train, epochs=100)"
   ]
  },
  {
   "cell_type": "markdown",
   "metadata": {},
   "source": [
    "## Visualizing the model\n",
    "In the error given below we must pre-define an input shape for the array so it can be built for module summary\n",
    "This also can be done if we git the data with data for the model to train."
   ]
  },
  {
   "cell_type": "code",
   "execution_count": 24,
   "metadata": {},
   "outputs": [],
   "source": [
    "#model.build(input_shape=(1,1))\n",
    "#model.summary()"
   ]
  },
  {
   "cell_type": "code",
   "execution_count": 25,
   "metadata": {},
   "outputs": [
    {
     "name": "stdout",
     "output_type": "stream",
     "text": [
      "Model: \"model_3_sets\"\n",
      "_________________________________________________________________\n",
      " Layer (type)                Output Shape              Param #   \n",
      "=================================================================\n",
      " input_layer (Dense)         (None, 10)                20        \n",
      "                                                                 \n",
      " output_layer (Dense)        (None, 1)                 11        \n",
      "                                                                 \n",
      "=================================================================\n",
      "Total params: 31\n",
      "Trainable params: 31\n",
      "Non-trainable params: 0\n",
      "_________________________________________________________________\n"
     ]
    }
   ],
   "source": [
    "# Let's have a look on building neural network for our data\n",
    "# 1. create the model using the sequential API\n",
    "model = tf.keras.Sequential(name = \"model_3_sets\") # note the model names and layer names must meet regex to have underscores no spaces\n",
    "model.add(tf.keras.layers.Dense(10, input_shape=(1,), name=\"input_layer\"))\n",
    "model.add(tf.keras.layers.Dense(1, name=\"output_layer\"))\n",
    "#model.add(tf.keras.layers.Dense(100, activation='relu'))\n",
    "\n",
    "# 2. compile the model\n",
    "model.compile(\n",
    "    loss = tf.keras.losses.mae, # mean absolute error predicted vs observed\n",
    "    optimizer = tf.keras.optimizers.SGD(), # stochastic gradient descent (lr=1e-3)\n",
    "    metrics=['mae'] # mean absolute error\n",
    ")\n",
    "\n",
    "#model.build()\n",
    "model.summary()\n",
    "\n",
    "# 3. fit the model (Important note we are fitting on the training data only)\n",
    "#model.fit(X_train, Y_train, epochs=100)"
   ]
  },
  {
   "cell_type": "markdown",
   "metadata": {},
   "source": [
    "* Total params - total number of parameters in the model.\n",
    "* Trainable parameters - these are the parameters (patterns) the model can update as it trains.\n",
    "* Non-trainable params - these parameters aren't updated during training (this is typical when you bring in already learned patterns or parameters from other models during **transfer learning**)."
   ]
  },
  {
   "cell_type": "code",
   "execution_count": 26,
   "metadata": {},
   "outputs": [
    {
     "data": {
      "text/plain": [
       "<keras.callbacks.History at 0x1f1c4503100>"
      ]
     },
     "execution_count": 26,
     "metadata": {},
     "output_type": "execute_result"
    }
   ],
   "source": [
    "# Let's fit our model to the training data\n",
    "\n",
    "# 3. fit the model (Important note we are fitting on the training data only)\n",
    "model.fit(X_train, y_train, epochs=100, verbose=0)"
   ]
  },
  {
   "cell_type": "code",
   "execution_count": 27,
   "metadata": {},
   "outputs": [
    {
     "name": "stdout",
     "output_type": "stream",
     "text": [
      "Model: \"model_3_sets\"\n",
      "_________________________________________________________________\n",
      " Layer (type)                Output Shape              Param #   \n",
      "=================================================================\n",
      " input_layer (Dense)         (None, 10)                20        \n",
      "                                                                 \n",
      " output_layer (Dense)        (None, 1)                 11        \n",
      "                                                                 \n",
      "=================================================================\n",
      "Total params: 31\n",
      "Trainable params: 31\n",
      "Non-trainable params: 0\n",
      "_________________________________________________________________\n"
     ]
    }
   ],
   "source": [
    "# get the summary of our model\n",
    "model.summary()"
   ]
  },
  {
   "cell_type": "code",
   "execution_count": 28,
   "metadata": {},
   "outputs": [
    {
     "data": {
      "image/png": "[encoded data removed]",
      "text/plain": [
       "<IPython.core.display.Image object>"
      ]
     },
     "execution_count": 28,
     "metadata": {},
     "output_type": "execute_result"
    }
   ],
   "source": [
    "from tensorflow.keras.utils import plot_model\n",
    "plot_model(model,show_shapes=True, show_layer_names=True, show_dtype=True)#, to_file='model.png')"
   ]
  },
  {
   "cell_type": "markdown",
   "metadata": {},
   "source": [
    "## Visualizing our model's predictions\n",
    "To visualize predictions, its a good idea to plot them against the ground truth labels.\n",
    "\n",
    "Often you'll see this in the form of `y_test` or `y_true` versus `y_pred` (ground truth versus your model's predictions)"
   ]
  },
  {
   "cell_type": "code",
   "execution_count": 29,
   "metadata": {},
   "outputs": [
    {
     "data": {
      "text/plain": [
       "array([[ 90.92919 ],\n",
       "       [ 96.86788 ],\n",
       "       [102.806564],\n",
       "       [108.745255],\n",
       "       [114.683945],\n",
       "       [120.62263 ],\n",
       "       [126.56132 ],\n",
       "       [132.5     ],\n",
       "       [138.43869 ],\n",
       "       [144.37738 ]], dtype=float32)"
      ]
     },
     "execution_count": 29,
     "metadata": {},
     "output_type": "execute_result"
    }
   ],
   "source": [
    "# make some predictions\n",
    "y_pred = model.predict(X_test)\n",
    "y_pred"
   ]
  },
  {
   "cell_type": "code",
   "execution_count": 30,
   "metadata": {},
   "outputs": [
    {
     "data": {
      "text/plain": [
       "<tf.Tensor: shape=(10,), dtype=int32, numpy=array([ 70,  74,  78,  82,  86,  90,  94,  98, 102, 106])>"
      ]
     },
     "execution_count": 30,
     "metadata": {},
     "output_type": "execute_result"
    }
   ],
   "source": [
    "y_test # if the y_pred is not the same as the y_test then the model is not working"
   ]
  },
  {
   "cell_type": "markdown",
   "metadata": {},
   "source": [
    "**Note:** If you feel like you're going to reuse some kind of functionality in the future, it's a good idea to turn it into function"
   ]
  },
  {
   "cell_type": "code",
   "execution_count": 31,
   "metadata": {},
   "outputs": [
    {
     "data": {
      "image/png": "[encoded data removed]",
      "text/plain": [
       "<Figure size 720x504 with 1 Axes>"
      ]
     },
     "metadata": {
      "needs_background": "light"
     },
     "output_type": "display_data"
    }
   ],
   "source": [
    "def plot_predictions(\n",
    "    train_data=X_train, \n",
    "    train_labels=y_train, \n",
    "    test_data=X_test, \n",
    "    test_labels=y_test, \n",
    "    predictions=y_pred):\n",
    "  \"\"\"\n",
    "  Plots training data, test data and compares predictions.\n",
    "  \"\"\"\n",
    "  plt.figure(figsize=(10, 7))\n",
    "  # Plot training data in blue\n",
    "  plt.scatter(train_data, train_labels, c=\"b\", label=\"Training data\")\n",
    "  # Plot test data in green\n",
    "  plt.scatter(test_data, test_labels, c=\"g\", label=\"Testing data\")\n",
    "  # Plot the predictions in red (predictions were made on the test data)\n",
    "  plt.scatter(test_data, predictions, c=\"r\", label=\"Predictions\")\n",
    "  # Show the legend\n",
    "  plt.legend()\n",
    "\n",
    "plot_predictions(train_data=X_train,\n",
    "                 train_labels=y_train,\n",
    "                 test_data=X_test,\n",
    "                 test_labels=y_test,\n",
    "                 predictions=y_pred)"
   ]
  },
  {
   "cell_type": "markdown",
   "metadata": {},
   "source": [
    "### Evaluating our model's predictions with regression evaluation metrics\n",
    "Depending on the problem you're working on, there will be different evaluation metrics to evaluate your model's performance.\n",
    "\n",
    "Since we're working on a regression, two of the main metrics:\n",
    "* MAE - Mean absolute error, \"on average, how wrong is each of my model's predictions\"\n",
    "* MSE - mean square error, \"square the average errors\""
   ]
  },
  {
   "cell_type": "code",
   "execution_count": 32,
   "metadata": {},
   "outputs": [
    {
     "name": "stdout",
     "output_type": "stream",
     "text": [
      "1/1 [==============================] - 0s 70ms/step - loss: 29.6533 - mae: 29.6533\n"
     ]
    },
    {
     "data": {
      "text/plain": [
       "[29.653284072875977, 29.653284072875977]"
      ]
     },
     "execution_count": 32,
     "metadata": {},
     "output_type": "execute_result"
    }
   ],
   "source": [
    "# Evaluate the model on test data\n",
    "model.evaluate(X_test, y_test)"
   ]
  },
  {
   "cell_type": "code",
   "execution_count": 33,
   "metadata": {},
   "outputs": [
    {
     "data": {
      "text/plain": [
       "<tf.Tensor: shape=(), dtype=float32, numpy=29.653284>"
      ]
     },
     "execution_count": 33,
     "metadata": {},
     "output_type": "execute_result"
    }
   ],
   "source": [
    "# we need to squeeze the data to make it a 1D array\n",
    "# this is because if we ever do any math functions on matrices they need to the same size\n",
    "y_pred = tf.squeeze(y_pred)\n",
    "\n",
    "# Calculate the mean absolute error with TF\n",
    "tf.metrics.mean_absolute_error(y_test, y_pred)\n"
   ]
  },
  {
   "cell_type": "code",
   "execution_count": 34,
   "metadata": {},
   "outputs": [
    {
     "data": {
      "text/plain": [
       "<tf.Tensor: shape=(10,), dtype=float32, numpy=\n",
       "array([ 90.92919 ,  96.86788 , 102.806564, 108.745255, 114.683945,\n",
       "       120.62263 , 126.56132 , 132.5     , 138.43869 , 144.37738 ],\n",
       "      dtype=float32)>"
      ]
     },
     "execution_count": 34,
     "metadata": {},
     "output_type": "execute_result"
    }
   ],
   "source": [
    "y_pred"
   ]
  },
  {
   "cell_type": "code",
   "execution_count": 35,
   "metadata": {},
   "outputs": [
    {
     "data": {
      "text/plain": [
       "<tf.Tensor: shape=(10,), dtype=int32, numpy=array([ 70,  74,  78,  82,  86,  90,  94,  98, 102, 106])>"
      ]
     },
     "execution_count": 35,
     "metadata": {},
     "output_type": "execute_result"
    }
   ],
   "source": [
    "y_test"
   ]
  },
  {
   "cell_type": "code",
   "execution_count": 36,
   "metadata": {},
   "outputs": [
    {
     "data": {
      "text/plain": [
       "<tf.Tensor: shape=(), dtype=float32, numpy=910.325>"
      ]
     },
     "execution_count": 36,
     "metadata": {},
     "output_type": "execute_result"
    }
   ],
   "source": [
    "# Calculate the mean square error\n",
    "tf.metrics.mean_squared_error(y_test, y_pred)"
   ]
  },
  {
   "cell_type": "code",
   "execution_count": 37,
   "metadata": {},
   "outputs": [
    {
     "data": {
      "text/plain": [
       "<tf.Tensor: shape=(), dtype=float32, numpy=29.153284>"
      ]
     },
     "execution_count": 37,
     "metadata": {},
     "output_type": "execute_result"
    }
   ],
   "source": [
    "# Calculate the Huber loss\n",
    "tf.keras.losses.huber(y_test, y_pred)"
   ]
  },
  {
   "cell_type": "markdown",
   "metadata": {},
   "source": [
    "### Running experments to improve our model\n",
    "```\n",
    "Building a model -> fit it -> evaluate it -> tweak it\n",
    "\n",
    "fit it -> evaluate it -> tweak it -> REPEAT\n",
    "\n",
    "```\n",
    "\n",
    "Machine learning practitioner is Experiment, Experiment, Experiment!\n",
    "\n",
    "1. Get more data\n",
    "2. Make the model larger (complex model)\n",
    "3. Train for longer\n",
    "\n",
    "Let's do 3 modelling experiments:\n",
    "1. `model_1` same as the original model, 1 layer, trained for 100 epochs\n",
    "2. `model_2` 2 layers, trained for 100 epochs,\n",
    "3. `model_3` 2 layers, trained for 500 epochs.\n",
    "\n",
    "**Build `model_1`**"
   ]
  },
  {
   "cell_type": "code",
   "execution_count": 38,
   "metadata": {},
   "outputs": [
    {
     "name": "stdout",
     "output_type": "stream",
     "text": [
      "Epoch 1/100\n",
      "2/2 [==============================] - 0s 2ms/step - loss: 15.9024 - mae: 15.9024\n",
      "Epoch 2/100\n",
      "2/2 [==============================] - 0s 2ms/step - loss: 11.2837 - mae: 11.2837\n",
      "Epoch 3/100\n",
      "2/2 [==============================] - 0s 1ms/step - loss: 11.1075 - mae: 11.1075\n",
      "Epoch 4/100\n",
      "2/2 [==============================] - 0s 993us/step - loss: 9.2990 - mae: 9.2990\n",
      "Epoch 5/100\n",
      "2/2 [==============================] - 0s 1ms/step - loss: 10.1677 - mae: 10.1677\n",
      "Epoch 6/100\n",
      "2/2 [==============================] - 0s 1ms/step - loss: 9.4303 - mae: 9.4303\n",
      "Epoch 7/100\n",
      "2/2 [==============================] - 0s 1ms/step - loss: 8.5704 - mae: 8.5704\n",
      "Epoch 8/100\n",
      "2/2 [==============================] - 0s 1ms/step - loss: 9.0442 - mae: 9.0442\n",
      "Epoch 9/100\n",
      "2/2 [==============================] - 0s 2ms/step - loss: 18.7517 - mae: 18.7517\n",
      "Epoch 10/100\n",
      "2/2 [==============================] - 0s 1ms/step - loss: 10.1142 - mae: 10.1142\n",
      "Epoch 11/100\n",
      "2/2 [==============================] - 0s 1000us/step - loss: 8.3980 - mae: 8.3980\n",
      "Epoch 12/100\n",
      "2/2 [==============================] - 0s 1ms/step - loss: 10.6639 - mae: 10.6639\n",
      "Epoch 13/100\n",
      "2/2 [==============================] - 0s 1ms/step - loss: 9.7977 - mae: 9.7977\n",
      "Epoch 14/100\n",
      "2/2 [==============================] - 0s 1ms/step - loss: 16.0103 - mae: 16.0103\n",
      "Epoch 15/100\n",
      "2/2 [==============================] - 0s 1ms/step - loss: 11.4068 - mae: 11.4068\n",
      "Epoch 16/100\n",
      "2/2 [==============================] - 0s 1ms/step - loss: 8.5393 - mae: 8.5393\n",
      "Epoch 17/100\n",
      "2/2 [==============================] - 0s 996us/step - loss: 13.6348 - mae: 13.6348\n",
      "Epoch 18/100\n",
      "2/2 [==============================] - 0s 1ms/step - loss: 11.4629 - mae: 11.4629\n",
      "Epoch 19/100\n",
      "2/2 [==============================] - 0s 2ms/step - loss: 17.9148 - mae: 17.9148\n",
      "Epoch 20/100\n",
      "2/2 [==============================] - 0s 2ms/step - loss: 15.0494 - mae: 15.0494\n",
      "Epoch 21/100\n",
      "2/2 [==============================] - 0s 993us/step - loss: 11.0216 - mae: 11.0216\n",
      "Epoch 22/100\n",
      "2/2 [==============================] - 0s 1ms/step - loss: 8.1558 - mae: 8.1558\n",
      "Epoch 23/100\n",
      "2/2 [==============================] - 0s 1ms/step - loss: 9.5138 - mae: 9.5138\n",
      "Epoch 24/100\n",
      "2/2 [==============================] - 0s 2ms/step - loss: 7.6617 - mae: 7.6617\n",
      "Epoch 25/100\n",
      "2/2 [==============================] - 0s 2ms/step - loss: 13.1859 - mae: 13.1859\n",
      "Epoch 26/100\n",
      "2/2 [==============================] - 0s 1ms/step - loss: 16.4211 - mae: 16.4211\n",
      "Epoch 27/100\n",
      "2/2 [==============================] - 0s 1ms/step - loss: 13.1660 - mae: 13.1660\n",
      "Epoch 28/100\n",
      "2/2 [==============================] - 0s 1ms/step - loss: 14.2559 - mae: 14.2559\n",
      "Epoch 29/100\n",
      "2/2 [==============================] - 0s 981us/step - loss: 10.0670 - mae: 10.0670\n",
      "Epoch 30/100\n",
      "2/2 [==============================] - 0s 1ms/step - loss: 16.3409 - mae: 16.3409\n",
      "Epoch 31/100\n",
      "2/2 [==============================] - 0s 1ms/step - loss: 23.6444 - mae: 23.6444\n",
      "Epoch 32/100\n",
      "2/2 [==============================] - 0s 2ms/step - loss: 7.6215 - mae: 7.6215\n",
      "Epoch 33/100\n",
      "2/2 [==============================] - 0s 2ms/step - loss: 9.3221 - mae: 9.3221\n",
      "Epoch 34/100\n",
      "2/2 [==============================] - 0s 1ms/step - loss: 13.7313 - mae: 13.7313\n",
      "Epoch 35/100\n",
      "2/2 [==============================] - 0s 1000us/step - loss: 11.1276 - mae: 11.1276\n",
      "Epoch 36/100\n",
      "2/2 [==============================] - 0s 1ms/step - loss: 13.3222 - mae: 13.3222\n",
      "Epoch 37/100\n",
      "2/2 [==============================] - 0s 625us/step - loss: 9.4763 - mae: 9.4763\n",
      "Epoch 38/100\n",
      "2/2 [==============================] - 0s 1ms/step - loss: 10.1381 - mae: 10.1381\n",
      "Epoch 39/100\n",
      "2/2 [==============================] - 0s 1ms/step - loss: 10.1793 - mae: 10.1793\n",
      "Epoch 40/100\n",
      "2/2 [==============================] - 0s 2ms/step - loss: 10.9137 - mae: 10.9137\n",
      "Epoch 41/100\n",
      "2/2 [==============================] - 0s 2ms/step - loss: 7.9063 - mae: 7.9063\n",
      "Epoch 42/100\n",
      "2/2 [==============================] - 0s 1ms/step - loss: 10.0914 - mae: 10.0914\n",
      "Epoch 43/100\n",
      "2/2 [==============================] - 0s 2ms/step - loss: 8.7006 - mae: 8.7006\n",
      "Epoch 44/100\n",
      "2/2 [==============================] - 0s 1ms/step - loss: 12.2046 - mae: 12.2046\n",
      "Epoch 45/100\n",
      "2/2 [==============================] - 0s 2ms/step - loss: 13.7970 - mae: 13.7970\n",
      "Epoch 46/100\n",
      "2/2 [==============================] - 0s 2ms/step - loss: 8.4687 - mae: 8.4687\n",
      "Epoch 47/100\n",
      "2/2 [==============================] - 0s 1ms/step - loss: 9.1330 - mae: 9.1330\n",
      "Epoch 48/100\n",
      "2/2 [==============================] - 0s 2ms/step - loss: 10.6190 - mae: 10.6190\n",
      "Epoch 49/100\n",
      "2/2 [==============================] - 0s 1ms/step - loss: 7.7503 - mae: 7.7503\n",
      "Epoch 50/100\n",
      "2/2 [==============================] - 0s 1ms/step - loss: 9.5407 - mae: 9.5407\n",
      "Epoch 51/100\n",
      "2/2 [==============================] - 0s 2ms/step - loss: 9.1584 - mae: 9.1584\n",
      "Epoch 52/100\n",
      "2/2 [==============================] - 0s 1000us/step - loss: 16.3630 - mae: 16.3630\n",
      "Epoch 53/100\n",
      "2/2 [==============================] - 0s 1ms/step - loss: 14.1299 - mae: 14.1299\n",
      "Epoch 54/100\n",
      "2/2 [==============================] - 0s 993us/step - loss: 21.1247 - mae: 21.1247\n",
      "Epoch 55/100\n",
      "2/2 [==============================] - 0s 1ms/step - loss: 16.3961 - mae: 16.3961\n",
      "Epoch 56/100\n",
      "2/2 [==============================] - 0s 1ms/step - loss: 9.9806 - mae: 9.9806\n",
      "Epoch 57/100\n",
      "2/2 [==============================] - 0s 2ms/step - loss: 9.9606 - mae: 9.9606\n",
      "Epoch 58/100\n",
      "2/2 [==============================] - 0s 1ms/step - loss: 9.2209 - mae: 9.2209\n",
      "Epoch 59/100\n",
      "2/2 [==============================] - 0s 1ms/step - loss: 8.4239 - mae: 8.4239\n",
      "Epoch 60/100\n",
      "2/2 [==============================] - 0s 1ms/step - loss: 9.4869 - mae: 9.4869\n",
      "Epoch 61/100\n",
      "2/2 [==============================] - 0s 994us/step - loss: 11.4354 - mae: 11.4354\n",
      "Epoch 62/100\n",
      "2/2 [==============================] - 0s 1ms/step - loss: 11.6887 - mae: 11.6887\n",
      "Epoch 63/100\n",
      "2/2 [==============================] - 0s 1ms/step - loss: 7.0838 - mae: 7.0838\n",
      "Epoch 64/100\n",
      "2/2 [==============================] - 0s 1ms/step - loss: 16.9675 - mae: 16.9675\n",
      "Epoch 65/100\n",
      "2/2 [==============================] - 0s 1ms/step - loss: 12.4599 - mae: 12.4599\n",
      "Epoch 66/100\n",
      "2/2 [==============================] - 0s 1ms/step - loss: 13.0184 - mae: 13.0184\n",
      "Epoch 67/100\n",
      "2/2 [==============================] - 0s 998us/step - loss: 8.0600 - mae: 8.0600\n",
      "Epoch 68/100\n",
      "2/2 [==============================] - 0s 2ms/step - loss: 10.1888 - mae: 10.1888\n",
      "Epoch 69/100\n",
      "2/2 [==============================] - 0s 1ms/step - loss: 12.3633 - mae: 12.3633\n",
      "Epoch 70/100\n",
      "2/2 [==============================] - 0s 1ms/step - loss: 9.0516 - mae: 9.0516\n",
      "Epoch 71/100\n",
      "2/2 [==============================] - 0s 992us/step - loss: 10.0378 - mae: 10.0378\n",
      "Epoch 72/100\n",
      "2/2 [==============================] - 0s 667us/step - loss: 10.0516 - mae: 10.0516\n",
      "Epoch 73/100\n",
      "2/2 [==============================] - 0s 1ms/step - loss: 12.6151 - mae: 12.6151\n",
      "Epoch 74/100\n",
      "2/2 [==============================] - 0s 1ms/step - loss: 10.3819 - mae: 10.3819\n",
      "Epoch 75/100\n",
      "2/2 [==============================] - 0s 2ms/step - loss: 9.7229 - mae: 9.7229\n",
      "Epoch 76/100\n",
      "2/2 [==============================] - 0s 1ms/step - loss: 11.2252 - mae: 11.2252\n",
      "Epoch 77/100\n",
      "2/2 [==============================] - 0s 1ms/step - loss: 8.3642 - mae: 8.3642\n",
      "Epoch 78/100\n",
      "2/2 [==============================] - 0s 995us/step - loss: 9.1274 - mae: 9.1274\n",
      "Epoch 79/100\n",
      "2/2 [==============================] - 0s 1ms/step - loss: 19.5039 - mae: 19.5039\n",
      "Epoch 80/100\n",
      "2/2 [==============================] - 0s 1000us/step - loss: 14.8945 - mae: 14.8945\n",
      "Epoch 81/100\n",
      "2/2 [==============================] - 0s 999us/step - loss: 9.0034 - mae: 9.0034\n",
      "Epoch 82/100\n",
      "2/2 [==============================] - 0s 2ms/step - loss: 13.0206 - mae: 13.0206\n",
      "Epoch 83/100\n",
      "2/2 [==============================] - 0s 1ms/step - loss: 7.9299 - mae: 7.9299\n",
      "Epoch 84/100\n",
      "2/2 [==============================] - 0s 2ms/step - loss: 7.6872 - mae: 7.6872\n",
      "Epoch 85/100\n",
      "2/2 [==============================] - 0s 1ms/step - loss: 10.0328 - mae: 10.0328\n",
      "Epoch 86/100\n",
      "2/2 [==============================] - 0s 1000us/step - loss: 9.2433 - mae: 9.2433\n",
      "Epoch 87/100\n",
      "2/2 [==============================] - 0s 1000us/step - loss: 12.0209 - mae: 12.0209\n",
      "Epoch 88/100\n",
      "2/2 [==============================] - 0s 1ms/step - loss: 10.6389 - mae: 10.6389\n",
      "Epoch 89/100\n",
      "2/2 [==============================] - 0s 1ms/step - loss: 7.2667 - mae: 7.2667\n",
      "Epoch 90/100\n",
      "2/2 [==============================] - 0s 1ms/step - loss: 12.7786 - mae: 12.7786\n",
      "Epoch 91/100\n",
      "2/2 [==============================] - 0s 2ms/step - loss: 7.3481 - mae: 7.3481\n",
      "Epoch 92/100\n",
      "2/2 [==============================] - 0s 1ms/step - loss: 7.7175 - mae: 7.7175\n",
      "Epoch 93/100\n",
      "2/2 [==============================] - 0s 2ms/step - loss: 7.1263 - mae: 7.1263\n",
      "Epoch 94/100\n",
      "2/2 [==============================] - 0s 1ms/step - loss: 12.6190 - mae: 12.6190\n",
      "Epoch 95/100\n",
      "2/2 [==============================] - 0s 2ms/step - loss: 10.0912 - mae: 10.0912\n",
      "Epoch 96/100\n",
      "2/2 [==============================] - 0s 2ms/step - loss: 9.3558 - mae: 9.3558\n",
      "Epoch 97/100\n",
      "2/2 [==============================] - 0s 1ms/step - loss: 12.6834 - mae: 12.6834\n",
      "Epoch 98/100\n",
      "2/2 [==============================] - 0s 1ms/step - loss: 8.6762 - mae: 8.6762\n",
      "Epoch 99/100\n",
      "2/2 [==============================] - 0s 1ms/step - loss: 9.4693 - mae: 9.4693\n",
      "Epoch 100/100\n",
      "2/2 [==============================] - 0s 1ms/step - loss: 8.7067 - mae: 8.7067\n"
     ]
    },
    {
     "data": {
      "text/plain": [
       "<keras.callbacks.History at 0x1f1c4596d90>"
      ]
     },
     "execution_count": 38,
     "metadata": {},
     "output_type": "execute_result"
    }
   ],
   "source": [
    "# set the random seed\n",
    "tf.random.set_seed(42)\n",
    "\n",
    "# 1. create the model using the sequential API\n",
    "model_1 = tf.keras.Sequential(name = \"model_1\") # note the model names and layer names must meet regex to have underscores no spaces\n",
    "model_1.add(tf.keras.layers.Dense(1, input_shape=(1,), name=\"input_layer\"))\n",
    "\n",
    "# 2. compile the model\n",
    "model_1.compile(\n",
    "    loss = tf.keras.losses.mae, # mean absolute error predicted vs observed\n",
    "    optimizer = tf.keras.optimizers.SGD(), # stochastic gradient descent (lr=1e-3)\n",
    "    metrics=['mae'] # mean absolute error\n",
    ")\n",
    "\n",
    "# 3. fit the model (Important note we are fitting on the training data only)\n",
    "model_1.fit(X_train, y_train, epochs=100, verbose=1)"
   ]
  },
  {
   "cell_type": "code",
   "execution_count": 39,
   "metadata": {},
   "outputs": [
    {
     "data": {
      "image/png": "[encoded data removed]",
      "text/plain": [
       "<Figure size 720x504 with 1 Axes>"
      ]
     },
     "metadata": {
      "needs_background": "light"
     },
     "output_type": "display_data"
    }
   ],
   "source": [
    "# make and plot predictions for this model\n",
    "y_preds_1 = model_1.predict(X_test)\n",
    "\n",
    "plot_predictions(\n",
    "    train_data=X_train,\n",
    "    train_labels=y_train,\n",
    "    test_data=X_test,\n",
    "    test_labels=y_test,\n",
    "    predictions=y_preds_1\n",
    ")"
   ]
  },
  {
   "cell_type": "code",
   "execution_count": 40,
   "metadata": {},
   "outputs": [
    {
     "data": {
      "text/plain": [
       "(<tf.Tensor: shape=(), dtype=float32, numpy=18.745327>,\n",
       " <tf.Tensor: shape=(), dtype=float32, numpy=353.57336>)"
      ]
     },
     "execution_count": 40,
     "metadata": {},
     "output_type": "execute_result"
    }
   ],
   "source": [
    "# Calculate model_1 evaluation metrics\n",
    "mae_1 = tf.metrics.mean_absolute_error(y_test, tf.squeeze(y_preds_1))\n",
    "mse_1 = tf.metrics.mean_squared_error(y_test, tf.squeeze(y_preds_1))\n",
    "\n",
    "mae_1, mse_1"
   ]
  },
  {
   "cell_type": "markdown",
   "metadata": {},
   "source": [
    "**Build `model_2`**\n",
    "* 2 dense layers, trained for 100 epochs"
   ]
  },
  {
   "cell_type": "code",
   "execution_count": 41,
   "metadata": {},
   "outputs": [
    {
     "name": "stdout",
     "output_type": "stream",
     "text": [
      "Epoch 1/100\n",
      "2/2 [==============================] - 0s 2ms/step - loss: 73.0019 - mae: 73.0019\n",
      "Epoch 2/100\n",
      "2/2 [==============================] - 0s 985us/step - loss: 17.5325 - mae: 17.5325\n",
      "Epoch 3/100\n",
      "2/2 [==============================] - 0s 2ms/step - loss: 20.4862 - mae: 20.4862\n",
      "Epoch 4/100\n",
      "2/2 [==============================] - 0s 1ms/step - loss: 13.1871 - mae: 13.1871\n",
      "Epoch 5/100\n",
      "2/2 [==============================] - 0s 1ms/step - loss: 14.5492 - mae: 14.5492\n",
      "Epoch 6/100\n",
      "2/2 [==============================] - 0s 2ms/step - loss: 11.6087 - mae: 11.6087\n",
      "Epoch 7/100\n",
      "2/2 [==============================] - 0s 1ms/step - loss: 12.6668 - mae: 12.6668\n",
      "Epoch 8/100\n",
      "2/2 [==============================] - 0s 1000us/step - loss: 11.0468 - mae: 11.0468\n",
      "Epoch 9/100\n",
      "2/2 [==============================] - 0s 1ms/step - loss: 39.7317 - mae: 39.7317\n",
      "Epoch 10/100\n",
      "2/2 [==============================] - 0s 1ms/step - loss: 27.2189 - mae: 27.2189\n",
      "Epoch 11/100\n",
      "2/2 [==============================] - 0s 993us/step - loss: 11.0353 - mae: 11.0353\n",
      "Epoch 12/100\n",
      "2/2 [==============================] - 0s 1ms/step - loss: 24.4166 - mae: 24.4166\n",
      "Epoch 13/100\n",
      "2/2 [==============================] - 0s 1ms/step - loss: 19.3019 - mae: 19.3019\n",
      "Epoch 14/100\n",
      "2/2 [==============================] - 0s 2ms/step - loss: 23.5364 - mae: 23.5364\n",
      "Epoch 15/100\n",
      "2/2 [==============================] - 0s 999us/step - loss: 15.3061 - mae: 15.3061\n",
      "Epoch 16/100\n",
      "2/2 [==============================] - 0s 2ms/step - loss: 11.3811 - mae: 11.3811\n",
      "Epoch 17/100\n",
      "2/2 [==============================] - 0s 1ms/step - loss: 23.2584 - mae: 23.2584\n",
      "Epoch 18/100\n",
      "2/2 [==============================] - 0s 1ms/step - loss: 11.8111 - mae: 11.8111\n",
      "Epoch 19/100\n",
      "2/2 [==============================] - 0s 1ms/step - loss: 16.5386 - mae: 16.5386\n",
      "Epoch 20/100\n",
      "2/2 [==============================] - 0s 2ms/step - loss: 8.2427 - mae: 8.2427\n",
      "Epoch 21/100\n",
      "2/2 [==============================] - 0s 998us/step - loss: 14.4055 - mae: 14.4055\n",
      "Epoch 22/100\n",
      "2/2 [==============================] - 0s 1ms/step - loss: 12.8167 - mae: 12.8167\n",
      "Epoch 23/100\n",
      "2/2 [==============================] - 0s 999us/step - loss: 15.4582 - mae: 15.4582\n",
      "Epoch 24/100\n",
      "2/2 [==============================] - 0s 1ms/step - loss: 15.2467 - mae: 15.2467\n",
      "Epoch 25/100\n",
      "2/2 [==============================] - 0s 1ms/step - loss: 14.3296 - mae: 14.3296\n",
      "Epoch 26/100\n",
      "2/2 [==============================] - 0s 2ms/step - loss: 19.3209 - mae: 19.3209\n",
      "Epoch 27/100\n",
      "2/2 [==============================] - 0s 2ms/step - loss: 11.4720 - mae: 11.4720\n",
      "Epoch 28/100\n",
      "2/2 [==============================] - 0s 993us/step - loss: 29.1772 - mae: 29.1772\n",
      "Epoch 29/100\n",
      "2/2 [==============================] - 0s 1ms/step - loss: 9.2578 - mae: 9.2578\n",
      "Epoch 30/100\n",
      "2/2 [==============================] - 0s 999us/step - loss: 29.8922 - mae: 29.8922\n",
      "Epoch 31/100\n",
      "2/2 [==============================] - 0s 914us/step - loss: 54.2504 - mae: 54.2504\n",
      "Epoch 32/100\n",
      "2/2 [==============================] - 0s 2ms/step - loss: 9.5899 - mae: 9.5899\n",
      "Epoch 33/100\n",
      "2/2 [==============================] - 0s 2ms/step - loss: 12.1833 - mae: 12.1833\n",
      "Epoch 34/100\n",
      "2/2 [==============================] - 0s 998us/step - loss: 23.9573 - mae: 23.9573\n",
      "Epoch 35/100\n",
      "2/2 [==============================] - 0s 1ms/step - loss: 12.6202 - mae: 12.6202\n",
      "Epoch 36/100\n",
      "2/2 [==============================] - 0s 2ms/step - loss: 21.5189 - mae: 21.5189\n",
      "Epoch 37/100\n",
      "2/2 [==============================] - 0s 1ms/step - loss: 11.3948 - mae: 11.3948\n",
      "Epoch 38/100\n",
      "2/2 [==============================] - 0s 2ms/step - loss: 13.4825 - mae: 13.4825\n",
      "Epoch 39/100\n",
      "2/2 [==============================] - 0s 1ms/step - loss: 10.8031 - mae: 10.8031\n",
      "Epoch 40/100\n",
      "2/2 [==============================] - 0s 2ms/step - loss: 16.6186 - mae: 16.6186\n",
      "Epoch 41/100\n",
      "2/2 [==============================] - 0s 1ms/step - loss: 10.9878 - mae: 10.9878\n",
      "Epoch 42/100\n",
      "2/2 [==============================] - 0s 1ms/step - loss: 9.3120 - mae: 9.3120\n",
      "Epoch 43/100\n",
      "2/2 [==============================] - 0s 1000us/step - loss: 9.6002 - mae: 9.6002\n",
      "Epoch 44/100\n",
      "2/2 [==============================] - 0s 2ms/step - loss: 28.0120 - mae: 28.0120\n",
      "Epoch 45/100\n",
      "2/2 [==============================] - 0s 1ms/step - loss: 11.2956 - mae: 11.2956\n",
      "Epoch 46/100\n",
      "2/2 [==============================] - 0s 0s/step - loss: 14.0830 - mae: 14.0830\n",
      "Epoch 47/100\n",
      "2/2 [==============================] - 0s 995us/step - loss: 13.5011 - mae: 13.5011\n",
      "Epoch 48/100\n",
      "2/2 [==============================] - 0s 1ms/step - loss: 17.3373 - mae: 17.3373\n",
      "Epoch 49/100\n",
      "2/2 [==============================] - 0s 993us/step - loss: 9.5238 - mae: 9.5238\n",
      "Epoch 50/100\n",
      "2/2 [==============================] - 0s 1ms/step - loss: 13.7154 - mae: 13.7154\n",
      "Epoch 51/100\n",
      "2/2 [==============================] - 0s 2ms/step - loss: 11.5670 - mae: 11.5670\n",
      "Epoch 52/100\n",
      "2/2 [==============================] - 0s 1ms/step - loss: 30.2257 - mae: 30.2257\n",
      "Epoch 53/100\n",
      "2/2 [==============================] - 0s 1ms/step - loss: 13.7352 - mae: 13.7352\n",
      "Epoch 54/100\n",
      "2/2 [==============================] - 0s 1ms/step - loss: 26.4457 - mae: 26.4457\n",
      "Epoch 55/100\n",
      "2/2 [==============================] - 0s 992us/step - loss: 26.0367 - mae: 26.0367\n",
      "Epoch 56/100\n",
      "2/2 [==============================] - 0s 2ms/step - loss: 11.2460 - mae: 11.2460\n",
      "Epoch 57/100\n",
      "2/2 [==============================] - 0s 2ms/step - loss: 13.2249 - mae: 13.2249\n",
      "Epoch 58/100\n",
      "2/2 [==============================] - 0s 1ms/step - loss: 9.8754 - mae: 9.8754\n",
      "Epoch 59/100\n",
      "2/2 [==============================] - 0s 993us/step - loss: 13.4150 - mae: 13.4150\n",
      "Epoch 60/100\n",
      "2/2 [==============================] - 0s 1ms/step - loss: 10.9405 - mae: 10.9405\n",
      "Epoch 61/100\n",
      "2/2 [==============================] - 0s 1ms/step - loss: 13.5630 - mae: 13.5630\n",
      "Epoch 62/100\n",
      "2/2 [==============================] - 0s 1ms/step - loss: 17.8775 - mae: 17.8775\n",
      "Epoch 63/100\n",
      "2/2 [==============================] - 0s 692us/step - loss: 8.7416 - mae: 8.7416\n",
      "Epoch 64/100\n",
      "2/2 [==============================] - 0s 999us/step - loss: 16.1381 - mae: 16.1381\n",
      "Epoch 65/100\n",
      "2/2 [==============================] - 0s 1ms/step - loss: 10.7498 - mae: 10.7498\n",
      "Epoch 66/100\n",
      "2/2 [==============================] - 0s 2ms/step - loss: 22.1831 - mae: 22.1831\n",
      "Epoch 67/100\n",
      "2/2 [==============================] - 0s 1ms/step - loss: 10.2709 - mae: 10.2709\n",
      "Epoch 68/100\n",
      "2/2 [==============================] - 0s 2ms/step - loss: 13.4682 - mae: 13.4682\n",
      "Epoch 69/100\n",
      "2/2 [==============================] - 0s 2ms/step - loss: 11.4343 - mae: 11.4343\n",
      "Epoch 70/100\n",
      "2/2 [==============================] - 0s 1ms/step - loss: 13.6187 - mae: 13.6187\n",
      "Epoch 71/100\n",
      "2/2 [==============================] - 0s 2ms/step - loss: 15.6233 - mae: 15.6233\n",
      "Epoch 72/100\n",
      "2/2 [==============================] - 0s 2ms/step - loss: 11.8532 - mae: 11.8532\n",
      "Epoch 73/100\n",
      "2/2 [==============================] - 0s 999us/step - loss: 16.6254 - mae: 16.6254\n",
      "Epoch 74/100\n",
      "2/2 [==============================] - 0s 1ms/step - loss: 24.1342 - mae: 24.1342\n",
      "Epoch 75/100\n",
      "2/2 [==============================] - 0s 1ms/step - loss: 9.6315 - mae: 9.6315\n",
      "Epoch 76/100\n",
      "2/2 [==============================] - 0s 2ms/step - loss: 12.4825 - mae: 12.4825\n",
      "Epoch 77/100\n",
      "2/2 [==============================] - 0s 993us/step - loss: 16.7086 - mae: 16.7086\n",
      "Epoch 78/100\n",
      "2/2 [==============================] - 0s 994us/step - loss: 9.0873 - mae: 9.0873\n",
      "Epoch 79/100\n",
      "2/2 [==============================] - 0s 994us/step - loss: 24.0255 - mae: 24.0255\n",
      "Epoch 80/100\n",
      "2/2 [==============================] - 0s 1ms/step - loss: 26.8174 - mae: 26.8174\n",
      "Epoch 81/100\n",
      "2/2 [==============================] - 0s 1ms/step - loss: 11.7213 - mae: 11.7213\n",
      "Epoch 82/100\n",
      "2/2 [==============================] - 0s 3ms/step - loss: 12.0124 - mae: 12.0124\n",
      "Epoch 83/100\n",
      "2/2 [==============================] - 0s 2ms/step - loss: 17.4085 - mae: 17.4085\n",
      "Epoch 84/100\n",
      "2/2 [==============================] - 0s 999us/step - loss: 7.2769 - mae: 7.2769\n",
      "Epoch 85/100\n",
      "2/2 [==============================] - 0s 1ms/step - loss: 14.9605 - mae: 14.9605\n",
      "Epoch 86/100\n",
      "2/2 [==============================] - 0s 2ms/step - loss: 15.2848 - mae: 15.2848\n",
      "Epoch 87/100\n",
      "2/2 [==============================] - 0s 931us/step - loss: 19.0979 - mae: 19.0979\n",
      "Epoch 88/100\n",
      "2/2 [==============================] - 0s 990us/step - loss: 29.8574 - mae: 29.8574\n",
      "Epoch 89/100\n",
      "2/2 [==============================] - 0s 998us/step - loss: 10.1967 - mae: 10.1967\n",
      "Epoch 90/100\n",
      "2/2 [==============================] - 0s 2ms/step - loss: 21.5458 - mae: 21.5458\n",
      "Epoch 91/100\n",
      "2/2 [==============================] - 0s 1ms/step - loss: 10.5927 - mae: 10.5927\n",
      "Epoch 92/100\n",
      "2/2 [==============================] - 0s 2ms/step - loss: 18.4135 - mae: 18.4135\n",
      "Epoch 93/100\n",
      "2/2 [==============================] - 0s 2ms/step - loss: 7.4299 - mae: 7.4299\n",
      "Epoch 94/100\n",
      "2/2 [==============================] - 0s 2ms/step - loss: 17.7470 - mae: 17.7470\n",
      "Epoch 95/100\n",
      "2/2 [==============================] - 0s 994us/step - loss: 11.1306 - mae: 11.1306\n",
      "Epoch 96/100\n",
      "2/2 [==============================] - 0s 1ms/step - loss: 19.4420 - mae: 19.4420\n",
      "Epoch 97/100\n",
      "2/2 [==============================] - 0s 999us/step - loss: 12.1735 - mae: 12.1735\n",
      "Epoch 98/100\n",
      "2/2 [==============================] - 0s 1ms/step - loss: 11.5784 - mae: 11.5784\n",
      "Epoch 99/100\n",
      "2/2 [==============================] - 0s 1ms/step - loss: 13.8853 - mae: 13.8853\n",
      "Epoch 100/100\n",
      "2/2 [==============================] - 0s 1ms/step - loss: 20.2151 - mae: 20.2151\n"
     ]
    },
    {
     "data": {
      "text/plain": [
       "<keras.callbacks.History at 0x1f1c2908400>"
      ]
     },
     "execution_count": 41,
     "metadata": {},
     "output_type": "execute_result"
    }
   ],
   "source": [
    "# 1. create the model using the sequential API\n",
    "model_2 = tf.keras.Sequential(name = \"model_2\") # note the model names and layer names must meet regex to have underscores no spaces\n",
    "model_2.add(tf.keras.layers.Dense(10, input_shape=(1,), name=\"input_layer\"))\n",
    "model_2.add(tf.keras.layers.Dense(1, name=\"output_layer\"))\n",
    "\n",
    "# 2. compile the model\n",
    "model_2.compile(\n",
    "    loss = tf.keras.losses.mae, # mean absolute error predicted vs observed\n",
    "    optimizer = tf.keras.optimizers.SGD(), # stochastic gradient descent (lr=1e-3)\n",
    "    metrics=['mae'] # mean absolute error\n",
    ")\n",
    "\n",
    "# 3. fit the model (Important note we are fitting on the training data only)\n",
    "model_2.fit(X_train, y_train, epochs=100, verbose=1)"
   ]
  },
  {
   "cell_type": "code",
   "execution_count": 42,
   "metadata": {},
   "outputs": [
    {
     "data": {
      "image/png": "[encoded data removed]",
      "text/plain": [
       "<Figure size 720x504 with 1 Axes>"
      ]
     },
     "metadata": {
      "needs_background": "light"
     },
     "output_type": "display_data"
    }
   ],
   "source": [
    "# make and plot predictions for this model\n",
    "y_preds_2 = model_2.predict(X_test)\n",
    "\n",
    "plot_predictions(\n",
    "    train_data=X_train,\n",
    "    train_labels=y_train,\n",
    "    test_data=X_test,\n",
    "    test_labels=y_test,\n",
    "    predictions=y_preds_2\n",
    ")"
   ]
  },
  {
   "cell_type": "code",
   "execution_count": 43,
   "metadata": {},
   "outputs": [
    {
     "data": {
      "text/plain": [
       "(<tf.Tensor: shape=(), dtype=float32, numpy=3.1110053>,\n",
       " <tf.Tensor: shape=(), dtype=float32, numpy=12.497129>)"
      ]
     },
     "execution_count": 43,
     "metadata": {},
     "output_type": "execute_result"
    }
   ],
   "source": [
    "# Calculate model_2 evaluation metrics\n",
    "mae_2 = tf.metrics.mean_absolute_error(y_test, tf.squeeze(y_preds_2))\n",
    "mse_2 = tf.metrics.mean_squared_error(y_test, tf.squeeze(y_preds_2))\n",
    "\n",
    "mae_2, mse_2"
   ]
  },
  {
   "cell_type": "markdown",
   "metadata": {},
   "source": [
    "**Build `model_3`**\n",
    "* 2 dense layers, for 500 epochs"
   ]
  },
  {
   "cell_type": "code",
   "execution_count": 44,
   "metadata": {},
   "outputs": [
    {
     "name": "stdout",
     "output_type": "stream",
     "text": [
      "Epoch 1/500\n",
      "1/2 [==============>...............] - ETA: 0s - loss: 19.8763 - mae: 19.8763"
     ]
    },
    {
     "name": "stderr",
     "output_type": "stream",
     "text": [
      "C:\\Users\\charl\\AppData\\Local\\Packages\\PythonSoftwareFoundation.Python.3.8_qbz5n2kfra8p0\\LocalCache\\local-packages\\Python38\\site-packages\\keras\\optimizer_v2\\gradient_descent.py:102: UserWarning: The `lr` argument is deprecated, use `learning_rate` instead.\n",
      "  super(SGD, self).__init__(name, **kwargs)\n"
     ]
    },
    {
     "name": "stdout",
     "output_type": "stream",
     "text": [
      "2/2 [==============================] - 0s 3ms/step - loss: 18.8293 - mae: 18.8293\n",
      "Epoch 2/500\n",
      "2/2 [==============================] - 0s 1ms/step - loss: 11.4742 - mae: 11.4742\n",
      "Epoch 3/500\n",
      "2/2 [==============================] - 0s 2ms/step - loss: 8.3273 - mae: 8.3273\n",
      "Epoch 4/500\n",
      "2/2 [==============================] - 0s 993us/step - loss: 8.4104 - mae: 8.4104\n",
      "Epoch 5/500\n",
      "2/2 [==============================] - 0s 1ms/step - loss: 7.8010 - mae: 7.8010\n",
      "Epoch 6/500\n",
      "2/2 [==============================] - 0s 2ms/step - loss: 7.5729 - mae: 7.5729\n",
      "Epoch 7/500\n",
      "2/2 [==============================] - 0s 1ms/step - loss: 7.6338 - mae: 7.6338\n",
      "Epoch 8/500\n",
      "2/2 [==============================] - 0s 1ms/step - loss: 7.9006 - mae: 7.9006\n",
      "Epoch 9/500\n",
      "2/2 [==============================] - 0s 999us/step - loss: 9.3599 - mae: 9.3599\n",
      "Epoch 10/500\n",
      "2/2 [==============================] - 0s 694us/step - loss: 9.1792 - mae: 9.1792\n",
      "Epoch 11/500\n",
      "2/2 [==============================] - 0s 1ms/step - loss: 8.4585 - mae: 8.4585\n",
      "Epoch 12/500\n",
      "2/2 [==============================] - 0s 1000us/step - loss: 9.4000 - mae: 9.4000\n",
      "Epoch 13/500\n",
      "2/2 [==============================] - 0s 1ms/step - loss: 7.7538 - mae: 7.7538\n",
      "Epoch 14/500\n",
      "2/2 [==============================] - 0s 1ms/step - loss: 9.5592 - mae: 9.5592\n",
      "Epoch 15/500\n",
      "2/2 [==============================] - 0s 1ms/step - loss: 7.6952 - mae: 7.6952\n",
      "Epoch 16/500\n",
      "2/2 [==============================] - 0s 2ms/step - loss: 7.9035 - mae: 7.9035\n",
      "Epoch 17/500\n",
      "2/2 [==============================] - 0s 1ms/step - loss: 7.8036 - mae: 7.8036\n",
      "Epoch 18/500\n",
      "2/2 [==============================] - 0s 2ms/step - loss: 8.7603 - mae: 8.7603\n",
      "Epoch 19/500\n",
      "2/2 [==============================] - 0s 2ms/step - loss: 9.2254 - mae: 9.2254\n",
      "Epoch 20/500\n",
      "2/2 [==============================] - 0s 2ms/step - loss: 7.9471 - mae: 7.9471\n",
      "Epoch 21/500\n",
      "2/2 [==============================] - 0s 2ms/step - loss: 7.7549 - mae: 7.7549\n",
      "Epoch 22/500\n",
      "2/2 [==============================] - 0s 1ms/step - loss: 8.5286 - mae: 8.5286\n",
      "Epoch 23/500\n",
      "2/2 [==============================] - 0s 1ms/step - loss: 7.6535 - mae: 7.6535\n",
      "Epoch 24/500\n",
      "2/2 [==============================] - 0s 999us/step - loss: 7.6086 - mae: 7.6086\n",
      "Epoch 25/500\n",
      "2/2 [==============================] - 0s 2ms/step - loss: 9.1580 - mae: 9.1580\n",
      "Epoch 26/500\n",
      "2/2 [==============================] - 0s 1ms/step - loss: 8.3232 - mae: 8.3232\n",
      "Epoch 27/500\n",
      "2/2 [==============================] - 0s 2ms/step - loss: 7.5570 - mae: 7.5570\n",
      "Epoch 28/500\n",
      "2/2 [==============================] - 0s 2ms/step - loss: 8.0023 - mae: 8.0023\n",
      "Epoch 29/500\n",
      "2/2 [==============================] - 0s 1ms/step - loss: 7.9983 - mae: 7.9983\n",
      "Epoch 30/500\n",
      "2/2 [==============================] - 0s 1000us/step - loss: 8.2816 - mae: 8.2816\n",
      "Epoch 31/500\n",
      "2/2 [==============================] - 0s 2ms/step - loss: 8.8431 - mae: 8.8431\n",
      "Epoch 32/500\n",
      "2/2 [==============================] - 0s 2ms/step - loss: 8.0746 - mae: 8.0746\n",
      "Epoch 33/500\n",
      "2/2 [==============================] - 0s 996us/step - loss: 7.6782 - mae: 7.6782\n",
      "Epoch 34/500\n",
      "2/2 [==============================] - 0s 547us/step - loss: 7.6064 - mae: 7.6064\n",
      "Epoch 35/500\n",
      "2/2 [==============================] - 0s 620us/step - loss: 7.9961 - mae: 7.9961\n",
      "Epoch 36/500\n",
      "2/2 [==============================] - 0s 1ms/step - loss: 9.0445 - mae: 9.0445\n",
      "Epoch 37/500\n",
      "2/2 [==============================] - 0s 2ms/step - loss: 7.9555 - mae: 7.9555\n",
      "Epoch 38/500\n",
      "2/2 [==============================] - 0s 1ms/step - loss: 7.7303 - mae: 7.7303\n",
      "Epoch 39/500\n",
      "2/2 [==============================] - 0s 2ms/step - loss: 8.7368 - mae: 8.7368\n",
      "Epoch 40/500\n",
      "2/2 [==============================] - 0s 999us/step - loss: 7.5895 - mae: 7.5895\n",
      "Epoch 41/500\n",
      "2/2 [==============================] - 0s 2ms/step - loss: 7.4998 - mae: 7.4998\n",
      "Epoch 42/500\n",
      "2/2 [==============================] - 0s 2ms/step - loss: 7.5127 - mae: 7.5127\n",
      "Epoch 43/500\n",
      "2/2 [==============================] - 0s 1ms/step - loss: 7.4920 - mae: 7.4920\n",
      "Epoch 44/500\n",
      "2/2 [==============================] - 0s 2ms/step - loss: 7.4683 - mae: 7.4683\n",
      "Epoch 45/500\n",
      "2/2 [==============================] - 0s 1ms/step - loss: 8.7059 - mae: 8.7059\n",
      "Epoch 46/500\n",
      "2/2 [==============================] - 0s 1ms/step - loss: 8.2903 - mae: 8.2903\n",
      "Epoch 47/500\n",
      "2/2 [==============================] - 0s 1ms/step - loss: 7.6275 - mae: 7.6275\n",
      "Epoch 48/500\n",
      "2/2 [==============================] - 0s 999us/step - loss: 7.7771 - mae: 7.7771\n",
      "Epoch 49/500\n",
      "2/2 [==============================] - 0s 932us/step - loss: 7.5306 - mae: 7.5306\n",
      "Epoch 50/500\n",
      "2/2 [==============================] - 0s 1ms/step - loss: 8.5317 - mae: 8.5317\n",
      "Epoch 51/500\n",
      "2/2 [==============================] - 0s 1ms/step - loss: 7.5878 - mae: 7.5878\n",
      "Epoch 52/500\n",
      "2/2 [==============================] - 0s 1ms/step - loss: 8.6000 - mae: 8.6000\n",
      "Epoch 53/500\n",
      "2/2 [==============================] - 0s 993us/step - loss: 8.4924 - mae: 8.4924\n",
      "Epoch 54/500\n",
      "2/2 [==============================] - 0s 851us/step - loss: 7.7347 - mae: 7.7347\n",
      "Epoch 55/500\n",
      "2/2 [==============================] - 0s 2ms/step - loss: 7.4993 - mae: 7.4993\n",
      "Epoch 56/500\n",
      "2/2 [==============================] - 0s 2ms/step - loss: 7.7188 - mae: 7.7188\n",
      "Epoch 57/500\n",
      "2/2 [==============================] - 0s 1ms/step - loss: 8.7187 - mae: 8.7187\n",
      "Epoch 58/500\n",
      "2/2 [==============================] - 0s 2ms/step - loss: 7.9629 - mae: 7.9629\n",
      "Epoch 59/500\n",
      "2/2 [==============================] - 0s 998us/step - loss: 7.5125 - mae: 7.5125\n",
      "Epoch 60/500\n",
      "2/2 [==============================] - 0s 2ms/step - loss: 8.5029 - mae: 8.5029\n",
      "Epoch 61/500\n",
      "2/2 [==============================] - 0s 2ms/step - loss: 7.9013 - mae: 7.9013\n",
      "Epoch 62/500\n",
      "2/2 [==============================] - 0s 1ms/step - loss: 7.6378 - mae: 7.6378\n",
      "Epoch 63/500\n",
      "2/2 [==============================] - 0s 2ms/step - loss: 8.0992 - mae: 8.0992\n",
      "Epoch 64/500\n",
      "2/2 [==============================] - 0s 1ms/step - loss: 8.7774 - mae: 8.7774\n",
      "Epoch 65/500\n",
      "2/2 [==============================] - 0s 999us/step - loss: 8.1687 - mae: 8.1687\n",
      "Epoch 66/500\n",
      "2/2 [==============================] - 0s 1ms/step - loss: 7.7135 - mae: 7.7135\n",
      "Epoch 67/500\n",
      "2/2 [==============================] - 0s 1ms/step - loss: 7.5287 - mae: 7.5287\n",
      "Epoch 68/500\n",
      "2/2 [==============================] - 0s 1ms/step - loss: 8.2431 - mae: 8.2431\n",
      "Epoch 69/500\n",
      "2/2 [==============================] - 0s 1ms/step - loss: 7.9337 - mae: 7.9337\n",
      "Epoch 70/500\n",
      "2/2 [==============================] - 0s 1ms/step - loss: 7.4225 - mae: 7.4225\n",
      "Epoch 71/500\n",
      "2/2 [==============================] - 0s 2ms/step - loss: 8.1839 - mae: 8.1839\n",
      "Epoch 72/500\n",
      "2/2 [==============================] - 0s 2ms/step - loss: 7.5446 - mae: 7.5446\n",
      "Epoch 73/500\n",
      "2/2 [==============================] - 0s 2ms/step - loss: 8.0250 - mae: 8.0250\n",
      "Epoch 74/500\n",
      "2/2 [==============================] - 0s 1ms/step - loss: 8.9977 - mae: 8.9977\n",
      "Epoch 75/500\n",
      "2/2 [==============================] - 0s 1ms/step - loss: 7.4950 - mae: 7.4950\n",
      "Epoch 76/500\n",
      "2/2 [==============================] - 0s 1ms/step - loss: 7.4842 - mae: 7.4842\n",
      "Epoch 77/500\n",
      "2/2 [==============================] - 0s 2ms/step - loss: 7.9250 - mae: 7.9250\n",
      "Epoch 78/500\n",
      "2/2 [==============================] - 0s 865us/step - loss: 7.4917 - mae: 7.4917\n",
      "Epoch 79/500\n",
      "2/2 [==============================] - 0s 1ms/step - loss: 8.1183 - mae: 8.1183\n",
      "Epoch 80/500\n",
      "2/2 [==============================] - 0s 1ms/step - loss: 7.6920 - mae: 7.6920\n",
      "Epoch 81/500\n",
      "2/2 [==============================] - 0s 2ms/step - loss: 7.6271 - mae: 7.6271\n",
      "Epoch 82/500\n",
      "2/2 [==============================] - 0s 1ms/step - loss: 7.9889 - mae: 7.9889\n",
      "Epoch 83/500\n",
      "2/2 [==============================] - 0s 2ms/step - loss: 7.4682 - mae: 7.4682\n",
      "Epoch 84/500\n",
      "2/2 [==============================] - 0s 1ms/step - loss: 7.3770 - mae: 7.3770\n",
      "Epoch 85/500\n",
      "2/2 [==============================] - 0s 2ms/step - loss: 8.3909 - mae: 8.3909\n",
      "Epoch 86/500\n",
      "2/2 [==============================] - 0s 2ms/step - loss: 7.8237 - mae: 7.8237\n",
      "Epoch 87/500\n",
      "2/2 [==============================] - 0s 2ms/step - loss: 8.2755 - mae: 8.2755\n",
      "Epoch 88/500\n",
      "2/2 [==============================] - 0s 1ms/step - loss: 9.5378 - mae: 9.5378\n",
      "Epoch 89/500\n",
      "2/2 [==============================] - 0s 2ms/step - loss: 7.3336 - mae: 7.3336\n",
      "Epoch 90/500\n",
      "2/2 [==============================] - 0s 1ms/step - loss: 7.8400 - mae: 7.8400\n",
      "Epoch 91/500\n",
      "2/2 [==============================] - 0s 1ms/step - loss: 7.3825 - mae: 7.3825\n",
      "Epoch 92/500\n",
      "2/2 [==============================] - 0s 1000us/step - loss: 7.4791 - mae: 7.4791\n",
      "Epoch 93/500\n",
      "2/2 [==============================] - 0s 1ms/step - loss: 7.3313 - mae: 7.3313\n",
      "Epoch 94/500\n",
      "2/2 [==============================] - 0s 999us/step - loss: 7.4723 - mae: 7.4723\n",
      "Epoch 95/500\n",
      "2/2 [==============================] - 0s 2ms/step - loss: 8.3363 - mae: 8.3363\n",
      "Epoch 96/500\n",
      "2/2 [==============================] - 0s 1ms/step - loss: 7.4719 - mae: 7.4719\n",
      "Epoch 97/500\n",
      "2/2 [==============================] - 0s 1ms/step - loss: 8.7679 - mae: 8.7679\n",
      "Epoch 98/500\n",
      "2/2 [==============================] - 0s 998us/step - loss: 7.3509 - mae: 7.3509\n",
      "Epoch 99/500\n",
      "2/2 [==============================] - 0s 1ms/step - loss: 7.5774 - mae: 7.5774\n",
      "Epoch 100/500\n",
      "2/2 [==============================] - 0s 2ms/step - loss: 7.3610 - mae: 7.3610\n",
      "Epoch 101/500\n",
      "2/2 [==============================] - 0s 1ms/step - loss: 8.0599 - mae: 8.0599\n",
      "Epoch 102/500\n",
      "2/2 [==============================] - 0s 2ms/step - loss: 8.1748 - mae: 8.1748\n",
      "Epoch 103/500\n",
      "2/2 [==============================] - 0s 1000us/step - loss: 8.1548 - mae: 8.1548\n",
      "Epoch 104/500\n",
      "2/2 [==============================] - 0s 1ms/step - loss: 8.5930 - mae: 8.5930\n",
      "Epoch 105/500\n",
      "2/2 [==============================] - 0s 849us/step - loss: 8.6138 - mae: 8.6138\n",
      "Epoch 106/500\n",
      "2/2 [==============================] - 0s 2ms/step - loss: 7.6203 - mae: 7.6203\n",
      "Epoch 107/500\n",
      "2/2 [==============================] - 0s 2ms/step - loss: 7.7085 - mae: 7.7085\n",
      "Epoch 108/500\n",
      "2/2 [==============================] - 0s 998us/step - loss: 7.9328 - mae: 7.9328\n",
      "Epoch 109/500\n",
      "2/2 [==============================] - 0s 1ms/step - loss: 8.2960 - mae: 8.2960\n",
      "Epoch 110/500\n",
      "2/2 [==============================] - 0s 993us/step - loss: 7.4001 - mae: 7.4001\n",
      "Epoch 111/500\n",
      "2/2 [==============================] - 0s 2ms/step - loss: 8.0082 - mae: 8.0082\n",
      "Epoch 112/500\n",
      "2/2 [==============================] - 0s 2ms/step - loss: 7.4741 - mae: 7.4741\n",
      "Epoch 113/500\n",
      "2/2 [==============================] - 0s 1ms/step - loss: 7.3848 - mae: 7.3848\n",
      "Epoch 114/500\n",
      "2/2 [==============================] - 0s 998us/step - loss: 8.8045 - mae: 8.8045\n",
      "Epoch 115/500\n",
      "2/2 [==============================] - 0s 1ms/step - loss: 7.5192 - mae: 7.5192\n",
      "Epoch 116/500\n",
      "2/2 [==============================] - 0s 2ms/step - loss: 7.8001 - mae: 7.8001\n",
      "Epoch 117/500\n",
      "2/2 [==============================] - 0s 1ms/step - loss: 7.7970 - mae: 7.7970\n",
      "Epoch 118/500\n",
      "2/2 [==============================] - 0s 1ms/step - loss: 7.8670 - mae: 7.8670\n",
      "Epoch 119/500\n",
      "2/2 [==============================] - 0s 2ms/step - loss: 7.2460 - mae: 7.2460\n",
      "Epoch 120/500\n",
      "2/2 [==============================] - 0s 1ms/step - loss: 7.5034 - mae: 7.5034\n",
      "Epoch 121/500\n",
      "2/2 [==============================] - 0s 2ms/step - loss: 7.4503 - mae: 7.4503\n",
      "Epoch 122/500\n",
      "2/2 [==============================] - 0s 993us/step - loss: 7.5947 - mae: 7.5947\n",
      "Epoch 123/500\n",
      "2/2 [==============================] - 0s 1ms/step - loss: 8.7110 - mae: 8.7110\n",
      "Epoch 124/500\n",
      "2/2 [==============================] - 0s 1000us/step - loss: 8.0483 - mae: 8.0483\n",
      "Epoch 125/500\n",
      "2/2 [==============================] - 0s 2ms/step - loss: 7.2879 - mae: 7.2879\n",
      "Epoch 126/500\n",
      "2/2 [==============================] - 0s 1ms/step - loss: 7.8027 - mae: 7.8027\n",
      "Epoch 127/500\n",
      "2/2 [==============================] - 0s 999us/step - loss: 7.3842 - mae: 7.3842\n",
      "Epoch 128/500\n",
      "2/2 [==============================] - 0s 1ms/step - loss: 8.3321 - mae: 8.3321\n",
      "Epoch 129/500\n",
      "2/2 [==============================] - 0s 993us/step - loss: 7.9827 - mae: 7.9827\n",
      "Epoch 130/500\n",
      "2/2 [==============================] - 0s 1ms/step - loss: 7.5317 - mae: 7.5317\n",
      "Epoch 131/500\n",
      "2/2 [==============================] - 0s 2ms/step - loss: 7.2303 - mae: 7.2303\n",
      "Epoch 132/500\n",
      "2/2 [==============================] - 0s 1ms/step - loss: 7.5198 - mae: 7.5198\n",
      "Epoch 133/500\n",
      "2/2 [==============================] - 0s 1ms/step - loss: 8.1973 - mae: 8.1973\n",
      "Epoch 134/500\n",
      "2/2 [==============================] - 0s 1ms/step - loss: 9.0566 - mae: 9.0566\n",
      "Epoch 135/500\n",
      "2/2 [==============================] - 0s 2ms/step - loss: 7.2268 - mae: 7.2268\n",
      "Epoch 136/500\n",
      "2/2 [==============================] - 0s 2ms/step - loss: 8.2475 - mae: 8.2475\n",
      "Epoch 137/500\n",
      "2/2 [==============================] - 0s 1ms/step - loss: 7.3666 - mae: 7.3666\n",
      "Epoch 138/500\n",
      "2/2 [==============================] - 0s 1ms/step - loss: 8.0891 - mae: 8.0891\n",
      "Epoch 139/500\n",
      "2/2 [==============================] - 0s 999us/step - loss: 7.6046 - mae: 7.6046\n",
      "Epoch 140/500\n",
      "2/2 [==============================] - 0s 1ms/step - loss: 7.7360 - mae: 7.7360\n",
      "Epoch 141/500\n",
      "2/2 [==============================] - 0s 2ms/step - loss: 7.4939 - mae: 7.4939\n",
      "Epoch 142/500\n",
      "2/2 [==============================] - 0s 899us/step - loss: 7.5667 - mae: 7.5667\n",
      "Epoch 143/500\n",
      "2/2 [==============================] - 0s 1000us/step - loss: 8.1828 - mae: 8.1828\n",
      "Epoch 144/500\n",
      "2/2 [==============================] - 0s 1ms/step - loss: 7.5595 - mae: 7.5595\n",
      "Epoch 145/500\n",
      "2/2 [==============================] - 0s 993us/step - loss: 9.1246 - mae: 9.1246\n",
      "Epoch 146/500\n",
      "2/2 [==============================] - 0s 1ms/step - loss: 7.8708 - mae: 7.8708\n",
      "Epoch 147/500\n",
      "2/2 [==============================] - 0s 2ms/step - loss: 7.7011 - mae: 7.7011\n",
      "Epoch 148/500\n",
      "2/2 [==============================] - 0s 2ms/step - loss: 8.3133 - mae: 8.3133\n",
      "Epoch 149/500\n",
      "2/2 [==============================] - 0s 1000us/step - loss: 7.8843 - mae: 7.8843\n",
      "Epoch 150/500\n",
      "2/2 [==============================] - 0s 1ms/step - loss: 7.6486 - mae: 7.6486\n",
      "Epoch 151/500\n",
      "2/2 [==============================] - 0s 994us/step - loss: 7.9869 - mae: 7.9869\n",
      "Epoch 152/500\n",
      "2/2 [==============================] - 0s 1ms/step - loss: 7.4128 - mae: 7.4128\n",
      "Epoch 153/500\n",
      "2/2 [==============================] - 0s 2ms/step - loss: 7.2208 - mae: 7.2208\n",
      "Epoch 154/500\n",
      "2/2 [==============================] - 0s 2ms/step - loss: 7.2622 - mae: 7.2622\n",
      "Epoch 155/500\n",
      "2/2 [==============================] - 0s 1ms/step - loss: 7.2137 - mae: 7.2137\n",
      "Epoch 156/500\n",
      "2/2 [==============================] - 0s 993us/step - loss: 7.7138 - mae: 7.7138\n",
      "Epoch 157/500\n",
      "2/2 [==============================] - 0s 1ms/step - loss: 7.0885 - mae: 7.0885\n",
      "Epoch 158/500\n",
      "2/2 [==============================] - 0s 1ms/step - loss: 7.1384 - mae: 7.1384\n",
      "Epoch 159/500\n",
      "2/2 [==============================] - 0s 1ms/step - loss: 7.6916 - mae: 7.6916\n",
      "Epoch 160/500\n",
      "2/2 [==============================] - 0s 2ms/step - loss: 7.3682 - mae: 7.3682\n",
      "Epoch 161/500\n",
      "2/2 [==============================] - 0s 2ms/step - loss: 7.5326 - mae: 7.5326\n",
      "Epoch 162/500\n",
      "2/2 [==============================] - 0s 999us/step - loss: 7.5988 - mae: 7.5988\n",
      "Epoch 163/500\n",
      "2/2 [==============================] - 0s 2ms/step - loss: 7.2041 - mae: 7.2041\n",
      "Epoch 164/500\n",
      "2/2 [==============================] - 0s 2ms/step - loss: 7.1306 - mae: 7.1306\n",
      "Epoch 165/500\n",
      "2/2 [==============================] - 0s 1ms/step - loss: 7.7130 - mae: 7.7130\n",
      "Epoch 166/500\n",
      "2/2 [==============================] - 0s 2ms/step - loss: 7.4880 - mae: 7.4880\n",
      "Epoch 167/500\n",
      "2/2 [==============================] - 0s 1ms/step - loss: 7.7566 - mae: 7.7566\n",
      "Epoch 168/500\n",
      "2/2 [==============================] - 0s 2ms/step - loss: 7.1952 - mae: 7.1952\n",
      "Epoch 169/500\n",
      "2/2 [==============================] - 0s 1ms/step - loss: 7.1127 - mae: 7.1127\n",
      "Epoch 170/500\n",
      "2/2 [==============================] - 0s 1000us/step - loss: 7.6403 - mae: 7.6403\n",
      "Epoch 171/500\n",
      "2/2 [==============================] - 0s 2ms/step - loss: 7.7606 - mae: 7.7606\n",
      "Epoch 172/500\n",
      "2/2 [==============================] - 0s 2ms/step - loss: 7.6108 - mae: 7.6108\n",
      "Epoch 173/500\n",
      "2/2 [==============================] - 0s 973us/step - loss: 7.1775 - mae: 7.1775\n",
      "Epoch 174/500\n",
      "2/2 [==============================] - 0s 999us/step - loss: 7.2392 - mae: 7.2392\n",
      "Epoch 175/500\n",
      "2/2 [==============================] - 0s 1ms/step - loss: 8.8700 - mae: 8.8700\n",
      "Epoch 176/500\n",
      "2/2 [==============================] - 0s 2ms/step - loss: 8.3931 - mae: 8.3931\n",
      "Epoch 177/500\n",
      "2/2 [==============================] - 0s 1ms/step - loss: 7.0760 - mae: 7.0760\n",
      "Epoch 178/500\n",
      "2/2 [==============================] - 0s 1ms/step - loss: 7.9535 - mae: 7.9535\n",
      "Epoch 179/500\n",
      "2/2 [==============================] - 0s 1ms/step - loss: 7.2534 - mae: 7.2534\n",
      "Epoch 180/500\n",
      "2/2 [==============================] - 0s 1ms/step - loss: 7.1014 - mae: 7.1014\n",
      "Epoch 181/500\n",
      "2/2 [==============================] - 0s 2ms/step - loss: 8.1002 - mae: 8.1002\n",
      "Epoch 182/500\n",
      "2/2 [==============================] - 0s 1ms/step - loss: 7.8724 - mae: 7.8724\n",
      "Epoch 183/500\n",
      "2/2 [==============================] - 0s 993us/step - loss: 7.5570 - mae: 7.5570\n",
      "Epoch 184/500\n",
      "2/2 [==============================] - 0s 998us/step - loss: 8.1852 - mae: 8.1852\n",
      "Epoch 185/500\n",
      "2/2 [==============================] - 0s 750us/step - loss: 7.1790 - mae: 7.1790\n",
      "Epoch 186/500\n",
      "2/2 [==============================] - 0s 1ms/step - loss: 7.2979 - mae: 7.2979\n",
      "Epoch 187/500\n",
      "2/2 [==============================] - 0s 994us/step - loss: 7.5825 - mae: 7.5825\n",
      "Epoch 188/500\n",
      "2/2 [==============================] - 0s 1ms/step - loss: 7.2498 - mae: 7.2498\n",
      "Epoch 189/500\n",
      "2/2 [==============================] - 0s 2ms/step - loss: 7.1185 - mae: 7.1185\n",
      "Epoch 190/500\n",
      "2/2 [==============================] - 0s 2ms/step - loss: 7.5138 - mae: 7.5138\n",
      "Epoch 191/500\n",
      "2/2 [==============================] - 0s 2ms/step - loss: 7.1640 - mae: 7.1640\n",
      "Epoch 192/500\n",
      "2/2 [==============================] - 0s 1000us/step - loss: 7.1326 - mae: 7.1326\n",
      "Epoch 193/500\n",
      "2/2 [==============================] - 0s 2ms/step - loss: 8.6772 - mae: 8.6772\n",
      "Epoch 194/500\n",
      "2/2 [==============================] - 0s 2ms/step - loss: 7.9950 - mae: 7.9950\n",
      "Epoch 195/500\n",
      "2/2 [==============================] - 0s 2ms/step - loss: 7.4707 - mae: 7.4707\n",
      "Epoch 196/500\n",
      "2/2 [==============================] - 0s 2ms/step - loss: 7.7073 - mae: 7.7073\n",
      "Epoch 197/500\n",
      "2/2 [==============================] - 0s 1ms/step - loss: 7.6349 - mae: 7.6349\n",
      "Epoch 198/500\n",
      "2/2 [==============================] - 0s 999us/step - loss: 7.0057 - mae: 7.0057\n",
      "Epoch 199/500\n",
      "2/2 [==============================] - 0s 24ms/step - loss: 7.0044 - mae: 7.0044\n",
      "Epoch 200/500\n",
      "2/2 [==============================] - 0s 2ms/step - loss: 7.1535 - mae: 7.1535\n",
      "Epoch 201/500\n",
      "2/2 [==============================] - 0s 2ms/step - loss: 7.3245 - mae: 7.3245\n",
      "Epoch 202/500\n",
      "2/2 [==============================] - 0s 2ms/step - loss: 8.8909 - mae: 8.8909\n",
      "Epoch 203/500\n",
      "2/2 [==============================] - 0s 1ms/step - loss: 7.5746 - mae: 7.5746\n",
      "Epoch 204/500\n",
      "2/2 [==============================] - 0s 1000us/step - loss: 7.6209 - mae: 7.6209\n",
      "Epoch 205/500\n",
      "2/2 [==============================] - 0s 2ms/step - loss: 7.6569 - mae: 7.6569\n",
      "Epoch 206/500\n",
      "2/2 [==============================] - 0s 2ms/step - loss: 6.9934 - mae: 6.9934\n",
      "Epoch 207/500\n",
      "2/2 [==============================] - 0s 2ms/step - loss: 7.0699 - mae: 7.0699\n",
      "Epoch 208/500\n",
      "2/2 [==============================] - 0s 2ms/step - loss: 8.2845 - mae: 8.2845\n",
      "Epoch 209/500\n",
      "2/2 [==============================] - 0s 2ms/step - loss: 7.5411 - mae: 7.5411\n",
      "Epoch 210/500\n",
      "2/2 [==============================] - 0s 993us/step - loss: 7.8432 - mae: 7.8432\n",
      "Epoch 211/500\n",
      "2/2 [==============================] - 0s 2ms/step - loss: 7.2508 - mae: 7.2508\n",
      "Epoch 212/500\n",
      "2/2 [==============================] - 0s 2ms/step - loss: 8.8553 - mae: 8.8553\n",
      "Epoch 213/500\n",
      "2/2 [==============================] - 0s 993us/step - loss: 7.0406 - mae: 7.0406\n",
      "Epoch 214/500\n",
      "2/2 [==============================] - 0s 993us/step - loss: 7.8446 - mae: 7.8446\n",
      "Epoch 215/500\n",
      "2/2 [==============================] - 0s 1ms/step - loss: 7.0553 - mae: 7.0553\n",
      "Epoch 216/500\n",
      "2/2 [==============================] - 0s 3ms/step - loss: 7.2980 - mae: 7.2980\n",
      "Epoch 217/500\n",
      "2/2 [==============================] - 0s 2ms/step - loss: 8.1119 - mae: 8.1119\n",
      "Epoch 218/500\n",
      "2/2 [==============================] - 0s 1ms/step - loss: 7.3251 - mae: 7.3251\n",
      "Epoch 219/500\n",
      "2/2 [==============================] - 0s 1ms/step - loss: 8.0564 - mae: 8.0564\n",
      "Epoch 220/500\n",
      "2/2 [==============================] - 0s 993us/step - loss: 7.0520 - mae: 7.0520\n",
      "Epoch 221/500\n",
      "2/2 [==============================] - 0s 1ms/step - loss: 8.6802 - mae: 8.6802\n",
      "Epoch 222/500\n",
      "2/2 [==============================] - 0s 993us/step - loss: 7.3020 - mae: 7.3020\n",
      "Epoch 223/500\n",
      "2/2 [==============================] - 0s 2ms/step - loss: 7.0427 - mae: 7.0427\n",
      "Epoch 224/500\n",
      "2/2 [==============================] - 0s 998us/step - loss: 7.6743 - mae: 7.6743\n",
      "Epoch 225/500\n",
      "2/2 [==============================] - 0s 2ms/step - loss: 7.4889 - mae: 7.4889\n",
      "Epoch 226/500\n",
      "2/2 [==============================] - 0s 2ms/step - loss: 7.2445 - mae: 7.2445\n",
      "Epoch 227/500\n",
      "2/2 [==============================] - 0s 1ms/step - loss: 7.7726 - mae: 7.7726\n",
      "Epoch 228/500\n",
      "2/2 [==============================] - 0s 1000us/step - loss: 7.6137 - mae: 7.6137\n",
      "Epoch 229/500\n",
      "2/2 [==============================] - 0s 2ms/step - loss: 7.7190 - mae: 7.7190\n",
      "Epoch 230/500\n",
      "2/2 [==============================] - 0s 1ms/step - loss: 7.4924 - mae: 7.4924\n",
      "Epoch 231/500\n",
      "2/2 [==============================] - 0s 998us/step - loss: 7.3663 - mae: 7.3663\n",
      "Epoch 232/500\n",
      "2/2 [==============================] - 0s 1ms/step - loss: 7.1110 - mae: 7.1110\n",
      "Epoch 233/500\n",
      "2/2 [==============================] - 0s 2ms/step - loss: 7.2658 - mae: 7.2658\n",
      "Epoch 234/500\n",
      "2/2 [==============================] - 0s 1ms/step - loss: 6.9404 - mae: 6.9404\n",
      "Epoch 235/500\n",
      "2/2 [==============================] - 0s 2ms/step - loss: 6.9036 - mae: 6.9036\n",
      "Epoch 236/500\n",
      "2/2 [==============================] - 0s 2ms/step - loss: 6.9942 - mae: 6.9942\n",
      "Epoch 237/500\n",
      "2/2 [==============================] - 0s 1ms/step - loss: 7.6609 - mae: 7.6609\n",
      "Epoch 238/500\n",
      "2/2 [==============================] - 0s 2ms/step - loss: 6.8690 - mae: 6.8690\n",
      "Epoch 239/500\n",
      "2/2 [==============================] - 0s 1ms/step - loss: 7.0912 - mae: 7.0912\n",
      "Epoch 240/500\n",
      "2/2 [==============================] - 0s 2ms/step - loss: 7.6002 - mae: 7.6002\n",
      "Epoch 241/500\n",
      "2/2 [==============================] - 0s 2ms/step - loss: 6.9252 - mae: 6.9252\n",
      "Epoch 242/500\n",
      "2/2 [==============================] - 0s 2ms/step - loss: 8.0086 - mae: 8.0086\n",
      "Epoch 243/500\n",
      "2/2 [==============================] - 0s 995us/step - loss: 7.6219 - mae: 7.6219\n",
      "Epoch 244/500\n",
      "2/2 [==============================] - 0s 2ms/step - loss: 6.9605 - mae: 6.9605\n",
      "Epoch 245/500\n",
      "2/2 [==============================] - 0s 2ms/step - loss: 6.8693 - mae: 6.8693\n",
      "Epoch 246/500\n",
      "2/2 [==============================] - 0s 2ms/step - loss: 6.9562 - mae: 6.9562\n",
      "Epoch 247/500\n",
      "2/2 [==============================] - 0s 2ms/step - loss: 6.9371 - mae: 6.9371\n",
      "Epoch 248/500\n",
      "2/2 [==============================] - 0s 2ms/step - loss: 7.5120 - mae: 7.5120\n",
      "Epoch 249/500\n",
      "2/2 [==============================] - 0s 2ms/step - loss: 7.2773 - mae: 7.2773\n",
      "Epoch 250/500\n",
      "2/2 [==============================] - 0s 2ms/step - loss: 8.4877 - mae: 8.4877\n",
      "Epoch 251/500\n",
      "2/2 [==============================] - 0s 2ms/step - loss: 7.4357 - mae: 7.4357\n",
      "Epoch 252/500\n",
      "2/2 [==============================] - 0s 1ms/step - loss: 8.0285 - mae: 8.0285\n",
      "Epoch 253/500\n",
      "2/2 [==============================] - 0s 2ms/step - loss: 7.1572 - mae: 7.1572\n",
      "Epoch 254/500\n",
      "2/2 [==============================] - 0s 2ms/step - loss: 7.0536 - mae: 7.0536\n",
      "Epoch 255/500\n",
      "2/2 [==============================] - 0s 1ms/step - loss: 6.9147 - mae: 6.9147\n",
      "Epoch 256/500\n",
      "2/2 [==============================] - 0s 2ms/step - loss: 6.8973 - mae: 6.8973\n",
      "Epoch 257/500\n",
      "2/2 [==============================] - 0s 2ms/step - loss: 6.8561 - mae: 6.8561\n",
      "Epoch 258/500\n",
      "2/2 [==============================] - 0s 996us/step - loss: 6.8503 - mae: 6.8503\n",
      "Epoch 259/500\n",
      "2/2 [==============================] - 0s 1ms/step - loss: 7.1014 - mae: 7.1014\n",
      "Epoch 260/500\n",
      "2/2 [==============================] - 0s 1ms/step - loss: 8.1969 - mae: 8.1969\n",
      "Epoch 261/500\n",
      "2/2 [==============================] - 0s 764us/step - loss: 7.6512 - mae: 7.6512\n",
      "Epoch 262/500\n",
      "2/2 [==============================] - 0s 2ms/step - loss: 7.4945 - mae: 7.4945\n",
      "Epoch 263/500\n",
      "2/2 [==============================] - 0s 1ms/step - loss: 6.9078 - mae: 6.9078\n",
      "Epoch 264/500\n",
      "2/2 [==============================] - 0s 2ms/step - loss: 8.1435 - mae: 8.1435\n",
      "Epoch 265/500\n",
      "2/2 [==============================] - 0s 993us/step - loss: 6.8543 - mae: 6.8543\n",
      "Epoch 266/500\n",
      "2/2 [==============================] - 0s 2ms/step - loss: 7.3235 - mae: 7.3235\n",
      "Epoch 267/500\n",
      "2/2 [==============================] - 0s 2ms/step - loss: 6.7938 - mae: 6.7938\n",
      "Epoch 268/500\n",
      "2/2 [==============================] - 0s 1ms/step - loss: 6.8419 - mae: 6.8419\n",
      "Epoch 269/500\n",
      "2/2 [==============================] - 0s 999us/step - loss: 7.2436 - mae: 7.2436\n",
      "Epoch 270/500\n",
      "2/2 [==============================] - 0s 2ms/step - loss: 7.4514 - mae: 7.4514\n",
      "Epoch 271/500\n",
      "2/2 [==============================] - 0s 500us/step - loss: 6.9347 - mae: 6.9347\n",
      "Epoch 272/500\n",
      "2/2 [==============================] - 0s 1ms/step - loss: 7.5364 - mae: 7.5364\n",
      "Epoch 273/500\n",
      "2/2 [==============================] - 0s 2ms/step - loss: 6.8032 - mae: 6.8032\n",
      "Epoch 274/500\n",
      "2/2 [==============================] - 0s 2ms/step - loss: 6.7244 - mae: 6.7244\n",
      "Epoch 275/500\n",
      "2/2 [==============================] - 0s 1ms/step - loss: 7.4396 - mae: 7.4396\n",
      "Epoch 276/500\n",
      "2/2 [==============================] - 0s 2ms/step - loss: 6.7908 - mae: 6.7908\n",
      "Epoch 277/500\n",
      "2/2 [==============================] - 0s 2ms/step - loss: 9.5425 - mae: 9.5425\n",
      "Epoch 278/500\n",
      "2/2 [==============================] - 0s 1ms/step - loss: 7.4950 - mae: 7.4950\n",
      "Epoch 279/500\n",
      "2/2 [==============================] - 0s 2ms/step - loss: 6.8341 - mae: 6.8341\n",
      "Epoch 280/500\n",
      "2/2 [==============================] - 0s 999us/step - loss: 6.9609 - mae: 6.9609\n",
      "Epoch 281/500\n",
      "2/2 [==============================] - 0s 612us/step - loss: 6.9216 - mae: 6.9216\n",
      "Epoch 282/500\n",
      "2/2 [==============================] - 0s 993us/step - loss: 7.2986 - mae: 7.2986\n",
      "Epoch 283/500\n",
      "2/2 [==============================] - 0s 339us/step - loss: 7.0545 - mae: 7.0545\n",
      "Epoch 284/500\n",
      "2/2 [==============================] - 0s 2ms/step - loss: 7.3904 - mae: 7.3904\n",
      "Epoch 285/500\n",
      "2/2 [==============================] - 0s 3ms/step - loss: 6.9310 - mae: 6.9310\n",
      "Epoch 286/500\n",
      "2/2 [==============================] - 0s 1ms/step - loss: 8.4124 - mae: 8.4124\n",
      "Epoch 287/500\n",
      "2/2 [==============================] - 0s 1ms/step - loss: 7.2807 - mae: 7.2807\n",
      "Epoch 288/500\n",
      "2/2 [==============================] - 0s 4ms/step - loss: 6.8330 - mae: 6.8330\n",
      "Epoch 289/500\n",
      "2/2 [==============================] - 0s 2ms/step - loss: 6.7102 - mae: 6.7102\n",
      "Epoch 290/500\n",
      "2/2 [==============================] - 0s 2ms/step - loss: 6.7900 - mae: 6.7900\n",
      "Epoch 291/500\n",
      "2/2 [==============================] - 0s 2ms/step - loss: 6.7707 - mae: 6.7707\n",
      "Epoch 292/500\n",
      "2/2 [==============================] - 0s 2ms/step - loss: 6.8595 - mae: 6.8595\n",
      "Epoch 293/500\n",
      "2/2 [==============================] - 0s 963us/step - loss: 7.8894 - mae: 7.8894\n",
      "Epoch 294/500\n",
      "2/2 [==============================] - 0s 999us/step - loss: 7.1239 - mae: 7.1239\n",
      "Epoch 295/500\n",
      "2/2 [==============================] - 0s 1ms/step - loss: 7.0294 - mae: 7.0294\n",
      "Epoch 296/500\n",
      "2/2 [==============================] - 0s 1ms/step - loss: 6.9371 - mae: 6.9371\n",
      "Epoch 297/500\n",
      "2/2 [==============================] - 0s 2ms/step - loss: 6.6750 - mae: 6.6750\n",
      "Epoch 298/500\n",
      "2/2 [==============================] - 0s 2ms/step - loss: 7.0760 - mae: 7.0760\n",
      "Epoch 299/500\n",
      "2/2 [==============================] - 0s 1ms/step - loss: 7.5836 - mae: 7.5836\n",
      "Epoch 300/500\n",
      "2/2 [==============================] - 0s 2ms/step - loss: 7.2622 - mae: 7.2622\n",
      "Epoch 301/500\n",
      "2/2 [==============================] - 0s 2ms/step - loss: 7.9219 - mae: 7.9219\n",
      "Epoch 302/500\n",
      "2/2 [==============================] - 0s 2ms/step - loss: 8.0143 - mae: 8.0143\n",
      "Epoch 303/500\n",
      "2/2 [==============================] - 0s 1ms/step - loss: 7.1866 - mae: 7.1866\n",
      "Epoch 304/500\n",
      "2/2 [==============================] - 0s 1ms/step - loss: 6.6684 - mae: 6.6684\n",
      "Epoch 305/500\n",
      "2/2 [==============================] - 0s 1ms/step - loss: 8.0722 - mae: 8.0722\n",
      "Epoch 306/500\n",
      "2/2 [==============================] - 0s 2ms/step - loss: 7.2728 - mae: 7.2728\n",
      "Epoch 307/500\n",
      "2/2 [==============================] - 0s 1ms/step - loss: 6.6748 - mae: 6.6748\n",
      "Epoch 308/500\n",
      "2/2 [==============================] - 0s 1000us/step - loss: 6.9282 - mae: 6.9282\n",
      "Epoch 309/500\n",
      "2/2 [==============================] - 0s 993us/step - loss: 6.6466 - mae: 6.6466\n",
      "Epoch 310/500\n",
      "2/2 [==============================] - 0s 1ms/step - loss: 7.3863 - mae: 7.3863\n",
      "Epoch 311/500\n",
      "2/2 [==============================] - 0s 1ms/step - loss: 6.6403 - mae: 6.6403\n",
      "Epoch 312/500\n",
      "2/2 [==============================] - 0s 1ms/step - loss: 6.7689 - mae: 6.7689\n",
      "Epoch 313/500\n",
      "2/2 [==============================] - 0s 1ms/step - loss: 6.7381 - mae: 6.7381\n",
      "Epoch 314/500\n",
      "2/2 [==============================] - 0s 1ms/step - loss: 7.2690 - mae: 7.2690\n",
      "Epoch 315/500\n",
      "2/2 [==============================] - 0s 1ms/step - loss: 7.0981 - mae: 7.0981\n",
      "Epoch 316/500\n",
      "2/2 [==============================] - 0s 994us/step - loss: 6.6641 - mae: 6.6641\n",
      "Epoch 317/500\n",
      "2/2 [==============================] - 0s 999us/step - loss: 7.1532 - mae: 7.1532\n",
      "Epoch 318/500\n",
      "2/2 [==============================] - 0s 999us/step - loss: 7.7160 - mae: 7.7160\n",
      "Epoch 319/500\n",
      "2/2 [==============================] - 0s 2ms/step - loss: 7.0646 - mae: 7.0646\n",
      "Epoch 320/500\n",
      "2/2 [==============================] - 0s 999us/step - loss: 7.0536 - mae: 7.0536\n",
      "Epoch 321/500\n",
      "2/2 [==============================] - 0s 1ms/step - loss: 7.2194 - mae: 7.2194\n",
      "Epoch 322/500\n",
      "2/2 [==============================] - 0s 1000us/step - loss: 6.6644 - mae: 6.6644\n",
      "Epoch 323/500\n",
      "2/2 [==============================] - 0s 859us/step - loss: 6.9008 - mae: 6.9008\n",
      "Epoch 324/500\n",
      "2/2 [==============================] - 0s 0s/step - loss: 6.5052 - mae: 6.5052\n",
      "Epoch 325/500\n",
      "2/2 [==============================] - 0s 2ms/step - loss: 7.1328 - mae: 7.1328\n",
      "Epoch 326/500\n",
      "2/2 [==============================] - 0s 2ms/step - loss: 6.9717 - mae: 6.9717\n",
      "Epoch 327/500\n",
      "2/2 [==============================] - 0s 562us/step - loss: 6.8012 - mae: 6.8012\n",
      "Epoch 328/500\n",
      "2/2 [==============================] - 0s 2ms/step - loss: 6.6330 - mae: 6.6330\n",
      "Epoch 329/500\n",
      "2/2 [==============================] - 0s 2ms/step - loss: 6.7781 - mae: 6.7781\n",
      "Epoch 330/500\n",
      "2/2 [==============================] - 0s 2ms/step - loss: 6.9286 - mae: 6.9286\n",
      "Epoch 331/500\n",
      "2/2 [==============================] - 0s 1ms/step - loss: 7.2056 - mae: 7.2056\n",
      "Epoch 332/500\n",
      "2/2 [==============================] - 0s 2ms/step - loss: 6.7021 - mae: 6.7021\n",
      "Epoch 333/500\n",
      "2/2 [==============================] - 0s 993us/step - loss: 7.1769 - mae: 7.1769\n",
      "Epoch 334/500\n",
      "2/2 [==============================] - 0s 2ms/step - loss: 6.6270 - mae: 6.6270\n",
      "Epoch 335/500\n",
      "2/2 [==============================] - 0s 1ms/step - loss: 6.5555 - mae: 6.5555\n",
      "Epoch 336/500\n",
      "2/2 [==============================] - 0s 2ms/step - loss: 6.9137 - mae: 6.9137\n",
      "Epoch 337/500\n",
      "2/2 [==============================] - 0s 1ms/step - loss: 7.7722 - mae: 7.7722\n",
      "Epoch 338/500\n",
      "2/2 [==============================] - 0s 997us/step - loss: 7.4828 - mae: 7.4828\n",
      "Epoch 339/500\n",
      "2/2 [==============================] - 0s 2ms/step - loss: 7.8407 - mae: 7.8407\n",
      "Epoch 340/500\n",
      "2/2 [==============================] - 0s 1000us/step - loss: 6.6194 - mae: 6.6194\n",
      "Epoch 341/500\n",
      "2/2 [==============================] - 0s 2ms/step - loss: 7.0251 - mae: 7.0251\n",
      "Epoch 342/500\n",
      "2/2 [==============================] - 0s 998us/step - loss: 6.5251 - mae: 6.5251\n",
      "Epoch 343/500\n",
      "2/2 [==============================] - 0s 993us/step - loss: 6.9325 - mae: 6.9325\n",
      "Epoch 344/500\n",
      "2/2 [==============================] - 0s 2ms/step - loss: 7.2202 - mae: 7.2202\n",
      "Epoch 345/500\n",
      "2/2 [==============================] - 0s 994us/step - loss: 9.7348 - mae: 9.7348\n",
      "Epoch 346/500\n",
      "2/2 [==============================] - 0s 996us/step - loss: 6.4945 - mae: 6.4945\n",
      "Epoch 347/500\n",
      "2/2 [==============================] - 0s 2ms/step - loss: 7.2470 - mae: 7.2470\n",
      "Epoch 348/500\n",
      "2/2 [==============================] - 0s 500us/step - loss: 7.2165 - mae: 7.2165\n",
      "Epoch 349/500\n",
      "2/2 [==============================] - 0s 2ms/step - loss: 6.5046 - mae: 6.5046\n",
      "Epoch 350/500\n",
      "2/2 [==============================] - 0s 1ms/step - loss: 6.6126 - mae: 6.6126\n",
      "Epoch 351/500\n",
      "2/2 [==============================] - 0s 1ms/step - loss: 7.3695 - mae: 7.3695\n",
      "Epoch 352/500\n",
      "2/2 [==============================] - 0s 2ms/step - loss: 7.4026 - mae: 7.4026\n",
      "Epoch 353/500\n",
      "2/2 [==============================] - 0s 1ms/step - loss: 7.6398 - mae: 7.6398\n",
      "Epoch 354/500\n",
      "2/2 [==============================] - 0s 997us/step - loss: 6.5482 - mae: 6.5482\n",
      "Epoch 355/500\n",
      "2/2 [==============================] - 0s 2ms/step - loss: 6.9489 - mae: 6.9489\n",
      "Epoch 356/500\n",
      "2/2 [==============================] - 0s 2ms/step - loss: 6.5966 - mae: 6.5966\n",
      "Epoch 357/500\n",
      "2/2 [==============================] - 0s 993us/step - loss: 7.7532 - mae: 7.7532\n",
      "Epoch 358/500\n",
      "2/2 [==============================] - 0s 505us/step - loss: 6.9748 - mae: 6.9748\n",
      "Epoch 359/500\n",
      "2/2 [==============================] - 0s 1ms/step - loss: 6.5254 - mae: 6.5254\n",
      "Epoch 360/500\n",
      "2/2 [==============================] - 0s 1ms/step - loss: 6.4538 - mae: 6.4538\n",
      "Epoch 361/500\n",
      "2/2 [==============================] - 0s 995us/step - loss: 6.9902 - mae: 6.9902\n",
      "Epoch 362/500\n",
      "2/2 [==============================] - 0s 1ms/step - loss: 6.8219 - mae: 6.8219\n",
      "Epoch 363/500\n",
      "2/2 [==============================] - 0s 999us/step - loss: 8.0283 - mae: 8.0283\n",
      "Epoch 364/500\n",
      "2/2 [==============================] - 0s 999us/step - loss: 7.4139 - mae: 7.4139\n",
      "Epoch 365/500\n",
      "2/2 [==============================] - 0s 2ms/step - loss: 6.9967 - mae: 6.9967\n",
      "Epoch 366/500\n",
      "2/2 [==============================] - 0s 993us/step - loss: 6.5152 - mae: 6.5152\n",
      "Epoch 367/500\n",
      "2/2 [==============================] - 0s 1ms/step - loss: 6.6004 - mae: 6.6004\n",
      "Epoch 368/500\n",
      "2/2 [==============================] - 0s 1ms/step - loss: 6.4377 - mae: 6.4377\n",
      "Epoch 369/500\n",
      "2/2 [==============================] - 0s 2ms/step - loss: 6.9158 - mae: 6.9158\n",
      "Epoch 370/500\n",
      "2/2 [==============================] - 0s 999us/step - loss: 6.5221 - mae: 6.5221\n",
      "Epoch 371/500\n",
      "2/2 [==============================] - 0s 1ms/step - loss: 6.7178 - mae: 6.7178\n",
      "Epoch 372/500\n",
      "2/2 [==============================] - 0s 1ms/step - loss: 6.5108 - mae: 6.5108\n",
      "Epoch 373/500\n",
      "2/2 [==============================] - 0s 1ms/step - loss: 6.4294 - mae: 6.4294\n",
      "Epoch 374/500\n",
      "2/2 [==============================] - 0s 2ms/step - loss: 7.1485 - mae: 7.1485\n",
      "Epoch 375/500\n",
      "2/2 [==============================] - 0s 991us/step - loss: 6.3983 - mae: 6.3983\n",
      "Epoch 376/500\n",
      "2/2 [==============================] - 0s 993us/step - loss: 6.8007 - mae: 6.8007\n",
      "Epoch 377/500\n",
      "2/2 [==============================] - 0s 994us/step - loss: 6.5739 - mae: 6.5739\n",
      "Epoch 378/500\n",
      "2/2 [==============================] - 0s 700us/step - loss: 6.4455 - mae: 6.4455\n",
      "Epoch 379/500\n",
      "2/2 [==============================] - 0s 993us/step - loss: 6.4700 - mae: 6.4700\n",
      "Epoch 380/500\n",
      "2/2 [==============================] - 0s 1ms/step - loss: 7.7580 - mae: 7.7580\n",
      "Epoch 381/500\n",
      "2/2 [==============================] - 0s 985us/step - loss: 6.6889 - mae: 6.6889\n",
      "Epoch 382/500\n",
      "2/2 [==============================] - 0s 2ms/step - loss: 6.4747 - mae: 6.4747\n",
      "Epoch 383/500\n",
      "2/2 [==============================] - 0s 1000us/step - loss: 7.4698 - mae: 7.4698\n",
      "Epoch 384/500\n",
      "2/2 [==============================] - 0s 2ms/step - loss: 6.8301 - mae: 6.8301\n",
      "Epoch 385/500\n",
      "2/2 [==============================] - 0s 2ms/step - loss: 6.7424 - mae: 6.7424\n",
      "Epoch 386/500\n",
      "2/2 [==============================] - 0s 2ms/step - loss: 6.9309 - mae: 6.9309\n",
      "Epoch 387/500\n",
      "2/2 [==============================] - 0s 2ms/step - loss: 6.7471 - mae: 6.7471\n",
      "Epoch 388/500\n",
      "2/2 [==============================] - 0s 2ms/step - loss: 6.3726 - mae: 6.3726\n",
      "Epoch 389/500\n",
      "2/2 [==============================] - 0s 1000us/step - loss: 6.5263 - mae: 6.5263\n",
      "Epoch 390/500\n",
      "2/2 [==============================] - 0s 1ms/step - loss: 8.2053 - mae: 8.2053\n",
      "Epoch 391/500\n",
      "2/2 [==============================] - 0s 1ms/step - loss: 7.0494 - mae: 7.0494\n",
      "Epoch 392/500\n",
      "2/2 [==============================] - 0s 1ms/step - loss: 6.3520 - mae: 6.3520\n",
      "Epoch 393/500\n",
      "2/2 [==============================] - 0s 816us/step - loss: 6.8760 - mae: 6.8760\n",
      "Epoch 394/500\n",
      "2/2 [==============================] - 0s 1ms/step - loss: 6.5644 - mae: 6.5644\n",
      "Epoch 395/500\n",
      "2/2 [==============================] - 0s 994us/step - loss: 6.9179 - mae: 6.9179\n",
      "Epoch 396/500\n",
      "2/2 [==============================] - 0s 1ms/step - loss: 7.0341 - mae: 7.0341\n",
      "Epoch 397/500\n",
      "2/2 [==============================] - 0s 1ms/step - loss: 6.4051 - mae: 6.4051\n",
      "Epoch 398/500\n",
      "2/2 [==============================] - 0s 1000us/step - loss: 6.3385 - mae: 6.3385\n",
      "Epoch 399/500\n",
      "2/2 [==============================] - 0s 1ms/step - loss: 6.3080 - mae: 6.3080\n",
      "Epoch 400/500\n",
      "2/2 [==============================] - 0s 999us/step - loss: 6.8851 - mae: 6.8851\n",
      "Epoch 401/500\n",
      "2/2 [==============================] - 0s 2ms/step - loss: 6.6920 - mae: 6.6920\n",
      "Epoch 402/500\n",
      "2/2 [==============================] - 0s 2ms/step - loss: 8.3529 - mae: 8.3529\n",
      "Epoch 403/500\n",
      "2/2 [==============================] - 0s 1ms/step - loss: 7.3742 - mae: 7.3742\n",
      "Epoch 404/500\n",
      "2/2 [==============================] - 0s 999us/step - loss: 7.8651 - mae: 7.8651\n",
      "Epoch 405/500\n",
      "2/2 [==============================] - 0s 755us/step - loss: 7.6180 - mae: 7.6180\n",
      "Epoch 406/500\n",
      "2/2 [==============================] - 0s 1ms/step - loss: 7.3835 - mae: 7.3835\n",
      "Epoch 407/500\n",
      "2/2 [==============================] - 0s 993us/step - loss: 6.5067 - mae: 6.5067\n",
      "Epoch 408/500\n",
      "2/2 [==============================] - 0s 2ms/step - loss: 7.2115 - mae: 7.2115\n",
      "Epoch 409/500\n",
      "2/2 [==============================] - 0s 1ms/step - loss: 9.2748 - mae: 9.2748\n",
      "Epoch 410/500\n",
      "2/2 [==============================] - 0s 1ms/step - loss: 8.0570 - mae: 8.0570\n",
      "Epoch 411/500\n",
      "2/2 [==============================] - 0s 1ms/step - loss: 6.9891 - mae: 6.9891\n",
      "Epoch 412/500\n",
      "2/2 [==============================] - 0s 5ms/step - loss: 7.4203 - mae: 7.4203\n",
      "Epoch 413/500\n",
      "2/2 [==============================] - 0s 5ms/step - loss: 6.9903 - mae: 6.9903\n",
      "Epoch 414/500\n",
      "2/2 [==============================] - 0s 2ms/step - loss: 6.8183 - mae: 6.8183\n",
      "Epoch 415/500\n",
      "2/2 [==============================] - 0s 2ms/step - loss: 6.2924 - mae: 6.2924\n",
      "Epoch 416/500\n",
      "2/2 [==============================] - 0s 3ms/step - loss: 8.5791 - mae: 8.5791\n",
      "Epoch 417/500\n",
      "2/2 [==============================] - 0s 2ms/step - loss: 6.2675 - mae: 6.2675\n",
      "Epoch 418/500\n",
      "2/2 [==============================] - 0s 2ms/step - loss: 6.3881 - mae: 6.3881\n",
      "Epoch 419/500\n",
      "2/2 [==============================] - 0s 1ms/step - loss: 6.3795 - mae: 6.3795\n",
      "Epoch 420/500\n",
      "2/2 [==============================] - 0s 1ms/step - loss: 6.8031 - mae: 6.8031\n",
      "Epoch 421/500\n",
      "2/2 [==============================] - 0s 2ms/step - loss: 7.0310 - mae: 7.0310\n",
      "Epoch 422/500\n",
      "2/2 [==============================] - 0s 1ms/step - loss: 6.4133 - mae: 6.4133\n",
      "Epoch 423/500\n",
      "2/2 [==============================] - 0s 2ms/step - loss: 6.2175 - mae: 6.2175\n",
      "Epoch 424/500\n",
      "2/2 [==============================] - 0s 1ms/step - loss: 6.2325 - mae: 6.2325\n",
      "Epoch 425/500\n",
      "2/2 [==============================] - 0s 995us/step - loss: 6.4565 - mae: 6.4565\n",
      "Epoch 426/500\n",
      "2/2 [==============================] - 0s 677us/step - loss: 6.3997 - mae: 6.3997\n",
      "Epoch 427/500\n",
      "2/2 [==============================] - 0s 1ms/step - loss: 6.5113 - mae: 6.5113\n",
      "Epoch 428/500\n",
      "2/2 [==============================] - 0s 1ms/step - loss: 6.5440 - mae: 6.5440\n",
      "Epoch 429/500\n",
      "2/2 [==============================] - 0s 2ms/step - loss: 6.6525 - mae: 6.6525\n",
      "Epoch 430/500\n",
      "2/2 [==============================] - 0s 1ms/step - loss: 8.3503 - mae: 8.3503\n",
      "Epoch 431/500\n",
      "2/2 [==============================] - 0s 1000us/step - loss: 7.5126 - mae: 7.5126\n",
      "Epoch 432/500\n",
      "2/2 [==============================] - 0s 2ms/step - loss: 7.1576 - mae: 7.1576\n",
      "Epoch 433/500\n",
      "2/2 [==============================] - 0s 1ms/step - loss: 6.3879 - mae: 6.3879\n",
      "Epoch 434/500\n",
      "2/2 [==============================] - 0s 2ms/step - loss: 6.4197 - mae: 6.4197\n",
      "Epoch 435/500\n",
      "2/2 [==============================] - 0s 1ms/step - loss: 6.1940 - mae: 6.1940\n",
      "Epoch 436/500\n",
      "2/2 [==============================] - 0s 2ms/step - loss: 6.6839 - mae: 6.6839\n",
      "Epoch 437/500\n",
      "2/2 [==============================] - 0s 2ms/step - loss: 6.3402 - mae: 6.3402\n",
      "Epoch 438/500\n",
      "2/2 [==============================] - 0s 2ms/step - loss: 6.3643 - mae: 6.3643\n",
      "Epoch 439/500\n",
      "2/2 [==============================] - 0s 1ms/step - loss: 6.5929 - mae: 6.5929\n",
      "Epoch 440/500\n",
      "2/2 [==============================] - 0s 979us/step - loss: 8.1881 - mae: 8.1881\n",
      "Epoch 441/500\n",
      "2/2 [==============================] - 0s 994us/step - loss: 7.4776 - mae: 7.4776\n",
      "Epoch 442/500\n",
      "2/2 [==============================] - 0s 1ms/step - loss: 6.8587 - mae: 6.8587\n",
      "Epoch 443/500\n",
      "2/2 [==============================] - 0s 2ms/step - loss: 6.3307 - mae: 6.3307\n",
      "Epoch 444/500\n",
      "2/2 [==============================] - 0s 2ms/step - loss: 6.1676 - mae: 6.1676\n",
      "Epoch 445/500\n",
      "2/2 [==============================] - 0s 2ms/step - loss: 6.3610 - mae: 6.3610\n",
      "Epoch 446/500\n",
      "2/2 [==============================] - 0s 1ms/step - loss: 6.5522 - mae: 6.5522\n",
      "Epoch 447/500\n",
      "2/2 [==============================] - 0s 2ms/step - loss: 6.1856 - mae: 6.1856\n",
      "Epoch 448/500\n",
      "2/2 [==============================] - 0s 2ms/step - loss: 6.5843 - mae: 6.5843\n",
      "Epoch 449/500\n",
      "2/2 [==============================] - 0s 994us/step - loss: 6.4142 - mae: 6.4142\n",
      "Epoch 450/500\n",
      "2/2 [==============================] - 0s 2ms/step - loss: 6.8469 - mae: 6.8469\n",
      "Epoch 451/500\n",
      "2/2 [==============================] - 0s 2ms/step - loss: 6.8727 - mae: 6.8727\n",
      "Epoch 452/500\n",
      "2/2 [==============================] - 0s 2ms/step - loss: 7.1000 - mae: 7.1000\n",
      "Epoch 453/500\n",
      "2/2 [==============================] - 0s 2ms/step - loss: 6.8286 - mae: 6.8286\n",
      "Epoch 454/500\n",
      "2/2 [==============================] - 0s 995us/step - loss: 6.4469 - mae: 6.4469\n",
      "Epoch 455/500\n",
      "2/2 [==============================] - 0s 2ms/step - loss: 6.1329 - mae: 6.1329\n",
      "Epoch 456/500\n",
      "2/2 [==============================] - 0s 2ms/step - loss: 6.7756 - mae: 6.7756\n",
      "Epoch 457/500\n",
      "2/2 [==============================] - 0s 2ms/step - loss: 6.8821 - mae: 6.8821\n",
      "Epoch 458/500\n",
      "2/2 [==============================] - 0s 2ms/step - loss: 7.7049 - mae: 7.7049\n",
      "Epoch 459/500\n",
      "2/2 [==============================] - 0s 2ms/step - loss: 7.4000 - mae: 7.4000\n",
      "Epoch 460/500\n",
      "2/2 [==============================] - 0s 1ms/step - loss: 6.7239 - mae: 6.7239\n",
      "Epoch 461/500\n",
      "2/2 [==============================] - 0s 2ms/step - loss: 6.2491 - mae: 6.2491\n",
      "Epoch 462/500\n",
      "2/2 [==============================] - 0s 2ms/step - loss: 6.4997 - mae: 6.4997\n",
      "Epoch 463/500\n",
      "2/2 [==============================] - 0s 2ms/step - loss: 8.2424 - mae: 8.2424\n",
      "Epoch 464/500\n",
      "2/2 [==============================] - 0s 1ms/step - loss: 6.0946 - mae: 6.0946\n",
      "Epoch 465/500\n",
      "2/2 [==============================] - 0s 995us/step - loss: 6.6779 - mae: 6.6779\n",
      "Epoch 466/500\n",
      "2/2 [==============================] - 0s 1ms/step - loss: 6.6036 - mae: 6.6036\n",
      "Epoch 467/500\n",
      "2/2 [==============================] - 0s 2ms/step - loss: 6.3205 - mae: 6.3205\n",
      "Epoch 468/500\n",
      "2/2 [==============================] - 0s 655us/step - loss: 6.1534 - mae: 6.1534\n",
      "Epoch 469/500\n",
      "2/2 [==============================] - 0s 2ms/step - loss: 7.2007 - mae: 7.2007\n",
      "Epoch 470/500\n",
      "2/2 [==============================] - 0s 994us/step - loss: 6.3561 - mae: 6.3561\n",
      "Epoch 471/500\n",
      "2/2 [==============================] - 0s 975us/step - loss: 7.3815 - mae: 7.3815\n",
      "Epoch 472/500\n",
      "2/2 [==============================] - 0s 2ms/step - loss: 6.5179 - mae: 6.5179\n",
      "Epoch 473/500\n",
      "2/2 [==============================] - 0s 1ms/step - loss: 6.4214 - mae: 6.4214\n",
      "Epoch 474/500\n",
      "2/2 [==============================] - 0s 1ms/step - loss: 7.2244 - mae: 7.2244\n",
      "Epoch 475/500\n",
      "2/2 [==============================] - 0s 1ms/step - loss: 7.4475 - mae: 7.4475\n",
      "Epoch 476/500\n",
      "2/2 [==============================] - 0s 2ms/step - loss: 6.0505 - mae: 6.0505\n",
      "Epoch 477/500\n",
      "2/2 [==============================] - 0s 27ms/step - loss: 7.8091 - mae: 7.8091\n",
      "Epoch 478/500\n",
      "2/2 [==============================] - 0s 2ms/step - loss: 6.2776 - mae: 6.2776\n",
      "Epoch 479/500\n",
      "2/2 [==============================] - 0s 2ms/step - loss: 6.2525 - mae: 6.2525\n",
      "Epoch 480/500\n",
      "2/2 [==============================] - 0s 2ms/step - loss: 6.5536 - mae: 6.5536\n",
      "Epoch 481/500\n",
      "2/2 [==============================] - 0s 2ms/step - loss: 6.3228 - mae: 6.3228\n",
      "Epoch 482/500\n",
      "2/2 [==============================] - 0s 999us/step - loss: 6.0852 - mae: 6.0852\n",
      "Epoch 483/500\n",
      "2/2 [==============================] - 0s 2ms/step - loss: 6.1708 - mae: 6.1708\n",
      "Epoch 484/500\n",
      "2/2 [==============================] - 0s 2ms/step - loss: 6.7395 - mae: 6.7395\n",
      "Epoch 485/500\n",
      "2/2 [==============================] - 0s 1000us/step - loss: 6.7724 - mae: 6.7724\n",
      "Epoch 486/500\n",
      "2/2 [==============================] - 0s 2ms/step - loss: 6.1220 - mae: 6.1220\n",
      "Epoch 487/500\n",
      "2/2 [==============================] - 0s 2ms/step - loss: 6.4962 - mae: 6.4962\n",
      "Epoch 488/500\n",
      "2/2 [==============================] - 0s 1ms/step - loss: 6.4775 - mae: 6.4775\n",
      "Epoch 489/500\n",
      "2/2 [==============================] - 0s 1ms/step - loss: 6.9264 - mae: 6.9264\n",
      "Epoch 490/500\n",
      "2/2 [==============================] - 0s 2ms/step - loss: 6.4579 - mae: 6.4579\n",
      "Epoch 491/500\n",
      "2/2 [==============================] - 0s 1ms/step - loss: 7.0338 - mae: 7.0338\n",
      "Epoch 492/500\n",
      "2/2 [==============================] - 0s 1ms/step - loss: 6.6816 - mae: 6.6816\n",
      "Epoch 493/500\n",
      "2/2 [==============================] - 0s 2ms/step - loss: 6.5632 - mae: 6.5632\n",
      "Epoch 494/500\n",
      "2/2 [==============================] - 0s 2ms/step - loss: 6.8899 - mae: 6.8899\n",
      "Epoch 495/500\n",
      "2/2 [==============================] - 0s 2ms/step - loss: 6.0269 - mae: 6.0269\n",
      "Epoch 496/500\n",
      "2/2 [==============================] - 0s 621us/step - loss: 7.0411 - mae: 7.0411\n",
      "Epoch 497/500\n",
      "2/2 [==============================] - 0s 1ms/step - loss: 6.0975 - mae: 6.0975\n",
      "Epoch 498/500\n",
      "2/2 [==============================] - 0s 2ms/step - loss: 6.2704 - mae: 6.2704\n",
      "Epoch 499/500\n",
      "2/2 [==============================] - 0s 2ms/step - loss: 6.7292 - mae: 6.7292\n",
      "Epoch 500/500\n",
      "2/2 [==============================] - 0s 1ms/step - loss: 5.9131 - mae: 5.9131\n"
     ]
    },
    {
     "data": {
      "text/plain": [
       "<keras.callbacks.History at 0x1f1c45d2b50>"
      ]
     },
     "execution_count": 44,
     "metadata": {},
     "output_type": "execute_result"
    }
   ],
   "source": [
    "# 1. create the model using the sequential API\n",
    "model_3 = tf.keras.Sequential(name = \"model_3\") # note the model names and layer names must meet regex to have underscores no spaces\n",
    "model_3.add(tf.keras.layers.Dense(10, input_shape=(1,), name=\"input_layer\"))\n",
    "model_3.add(tf.keras.layers.Dense(1, name=\"output_layer\"))\n",
    "\n",
    "# 2. compile the model\n",
    "model_3.compile(\n",
    "    loss = tf.keras.losses.mae, # mean absolute error predicted vs observed\n",
    "    optimizer = tf.keras.optimizers.SGD(lr=0.001), # NOTE: we added a lr rate because our model was overfitting\n",
    "    metrics=['mae'] # mean absolute error\n",
    ")\n",
    "\n",
    "# 3. fit the model (Important note we are fitting on the training data only)\n",
    "model_3.fit(X_train, y_train, epochs=500, verbose=1)"
   ]
  },
  {
   "cell_type": "code",
   "execution_count": 45,
   "metadata": {},
   "outputs": [
    {
     "name": "stdout",
     "output_type": "stream",
     "text": [
      "WARNING:tensorflow:5 out of the last 43 calls to <function Model.make_predict_function.<locals>.predict_function at 0x000001F1C45D03A0> triggered tf.function retracing. Tracing is expensive and the excessive number of tracings could be due to (1) creating @tf.function repeatedly in a loop, (2) passing tensors with different shapes, (3) passing Python objects instead of tensors. For (1), please define your @tf.function outside of the loop. For (2), @tf.function has experimental_relax_shapes=True option that relaxes argument shapes that can avoid unnecessary retracing. For (3), please refer to https://www.tensorflow.org/guide/function#controlling_retracing and https://www.tensorflow.org/api_docs/python/tf/function for  more details.\n"
     ]
    },
    {
     "data": {
      "image/png": "[encoded data removed]",
      "text/plain": [
       "<Figure size 720x504 with 1 Axes>"
      ]
     },
     "metadata": {
      "needs_background": "light"
     },
     "output_type": "display_data"
    }
   ],
   "source": [
    "# plot the predictions\n",
    "y_preds_3 = model_3.predict(X_test)\n",
    "\n",
    "# plot predictions\n",
    "plot_predictions(\n",
    "    train_data=X_train,\n",
    "    train_labels=y_train,\n",
    "    test_data=X_test,\n",
    "    test_labels=y_test,\n",
    "    predictions=y_preds_3\n",
    ")"
   ]
  },
  {
   "cell_type": "code",
   "execution_count": 46,
   "metadata": {},
   "outputs": [
    {
     "data": {
      "text/plain": [
       "(<tf.Tensor: shape=(), dtype=float32, numpy=11.819999>,\n",
       " <tf.Tensor: shape=(), dtype=float32, numpy=140.06717>)"
      ]
     },
     "execution_count": 46,
     "metadata": {},
     "output_type": "execute_result"
    }
   ],
   "source": [
    "# Calculate model_3 evaluation metrics\n",
    "mae_3 = tf.metrics.mean_absolute_error(y_test, tf.squeeze(y_preds_3))\n",
    "mse_3 = tf.metrics.mean_squared_error(y_test, tf.squeeze(y_preds_3))\n",
    "mae_3, mse_3"
   ]
  },
  {
   "cell_type": "markdown",
   "metadata": {},
   "source": [
    "### Comparing the results of our experiments\n",
    "We've run a few experiments, let's compare the results\n",
    "\n",
    "https://youtu.be/tpCFfeUEGs8?t=24707"
   ]
  },
  {
   "cell_type": "code",
   "execution_count": 47,
   "metadata": {},
   "outputs": [
    {
     "data": {
      "text/html": [
       "<div>\n",
       "<style scoped>\n",
       "    .dataframe tbody tr th:only-of-type {\n",
       "        vertical-align: middle;\n",
       "    }\n",
       "\n",
       "    .dataframe tbody tr th {\n",
       "        vertical-align: top;\n",
       "    }\n",
       "\n",
       "    .dataframe thead th {\n",
       "        text-align: right;\n",
       "    }\n",
       "</style>\n",
       "<table border=\"1\" class=\"dataframe\">\n",
       "  <thead>\n",
       "    <tr style=\"text-align: right;\">\n",
       "      <th></th>\n",
       "      <th>Model</th>\n",
       "      <th>Mean Absolute Error</th>\n",
       "      <th>Mean Squared Error</th>\n",
       "    </tr>\n",
       "  </thead>\n",
       "  <tbody>\n",
       "    <tr>\n",
       "      <th>0</th>\n",
       "      <td>Model 1</td>\n",
       "      <td>18.745327</td>\n",
       "      <td>353.573364</td>\n",
       "    </tr>\n",
       "    <tr>\n",
       "      <th>1</th>\n",
       "      <td>Model 2</td>\n",
       "      <td>3.111005</td>\n",
       "      <td>12.497129</td>\n",
       "    </tr>\n",
       "    <tr>\n",
       "      <th>2</th>\n",
       "      <td>Model 3</td>\n",
       "      <td>11.819999</td>\n",
       "      <td>140.067169</td>\n",
       "    </tr>\n",
       "  </tbody>\n",
       "</table>\n",
       "</div>"
      ],
      "text/plain": [
       "     Model  Mean Absolute Error  Mean Squared Error\n",
       "0  Model 1            18.745327          353.573364\n",
       "1  Model 2             3.111005           12.497129\n",
       "2  Model 3            11.819999          140.067169"
      ]
     },
     "execution_count": 47,
     "metadata": {},
     "output_type": "execute_result"
    }
   ],
   "source": [
    "# Let's compare our model's results using a pandas dataframe\n",
    "import pandas as pd\n",
    "\n",
    "model_results = pd.DataFrame(\n",
    "    [\n",
    "        [\"Model 1\", mae_1.numpy(), mse_1.numpy()],\n",
    "        [\"Model 2\", mae_2.numpy(), mse_2.numpy()],\n",
    "        [\"Model 3\", mae_3.numpy(), mse_3.numpy()]\n",
    "    ], \n",
    "    columns=[\"Model\", \"Mean Absolute Error\", \"Mean Squared Error\"]\n",
    ")\n",
    "model_results"
   ]
  },
  {
   "cell_type": "markdown",
   "metadata": {},
   "source": [
    "### Model 2 seems to be the best out of the 3 models\n",
    "Machine learning is about figuring which models is the best and which models are the worst\n",
    "Machine learning modelling is trying different combinations to find the best.\n",
    "\n",
    "Note: we used a small model to test and experiment which model are the best and worst. We do this because we want to figure out what works and doesnt\n",
    "If we did this on a huge model it would take a crazy amount of time to compare the models and find the best.\n",
    "\n",
    "Remember start small then go bigger!\n"
   ]
  },
  {
   "cell_type": "code",
   "execution_count": 48,
   "metadata": {},
   "outputs": [
    {
     "name": "stdout",
     "output_type": "stream",
     "text": [
      "Model: \"model_2\"\n",
      "_________________________________________________________________\n",
      " Layer (type)                Output Shape              Param #   \n",
      "=================================================================\n",
      " input_layer (Dense)         (None, 10)                20        \n",
      "                                                                 \n",
      " output_layer (Dense)        (None, 1)                 11        \n",
      "                                                                 \n",
      "=================================================================\n",
      "Total params: 31\n",
      "Trainable params: 31\n",
      "Non-trainable params: 0\n",
      "_________________________________________________________________\n"
     ]
    }
   ],
   "source": [
    "model_2.summary()"
   ]
  },
  {
   "cell_type": "markdown",
   "metadata": {},
   "source": [
    "## Tracking your experiments\n",
    "\n",
    "One really good habit in machine learning modelling is to track the results of your experiments.\n",
    "\n",
    "And when doing so, it can be tedious if youre running lots of experiments.\n",
    "\n",
    "Luckily, there are tools to help us !\n",
    "\n",
    "**Resource:** as your build more models, you'll want to look into using\n",
    "\n",
    "* TensorBoard - a component of the Tensorflow library to help track modelling experiments (well see this one later)\n",
    "* Weights * biases - a tool for tracking all of kinds of machine learning experiments (plugs into tensor board)"
   ]
  },
  {
   "cell_type": "markdown",
   "metadata": {},
   "source": [
    "## Saving our models\n",
    "Saving our models allow us to use them outside of the training area.\n",
    "\n",
    "There are checkpoint saving for models for long training with larger datasets (Remember seeing this being used for a TTS model being trained in large epochs)\n",
    "There is also directly saving a fully trained model at once\n",
    "\n",
    "There are 2 formats to save our models in:\n",
    "* SavedModel format\n",
    "* HDF5 Format\n",
    "\n",
    "If we include the optimizer we can resume training from where we left."
   ]
  },
  {
   "cell_type": "code",
   "execution_count": 51,
   "metadata": {},
   "outputs": [
    {
     "name": "stdout",
     "output_type": "stream",
     "text": [
      "INFO:tensorflow:Assets written to: ./trained_models/best_model_savedmodel_format\\assets\n"
     ]
    }
   ],
   "source": [
    "# save our model_2 using the savedmodel format\n",
    "model_2.save(\n",
    "    filepath = \"./trained_models/best_model_savedmodel_format\",\n",
    "    include_optimizer = True,\n",
    ")\n"
   ]
  },
  {
   "cell_type": "code",
   "execution_count": 52,
   "metadata": {},
   "outputs": [],
   "source": [
    "# save our model_2 using HDF5 format\n",
    "model_2.save(\n",
    "    filepath = \"./trained_models/best_model_hdf5.h5\",\n",
    "    include_optimizer = True,\n",
    ")"
   ]
  },
  {
   "cell_type": "markdown",
   "metadata": {},
   "source": [
    "## Loading in a saved model\n"
   ]
  },
  {
   "cell_type": "code",
   "execution_count": 53,
   "metadata": {},
   "outputs": [
    {
     "name": "stdout",
     "output_type": "stream",
     "text": [
      "Model: \"model_2\"\n",
      "_________________________________________________________________\n",
      " Layer (type)                Output Shape              Param #   \n",
      "=================================================================\n",
      " input_layer (Dense)         (None, 10)                20        \n",
      "                                                                 \n",
      " output_layer (Dense)        (None, 1)                 11        \n",
      "                                                                 \n",
      "=================================================================\n",
      "Total params: 31\n",
      "Trainable params: 31\n",
      "Non-trainable params: 0\n",
      "_________________________________________________________________\n"
     ]
    }
   ],
   "source": [
    "# load in our model from the savedmodel format\n",
    "loaded_savedmodel_format = tf.keras.models.load_model(\n",
    "    filepath = \"./trained_models/best_model_savedmodel_format\"\n",
    ")\n",
    "\n",
    "loaded_savedmodel_format.summary()"
   ]
  },
  {
   "cell_type": "code",
   "execution_count": 56,
   "metadata": {},
   "outputs": [
    {
     "data": {
      "text/plain": [
       "array([[ True],\n",
       "       [ True],\n",
       "       [ True],\n",
       "       [ True],\n",
       "       [ True],\n",
       "       [ True],\n",
       "       [ True],\n",
       "       [ True],\n",
       "       [ True],\n",
       "       [ True]])"
      ]
     },
     "execution_count": 56,
     "metadata": {},
     "output_type": "execute_result"
    }
   ],
   "source": [
    "# compare model_2 predictions with the saved model predictions\n",
    "y_preds_2_savedmodel_format = loaded_savedmodel_format.predict(X_test)\n",
    "model_2_preds = model_2.predict(X_test)\n",
    "\n",
    "model_2_preds == y_preds_2_savedmodel_format"
   ]
  },
  {
   "cell_type": "code",
   "execution_count": 57,
   "metadata": {},
   "outputs": [
    {
     "name": "stdout",
     "output_type": "stream",
     "text": [
      "Model: \"model_2\"\n",
      "_________________________________________________________________\n",
      " Layer (type)                Output Shape              Param #   \n",
      "=================================================================\n",
      " input_layer (Dense)         (None, 10)                20        \n",
      "                                                                 \n",
      " output_layer (Dense)        (None, 1)                 11        \n",
      "                                                                 \n",
      "=================================================================\n",
      "Total params: 31\n",
      "Trainable params: 31\n",
      "Non-trainable params: 0\n",
      "_________________________________________________________________\n"
     ]
    }
   ],
   "source": [
    "# load in the model using the HDF5 format\n",
    "loaded_hdf5_format = tf.keras.models.load_model(\n",
    "    filepath = \"./trained_models/best_model_hdf5.h5\"\n",
    ")\n",
    "\n",
    "loaded_hdf5_format.summary()"
   ]
  },
  {
   "cell_type": "code",
   "execution_count": 58,
   "metadata": {},
   "outputs": [
    {
     "data": {
      "text/plain": [
       "array([[ True],\n",
       "       [ True],\n",
       "       [ True],\n",
       "       [ True],\n",
       "       [ True],\n",
       "       [ True],\n",
       "       [ True],\n",
       "       [ True],\n",
       "       [ True],\n",
       "       [ True]])"
      ]
     },
     "execution_count": 58,
     "metadata": {},
     "output_type": "execute_result"
    }
   ],
   "source": [
    "# compare model_2 predictions with the loaded hdsf5 model predictions\n",
    "y_preds_2_hdf5_format = loaded_hdf5_format.predict(X_test)\n",
    "model_2_preds = model_2.predict(X_test)\n",
    "model_2_preds == y_preds_2_hdf5_format"
   ]
  }
 ],
 "metadata": {
  "interpreter": {
   "hash": "015b9d4b853c90004082392c3c886b9cec330d060d60d92815cef3a6eb65a3f8"
  },
  "kernelspec": {
   "display_name": "Python 3.8.12 64-bit ('venv': venv)",
   "language": "python",
   "name": "python3"
  },
  "language_info": {
   "codemirror_mode": {
    "name": "ipython",
    "version": 3
   },
   "file_extension": ".py",
   "mimetype": "text/x-python",
   "name": "python",
   "nbconvert_exporter": "python",
   "pygments_lexer": "ipython3",
   "version": "3.8.10"
  },
  "orig_nbformat": 4
 },
 "nbformat": 4,
 "nbformat_minor": 2
}
